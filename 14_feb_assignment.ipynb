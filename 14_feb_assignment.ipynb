{
 "cells": [
  {
   "cell_type": "markdown",
   "id": "208397a2-3eec-4d38-8ff3-6c3dacf16991",
   "metadata": {},
   "source": [
    "### 1. What is multithreading in python? Why is it used? Name the module used to handle threads in python"
   ]
  },
  {
   "cell_type": "markdown",
   "id": "0c539e0a-d1c1-4be9-873e-70df1ed9ee1e",
   "metadata": {},
   "source": [
    "Multithreading in Python refers to the ability of the Python interpreter to run multiple threads of execution concurrently within a single process. The main idea behind multithreading is to allow multiple tasks to run simultaneously, making efficient use of available resources such as CPU time, memory, and other system resources.\n",
    "\n",
    "Multithreading is used to improve the performance of applications by allowing multiple tasks to run simultaneously and make efficient use of the available resources. This is especially useful for applications that perform CPU-bound tasks, such as processing large amounts of data, as well as for I/O-bound tasks, such as waiting for data from a network or disk.\n",
    "\n",
    "The module used to handle threads in Python is the threading module. This module provides a high-level interface for working with threads, making it easier to create, manage, and synchronize threads in your Python applications."
   ]
  },
  {
   "cell_type": "markdown",
   "id": "48bd22de-350b-4b53-b648-f80afef0de3a",
   "metadata": {},
   "source": [
    "### 2. Why threading module used? Write the use of the following functions:activeCount(), currentThread() enumerate()"
   ]
  },
  {
   "cell_type": "markdown",
   "id": "9475f599-0a36-4a76-a7bd-4028bde5d942",
   "metadata": {},
   "source": [
    "The threading module in Python is used for handling multiple threads within a single process. It provides a convenient way to work with threads, allowing you to create and manage multiple threads in your Python program. The threading module contains several functions that provide information and control over the threads in your program.\n",
    "\n",
    "activeCount(): This function returns the number of thread objects that are currently active.\n",
    "\n",
    "currentThread(): This function returns a reference to the current thread object.\n",
    "\n",
    "enumerate(): This function returns a list of all active thread objects in the program. This can be useful for debugging and monitoring the status of your program's threads.\n",
    "\n",
    "In summary, the threading module is used in Python for creating and managing multiple threads within a single process. The activeCount(), currentThread(), and enumerate() functions provide useful information and control over the threads in your program."
   ]
  },
  {
   "cell_type": "markdown",
   "id": "01cd812c-ada0-4701-b8c6-1dd1e30e4d1c",
   "metadata": {},
   "source": [
    "### 3. Explain the following functions:run(),start(),join(),isAlive()"
   ]
  },
  {
   "cell_type": "markdown",
   "id": "040b9534-1dfc-476d-89df-96ca3fd0a58e",
   "metadata": {},
   "source": [
    "The threading module in Python provides a way to create and manage threads in a program. Following are the four main functions commonly used when working with threads:\n",
    "\n",
    "run(): This method is used to start the execution of a thread. It's the entry point for a thread and is executed when you call the start() method. By default, it does nothing. You need to override it in a subclass to specify what the thread should do when it starts executing.\n",
    "\n",
    "start(): This method is used to start the execution of a thread. When the start() method is called, the thread's run() method is executed.\n",
    "\n",
    "join(): The join() method is used to wait for a thread to complete its execution. When you call the join() method, the calling thread is blocked until the thread it is joining with has completed its execution.\n",
    "\n",
    "isAlive(): This method is used to check if a thread is still executing. It returns True if the thread is still executing and False otherwise."
   ]
  },
  {
   "cell_type": "markdown",
   "id": "20f4c054-5696-41a7-9d8c-19e86e4b5a90",
   "metadata": {},
   "source": [
    "### 4.Write a python program to create two threads. Thread one must print the list of squares and thread two must print the list of cubes"
   ]
  },
  {
   "cell_type": "code",
   "execution_count": 2,
   "id": "37cf0f75-5e9f-4ef8-8da1-0da9d5847d47",
   "metadata": {},
   "outputs": [
    {
     "name": "stdout",
     "output_type": "stream",
     "text": [
      "Square: 4\n",
      "Cube: 8\n",
      "Square: 9\n",
      "Cube: 27\n",
      "Square: 16\n",
      "Cube: 64\n",
      "Square: 25\n",
      "Cube: 125\n"
     ]
    }
   ],
   "source": [
    "import threading\n",
    "import time\n",
    "\n",
    "def squares_list(numbers):\n",
    "    for i in numbers:\n",
    "        time.sleep(1)\n",
    "        print(\"Square:\", i**2)\n",
    "        \n",
    "def cubes_list(numbers):\n",
    "    for i in numbers:\n",
    "        time.sleep(1)\n",
    "        print(\"Cube:\", i**3)\n",
    "\n",
    "numbers = [2, 3, 4, 5]\n",
    "t1 = threading.Thread(target=squares_list, args=(numbers,))\n",
    "t2 = threading.Thread(target=cubes_list, args=(numbers,))\n",
    "\n",
    "t1.start()\n",
    "t2.start()\n",
    "t1.join()\n",
    "t2.join()"
   ]
  },
  {
   "cell_type": "markdown",
   "id": "f7d7953f-0043-4533-92d1-bfbc0ad96469",
   "metadata": {},
   "source": [
    "### 5. State advantages and disadvantages of multithreading"
   ]
  },
  {
   "cell_type": "markdown",
   "id": "ae11eeaf-4d2e-470a-90d7-8a7fe9bf9364",
   "metadata": {},
   "source": [
    "Advantages of multithreading in Python:\n",
    "\n",
    "1.Improved Performance: By dividing a big task into smaller threads, we can execute multiple tasks simultaneously, which results in better performance and faster execution.\n",
    "\n",
    "2.Resource Sharing: Threads can share resources, such as memory and file handles, which makes it easier to write more efficient and maintainable code.\n",
    "\n",
    "3.Responsiveness: Threads can be used to make GUI (Graphical User Interface) applications more responsive. For example, you can use threads to handle background tasks, such as data loading or network communication, without freezing the main GUI thread.\n",
    "\n",
    "4.Lower Overhead: The overhead of creating and managing threads is low, which makes multithreading a great choice for resource-constrained systems, such as mobile devices.\n",
    "\n",
    "Disadvantages of multithreading in Python:\n",
    "\n",
    "1.Deadlocks: Deadlocks can occur when multiple threads are waiting for each other to release resources, resulting in a frozen state.\n",
    "\n",
    "2.Debugging: Debugging multithreaded applications can be challenging, as the flow of control can be difficult to follow.\n",
    "\n",
    "3.Race Conditions: Race conditions can occur when multiple threads access and modify shared data simultaneously, leading to unpredictable results.\n",
    "\n",
    "4.Overhead: Multithreading introduces additional overhead in the form of thread creation and management, as well as the need for synchronization mechanisms, such as locks, to avoid race conditions.\n",
    "\n",
    "5.Complexity: Multithreading can make code more complex, as the programmer must take care to ensure that threads do not interfere with each other and that shared resources are properly synchronized."
   ]
  },
  {
   "cell_type": "markdown",
   "id": "e4391305-a79c-4460-a89e-115d5fbde062",
   "metadata": {},
   "source": [
    "### 6. Explain deadlocks and race round conditions."
   ]
  },
  {
   "cell_type": "markdown",
   "id": "f68002a8-2f06-405d-9431-a8d3a0f75753",
   "metadata": {},
   "source": [
    "Deadlocks and race conditions are two common synchronization problems that arise in multithreaded programming.\n",
    "\n",
    "Deadlocks occur when two or more threads are blocked and waiting for each other to release a resource, leading to a situation where no progress can be made. For example, if two threads both try to acquire locks on two different resources, and each thread is waiting for the other thread to release its lock, then a deadlock has occurred.\n",
    "\n",
    "Race conditions occur when two or more threads try to access and modify the same shared data at the same time, leading to unexpected results. For example, if two threads both try to increment a shared counter, there is a chance that the final value of the counter will be incorrect because the two threads may interfere with each other.\n",
    "\n",
    "To prevent deadlocks and race conditions, proper synchronization mechanisms such as locks, semaphores, and monitors must be used. Additionally, it is important to understand the order in which threads will access shared data and ensure that this order is well-defined."
   ]
  }
 ],
 "metadata": {
  "kernelspec": {
   "display_name": "Python 3 (ipykernel)",
   "language": "python",
   "name": "python3"
  },
  "language_info": {
   "codemirror_mode": {
    "name": "ipython",
    "version": 3
   },
   "file_extension": ".py",
   "mimetype": "text/x-python",
   "name": "python",
   "nbconvert_exporter": "python",
   "pygments_lexer": "ipython3",
   "version": "3.10.8"
  }
 },
 "nbformat": 4,
 "nbformat_minor": 5
}
