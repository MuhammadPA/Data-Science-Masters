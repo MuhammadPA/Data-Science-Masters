{
 "cells": [
  {
   "cell_type": "markdown",
   "id": "2a49f126-630b-4f1e-b966-6f099f9f05f9",
   "metadata": {},
   "source": [
    "### 1. Which function is used to open a file? What are the different modes of opening a file? Explain each mode of file opening."
   ]
  },
  {
   "cell_type": "markdown",
   "id": "6cdac738-a0b0-4f02-9fdb-efcf87fe36c4",
   "metadata": {},
   "source": [
    "file_object = open(file_name, mode)\n",
    "\n",
    " The diiferent modes for opening a file are:\n",
    "1.'r' (read-only mode): This mode is used to open a file for reading only. \n",
    "The file pointer is placed at the beginning of the file. This is the default mode in which a file is opened. If the file does not exist, an error is raised.\n",
    "\n",
    "2.'w' (write mode): This mode is used to open a file for writing. The file is created if it does not \n",
    "exist or truncated if it exists. The file pointer is placed at the beginning of the file.\n",
    "\n",
    "3.'a' (append mode): This mode is used to open a file for appending. The file is created if it does not exist. The file pointer is placed at the end of the file.\n",
    "\n",
    "4.'x' (exclusive creation mode): This mode is used to open a file for exclusive creation. \n",
    "If the file already exists, an error is raised. The file pointer is placed at the beginning of the file.\n",
    "\n",
    "5.'b' (binary mode): This mode is used to open a file in binary mode. When a file is opened in binary mode, \n",
    "the data is read and written in binary format, not as a string.\n",
    "\n",
    "6.'t' (text mode): This mode is used to open a file in text mode. When a file is opened in text mode, t\n",
    "he data is read and written as a string. This is the default mode when a file is opened.\n",
    "\n",
    "The modes can be combined by concatenating two or more modes. For example:\n",
    "\n",
    "'rb': Open a binary file for reading.\n",
    "'wt': Open a text file for writing (truncate the file if it exists).\n",
    "'a+': Open a file for reading and writing in append mode."
   ]
  },
  {
   "cell_type": "markdown",
   "id": "fe2c81be-6bab-490d-971f-9862c947285f",
   "metadata": {},
   "source": [
    "### 2. Why close() function is used? Why is it important to close a file?"
   ]
  },
  {
   "cell_type": "markdown",
   "id": "3505c332-f002-4886-b6ad-0c9550c53dbd",
   "metadata": {},
   "source": [
    "The close() function is used to close an open file. Closing a file is important for several reasons:\n",
    "\n",
    "1.Releases system resources: When a file is opened, the operating system allocates system resources such as memory and file handles to that file. Closing the file frees up these resources, allowing the operating system to allocate them to other processes.\n",
    "\n",
    "2.Flushes unwritten data: When a file is opened in write mode, data is typically stored in a buffer before it is written to the file on disk. Closing the file flushes this buffer, ensuring that all data is written to the file and stored permanently.\n",
    "\n",
    "3.Prevents data corruption: If a file is not closed properly, it can cause data corruption. For example, if a file is opened for writing and the program terminates abnormally before the file is closed, the data in the buffer may not be written to the file, leading to data loss or corruption.\n",
    "\n",
    "4.Improves system stability: When a large number of files are left open, it can cause system stability problems. Closing files as soon as they are no longer needed can help prevent these problems."
   ]
  },
  {
   "cell_type": "markdown",
   "id": "f43252cd-e6dd-4f37-906d-cfd8b3a8a0b5",
   "metadata": {},
   "source": [
    "### 3. Write a python program to create a text file. Write ‘I want to become a Data Scientist’ in that file. Then close the file. Open this file and read the content of the file."
   ]
  },
  {
   "cell_type": "code",
   "execution_count": 8,
   "id": "36b5fd73-3bc0-47ae-92c3-50de95e98703",
   "metadata": {},
   "outputs": [
    {
     "data": {
      "text/plain": [
       "'I want to become a Data Scientist'"
      ]
     },
     "execution_count": 8,
     "metadata": {},
     "output_type": "execute_result"
    }
   ],
   "source": [
    "f=open(\"text.txt\",'w')\n",
    "f.write(\"I want to become a Data Scientist\")\n",
    "f.close()\n",
    "data = open(\"text.txt\" , \"r\")\n",
    "data.read()"
   ]
  },
  {
   "cell_type": "markdown",
   "id": "a44fefd0-a573-4e00-bab1-08d332c70893",
   "metadata": {},
   "source": [
    "### 4. Explain the following with python code: read(), readline() and readlines()."
   ]
  },
  {
   "cell_type": "code",
   "execution_count": 7,
   "id": "467fd843-9bc8-4253-bb63-465b66644d8a",
   "metadata": {},
   "outputs": [],
   "source": [
    "#In Python, the read(), readline(), and readlines() methods are used to read data from a file.\n",
    "\n",
    "'''1. read(): The read() method is used to read the entire contents of a file and return it as a string. \n",
    "The syntax is as follows:'''\n",
    "with open(\"text.txt\", \"r\") as file:\n",
    "    data = file.read()\n",
    "    # data contains the entire contents of the file\n",
    "    \n",
    "'''1.readline(): The readline() method is used to read a single line from a file. The file pointer is \n",
    "placed at the beginning of the next line after each call to readline(). \n",
    "The syntax is as follows:'''\n",
    "with open(\"text.txt\", \"r\") as file:\n",
    "    line = file.readline()\n",
    "    # line contains the first line of the file\n",
    "    line = file.readline()\n",
    "    # line contains the second line of the file\n",
    "    ...\n",
    "'''3. readlines(): The readlines() method is used to read all lines of a file and return them as a \n",
    "list of strings.\n",
    "The syntax is as follows:'''\n",
    "with open(\"text.txt\", \"r\") as file:\n",
    "    lines = file.readlines()\n",
    "    # lines is a list containing all lines of the file"
   ]
  },
  {
   "cell_type": "markdown",
   "id": "1246ece7-355e-4dde-889a-9186887783a7",
   "metadata": {},
   "source": [
    "### 5.Explain why with statement is used with open(). What is the advantage of using with statement and open() together?"
   ]
  },
  {
   "cell_type": "code",
   "execution_count": 12,
   "id": "5def4ff6-f00f-4471-b079-f4a8682ee41d",
   "metadata": {},
   "outputs": [],
   "source": [
    "'''The with statement is commonly used in Python to work with files because it provides a convenient \n",
    "way to manage the lifetime of a file. When a file is opened using the with statement, the file is \n",
    "automatically closed when the block of code inside the with statement is finished, even if an error occurs.\n",
    "\n",
    "For example, the following code opens a file, reads its contents, and then closes the file:'''\n",
    "with open(\"text.txt\", \"r\") as file:\n",
    "    data = file.read()\n",
    "# The file is automatically closed when the block ends\n",
    "    \n",
    "#This is equivalent to the following code, which explicitly opens and closes the file:\n",
    "file = open(\"text.txt\", \"r\")\n",
    "data = file.read()\n",
    "file.close()\n",
    "\n",
    "'''The advantage of using the with statement is that it helps prevent resource leaks. If an error occurs \n",
    "in the block of code inside the with statement, the file is still automatically closed, which can help \n",
    "prevent data corruption or other problems.'''"
   ]
  },
  {
   "cell_type": "markdown",
   "id": "639061e8-d267-4c48-878c-3ac85bcd5fef",
   "metadata": {},
   "source": [
    "### 6. Explain the write() and writelines() functions. Give a suitable example."
   ]
  },
  {
   "cell_type": "code",
   "execution_count": 14,
   "id": "75004549-66c9-40c3-bff6-ca7d2321ef12",
   "metadata": {},
   "outputs": [],
   "source": [
    "#In Python, the write() and writelines() functions are used to write data to a file.\n",
    "\n",
    "#1.write(): The write() function is used to write a string to a file. The syntax is as follows:\n",
    "with open(\"file.txt\", \"w\") as file:\n",
    "    file.write(\"Hello, World!\")\n",
    "\n",
    "'''This example opens a file named file.txt in write mode and writes the string \"Hello, World!\" to the file.\n",
    "Note that when a file is opened in write mode, any existing data in the file is overwritten.'''\n",
    "\n",
    "#2.writelines(): The writelines() function is used to write a list of strings to a file. \n",
    "#The syntax is as follows:\n",
    "\n",
    "with open(\"file.txt\", \"w\") as file:\n",
    "    lines = [\"Hello, World!\", \"How are you?\"]\n",
    "    file.writelines(lines)\n",
    "    \n",
    "'''This example opens a file named file.txt in write mode and writes the list of strings [\"Hello, World!\", \n",
    "\"How are you?\"] to the file.'''"
   ]
  }
 ],
 "metadata": {
  "kernelspec": {
   "display_name": "Python 3 (ipykernel)",
   "language": "python",
   "name": "python3"
  },
  "language_info": {
   "codemirror_mode": {
    "name": "ipython",
    "version": 3
   },
   "file_extension": ".py",
   "mimetype": "text/x-python",
   "name": "python",
   "nbconvert_exporter": "python",
   "pygments_lexer": "ipython3",
   "version": "3.10.8"
  }
 },
 "nbformat": 4,
 "nbformat_minor": 5
}
