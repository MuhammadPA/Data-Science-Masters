{
 "cells": [
  {
   "cell_type": "markdown",
   "id": "236d4a82-ea43-4b54-9e17-cff36a4e17a9",
   "metadata": {},
   "source": [
    "### 1. Explain class and object with respect to object oriented programming. Give a suitable example"
   ]
  },
  {
   "cell_type": "code",
   "execution_count": 1,
   "id": "4d1fdf2e-d1c2-4bf7-9ebd-6a46c62d5dba",
   "metadata": {},
   "outputs": [
    {
     "data": {
      "text/plain": [
       "999679869"
      ]
     },
     "execution_count": 1,
     "metadata": {},
     "output_type": "execute_result"
    }
   ],
   "source": [
    "'''In object-oriented programming (OOP), a class is a blueprint or template that defines the \n",
    "properties and methods common to objects of a particular kind. An object is an instance of a class,\n",
    "created at runtime. Objects contain data and methods that operate on that data.'''\n",
    "#Example:\n",
    "class pwskills1:\n",
    "    \n",
    "    def __init__(self ,phone_number , email_id, student_id ):\n",
    "        \n",
    "        self.phone_number = phone_number\n",
    "        self.email_id = email_id\n",
    "        self.student_id = student_id\n",
    "        \n",
    "    \n",
    "    def return_student_detials(self):\n",
    "        return self.phone_number, self.email_id , self.student_id\n",
    "sohan = pwskills1(999679869 , \"sohan@gmail.com\" , 102)\n",
    "sohan.phone_number"
   ]
  },
  {
   "cell_type": "markdown",
   "id": "ac32c26c-5854-4932-bcb7-15f53affe819",
   "metadata": {},
   "source": [
    "### 2. Name the four pillars of OOPS"
   ]
  },
  {
   "cell_type": "markdown",
   "id": "407ac6b7-138f-4cde-b863-a6a16626fd90",
   "metadata": {},
   "source": [
    "## The four pillars of object-oriented programming (OOP) are:\n",
    "1. Abstraction\n",
    "2. Enapsulation\n",
    "3. Inheritance \n",
    "4. Polymorphism"
   ]
  },
  {
   "cell_type": "markdown",
   "id": "c0656697-524e-4785-b6c0-7800c34e3423",
   "metadata": {},
   "source": [
    "### 3.Explain why the __init__ function is used? Give a suitable example"
   ]
  },
  {
   "cell_type": "code",
   "execution_count": 6,
   "id": "c5d8fb74-969e-4868-bf7e-f85c7a34effb",
   "metadata": {},
   "outputs": [],
   "source": [
    "'''The __init__ function, also known as the constructor, is a special method in Python that is \n",
    "automatically called when an object of a class is created. It is used to initialize the attributes of \n",
    "the object and to set the default values for the object.'''\n",
    "#Example:\n",
    "class Person:\n",
    "    def __init__(self, name, age):\n",
    "        self.name = name\n",
    "        self.age = age\n",
    "person = Person(\"John Doe\", 30)"
   ]
  },
  {
   "cell_type": "markdown",
   "id": "01df8ef9-4dfe-4aba-9715-a2dd5bf52d5f",
   "metadata": {},
   "source": [
    "### 4.Why is self used in OOPS?"
   ]
  },
  {
   "cell_type": "code",
   "execution_count": 7,
   "id": "5e6fe147-4500-4d5b-9cb1-b08236c7c6db",
   "metadata": {},
   "outputs": [],
   "source": [
    "'''self is a reference to the instance of an object in Python. It is used as the first argument \n",
    "in the methods of a class to refer to the instance of the object being processed.\n",
    "\n",
    "In object-oriented programming, the methods of a class operate on the data stored in an instance of the \n",
    "object. The self reference allows the method to access and modify the instance-specific data.'''\n",
    "#Example:\n",
    "class Person:\n",
    "    def __init__(self, name, age):\n",
    "        self.name = name\n",
    "        self.age = age\n",
    "    \n",
    "    def set_name(self, name):\n",
    "        self.name = name\n",
    "    \n",
    "    def set_age(self, age):\n",
    "        self.age = age\n",
    "        \n",
    "person = Person(\"John Doe\", 30)\n",
    "person.set_name(\"Jane Doe\")\n",
    "person.set_age(35)"
   ]
  },
  {
   "cell_type": "markdown",
   "id": "19a520cb-3afc-4061-b56a-74cf61965858",
   "metadata": {},
   "source": [
    "### 5.What is inhertance? Give an example for each type of inheeritance."
   ]
  },
  {
   "cell_type": "code",
   "execution_count": 8,
   "id": "d2435914-78cf-4120-bfc9-e24df3bd390f",
   "metadata": {},
   "outputs": [],
   "source": [
    "'''Inheritance is a concept in object-oriented programming that allows a new class to be defined \n",
    "as a modification of an existing class, retaining some or all of its behavior. The new class is \n",
    "called the derived class or subclass and the existing class is called the base class or superclass.'''\n",
    "#Single Ingeritance\n",
    "class Animal:\n",
    "    def __init__(self, species):\n",
    "        self.species = species\n",
    "    \n",
    "    def make_sound(self):\n",
    "        print(\"Some animal sound\")\n",
    "\n",
    "class Dog(Animal):\n",
    "    def __init__(self, breed):\n",
    "        Animal.__init__(self, \"Dog\")\n",
    "        self.breed = breed\n",
    "    \n",
    "    def make_sound(self):\n",
    "        print(\"Bark\")\n",
    "        \n",
    "#Multiple Inheritance\n",
    "class Animal:\n",
    "    def __init__(self, species):\n",
    "        self.species = species\n",
    "    \n",
    "    def make_sound(self):\n",
    "        print(\"Some animal sound\")\n",
    "\n",
    "class Mammal:\n",
    "    def __init__(self, hair):\n",
    "        self.hair = hair\n",
    "    \n",
    "    def make_sound(self):\n",
    "        print(\"Some mammal sound\")\n",
    "\n",
    "class Dog(Animal, Mammal):\n",
    "    def __init__(self, breed):\n",
    "        Animal.__init__(self, \"Dog\")\n",
    "        Mammal.__init__(self, True)\n",
    "        self.breed = breed\n",
    "    \n",
    "    def make_sound(self):\n",
    "        print(\"Bark\")\n",
    "\n",
    "\n",
    "# Multi-level inheritance\n",
    "class Animal:\n",
    "    def __init__(self, species):\n",
    "        self.species = species\n",
    "    \n",
    "    def make_sound(self):\n",
    "        print(\"Some animal sound\")\n",
    "\n",
    "class Mammal(Animal):\n",
    "    def __init__(self, hair):\n",
    "        Animal.__init__(self, \"Mammal\")\n",
    "        self.hair = hair\n",
    "    \n",
    "    def make_sound(self):\n",
    "        print(\"Some mammal sound\")\n",
    "\n",
    "class Dog(Mammal):\n",
    "    def __init__(self, breed):\n",
    "        Mammal.__init__(self, True)\n",
    "        self.breed = breed\n",
    "    \n",
    "    def make_sound(self):\n",
    "        print(\"Bark\")\n",
    "\n",
    "# Hierarchical inheritance\n",
    "class Animal:\n",
    "    def __init__(self, name):\n",
    "        self.name = name\n",
    "\n",
    "    def speak(self):\n",
    "        print(\"I am an animal\")\n",
    "\n",
    "class Dog(Animal):\n",
    "    def speak(self):\n",
    "        print(\"I am a dog, my name is\", self.name)\n",
    "\n",
    "class Cat(Animal):\n",
    "    def speak(self):\n",
    "        print(\"I am a cat, my name is\", self.name)\n",
    "\n",
    "# Hybrid inheritance\n",
    "class Animal:\n",
    "    def __init__(self, name):\n",
    "        self.name = name\n",
    "\n",
    "    def speak(self):\n",
    "        print(\"I am an animal\")\n",
    "\n",
    "class Mammal(Animal):\n",
    "    def __init__(self, name, fur_color):\n",
    "        super().__init__(name)\n",
    "        self.fur_color = fur_color\n",
    "\n",
    "class Dog(Mammal):\n",
    "    def speak(self):\n",
    "        print(\"I am a dog, my name is\", self.name, \"and my fur color is\", self.fur_color)"
   ]
  }
 ],
 "metadata": {
  "kernelspec": {
   "display_name": "Python 3 (ipykernel)",
   "language": "python",
   "name": "python3"
  },
  "language_info": {
   "codemirror_mode": {
    "name": "ipython",
    "version": 3
   },
   "file_extension": ".py",
   "mimetype": "text/x-python",
   "name": "python",
   "nbconvert_exporter": "python",
   "pygments_lexer": "ipython3",
   "version": "3.10.8"
  }
 },
 "nbformat": 4,
 "nbformat_minor": 5
}
