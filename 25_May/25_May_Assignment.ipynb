{
 "cells": [
  {
   "cell_type": "markdown",
   "id": "c87afb32-5d13-4e1a-8ee4-b0aa2dcab8df",
   "metadata": {},
   "source": [
    "### Q1. Theory and concepts"
   ]
  },
  {
   "cell_type": "markdown",
   "id": "9b1cc28c-0bff-4486-a714-286793221c7c",
   "metadata": {},
   "source": [
    "### 1.Explain the concept of batch normalization in the context of Artificial Neural Networks"
   ]
  },
  {
   "cell_type": "markdown",
   "id": "cd574886-c1b1-4cee-9c6f-b1cae24ae4e5",
   "metadata": {},
   "source": [
    "Batch normalization is a technique used in artificial neural networks to address the issue of internal covariate shift. Internal covariate shift refers to the change in the distribution of network activations as the parameters of a neural network are updated during training.\n",
    "\n",
    "In a neural network, each layer's inputs are affected by the parameters of the previous layers. As the network trains, the distribution of inputs to each layer changes, which can slow down the training process and make it more difficult for the network to converge.\n",
    "\n",
    "Batch normalization aims to mitigate this problem by normalizing the inputs to a layer. It operates on a mini-batch of inputs during training. Here's how batch normalization works:\n",
    "\n",
    "1. During each training iteration, a mini-batch of inputs is fed into the network.\n",
    "2. For each feature (dimension) in the mini-batch, the mean and variance are computed.\n",
    "3. The feature values are then normalized using the mean and variance. This is done by subtracting the mean and dividing by the standard deviation.\n",
    "4. The normalized values are then scaled and shifted using learned parameters. These parameters allow the batch normalization layer to learn the optimal scale and shift for each feature.\n",
    "5. The normalized and transformed values are passed to the next layer in the network.\n",
    "\n",
    "Batch normalization has several advantages:\n",
    "\n",
    "1. It reduces the dependence of each layer's inputs on the parameters of previous layers, thus reducing the internal covariate shift problem.\n",
    "2. It allows for higher learning rates, as the normalization process helps stabilize and regularize the training process.\n",
    "3. It helps to alleviate the vanishing/exploding gradient problem by normalizing the inputs to each layer.\n",
    "4. It can act as a regularizer, reducing the need for other regularization techniques such as dropout.\n",
    "5. It improves the generalization capability of the network by reducing overfitting.\n",
    "\n",
    "Overall, batch normalization is an effective technique for accelerating the training of neural networks and improving their performance by normalizing and stabilizing the activations within each layer."
   ]
  },
  {
   "cell_type": "markdown",
   "id": "792cc074-195b-486a-8423-ddaa4a458acd",
   "metadata": {},
   "source": [
    "### 2. Describe the benefits of using batch normalization during training"
   ]
  },
  {
   "cell_type": "markdown",
   "id": "ee847810-1deb-4c4c-8f07-9f741a980612",
   "metadata": {},
   "source": [
    "Batch normalization offers several benefits when used during training in artificial neural networks:\n",
    "\n",
    "1. **Improved convergence speed**: By normalizing the inputs to each layer, batch normalization reduces the internal covariate shift problem, allowing the network to converge faster. This is because it provides a more stable learning environment by keeping the mean and variance of the inputs consistent across training batches.\n",
    "\n",
    "2. **Stabilized gradients**: Batch normalization helps to mitigate the vanishing or exploding gradient problem. By normalizing the inputs, it ensures that the gradients flowing through the network are not excessively large or small. This facilitates more stable and efficient backpropagation, leading to faster and more reliable convergence.\n",
    "\n",
    "3. **Higher learning rates**: With batch normalization, higher learning rates can be used during training. Since the inputs are normalized and centered around zero-mean and unit variance, the network is less sensitive to the choice of learning rate. This enables faster learning and reduces the risk of getting stuck in suboptimal solutions.\n",
    "\n",
    "4. **Regularization effect**: Batch normalization acts as a form of regularization in neural networks. It introduces some noise to the activations within each mini-batch, similar to dropout regularization. This noise helps to reduce overfitting and improve the generalization capability of the network. As a result, explicit regularization techniques like dropout may be needed less frequently when using batch normalization.\n",
    "\n",
    "5. **Reduced dependence on weight initialization**: Batch normalization reduces the dependence of each layer's inputs on the initialization of the network's weights. This is particularly beneficial when using deep networks or networks with complex architectures. It helps to mitigate the sensitivity to initialization and enables more efficient training.\n",
    "\n",
    "6. **Robustness to changes in hyperparameters**: Batch normalization makes the network more robust to changes in hyperparameters, such as learning rate or weight initialization. It provides some level of normalization and standardization to the inputs, reducing the impact of these hyperparameters on the network's performance. This can simplify the process of hyperparameter tuning.\n",
    "\n",
    "In summary, using batch normalization during training brings benefits like improved convergence speed, stabilized gradients, the ability to use higher learning rates, regularization effects, reduced dependence on weight initialization, and increased robustness to changes in hyperparameters. These advantages contribute to more efficient and effective training of artificial neural networks."
   ]
  },
  {
   "cell_type": "markdown",
   "id": "3b08f3d2-e58e-48d4-9d7f-9bf52b2fc1d9",
   "metadata": {},
   "source": [
    "### 3. Discuss the working principle of batch normalization, including the normalization step and the learnable parameters."
   ]
  },
  {
   "cell_type": "markdown",
   "id": "8950ce83-9b2b-4e17-bcca-236aaf49de29",
   "metadata": {},
   "source": [
    "The working principle of batch normalization involves two key steps: the normalization step and the learnable parameters. Let's discuss each of them in detail:\n",
    "\n",
    "1. **Normalization Step**:\n",
    "   - During training, batch normalization operates on a mini-batch of inputs, typically of size `m`, where `m` is the batch size.\n",
    "   - For each feature (dimension) in the mini-batch, batch normalization calculates the mean and variance.\n",
    "   - The mean (`μ`) and variance (`σ^2`) are computed as follows:\n",
    "     - `μ = (1/m) * ∑(x_i)` (mean of the mini-batch)\n",
    "     - `σ^2 = (1/m) * ∑((x_i - μ)^2)` (variance of the mini-batch)\n",
    "   - The mean and variance are used to normalize the feature values.\n",
    "   - Each feature value (`x_i`) is normalized using the following equation:\n",
    "     - `x_i' = (x_i - μ) / √(σ^2 + ε)` (normalized feature value)\n",
    "   - Here, `ε` is a small constant (e.g., 10^-8) added to the variance to avoid division by zero.\n",
    "\n",
    "2. **Learnable Parameters**:\n",
    "   - Batch normalization introduces two learnable parameters for each feature in the mini-batch: scale (`γ`) and shift (`β`).\n",
    "   - After normalization, the scaled and shifted values are obtained by multiplying the normalized values by the scale parameter and adding the shift parameter:\n",
    "     - `y_i = γ * x_i' + β` (scaled and shifted value)\n",
    "   - The scale parameter (`γ`) allows the network to learn the optimal scaling for each feature, and the shift parameter (`β`) allows it to learn the optimal shift.\n",
    "   - During training, the scale and shift parameters are updated through backpropagation to optimize the overall network's performance.\n",
    "\n",
    "The normalization step ensures that the activations within each mini-batch have zero-mean and unit variance. This helps to stabilize and regularize the training process by reducing the internal covariate shift problem. It normalizes the inputs and makes them more amenable to efficient gradient flow during backpropagation.\n",
    "\n",
    "The learnable parameters, scale and shift, provide the network with the flexibility to adapt and fine-tune the normalized values for each feature. They allow the network to learn the optimal scaling and shifting that can further improve the performance and expressiveness of the model.\n",
    "\n",
    "During inference or evaluation, batch normalization uses the population statistics (accumulated statistics across multiple training batches) instead of the mini-batch statistics for normalization. This ensures consistent and stable normalization of inputs at inference time.\n",
    "\n",
    "By combining the normalization step and learnable parameters, batch normalization provides a powerful mechanism for normalizing and adjusting the activations within a neural network, contributing to faster training and improved performance."
   ]
  },
  {
   "cell_type": "markdown",
   "id": "acbd2ccf-c18c-42f4-ae67-52ea9a9e2dde",
   "metadata": {},
   "source": [
    "### Q2. Implementation"
   ]
  },
  {
   "cell_type": "markdown",
   "id": "b4b1a246-6308-4120-aca0-a44dff0ad3c0",
   "metadata": {},
   "source": [
    "### 1. Choose a dataset of your choice (e.g., MNIST, CIAR-0) and preprocess it"
   ]
  },
  {
   "cell_type": "code",
   "execution_count": 1,
   "id": "7fd4ffb2-6217-417a-a605-1c486aadc020",
   "metadata": {},
   "outputs": [
    {
     "name": "stdout",
     "output_type": "stream",
     "text": [
      "Collecting tensorflow\n",
      "  Downloading tensorflow-2.12.0-cp310-cp310-manylinux_2_17_x86_64.manylinux2014_x86_64.whl (585.9 MB)\n",
      "\u001b[2K     \u001b[90m━━━━━━━━━━━━━━━━━━━━━━━━━━━━━━━━━━━━━━━\u001b[0m \u001b[32m585.9/585.9 MB\u001b[0m \u001b[31m2.3 MB/s\u001b[0m eta \u001b[36m0:00:00\u001b[0m00:01\u001b[0m00:01\u001b[0m\n",
      "\u001b[?25hCollecting wrapt<1.15,>=1.11.0\n",
      "  Downloading wrapt-1.14.1-cp310-cp310-manylinux_2_5_x86_64.manylinux1_x86_64.manylinux_2_17_x86_64.manylinux2014_x86_64.whl (77 kB)\n",
      "\u001b[2K     \u001b[90m━━━━━━━━━━━━━━━━━━━━━━━━━━━━━━━━━━━━━━━━\u001b[0m \u001b[32m77.9/77.9 kB\u001b[0m \u001b[31m14.8 MB/s\u001b[0m eta \u001b[36m0:00:00\u001b[0m\n",
      "\u001b[?25hRequirement already satisfied: numpy<1.24,>=1.22 in /opt/conda/lib/python3.10/site-packages (from tensorflow) (1.23.5)\n",
      "Requirement already satisfied: h5py>=2.9.0 in /opt/conda/lib/python3.10/site-packages (from tensorflow) (3.7.0)\n",
      "Collecting opt-einsum>=2.3.2\n",
      "  Downloading opt_einsum-3.3.0-py3-none-any.whl (65 kB)\n",
      "\u001b[2K     \u001b[90m━━━━━━━━━━━━━━━━━━━━━━━━━━━━━━━━━━━━━━━━\u001b[0m \u001b[32m65.5/65.5 kB\u001b[0m \u001b[31m12.9 MB/s\u001b[0m eta \u001b[36m0:00:00\u001b[0m\n",
      "\u001b[?25hRequirement already satisfied: typing-extensions>=3.6.6 in /opt/conda/lib/python3.10/site-packages (from tensorflow) (4.4.0)\n",
      "Collecting tensorflow-io-gcs-filesystem>=0.23.1\n",
      "  Downloading tensorflow_io_gcs_filesystem-0.32.0-cp310-cp310-manylinux_2_12_x86_64.manylinux2010_x86_64.whl (2.4 MB)\n",
      "\u001b[2K     \u001b[90m━━━━━━━━━━━━━━━━━━━━━━━━━━━━━━━━━━━━━━━━\u001b[0m \u001b[32m2.4/2.4 MB\u001b[0m \u001b[31m6.4 MB/s\u001b[0m eta \u001b[36m0:00:00\u001b[0ma \u001b[36m0:00:01\u001b[0m\n",
      "\u001b[?25hCollecting gast<=0.4.0,>=0.2.1\n",
      "  Downloading gast-0.4.0-py3-none-any.whl (9.8 kB)\n",
      "Collecting grpcio<2.0,>=1.24.3\n",
      "  Downloading grpcio-1.56.0-cp310-cp310-manylinux_2_17_x86_64.manylinux2014_x86_64.whl (5.2 MB)\n",
      "\u001b[2K     \u001b[90m━━━━━━━━━━━━━━━━━━━━━━━━━━━━━━━━━━━━━━━━\u001b[0m \u001b[32m5.2/5.2 MB\u001b[0m \u001b[31m48.1 MB/s\u001b[0m eta \u001b[36m0:00:00\u001b[0m00:01\u001b[0m00:01\u001b[0m\n",
      "\u001b[?25hCollecting tensorboard<2.13,>=2.12\n",
      "  Downloading tensorboard-2.12.3-py3-none-any.whl (5.6 MB)\n",
      "\u001b[2K     \u001b[90m━━━━━━━━━━━━━━━━━━━━━━━━━━━━━━━━━━━━━━━━\u001b[0m \u001b[32m5.6/5.6 MB\u001b[0m \u001b[31m62.9 MB/s\u001b[0m eta \u001b[36m0:00:00\u001b[0m00:01\u001b[0m00:01\u001b[0m\n",
      "\u001b[?25hRequirement already satisfied: protobuf!=4.21.0,!=4.21.1,!=4.21.2,!=4.21.3,!=4.21.4,!=4.21.5,<5.0.0dev,>=3.20.3 in /opt/conda/lib/python3.10/site-packages (from tensorflow) (4.21.11)\n",
      "Collecting termcolor>=1.1.0\n",
      "  Downloading termcolor-2.3.0-py3-none-any.whl (6.9 kB)\n",
      "Collecting flatbuffers>=2.0\n",
      "  Downloading flatbuffers-23.5.26-py2.py3-none-any.whl (26 kB)\n",
      "Requirement already satisfied: six>=1.12.0 in /opt/conda/lib/python3.10/site-packages (from tensorflow) (1.16.0)\n",
      "Collecting google-pasta>=0.1.1\n",
      "  Downloading google_pasta-0.2.0-py3-none-any.whl (57 kB)\n",
      "\u001b[2K     \u001b[90m━━━━━━━━━━━━━━━━━━━━━━━━━━━━━━━━━━━━━━━━\u001b[0m \u001b[32m57.5/57.5 kB\u001b[0m \u001b[31m11.0 MB/s\u001b[0m eta \u001b[36m0:00:00\u001b[0m\n",
      "\u001b[?25hRequirement already satisfied: packaging in /opt/conda/lib/python3.10/site-packages (from tensorflow) (22.0)\n",
      "Collecting astunparse>=1.6.0\n",
      "  Downloading astunparse-1.6.3-py2.py3-none-any.whl (12 kB)\n",
      "Requirement already satisfied: setuptools in /opt/conda/lib/python3.10/site-packages (from tensorflow) (65.5.1)\n",
      "Collecting tensorflow-estimator<2.13,>=2.12.0\n",
      "  Downloading tensorflow_estimator-2.12.0-py2.py3-none-any.whl (440 kB)\n",
      "\u001b[2K     \u001b[90m━━━━━━━━━━━━━━━━━━━━━━━━━━━━━━━━━━━━━━\u001b[0m \u001b[32m440.7/440.7 kB\u001b[0m \u001b[31m48.5 MB/s\u001b[0m eta \u001b[36m0:00:00\u001b[0m\n",
      "\u001b[?25hCollecting libclang>=13.0.0\n",
      "  Downloading libclang-16.0.0-py2.py3-none-manylinux2010_x86_64.whl (22.9 MB)\n",
      "\u001b[2K     \u001b[90m━━━━━━━━━━━━━━━━━━━━━━━━━━━━━━━━━━━━━━━━\u001b[0m \u001b[32m22.9/22.9 MB\u001b[0m \u001b[31m57.3 MB/s\u001b[0m eta \u001b[36m0:00:00\u001b[0m00:01\u001b[0m00:01\u001b[0m\n",
      "\u001b[?25hCollecting absl-py>=1.0.0\n",
      "  Downloading absl_py-1.4.0-py3-none-any.whl (126 kB)\n",
      "\u001b[2K     \u001b[90m━━━━━━━━━━━━━━━━━━━━━━━━━━━━━━━━━━━━━━\u001b[0m \u001b[32m126.5/126.5 kB\u001b[0m \u001b[31m23.0 MB/s\u001b[0m eta \u001b[36m0:00:00\u001b[0m\n",
      "\u001b[?25hCollecting jax>=0.3.15\n",
      "  Downloading jax-0.4.13.tar.gz (1.3 MB)\n",
      "\u001b[2K     \u001b[90m━━━━━━━━━━━━━━━━━━━━━━━━━━━━━━━━━━━━━━━━\u001b[0m \u001b[32m1.3/1.3 MB\u001b[0m \u001b[31m64.3 MB/s\u001b[0m eta \u001b[36m0:00:00\u001b[0m\n",
      "\u001b[?25h  Installing build dependencies ... \u001b[?25ldone\n",
      "\u001b[?25h  Getting requirements to build wheel ... \u001b[?25ldone\n",
      "\u001b[?25h  Preparing metadata (pyproject.toml) ... \u001b[?25ldone\n",
      "\u001b[?25hCollecting keras<2.13,>=2.12.0\n",
      "  Downloading keras-2.12.0-py2.py3-none-any.whl (1.7 MB)\n",
      "\u001b[2K     \u001b[90m━━━━━━━━━━━━━━━━━━━━━━━━━━━━━━━━━━━━━━━━\u001b[0m \u001b[32m1.7/1.7 MB\u001b[0m \u001b[31m47.0 MB/s\u001b[0m eta \u001b[36m0:00:00\u001b[0m00:01\u001b[0m\n",
      "\u001b[?25hRequirement already satisfied: wheel<1.0,>=0.23.0 in /opt/conda/lib/python3.10/site-packages (from astunparse>=1.6.0->tensorflow) (0.38.4)\n",
      "Requirement already satisfied: scipy>=1.7 in /opt/conda/lib/python3.10/site-packages (from jax>=0.3.15->tensorflow) (1.9.3)\n",
      "Collecting ml-dtypes>=0.1.0\n",
      "  Downloading ml_dtypes-0.2.0-cp310-cp310-manylinux_2_17_x86_64.manylinux2014_x86_64.whl (1.0 MB)\n",
      "\u001b[2K     \u001b[90m━━━━━━━━━━━━━━━━━━━━━━━━━━━━━━━━━━━━━━━━\u001b[0m \u001b[32m1.0/1.0 MB\u001b[0m \u001b[31m73.7 MB/s\u001b[0m eta \u001b[36m0:00:00\u001b[0m\n",
      "\u001b[?25hCollecting markdown>=2.6.8\n",
      "  Downloading Markdown-3.4.3-py3-none-any.whl (93 kB)\n",
      "\u001b[2K     \u001b[90m━━━━━━━━━━━━━━━━━━━━━━━━━━━━━━━━━━━━━━━━\u001b[0m \u001b[32m93.9/93.9 kB\u001b[0m \u001b[31m17.9 MB/s\u001b[0m eta \u001b[36m0:00:00\u001b[0m\n",
      "\u001b[?25hCollecting google-auth-oauthlib<1.1,>=0.5\n",
      "  Downloading google_auth_oauthlib-1.0.0-py2.py3-none-any.whl (18 kB)\n",
      "Collecting tensorboard-data-server<0.8.0,>=0.7.0\n",
      "  Downloading tensorboard_data_server-0.7.1-py3-none-manylinux2014_x86_64.whl (6.6 MB)\n",
      "\u001b[2K     \u001b[90m━━━━━━━━━━━━━━━━━━━━━━━━━━━━━━━━━━━━━━━━\u001b[0m \u001b[32m6.6/6.6 MB\u001b[0m \u001b[31m75.8 MB/s\u001b[0m eta \u001b[36m0:00:00\u001b[0m:00:01\u001b[0m00:01\u001b[0m\n",
      "\u001b[?25hRequirement already satisfied: requests<3,>=2.21.0 in /opt/conda/lib/python3.10/site-packages (from tensorboard<2.13,>=2.12->tensorflow) (2.28.1)\n",
      "Collecting werkzeug>=1.0.1\n",
      "  Downloading Werkzeug-2.3.6-py3-none-any.whl (242 kB)\n",
      "\u001b[2K     \u001b[90m━━━━━━━━━━━━━━━━━━━━━━━━━━━━━━━━━━━━━━\u001b[0m \u001b[32m242.5/242.5 kB\u001b[0m \u001b[31m38.0 MB/s\u001b[0m eta \u001b[36m0:00:00\u001b[0m\n",
      "\u001b[?25hCollecting google-auth<3,>=1.6.3\n",
      "  Downloading google_auth-2.21.0-py2.py3-none-any.whl (182 kB)\n",
      "\u001b[2K     \u001b[90m━━━━━━━━━━━━━━━━━━━━━━━━━━━━━━━━━━━━━━\u001b[0m \u001b[32m182.1/182.1 kB\u001b[0m \u001b[31m28.8 MB/s\u001b[0m eta \u001b[36m0:00:00\u001b[0m\n",
      "\u001b[?25hCollecting pyasn1-modules>=0.2.1\n",
      "  Downloading pyasn1_modules-0.3.0-py2.py3-none-any.whl (181 kB)\n",
      "\u001b[2K     \u001b[90m━━━━━━━━━━━━━━━━━━━━━━━━━━━━━━━━━━━━━━\u001b[0m \u001b[32m181.3/181.3 kB\u001b[0m \u001b[31m30.9 MB/s\u001b[0m eta \u001b[36m0:00:00\u001b[0m\n",
      "\u001b[?25hCollecting cachetools<6.0,>=2.0.0\n",
      "  Downloading cachetools-5.3.1-py3-none-any.whl (9.3 kB)\n",
      "Collecting rsa<5,>=3.1.4\n",
      "  Downloading rsa-4.9-py3-none-any.whl (34 kB)\n",
      "Requirement already satisfied: urllib3<2.0 in /opt/conda/lib/python3.10/site-packages (from google-auth<3,>=1.6.3->tensorboard<2.13,>=2.12->tensorflow) (1.26.13)\n",
      "Collecting requests-oauthlib>=0.7.0\n",
      "  Downloading requests_oauthlib-1.3.1-py2.py3-none-any.whl (23 kB)\n",
      "Requirement already satisfied: idna<4,>=2.5 in /opt/conda/lib/python3.10/site-packages (from requests<3,>=2.21.0->tensorboard<2.13,>=2.12->tensorflow) (3.4)\n",
      "Requirement already satisfied: certifi>=2017.4.17 in /opt/conda/lib/python3.10/site-packages (from requests<3,>=2.21.0->tensorboard<2.13,>=2.12->tensorflow) (2022.12.7)\n",
      "Requirement already satisfied: charset-normalizer<3,>=2 in /opt/conda/lib/python3.10/site-packages (from requests<3,>=2.21.0->tensorboard<2.13,>=2.12->tensorflow) (2.1.1)\n",
      "Requirement already satisfied: MarkupSafe>=2.1.1 in /opt/conda/lib/python3.10/site-packages (from werkzeug>=1.0.1->tensorboard<2.13,>=2.12->tensorflow) (2.1.1)\n",
      "Collecting pyasn1<0.6.0,>=0.4.6\n",
      "  Downloading pyasn1-0.5.0-py2.py3-none-any.whl (83 kB)\n",
      "\u001b[2K     \u001b[90m━━━━━━━━━━━━━━━━━━━━━━━━━━━━━━━━━━━━━━━━\u001b[0m \u001b[32m83.9/83.9 kB\u001b[0m \u001b[31m17.1 MB/s\u001b[0m eta \u001b[36m0:00:00\u001b[0m\n",
      "\u001b[?25hRequirement already satisfied: oauthlib>=3.0.0 in /opt/conda/lib/python3.10/site-packages (from requests-oauthlib>=0.7.0->google-auth-oauthlib<1.1,>=0.5->tensorboard<2.13,>=2.12->tensorflow) (3.2.2)\n",
      "Building wheels for collected packages: jax\n",
      "  Building wheel for jax (pyproject.toml) ... \u001b[?25ldone\n",
      "\u001b[?25h  Created wheel for jax: filename=jax-0.4.13-py3-none-any.whl size=1518707 sha256=2119a5e87da4e78b1b73a2ebdbc6a3458e7726d85d5c0f1db148a0692428cfd6\n",
      "  Stored in directory: /home/jovyan/.cache/pip/wheels/4c/a3/e7/ea156aff3754a8f833f1b0c9587dec0bcfc9c551c439c9dcc7\n",
      "Successfully built jax\n",
      "Installing collected packages: libclang, flatbuffers, wrapt, werkzeug, termcolor, tensorflow-io-gcs-filesystem, tensorflow-estimator, tensorboard-data-server, pyasn1, opt-einsum, ml-dtypes, markdown, keras, grpcio, google-pasta, gast, cachetools, astunparse, absl-py, rsa, requests-oauthlib, pyasn1-modules, jax, google-auth, google-auth-oauthlib, tensorboard, tensorflow\n",
      "Successfully installed absl-py-1.4.0 astunparse-1.6.3 cachetools-5.3.1 flatbuffers-23.5.26 gast-0.4.0 google-auth-2.21.0 google-auth-oauthlib-1.0.0 google-pasta-0.2.0 grpcio-1.56.0 jax-0.4.13 keras-2.12.0 libclang-16.0.0 markdown-3.4.3 ml-dtypes-0.2.0 opt-einsum-3.3.0 pyasn1-0.5.0 pyasn1-modules-0.3.0 requests-oauthlib-1.3.1 rsa-4.9 tensorboard-2.12.3 tensorboard-data-server-0.7.1 tensorflow-2.12.0 tensorflow-estimator-2.12.0 tensorflow-io-gcs-filesystem-0.32.0 termcolor-2.3.0 werkzeug-2.3.6 wrapt-1.14.1\n",
      "Note: you may need to restart the kernel to use updated packages.\n"
     ]
    }
   ],
   "source": [
    "pip install tensorflow"
   ]
  },
  {
   "cell_type": "code",
   "execution_count": 2,
   "id": "7c1b2190-3def-45f2-937e-7971d6e3cc98",
   "metadata": {},
   "outputs": [
    {
     "name": "stderr",
     "output_type": "stream",
     "text": [
      "2023-07-03 02:12:17.536130: I tensorflow/tsl/cuda/cudart_stub.cc:28] Could not find cuda drivers on your machine, GPU will not be used.\n",
      "2023-07-03 02:12:17.605537: I tensorflow/tsl/cuda/cudart_stub.cc:28] Could not find cuda drivers on your machine, GPU will not be used.\n",
      "2023-07-03 02:12:17.607208: I tensorflow/core/platform/cpu_feature_guard.cc:182] This TensorFlow binary is optimized to use available CPU instructions in performance-critical operations.\n",
      "To enable the following instructions: AVX2 FMA, in other operations, rebuild TensorFlow with the appropriate compiler flags.\n",
      "2023-07-03 02:12:18.716179: W tensorflow/compiler/tf2tensorrt/utils/py_utils.cc:38] TF-TRT Warning: Could not find TensorRT\n"
     ]
    }
   ],
   "source": [
    "# Importing Libraries\n",
    "import tensorflow as tf\n",
    "import matplotlib.pyplot as plt\n",
    "import numpy as np\n",
    "import pandas as pd\n",
    "import seaborn as sns\n",
    "import os"
   ]
  },
  {
   "cell_type": "code",
   "execution_count": 3,
   "id": "32670f10-5511-44f4-8707-1f3edf9420e4",
   "metadata": {},
   "outputs": [
    {
     "name": "stdout",
     "output_type": "stream",
     "text": [
      "Tensorflow Version 2.12.0\n",
      "Keras Version 2.12.0\n"
     ]
    }
   ],
   "source": [
    "# Checking version of Tensorflow ans Keras\n",
    "print(f\"Tensorflow Version {tf.__version__}\")\n",
    "print(f\"Keras Version {tf.keras.__version__}\")"
   ]
  },
  {
   "cell_type": "code",
   "execution_count": 5,
   "id": "6e2321e9-1bc5-4b24-adc1-e6e4e60e2f3d",
   "metadata": {},
   "outputs": [
    {
     "name": "stdout",
     "output_type": "stream",
     "text": [
      "Downloading data from https://storage.googleapis.com/tensorflow/tf-keras-datasets/mnist.npz\n",
      "11490434/11490434 [==============================] - 2s 0us/step\n"
     ]
    }
   ],
   "source": [
    "#Creating a simple classifier using keras on MNIST data\n",
    "mnist = tf.keras.datasets.mnist\n",
    "(X_train_full, y_train_full), (X_test, y_test) = mnist.load_data()"
   ]
  },
  {
   "cell_type": "code",
   "execution_count": 6,
   "id": "f3dee8c9-50ea-4166-9e0f-e95c7621b313",
   "metadata": {},
   "outputs": [
    {
     "name": "stdout",
     "output_type": "stream",
     "text": [
      "data type of X_train_full: uint8,\n",
      " shape of X_train_full: (60000, 28, 28)\n"
     ]
    }
   ],
   "source": [
    "print(f\"data type of X_train_full: {X_train_full.dtype},\\n shape of X_train_full: {X_train_full.shape}\")"
   ]
  },
  {
   "cell_type": "code",
   "execution_count": 7,
   "id": "e819eb30-89ee-4331-b7a4-a546b09d7445",
   "metadata": {},
   "outputs": [
    {
     "data": {
      "text/plain": [
       "(10000, 28, 28)"
      ]
     },
     "execution_count": 7,
     "metadata": {},
     "output_type": "execute_result"
    }
   ],
   "source": [
    "X_test.shape"
   ]
  },
  {
   "cell_type": "code",
   "execution_count": 8,
   "id": "87ca0343-6d7c-4d72-83e5-7813ab16d654",
   "metadata": {},
   "outputs": [
    {
     "data": {
      "text/plain": [
       "28"
      ]
     },
     "execution_count": 8,
     "metadata": {},
     "output_type": "execute_result"
    }
   ],
   "source": [
    "len(X_test[1][0])"
   ]
  },
  {
   "cell_type": "code",
   "execution_count": 9,
   "id": "6d5a7241-ea04-456d-8800-40eade0e8174",
   "metadata": {},
   "outputs": [],
   "source": [
    "#preprocessing\n",
    "# create a validation data set from the full training data \n",
    "# Scale the data between 0 to 1 by dividing it by 255. as its an unsigned data between 0-255 range\n",
    "X_valid, X_train = X_train_full[:5000] / 255., X_train_full[5000:] / 255.\n",
    "y_valid, y_train = y_train_full[:5000], y_train_full[5000:]\n",
    "\n",
    "# scale the test set as well\n",
    "X_test = X_test / 255."
   ]
  },
  {
   "cell_type": "code",
   "execution_count": 10,
   "id": "00b26415-18ef-45f1-b255-763b9e6bbf98",
   "metadata": {},
   "outputs": [
    {
     "data": {
      "text/plain": [
       "55000"
      ]
     },
     "execution_count": 10,
     "metadata": {},
     "output_type": "execute_result"
    }
   ],
   "source": [
    "len(X_train_full[5000:] )"
   ]
  },
  {
   "cell_type": "code",
   "execution_count": 13,
   "id": "38138b63-93ce-4b96-814c-bd559db17b2f",
   "metadata": {},
   "outputs": [
    {
     "data": {
      "image/png": "[encoded data removed]",
      "text/plain": [
       "<Figure size 640x480 with 1 Axes>"
      ]
     },
     "metadata": {},
     "output_type": "display_data"
    }
   ],
   "source": [
    "# Lets view some data \n",
    "plt.imshow(X_train[0], cmap=\"binary\")\n",
    "plt.show()"
   ]
  },
  {
   "cell_type": "code",
   "execution_count": 14,
   "id": "d2c3448b-e4d9-4074-aa6a-21c8031e416b",
   "metadata": {},
   "outputs": [
    {
     "data": {
      "text/plain": [
       "<AxesSubplot: >"
      ]
     },
     "execution_count": 14,
     "metadata": {},
     "output_type": "execute_result"
    },
    {
     "data": {
      "image/png": "[encoded data removed]",
      "text/plain": [
       "<Figure size 1500x1500 with 2 Axes>"
      ]
     },
     "metadata": {},
     "output_type": "display_data"
    }
   ],
   "source": [
    "plt.figure(figsize=(15,15))\n",
    "sns.heatmap(X_train[0], annot=True, cmap=\"binary\")"
   ]
  },
  {
   "cell_type": "markdown",
   "id": "924a8c36-b605-4997-9c05-4cd1f0e53b47",
   "metadata": {},
   "source": [
    "### 2. Implement a simple feedforward neural network using any deep learning framework/library (e.g., Tensorlow, PyTorch)"
   ]
  },
  {
   "cell_type": "code",
   "execution_count": 16,
   "id": "d64b74ea-e4ee-4dd4-aa93-11bcb6cdb1d0",
   "metadata": {},
   "outputs": [],
   "source": [
    "LAYERS1 = [tf.keras.layers.Flatten(input_shape=[28, 28], name=\"inputLayer\"),\n",
    "          tf.keras.layers.Dense(300, activation=\"relu\", name=\"hiddenLayer1\"),\n",
    "          tf.keras.layers.Dense(100, activation=\"relu\", name=\"hiddenLayer2\"),\n",
    "          tf.keras.layers.Dense(10, activation=\"softmax\", name=\"outputLayer\")]"
   ]
  },
  {
   "cell_type": "markdown",
   "id": "d990602b-ca20-4148-99a4-06f7978d68fe",
   "metadata": {},
   "source": [
    "### 3.Train the neural network on the chosen dataset without using batch normalization"
   ]
  },
  {
   "cell_type": "code",
   "execution_count": 17,
   "id": "c5447e7b-28b3-4fec-a07f-fcfe7e88ba73",
   "metadata": {},
   "outputs": [],
   "source": [
    "model_clf1 = tf.keras.models.Sequential(LAYERS1)"
   ]
  },
  {
   "cell_type": "code",
   "execution_count": 19,
   "id": "d8488447-8988-411a-8b80-e73fe4e1f059",
   "metadata": {},
   "outputs": [
    {
     "data": {
      "text/plain": [
       "[<keras.layers.reshaping.flatten.Flatten at 0x7fc9b2bd15a0>,\n",
       " <keras.layers.core.dense.Dense at 0x7fc9b2bd20b0>,\n",
       " <keras.layers.core.dense.Dense at 0x7fc9b2bd2050>,\n",
       " <keras.layers.core.dense.Dense at 0x7fc9b2bd3220>]"
      ]
     },
     "execution_count": 19,
     "metadata": {},
     "output_type": "execute_result"
    }
   ],
   "source": [
    "model_clf1.layers"
   ]
  },
  {
   "cell_type": "code",
   "execution_count": 20,
   "id": "2b0eee7e-862f-49b3-9fd2-1eb0f96ad186",
   "metadata": {},
   "outputs": [
    {
     "name": "stdout",
     "output_type": "stream",
     "text": [
      "Model: \"sequential\"\n",
      "_________________________________________________________________\n",
      " Layer (type)                Output Shape              Param #   \n",
      "=================================================================\n",
      " inputLayer (Flatten)        (None, 784)               0         \n",
      "                                                                 \n",
      " hiddenLayer1 (Dense)        (None, 300)               235500    \n",
      "                                                                 \n",
      " hiddenLayer2 (Dense)        (None, 100)               30100     \n",
      "                                                                 \n",
      " outputLayer (Dense)         (None, 10)                1010      \n",
      "                                                                 \n",
      "=================================================================\n",
      "Total params: 266,610\n",
      "Trainable params: 266,610\n",
      "Non-trainable params: 0\n",
      "_________________________________________________________________\n"
     ]
    }
   ],
   "source": [
    "model_clf1.summary()"
   ]
  },
  {
   "cell_type": "code",
   "execution_count": 22,
   "id": "426404c7-68ba-4519-9653-b94955def2e8",
   "metadata": {},
   "outputs": [
    {
     "data": {
      "text/plain": [
       "'hiddenLayer1'"
      ]
     },
     "execution_count": 22,
     "metadata": {},
     "output_type": "execute_result"
    }
   ],
   "source": [
    "hidden1 = model_clf1.layers[1]\n",
    "hidden1.name"
   ]
  },
  {
   "cell_type": "code",
   "execution_count": null,
   "id": "8f0001ec-6300-4d7f-96fa-469f47083e60",
   "metadata": {},
   "outputs": [],
   "source": [
    "len(hidden1.get_weights()[1])"
   ]
  },
  {
   "cell_type": "code",
   "execution_count": 25,
   "id": "dbdc2cb7-9af5-4546-b680-c1bd11deab6e",
   "metadata": {},
   "outputs": [
    {
     "data": {
      "text/plain": [
       "[array([[ 0.06847891,  0.00839613,  0.03332457, ..., -0.04888058,\n",
       "          0.0272518 ,  0.00810342],\n",
       "        [ 0.01485384,  0.05987239,  0.04094128, ...,  0.03591599,\n",
       "          0.00868402, -0.00492092],\n",
       "        [-0.00622743, -0.03993339,  0.06299585, ...,  0.05123566,\n",
       "         -0.01891825,  0.06294501],\n",
       "        ...,\n",
       "        [-0.02499764, -0.0658614 ,  0.00581636, ..., -0.06304152,\n",
       "          0.02697154,  0.01239372],\n",
       "        [ 0.04278085,  0.01296192,  0.00188217, ...,  0.07052086,\n",
       "         -0.05034769,  0.06830056],\n",
       "        [ 0.00752782, -0.00405615,  0.06646879, ...,  0.02709498,\n",
       "         -0.02457477, -0.02271939]], dtype=float32),\n",
       " array([0., 0., 0., 0., 0., 0., 0., 0., 0., 0., 0., 0., 0., 0., 0., 0., 0.,\n",
       "        0., 0., 0., 0., 0., 0., 0., 0., 0., 0., 0., 0., 0., 0., 0., 0., 0.,\n",
       "        0., 0., 0., 0., 0., 0., 0., 0., 0., 0., 0., 0., 0., 0., 0., 0., 0.,\n",
       "        0., 0., 0., 0., 0., 0., 0., 0., 0., 0., 0., 0., 0., 0., 0., 0., 0.,\n",
       "        0., 0., 0., 0., 0., 0., 0., 0., 0., 0., 0., 0., 0., 0., 0., 0., 0.,\n",
       "        0., 0., 0., 0., 0., 0., 0., 0., 0., 0., 0., 0., 0., 0., 0., 0., 0.,\n",
       "        0., 0., 0., 0., 0., 0., 0., 0., 0., 0., 0., 0., 0., 0., 0., 0., 0.,\n",
       "        0., 0., 0., 0., 0., 0., 0., 0., 0., 0., 0., 0., 0., 0., 0., 0., 0.,\n",
       "        0., 0., 0., 0., 0., 0., 0., 0., 0., 0., 0., 0., 0., 0., 0., 0., 0.,\n",
       "        0., 0., 0., 0., 0., 0., 0., 0., 0., 0., 0., 0., 0., 0., 0., 0., 0.,\n",
       "        0., 0., 0., 0., 0., 0., 0., 0., 0., 0., 0., 0., 0., 0., 0., 0., 0.,\n",
       "        0., 0., 0., 0., 0., 0., 0., 0., 0., 0., 0., 0., 0., 0., 0., 0., 0.,\n",
       "        0., 0., 0., 0., 0., 0., 0., 0., 0., 0., 0., 0., 0., 0., 0., 0., 0.,\n",
       "        0., 0., 0., 0., 0., 0., 0., 0., 0., 0., 0., 0., 0., 0., 0., 0., 0.,\n",
       "        0., 0., 0., 0., 0., 0., 0., 0., 0., 0., 0., 0., 0., 0., 0., 0., 0.,\n",
       "        0., 0., 0., 0., 0., 0., 0., 0., 0., 0., 0., 0., 0., 0., 0., 0., 0.,\n",
       "        0., 0., 0., 0., 0., 0., 0., 0., 0., 0., 0., 0., 0., 0., 0., 0., 0.,\n",
       "        0., 0., 0., 0., 0., 0., 0., 0., 0., 0., 0.], dtype=float32)]"
      ]
     },
     "execution_count": 25,
     "metadata": {},
     "output_type": "execute_result"
    }
   ],
   "source": [
    "hidden1.get_weights()"
   ]
  },
  {
   "cell_type": "code",
   "execution_count": 26,
   "id": "ba02321a-5e69-4955-9a65-22a2e690a421",
   "metadata": {},
   "outputs": [],
   "source": [
    "weights1, biases1 = hidden1.get_weights()"
   ]
  },
  {
   "cell_type": "code",
   "execution_count": 27,
   "id": "9e7d0b5d-ad91-4452-835d-0462b2a8bd5b",
   "metadata": {},
   "outputs": [],
   "source": [
    "LOSS_FUNCTION1 = \"sparse_categorical_crossentropy\" # use => tf.losses.sparse_categorical_crossentropy\n",
    "OPTIMIZER1 = \"adam\" # or use with custom learning rate=> tf.keras.optimizers.SGD(0.02)\n",
    "METRICS1 = [\"accuracy\"]\n",
    "\n",
    "model_clf1.compile(loss=LOSS_FUNCTION1,\n",
    "              optimizer=OPTIMIZER1,\n",
    "              metrics=METRICS1)"
   ]
  },
  {
   "cell_type": "code",
   "execution_count": 28,
   "id": "b1e413cb-8a24-48ab-9f5f-c219a453a4ca",
   "metadata": {},
   "outputs": [
    {
     "name": "stdout",
     "output_type": "stream",
     "text": [
      "Epoch 1/30\n",
      "1719/1719 [==============================] - 8s 4ms/step - loss: 0.2134 - accuracy: 0.9359 - val_loss: 0.0997 - val_accuracy: 0.9718\n",
      "Epoch 2/30\n",
      "1719/1719 [==============================] - 7s 4ms/step - loss: 0.0869 - accuracy: 0.9730 - val_loss: 0.0892 - val_accuracy: 0.9722\n",
      "Epoch 3/30\n",
      "1719/1719 [==============================] - 7s 4ms/step - loss: 0.0607 - accuracy: 0.9804 - val_loss: 0.0789 - val_accuracy: 0.9768\n",
      "Epoch 4/30\n",
      "1719/1719 [==============================] - 7s 4ms/step - loss: 0.0421 - accuracy: 0.9866 - val_loss: 0.0808 - val_accuracy: 0.9778\n",
      "Epoch 5/30\n",
      "1719/1719 [==============================] - 7s 4ms/step - loss: 0.0363 - accuracy: 0.9884 - val_loss: 0.0671 - val_accuracy: 0.9802\n",
      "Epoch 6/30\n",
      "1719/1719 [==============================] - 7s 4ms/step - loss: 0.0279 - accuracy: 0.9910 - val_loss: 0.0769 - val_accuracy: 0.9792\n",
      "Epoch 7/30\n",
      "1719/1719 [==============================] - 7s 4ms/step - loss: 0.0239 - accuracy: 0.9923 - val_loss: 0.0845 - val_accuracy: 0.9786\n",
      "Epoch 8/30\n",
      "1719/1719 [==============================] - 7s 4ms/step - loss: 0.0207 - accuracy: 0.9931 - val_loss: 0.0942 - val_accuracy: 0.9782\n",
      "Epoch 9/30\n",
      "1719/1719 [==============================] - 7s 4ms/step - loss: 0.0190 - accuracy: 0.9933 - val_loss: 0.0778 - val_accuracy: 0.9808\n",
      "Epoch 10/30\n",
      "1719/1719 [==============================] - 7s 4ms/step - loss: 0.0169 - accuracy: 0.9947 - val_loss: 0.0784 - val_accuracy: 0.9832\n",
      "Epoch 11/30\n",
      "1719/1719 [==============================] - 7s 4ms/step - loss: 0.0140 - accuracy: 0.9956 - val_loss: 0.1067 - val_accuracy: 0.9800\n",
      "Epoch 12/30\n",
      "1719/1719 [==============================] - 7s 4ms/step - loss: 0.0147 - accuracy: 0.9953 - val_loss: 0.0978 - val_accuracy: 0.9786\n",
      "Epoch 13/30\n",
      "1719/1719 [==============================] - 7s 4ms/step - loss: 0.0126 - accuracy: 0.9959 - val_loss: 0.1291 - val_accuracy: 0.9770\n",
      "Epoch 14/30\n",
      "1719/1719 [==============================] - 7s 4ms/step - loss: 0.0135 - accuracy: 0.9957 - val_loss: 0.1036 - val_accuracy: 0.9816\n",
      "Epoch 15/30\n",
      "1719/1719 [==============================] - 7s 4ms/step - loss: 0.0119 - accuracy: 0.9963 - val_loss: 0.1003 - val_accuracy: 0.9796\n",
      "Epoch 16/30\n",
      "1719/1719 [==============================] - 7s 4ms/step - loss: 0.0113 - accuracy: 0.9962 - val_loss: 0.1008 - val_accuracy: 0.9838\n",
      "Epoch 17/30\n",
      "1719/1719 [==============================] - 7s 4ms/step - loss: 0.0089 - accuracy: 0.9971 - val_loss: 0.1009 - val_accuracy: 0.9824\n",
      "Epoch 18/30\n",
      "1719/1719 [==============================] - 7s 4ms/step - loss: 0.0119 - accuracy: 0.9963 - val_loss: 0.1234 - val_accuracy: 0.9784\n",
      "Epoch 19/30\n",
      "1719/1719 [==============================] - 7s 4ms/step - loss: 0.0108 - accuracy: 0.9967 - val_loss: 0.1085 - val_accuracy: 0.9816\n",
      "Epoch 20/30\n",
      "1719/1719 [==============================] - 7s 4ms/step - loss: 0.0089 - accuracy: 0.9972 - val_loss: 0.1240 - val_accuracy: 0.9796\n",
      "Epoch 21/30\n",
      "1719/1719 [==============================] - 7s 4ms/step - loss: 0.0112 - accuracy: 0.9969 - val_loss: 0.1030 - val_accuracy: 0.9842\n",
      "Epoch 22/30\n",
      "1719/1719 [==============================] - 7s 4ms/step - loss: 0.0082 - accuracy: 0.9976 - val_loss: 0.1121 - val_accuracy: 0.9844\n",
      "Epoch 23/30\n",
      "1719/1719 [==============================] - 7s 4ms/step - loss: 0.0082 - accuracy: 0.9972 - val_loss: 0.1316 - val_accuracy: 0.9822\n",
      "Epoch 24/30\n",
      "1719/1719 [==============================] - 7s 4ms/step - loss: 0.0110 - accuracy: 0.9968 - val_loss: 0.1142 - val_accuracy: 0.9848\n",
      "Epoch 25/30\n",
      "1719/1719 [==============================] - 7s 4ms/step - loss: 0.0074 - accuracy: 0.9980 - val_loss: 0.1578 - val_accuracy: 0.9772\n",
      "Epoch 26/30\n",
      "1719/1719 [==============================] - 7s 4ms/step - loss: 0.0086 - accuracy: 0.9975 - val_loss: 0.1199 - val_accuracy: 0.9832\n",
      "Epoch 27/30\n",
      "1719/1719 [==============================] - 7s 4ms/step - loss: 0.0058 - accuracy: 0.9983 - val_loss: 0.1539 - val_accuracy: 0.9800\n",
      "Epoch 28/30\n",
      "1719/1719 [==============================] - 7s 4ms/step - loss: 0.0099 - accuracy: 0.9970 - val_loss: 0.1329 - val_accuracy: 0.9820\n",
      "Epoch 29/30\n",
      "1719/1719 [==============================] - 7s 4ms/step - loss: 0.0064 - accuracy: 0.9981 - val_loss: 0.1492 - val_accuracy: 0.9818\n",
      "Epoch 30/30\n",
      "1719/1719 [==============================] - 7s 4ms/step - loss: 0.0090 - accuracy: 0.9977 - val_loss: 0.1333 - val_accuracy: 0.9824\n"
     ]
    }
   ],
   "source": [
    "# training\n",
    "\n",
    "EPOCHS = 30\n",
    "VALIDATION_SET = (X_valid, y_valid)\n",
    "\n",
    "history1 = model_clf1.fit(X_train, y_train, epochs=EPOCHS,\n",
    "                    validation_data=VALIDATION_SET, batch_size=32)"
   ]
  },
  {
   "cell_type": "code",
   "execution_count": 29,
   "id": "335eaf9b-1e1f-44cb-acd2-e40c25f3af47",
   "metadata": {},
   "outputs": [
    {
     "data": {
      "text/plain": [
       "{'verbose': 1, 'epochs': 30, 'steps': 1719}"
      ]
     },
     "execution_count": 29,
     "metadata": {},
     "output_type": "execute_result"
    }
   ],
   "source": [
    "history1.params"
   ]
  },
  {
   "cell_type": "code",
   "execution_count": 30,
   "id": "74fef617-bade-45b2-9622-8d10602ee634",
   "metadata": {},
   "outputs": [
    {
     "data": {
      "text/html": [
       "<div>\n",
       "<style scoped>\n",
       "    .dataframe tbody tr th:only-of-type {\n",
       "        vertical-align: middle;\n",
       "    }\n",
       "\n",
       "    .dataframe tbody tr th {\n",
       "        vertical-align: top;\n",
       "    }\n",
       "\n",
       "    .dataframe thead th {\n",
       "        text-align: right;\n",
       "    }\n",
       "</style>\n",
       "<table border=\"1\" class=\"dataframe\">\n",
       "  <thead>\n",
       "    <tr style=\"text-align: right;\">\n",
       "      <th></th>\n",
       "      <th>loss</th>\n",
       "      <th>accuracy</th>\n",
       "      <th>val_loss</th>\n",
       "      <th>val_accuracy</th>\n",
       "    </tr>\n",
       "  </thead>\n",
       "  <tbody>\n",
       "    <tr>\n",
       "      <th>0</th>\n",
       "      <td>0.213440</td>\n",
       "      <td>0.935945</td>\n",
       "      <td>0.099695</td>\n",
       "      <td>0.9718</td>\n",
       "    </tr>\n",
       "    <tr>\n",
       "      <th>1</th>\n",
       "      <td>0.086934</td>\n",
       "      <td>0.973000</td>\n",
       "      <td>0.089223</td>\n",
       "      <td>0.9722</td>\n",
       "    </tr>\n",
       "    <tr>\n",
       "      <th>2</th>\n",
       "      <td>0.060678</td>\n",
       "      <td>0.980382</td>\n",
       "      <td>0.078937</td>\n",
       "      <td>0.9768</td>\n",
       "    </tr>\n",
       "    <tr>\n",
       "      <th>3</th>\n",
       "      <td>0.042100</td>\n",
       "      <td>0.986618</td>\n",
       "      <td>0.080767</td>\n",
       "      <td>0.9778</td>\n",
       "    </tr>\n",
       "    <tr>\n",
       "      <th>4</th>\n",
       "      <td>0.036328</td>\n",
       "      <td>0.988436</td>\n",
       "      <td>0.067119</td>\n",
       "      <td>0.9802</td>\n",
       "    </tr>\n",
       "    <tr>\n",
       "      <th>5</th>\n",
       "      <td>0.027929</td>\n",
       "      <td>0.991000</td>\n",
       "      <td>0.076889</td>\n",
       "      <td>0.9792</td>\n",
       "    </tr>\n",
       "    <tr>\n",
       "      <th>6</th>\n",
       "      <td>0.023931</td>\n",
       "      <td>0.992327</td>\n",
       "      <td>0.084532</td>\n",
       "      <td>0.9786</td>\n",
       "    </tr>\n",
       "    <tr>\n",
       "      <th>7</th>\n",
       "      <td>0.020693</td>\n",
       "      <td>0.993073</td>\n",
       "      <td>0.094183</td>\n",
       "      <td>0.9782</td>\n",
       "    </tr>\n",
       "    <tr>\n",
       "      <th>8</th>\n",
       "      <td>0.019038</td>\n",
       "      <td>0.993291</td>\n",
       "      <td>0.077797</td>\n",
       "      <td>0.9808</td>\n",
       "    </tr>\n",
       "    <tr>\n",
       "      <th>9</th>\n",
       "      <td>0.016865</td>\n",
       "      <td>0.994691</td>\n",
       "      <td>0.078448</td>\n",
       "      <td>0.9832</td>\n",
       "    </tr>\n",
       "    <tr>\n",
       "      <th>10</th>\n",
       "      <td>0.014005</td>\n",
       "      <td>0.995564</td>\n",
       "      <td>0.106668</td>\n",
       "      <td>0.9800</td>\n",
       "    </tr>\n",
       "    <tr>\n",
       "      <th>11</th>\n",
       "      <td>0.014700</td>\n",
       "      <td>0.995345</td>\n",
       "      <td>0.097798</td>\n",
       "      <td>0.9786</td>\n",
       "    </tr>\n",
       "    <tr>\n",
       "      <th>12</th>\n",
       "      <td>0.012638</td>\n",
       "      <td>0.995873</td>\n",
       "      <td>0.129065</td>\n",
       "      <td>0.9770</td>\n",
       "    </tr>\n",
       "    <tr>\n",
       "      <th>13</th>\n",
       "      <td>0.013496</td>\n",
       "      <td>0.995709</td>\n",
       "      <td>0.103630</td>\n",
       "      <td>0.9816</td>\n",
       "    </tr>\n",
       "    <tr>\n",
       "      <th>14</th>\n",
       "      <td>0.011933</td>\n",
       "      <td>0.996273</td>\n",
       "      <td>0.100316</td>\n",
       "      <td>0.9796</td>\n",
       "    </tr>\n",
       "    <tr>\n",
       "      <th>15</th>\n",
       "      <td>0.011314</td>\n",
       "      <td>0.996236</td>\n",
       "      <td>0.100818</td>\n",
       "      <td>0.9838</td>\n",
       "    </tr>\n",
       "    <tr>\n",
       "      <th>16</th>\n",
       "      <td>0.008876</td>\n",
       "      <td>0.997145</td>\n",
       "      <td>0.100875</td>\n",
       "      <td>0.9824</td>\n",
       "    </tr>\n",
       "    <tr>\n",
       "      <th>17</th>\n",
       "      <td>0.011929</td>\n",
       "      <td>0.996273</td>\n",
       "      <td>0.123420</td>\n",
       "      <td>0.9784</td>\n",
       "    </tr>\n",
       "    <tr>\n",
       "      <th>18</th>\n",
       "      <td>0.010823</td>\n",
       "      <td>0.996655</td>\n",
       "      <td>0.108530</td>\n",
       "      <td>0.9816</td>\n",
       "    </tr>\n",
       "    <tr>\n",
       "      <th>19</th>\n",
       "      <td>0.008857</td>\n",
       "      <td>0.997182</td>\n",
       "      <td>0.123961</td>\n",
       "      <td>0.9796</td>\n",
       "    </tr>\n",
       "    <tr>\n",
       "      <th>20</th>\n",
       "      <td>0.011194</td>\n",
       "      <td>0.996873</td>\n",
       "      <td>0.103020</td>\n",
       "      <td>0.9842</td>\n",
       "    </tr>\n",
       "    <tr>\n",
       "      <th>21</th>\n",
       "      <td>0.008156</td>\n",
       "      <td>0.997582</td>\n",
       "      <td>0.112073</td>\n",
       "      <td>0.9844</td>\n",
       "    </tr>\n",
       "    <tr>\n",
       "      <th>22</th>\n",
       "      <td>0.008165</td>\n",
       "      <td>0.997218</td>\n",
       "      <td>0.131587</td>\n",
       "      <td>0.9822</td>\n",
       "    </tr>\n",
       "    <tr>\n",
       "      <th>23</th>\n",
       "      <td>0.011018</td>\n",
       "      <td>0.996836</td>\n",
       "      <td>0.114218</td>\n",
       "      <td>0.9848</td>\n",
       "    </tr>\n",
       "    <tr>\n",
       "      <th>24</th>\n",
       "      <td>0.007407</td>\n",
       "      <td>0.998000</td>\n",
       "      <td>0.157770</td>\n",
       "      <td>0.9772</td>\n",
       "    </tr>\n",
       "    <tr>\n",
       "      <th>25</th>\n",
       "      <td>0.008600</td>\n",
       "      <td>0.997491</td>\n",
       "      <td>0.119870</td>\n",
       "      <td>0.9832</td>\n",
       "    </tr>\n",
       "    <tr>\n",
       "      <th>26</th>\n",
       "      <td>0.005765</td>\n",
       "      <td>0.998255</td>\n",
       "      <td>0.153927</td>\n",
       "      <td>0.9800</td>\n",
       "    </tr>\n",
       "    <tr>\n",
       "      <th>27</th>\n",
       "      <td>0.009944</td>\n",
       "      <td>0.996982</td>\n",
       "      <td>0.132944</td>\n",
       "      <td>0.9820</td>\n",
       "    </tr>\n",
       "    <tr>\n",
       "      <th>28</th>\n",
       "      <td>0.006362</td>\n",
       "      <td>0.998091</td>\n",
       "      <td>0.149187</td>\n",
       "      <td>0.9818</td>\n",
       "    </tr>\n",
       "    <tr>\n",
       "      <th>29</th>\n",
       "      <td>0.008958</td>\n",
       "      <td>0.997709</td>\n",
       "      <td>0.133253</td>\n",
       "      <td>0.9824</td>\n",
       "    </tr>\n",
       "  </tbody>\n",
       "</table>\n",
       "</div>"
      ],
      "text/plain": [
       "        loss  accuracy  val_loss  val_accuracy\n",
       "0   0.213440  0.935945  0.099695        0.9718\n",
       "1   0.086934  0.973000  0.089223        0.9722\n",
       "2   0.060678  0.980382  0.078937        0.9768\n",
       "3   0.042100  0.986618  0.080767        0.9778\n",
       "4   0.036328  0.988436  0.067119        0.9802\n",
       "5   0.027929  0.991000  0.076889        0.9792\n",
       "6   0.023931  0.992327  0.084532        0.9786\n",
       "7   0.020693  0.993073  0.094183        0.9782\n",
       "8   0.019038  0.993291  0.077797        0.9808\n",
       "9   0.016865  0.994691  0.078448        0.9832\n",
       "10  0.014005  0.995564  0.106668        0.9800\n",
       "11  0.014700  0.995345  0.097798        0.9786\n",
       "12  0.012638  0.995873  0.129065        0.9770\n",
       "13  0.013496  0.995709  0.103630        0.9816\n",
       "14  0.011933  0.996273  0.100316        0.9796\n",
       "15  0.011314  0.996236  0.100818        0.9838\n",
       "16  0.008876  0.997145  0.100875        0.9824\n",
       "17  0.011929  0.996273  0.123420        0.9784\n",
       "18  0.010823  0.996655  0.108530        0.9816\n",
       "19  0.008857  0.997182  0.123961        0.9796\n",
       "20  0.011194  0.996873  0.103020        0.9842\n",
       "21  0.008156  0.997582  0.112073        0.9844\n",
       "22  0.008165  0.997218  0.131587        0.9822\n",
       "23  0.011018  0.996836  0.114218        0.9848\n",
       "24  0.007407  0.998000  0.157770        0.9772\n",
       "25  0.008600  0.997491  0.119870        0.9832\n",
       "26  0.005765  0.998255  0.153927        0.9800\n",
       "27  0.009944  0.996982  0.132944        0.9820\n",
       "28  0.006362  0.998091  0.149187        0.9818\n",
       "29  0.008958  0.997709  0.133253        0.9824"
      ]
     },
     "execution_count": 30,
     "metadata": {},
     "output_type": "execute_result"
    }
   ],
   "source": [
    "pd.DataFrame(history1.history)"
   ]
  },
  {
   "cell_type": "markdown",
   "id": "0583c5a5-270b-45b4-80b5-b9dbd124b094",
   "metadata": {},
   "source": [
    "### 4.Implement batch normalization layers in the neural network and train the model again"
   ]
  },
  {
   "cell_type": "code",
   "execution_count": 33,
   "id": "623f7712-d86e-4758-8cea-9c5935f4676a",
   "metadata": {},
   "outputs": [],
   "source": [
    "# Creating layers of ANN\n",
    "LAYERS2 = [tf.keras.layers.Flatten(input_shape=[28, 28], name=\"inputLayer\"),\n",
    "          tf.keras.layers.Dense(300, activation=\"relu\", name=\"hiddenLayer1\"),\n",
    "          tf.keras.layers.BatchNormalization(),\n",
    "          tf.keras.layers.Dense(100, activation=\"relu\", name=\"hiddenLayer2\"),\n",
    "          tf.keras.layers.BatchNormalization(),\n",
    "          tf.keras.layers.Dense(10, activation=\"softmax\", name=\"outputLayer\")]\n",
    "\n",
    "model_clf2 = tf.keras.models.Sequential(LAYERS2)"
   ]
  },
  {
   "cell_type": "code",
   "execution_count": 34,
   "id": "1042fe2d-d77e-4964-a33b-f472e8fecc39",
   "metadata": {},
   "outputs": [
    {
     "data": {
      "text/plain": [
       "[<keras.layers.reshaping.flatten.Flatten at 0x7fc984357e80>,\n",
       " <keras.layers.core.dense.Dense at 0x7fc984312d40>,\n",
       " <keras.layers.normalization.batch_normalization.BatchNormalization at 0x7fc984312890>,\n",
       " <keras.layers.core.dense.Dense at 0x7fc98425f4f0>,\n",
       " <keras.layers.normalization.batch_normalization.BatchNormalization at 0x7fc98425d8d0>,\n",
       " <keras.layers.core.dense.Dense at 0x7fc98425d7e0>]"
      ]
     },
     "execution_count": 34,
     "metadata": {},
     "output_type": "execute_result"
    }
   ],
   "source": [
    "model_clf2.layers"
   ]
  },
  {
   "cell_type": "code",
   "execution_count": 35,
   "id": "136f965a-45c5-4dec-ab3a-1bde80d4ed30",
   "metadata": {},
   "outputs": [
    {
     "name": "stdout",
     "output_type": "stream",
     "text": [
      "Model: \"sequential_1\"\n",
      "_________________________________________________________________\n",
      " Layer (type)                Output Shape              Param #   \n",
      "=================================================================\n",
      " inputLayer (Flatten)        (None, 784)               0         \n",
      "                                                                 \n",
      " hiddenLayer1 (Dense)        (None, 300)               235500    \n",
      "                                                                 \n",
      " batch_normalization (BatchN  (None, 300)              1200      \n",
      " ormalization)                                                   \n",
      "                                                                 \n",
      " hiddenLayer2 (Dense)        (None, 100)               30100     \n",
      "                                                                 \n",
      " batch_normalization_1 (Batc  (None, 100)              400       \n",
      " hNormalization)                                                 \n",
      "                                                                 \n",
      " outputLayer (Dense)         (None, 10)                1010      \n",
      "                                                                 \n",
      "=================================================================\n",
      "Total params: 268,210\n",
      "Trainable params: 267,410\n",
      "Non-trainable params: 800\n",
      "_________________________________________________________________\n"
     ]
    }
   ],
   "source": [
    "model_clf2.summary()"
   ]
  },
  {
   "cell_type": "code",
   "execution_count": 36,
   "id": "04a9b15c-7a26-44dc-bff5-c13e945d8c3f",
   "metadata": {},
   "outputs": [
    {
     "data": {
      "text/plain": [
       "'hiddenLayer1'"
      ]
     },
     "execution_count": 36,
     "metadata": {},
     "output_type": "execute_result"
    }
   ],
   "source": [
    "hidden2 = model_clf2.layers[1]\n",
    "hidden2.name"
   ]
  },
  {
   "cell_type": "code",
   "execution_count": null,
   "id": "c6696e15-16e2-4021-937a-3360bed2b4da",
   "metadata": {},
   "outputs": [],
   "source": [
    "len(hidden2.get_weights()[1])"
   ]
  },
  {
   "cell_type": "code",
   "execution_count": null,
   "id": "b7fcdaf1-9572-47d1-adb2-883523f6201a",
   "metadata": {},
   "outputs": [],
   "source": [
    "hidden2.get_weights()"
   ]
  },
  {
   "cell_type": "code",
   "execution_count": null,
   "id": "c3c99d76-8dfe-4051-a08d-dcf06d1b978c",
   "metadata": {},
   "outputs": [],
   "source": [
    "weights2, biases2 = hidden2.get_weights()"
   ]
  },
  {
   "cell_type": "code",
   "execution_count": 37,
   "id": "8868e30e-13fb-4699-a310-7943617c3a11",
   "metadata": {},
   "outputs": [],
   "source": [
    "LOSS_FUNCTION2 = \"sparse_categorical_crossentropy\" # use => tf.losses.sparse_categorical_crossentropy\n",
    "OPTIMIZER2 = \"SGD\" # or use with custom learning rate=> tf.keras.optimizers.SGD(0.02)\n",
    "METRICS2 = [\"accuracy\"]\n",
    "\n",
    "model_clf2.compile(loss=LOSS_FUNCTION2,\n",
    "              optimizer=OPTIMIZER2,\n",
    "              metrics=METRICS2)"
   ]
  },
  {
   "cell_type": "code",
   "execution_count": 38,
   "id": "78e66c9f-46cb-4725-8ce7-9dd8ab33e83b",
   "metadata": {},
   "outputs": [
    {
     "name": "stdout",
     "output_type": "stream",
     "text": [
      "Epoch 1/30\n",
      "1719/1719 [==============================] - 7s 4ms/step - loss: 0.3324 - accuracy: 0.9031 - val_loss: 0.1536 - val_accuracy: 0.9566\n",
      "Epoch 2/30\n",
      "1719/1719 [==============================] - 7s 4ms/step - loss: 0.1623 - accuracy: 0.9539 - val_loss: 0.1156 - val_accuracy: 0.9678\n",
      "Epoch 3/30\n",
      "1719/1719 [==============================] - 7s 4ms/step - loss: 0.1189 - accuracy: 0.9657 - val_loss: 0.0975 - val_accuracy: 0.9722\n",
      "Epoch 4/30\n",
      "1719/1719 [==============================] - 6s 4ms/step - loss: 0.0934 - accuracy: 0.9725 - val_loss: 0.0869 - val_accuracy: 0.9756\n",
      "Epoch 5/30\n",
      "1719/1719 [==============================] - 7s 4ms/step - loss: 0.0775 - accuracy: 0.9772 - val_loss: 0.0857 - val_accuracy: 0.9762\n",
      "Epoch 6/30\n",
      "1719/1719 [==============================] - 7s 4ms/step - loss: 0.0637 - accuracy: 0.9821 - val_loss: 0.0818 - val_accuracy: 0.9768\n",
      "Epoch 7/30\n",
      "1719/1719 [==============================] - 6s 4ms/step - loss: 0.0535 - accuracy: 0.9844 - val_loss: 0.0753 - val_accuracy: 0.9788\n",
      "Epoch 8/30\n",
      "1719/1719 [==============================] - 6s 4ms/step - loss: 0.0469 - accuracy: 0.9865 - val_loss: 0.0765 - val_accuracy: 0.9786\n",
      "Epoch 9/30\n",
      "1719/1719 [==============================] - 6s 4ms/step - loss: 0.0413 - accuracy: 0.9882 - val_loss: 0.0758 - val_accuracy: 0.9782\n",
      "Epoch 10/30\n",
      "1719/1719 [==============================] - 6s 4ms/step - loss: 0.0346 - accuracy: 0.9907 - val_loss: 0.0738 - val_accuracy: 0.9776\n",
      "Epoch 11/30\n",
      "1719/1719 [==============================] - 6s 4ms/step - loss: 0.0301 - accuracy: 0.9924 - val_loss: 0.0750 - val_accuracy: 0.9792\n",
      "Epoch 12/30\n",
      "1719/1719 [==============================] - 7s 4ms/step - loss: 0.0273 - accuracy: 0.9925 - val_loss: 0.0782 - val_accuracy: 0.9770\n",
      "Epoch 13/30\n",
      "1719/1719 [==============================] - 6s 4ms/step - loss: 0.0243 - accuracy: 0.9940 - val_loss: 0.0788 - val_accuracy: 0.9784\n",
      "Epoch 14/30\n",
      "1719/1719 [==============================] - 6s 4ms/step - loss: 0.0210 - accuracy: 0.9950 - val_loss: 0.0746 - val_accuracy: 0.9792\n",
      "Epoch 15/30\n",
      "1719/1719 [==============================] - 7s 4ms/step - loss: 0.0188 - accuracy: 0.9955 - val_loss: 0.0758 - val_accuracy: 0.9782\n",
      "Epoch 16/30\n",
      "1719/1719 [==============================] - 7s 4ms/step - loss: 0.0166 - accuracy: 0.9963 - val_loss: 0.0758 - val_accuracy: 0.9790\n",
      "Epoch 17/30\n",
      "1719/1719 [==============================] - 7s 4ms/step - loss: 0.0167 - accuracy: 0.9960 - val_loss: 0.0739 - val_accuracy: 0.9784\n",
      "Epoch 18/30\n",
      "1719/1719 [==============================] - 6s 4ms/step - loss: 0.0151 - accuracy: 0.9963 - val_loss: 0.0755 - val_accuracy: 0.9780\n",
      "Epoch 19/30\n",
      "1719/1719 [==============================] - 7s 4ms/step - loss: 0.0138 - accuracy: 0.9967 - val_loss: 0.0803 - val_accuracy: 0.9782\n",
      "Epoch 20/30\n",
      "1719/1719 [==============================] - 7s 4ms/step - loss: 0.0126 - accuracy: 0.9971 - val_loss: 0.0790 - val_accuracy: 0.9794\n",
      "Epoch 21/30\n",
      "1719/1719 [==============================] - 6s 4ms/step - loss: 0.0118 - accuracy: 0.9977 - val_loss: 0.0763 - val_accuracy: 0.9796\n",
      "Epoch 22/30\n",
      "1719/1719 [==============================] - 6s 4ms/step - loss: 0.0111 - accuracy: 0.9975 - val_loss: 0.0776 - val_accuracy: 0.9780\n",
      "Epoch 23/30\n",
      "1719/1719 [==============================] - 6s 4ms/step - loss: 0.0104 - accuracy: 0.9981 - val_loss: 0.0784 - val_accuracy: 0.9790\n",
      "Epoch 24/30\n",
      "1719/1719 [==============================] - 6s 4ms/step - loss: 0.0088 - accuracy: 0.9986 - val_loss: 0.0772 - val_accuracy: 0.9790\n",
      "Epoch 25/30\n",
      "1719/1719 [==============================] - 6s 4ms/step - loss: 0.0092 - accuracy: 0.9981 - val_loss: 0.0768 - val_accuracy: 0.9790\n",
      "Epoch 26/30\n",
      "1719/1719 [==============================] - 6s 4ms/step - loss: 0.0088 - accuracy: 0.9982 - val_loss: 0.0805 - val_accuracy: 0.9778\n",
      "Epoch 27/30\n",
      "1719/1719 [==============================] - 6s 4ms/step - loss: 0.0082 - accuracy: 0.9983 - val_loss: 0.0789 - val_accuracy: 0.9794\n",
      "Epoch 28/30\n",
      "1719/1719 [==============================] - 7s 4ms/step - loss: 0.0071 - accuracy: 0.9989 - val_loss: 0.0763 - val_accuracy: 0.9798\n",
      "Epoch 29/30\n",
      "1719/1719 [==============================] - 6s 4ms/step - loss: 0.0075 - accuracy: 0.9986 - val_loss: 0.0787 - val_accuracy: 0.9792\n",
      "Epoch 30/30\n",
      "1719/1719 [==============================] - 6s 4ms/step - loss: 0.0070 - accuracy: 0.9989 - val_loss: 0.0791 - val_accuracy: 0.9798\n"
     ]
    }
   ],
   "source": [
    "# training\n",
    "\n",
    "EPOCHS = 30\n",
    "VALIDATION_SET = (X_valid, y_valid)\n",
    "\n",
    "history2 = model_clf2.fit(X_train, y_train, epochs=EPOCHS,\n",
    "                    validation_data=VALIDATION_SET, batch_size=32)"
   ]
  },
  {
   "cell_type": "code",
   "execution_count": 39,
   "id": "6c65900c-62f9-4eca-8301-46cc92e4c9ce",
   "metadata": {},
   "outputs": [
    {
     "data": {
      "text/plain": [
       "{'verbose': 1, 'epochs': 30, 'steps': 1719}"
      ]
     },
     "execution_count": 39,
     "metadata": {},
     "output_type": "execute_result"
    }
   ],
   "source": [
    "history2.params"
   ]
  },
  {
   "cell_type": "code",
   "execution_count": 40,
   "id": "a83ac11d-d01b-474b-af38-4eebc577c5f4",
   "metadata": {},
   "outputs": [
    {
     "data": {
      "text/html": [
       "<div>\n",
       "<style scoped>\n",
       "    .dataframe tbody tr th:only-of-type {\n",
       "        vertical-align: middle;\n",
       "    }\n",
       "\n",
       "    .dataframe tbody tr th {\n",
       "        vertical-align: top;\n",
       "    }\n",
       "\n",
       "    .dataframe thead th {\n",
       "        text-align: right;\n",
       "    }\n",
       "</style>\n",
       "<table border=\"1\" class=\"dataframe\">\n",
       "  <thead>\n",
       "    <tr style=\"text-align: right;\">\n",
       "      <th></th>\n",
       "      <th>loss</th>\n",
       "      <th>accuracy</th>\n",
       "      <th>val_loss</th>\n",
       "      <th>val_accuracy</th>\n",
       "    </tr>\n",
       "  </thead>\n",
       "  <tbody>\n",
       "    <tr>\n",
       "      <th>0</th>\n",
       "      <td>0.332443</td>\n",
       "      <td>0.903145</td>\n",
       "      <td>0.153640</td>\n",
       "      <td>0.9566</td>\n",
       "    </tr>\n",
       "    <tr>\n",
       "      <th>1</th>\n",
       "      <td>0.162306</td>\n",
       "      <td>0.953945</td>\n",
       "      <td>0.115566</td>\n",
       "      <td>0.9678</td>\n",
       "    </tr>\n",
       "    <tr>\n",
       "      <th>2</th>\n",
       "      <td>0.118880</td>\n",
       "      <td>0.965745</td>\n",
       "      <td>0.097492</td>\n",
       "      <td>0.9722</td>\n",
       "    </tr>\n",
       "    <tr>\n",
       "      <th>3</th>\n",
       "      <td>0.093379</td>\n",
       "      <td>0.972455</td>\n",
       "      <td>0.086883</td>\n",
       "      <td>0.9756</td>\n",
       "    </tr>\n",
       "    <tr>\n",
       "      <th>4</th>\n",
       "      <td>0.077533</td>\n",
       "      <td>0.977218</td>\n",
       "      <td>0.085680</td>\n",
       "      <td>0.9762</td>\n",
       "    </tr>\n",
       "    <tr>\n",
       "      <th>5</th>\n",
       "      <td>0.063663</td>\n",
       "      <td>0.982073</td>\n",
       "      <td>0.081804</td>\n",
       "      <td>0.9768</td>\n",
       "    </tr>\n",
       "    <tr>\n",
       "      <th>6</th>\n",
       "      <td>0.053461</td>\n",
       "      <td>0.984382</td>\n",
       "      <td>0.075294</td>\n",
       "      <td>0.9788</td>\n",
       "    </tr>\n",
       "    <tr>\n",
       "      <th>7</th>\n",
       "      <td>0.046897</td>\n",
       "      <td>0.986509</td>\n",
       "      <td>0.076464</td>\n",
       "      <td>0.9786</td>\n",
       "    </tr>\n",
       "    <tr>\n",
       "      <th>8</th>\n",
       "      <td>0.041310</td>\n",
       "      <td>0.988182</td>\n",
       "      <td>0.075752</td>\n",
       "      <td>0.9782</td>\n",
       "    </tr>\n",
       "    <tr>\n",
       "      <th>9</th>\n",
       "      <td>0.034569</td>\n",
       "      <td>0.990691</td>\n",
       "      <td>0.073776</td>\n",
       "      <td>0.9776</td>\n",
       "    </tr>\n",
       "    <tr>\n",
       "      <th>10</th>\n",
       "      <td>0.030093</td>\n",
       "      <td>0.992382</td>\n",
       "      <td>0.075008</td>\n",
       "      <td>0.9792</td>\n",
       "    </tr>\n",
       "    <tr>\n",
       "      <th>11</th>\n",
       "      <td>0.027291</td>\n",
       "      <td>0.992455</td>\n",
       "      <td>0.078231</td>\n",
       "      <td>0.9770</td>\n",
       "    </tr>\n",
       "    <tr>\n",
       "      <th>12</th>\n",
       "      <td>0.024263</td>\n",
       "      <td>0.994000</td>\n",
       "      <td>0.078825</td>\n",
       "      <td>0.9784</td>\n",
       "    </tr>\n",
       "    <tr>\n",
       "      <th>13</th>\n",
       "      <td>0.020952</td>\n",
       "      <td>0.994964</td>\n",
       "      <td>0.074579</td>\n",
       "      <td>0.9792</td>\n",
       "    </tr>\n",
       "    <tr>\n",
       "      <th>14</th>\n",
       "      <td>0.018783</td>\n",
       "      <td>0.995509</td>\n",
       "      <td>0.075812</td>\n",
       "      <td>0.9782</td>\n",
       "    </tr>\n",
       "    <tr>\n",
       "      <th>15</th>\n",
       "      <td>0.016599</td>\n",
       "      <td>0.996309</td>\n",
       "      <td>0.075786</td>\n",
       "      <td>0.9790</td>\n",
       "    </tr>\n",
       "    <tr>\n",
       "      <th>16</th>\n",
       "      <td>0.016650</td>\n",
       "      <td>0.996036</td>\n",
       "      <td>0.073873</td>\n",
       "      <td>0.9784</td>\n",
       "    </tr>\n",
       "    <tr>\n",
       "      <th>17</th>\n",
       "      <td>0.015079</td>\n",
       "      <td>0.996327</td>\n",
       "      <td>0.075467</td>\n",
       "      <td>0.9780</td>\n",
       "    </tr>\n",
       "    <tr>\n",
       "      <th>18</th>\n",
       "      <td>0.013805</td>\n",
       "      <td>0.996745</td>\n",
       "      <td>0.080325</td>\n",
       "      <td>0.9782</td>\n",
       "    </tr>\n",
       "    <tr>\n",
       "      <th>19</th>\n",
       "      <td>0.012553</td>\n",
       "      <td>0.997145</td>\n",
       "      <td>0.078961</td>\n",
       "      <td>0.9794</td>\n",
       "    </tr>\n",
       "    <tr>\n",
       "      <th>20</th>\n",
       "      <td>0.011807</td>\n",
       "      <td>0.997691</td>\n",
       "      <td>0.076306</td>\n",
       "      <td>0.9796</td>\n",
       "    </tr>\n",
       "    <tr>\n",
       "      <th>21</th>\n",
       "      <td>0.011083</td>\n",
       "      <td>0.997509</td>\n",
       "      <td>0.077574</td>\n",
       "      <td>0.9780</td>\n",
       "    </tr>\n",
       "    <tr>\n",
       "      <th>22</th>\n",
       "      <td>0.010369</td>\n",
       "      <td>0.998091</td>\n",
       "      <td>0.078431</td>\n",
       "      <td>0.9790</td>\n",
       "    </tr>\n",
       "    <tr>\n",
       "      <th>23</th>\n",
       "      <td>0.008799</td>\n",
       "      <td>0.998636</td>\n",
       "      <td>0.077174</td>\n",
       "      <td>0.9790</td>\n",
       "    </tr>\n",
       "    <tr>\n",
       "      <th>24</th>\n",
       "      <td>0.009182</td>\n",
       "      <td>0.998055</td>\n",
       "      <td>0.076809</td>\n",
       "      <td>0.9790</td>\n",
       "    </tr>\n",
       "    <tr>\n",
       "      <th>25</th>\n",
       "      <td>0.008751</td>\n",
       "      <td>0.998182</td>\n",
       "      <td>0.080542</td>\n",
       "      <td>0.9778</td>\n",
       "    </tr>\n",
       "    <tr>\n",
       "      <th>26</th>\n",
       "      <td>0.008193</td>\n",
       "      <td>0.998327</td>\n",
       "      <td>0.078879</td>\n",
       "      <td>0.9794</td>\n",
       "    </tr>\n",
       "    <tr>\n",
       "      <th>27</th>\n",
       "      <td>0.007139</td>\n",
       "      <td>0.998909</td>\n",
       "      <td>0.076322</td>\n",
       "      <td>0.9798</td>\n",
       "    </tr>\n",
       "    <tr>\n",
       "      <th>28</th>\n",
       "      <td>0.007501</td>\n",
       "      <td>0.998600</td>\n",
       "      <td>0.078704</td>\n",
       "      <td>0.9792</td>\n",
       "    </tr>\n",
       "    <tr>\n",
       "      <th>29</th>\n",
       "      <td>0.007041</td>\n",
       "      <td>0.998873</td>\n",
       "      <td>0.079069</td>\n",
       "      <td>0.9798</td>\n",
       "    </tr>\n",
       "  </tbody>\n",
       "</table>\n",
       "</div>"
      ],
      "text/plain": [
       "        loss  accuracy  val_loss  val_accuracy\n",
       "0   0.332443  0.903145  0.153640        0.9566\n",
       "1   0.162306  0.953945  0.115566        0.9678\n",
       "2   0.118880  0.965745  0.097492        0.9722\n",
       "3   0.093379  0.972455  0.086883        0.9756\n",
       "4   0.077533  0.977218  0.085680        0.9762\n",
       "5   0.063663  0.982073  0.081804        0.9768\n",
       "6   0.053461  0.984382  0.075294        0.9788\n",
       "7   0.046897  0.986509  0.076464        0.9786\n",
       "8   0.041310  0.988182  0.075752        0.9782\n",
       "9   0.034569  0.990691  0.073776        0.9776\n",
       "10  0.030093  0.992382  0.075008        0.9792\n",
       "11  0.027291  0.992455  0.078231        0.9770\n",
       "12  0.024263  0.994000  0.078825        0.9784\n",
       "13  0.020952  0.994964  0.074579        0.9792\n",
       "14  0.018783  0.995509  0.075812        0.9782\n",
       "15  0.016599  0.996309  0.075786        0.9790\n",
       "16  0.016650  0.996036  0.073873        0.9784\n",
       "17  0.015079  0.996327  0.075467        0.9780\n",
       "18  0.013805  0.996745  0.080325        0.9782\n",
       "19  0.012553  0.997145  0.078961        0.9794\n",
       "20  0.011807  0.997691  0.076306        0.9796\n",
       "21  0.011083  0.997509  0.077574        0.9780\n",
       "22  0.010369  0.998091  0.078431        0.9790\n",
       "23  0.008799  0.998636  0.077174        0.9790\n",
       "24  0.009182  0.998055  0.076809        0.9790\n",
       "25  0.008751  0.998182  0.080542        0.9778\n",
       "26  0.008193  0.998327  0.078879        0.9794\n",
       "27  0.007139  0.998909  0.076322        0.9798\n",
       "28  0.007501  0.998600  0.078704        0.9792\n",
       "29  0.007041  0.998873  0.079069        0.9798"
      ]
     },
     "execution_count": 40,
     "metadata": {},
     "output_type": "execute_result"
    }
   ],
   "source": [
    "pd.DataFrame(history2.history)"
   ]
  },
  {
   "cell_type": "markdown",
   "id": "69cb4836-c167-4c0a-9523-42c63a7083e6",
   "metadata": {},
   "source": [
    "### 5. Compare the training and validation performance (e.g., accuracy, loss) between the models with and without batch normalization."
   ]
  },
  {
   "cell_type": "code",
   "execution_count": 41,
   "id": "e52565c0-ada8-4da2-bb4b-6dc297e68de6",
   "metadata": {},
   "outputs": [
    {
     "data": {
      "text/plain": [
       "<AxesSubplot: >"
      ]
     },
     "execution_count": 41,
     "metadata": {},
     "output_type": "execute_result"
    },
    {
     "data": {
      "image/png": "[encoded data removed]",
      "text/plain": [
       "<Figure size 640x480 with 1 Axes>"
      ]
     },
     "metadata": {},
     "output_type": "display_data"
    }
   ],
   "source": [
    "pd.DataFrame(history1.history).plot()"
   ]
  },
  {
   "cell_type": "code",
   "execution_count": 42,
   "id": "1ad19034-961c-47a9-9eee-3725e1d532e3",
   "metadata": {},
   "outputs": [
    {
     "data": {
      "text/plain": [
       "<AxesSubplot: >"
      ]
     },
     "execution_count": 42,
     "metadata": {},
     "output_type": "execute_result"
    },
    {
     "data": {
      "image/png": "[encoded data removed]",
      "text/plain": [
       "<Figure size 640x480 with 1 Axes>"
      ]
     },
     "metadata": {},
     "output_type": "display_data"
    }
   ],
   "source": [
    "pd.DataFrame(history2.history).plot()"
   ]
  },
  {
   "cell_type": "markdown",
   "id": "a08e09d4-91ff-47b3-8651-8a5992a5624f",
   "metadata": {},
   "source": [
    "When comparing the training and validation performance between models with and without batch normalization, several differences can be observed:\n",
    "\n",
    "1. **Training Performance**:\n",
    "   - Models with batch normalization often exhibit faster convergence during training. The normalization step helps to mitigate the internal covariate shift problem, leading to more stable gradients and accelerated learning. This can result in a quicker reduction of the training loss and higher training accuracy compared to models without batch normalization.\n",
    "   - Additionally, models with batch normalization can often tolerate higher learning rates. The normalization process makes the network less sensitive to the choice of learning rate, allowing for more aggressive updates of the weights. This can speed up the training process and further enhance the training performance.\n",
    "\n",
    "2. **Validation Performance**:\n",
    "   - Models with batch normalization generally demonstrate improved generalization performance on the validation set. The regularization effect of batch normalization, which introduces noise through the normalization step, helps reduce overfitting and improve the model's ability to generalize to unseen data.\n",
    "   - The improved generalization capability is reflected in better validation accuracy and lower validation loss. Models with batch normalization often achieve lower validation error rates and demonstrate improved performance on unseen data compared to models without batch normalization.\n",
    "\n",
    "Overall, the presence of batch normalization can lead to faster convergence, higher training accuracy, improved generalization performance, and lower validation error rates. It helps address issues like internal covariate shift and overfitting, resulting in more efficient and effective training of neural networks."
   ]
  },
  {
   "cell_type": "markdown",
   "id": "5f8ffde0-3e64-468d-9ac2-7252de5460fa",
   "metadata": {},
   "source": [
    "### 6. Discuss the impact of batch normalization on the training process and the performance of the neural network."
   ]
  },
  {
   "cell_type": "markdown",
   "id": "1df4f726-0fcd-4e46-9b4d-2b31925cbf55",
   "metadata": {},
   "source": [
    "Batch normalization has a significant impact on both the training process and the performance of neural networks. Let's discuss the key effects of batch normalization:\n",
    "\n",
    "1. **Accelerated Training**: Batch normalization speeds up the training process by mitigating the internal covariate shift problem. It ensures that the inputs to each layer are consistently normalized, allowing for more stable and efficient gradient flow during backpropagation. As a result, the network can converge faster, reducing the number of training iterations required to achieve a certain level of performance.\n",
    "\n",
    "2. **Stabilized Gradients**: Batch normalization helps to address the vanishing or exploding gradient problem. By normalizing the inputs, it ensures that the gradients flowing through the network are within a reasonable range. This stabilization of gradients facilitates smoother and more reliable backpropagation, preventing gradients from becoming too small or too large. As a result, the network can effectively learn the optimal weights and biases, leading to improved performance.\n",
    "\n",
    "3. **Higher Learning Rates**: With batch normalization, higher learning rates can be used during training without sacrificing stability. The normalization step ensures that the network is less sensitive to the learning rate choice. This allows for more aggressive updates of the model's parameters, which can accelerate the convergence process. Consequently, batch normalization enables faster training and helps models reach better performance within a given number of iterations.\n",
    "\n",
    "4. **Regularization Effect**: Batch normalization acts as a form of regularization for neural networks. The normalization step introduces some level of noise to the activations within each mini-batch. This noise helps reduce overfitting by providing a form of implicit regularization. As a result, the network becomes more robust and less prone to memorizing the training data, leading to improved generalization performance on unseen data.\n",
    "\n",
    "5. **Reduced Dependency on Weight Initialization**: Batch normalization reduces the dependence of each layer's inputs on the initialization of the network's weights. It makes the network less sensitive to the choice of weight initialization, which can simplify the training process. This is particularly beneficial when training deep networks or networks with complex architectures, as it helps to mitigate the challenges associated with finding suitable initial weight values.\n",
    "\n",
    "6. **Improved Performance and Accuracy**: Overall, batch normalization contributes to improved performance and accuracy of neural networks. It helps networks converge faster, achieve better generalization performance, and reduce overfitting. By addressing the internal covariate shift problem and stabilizing gradients, batch normalization enables more efficient and effective training, leading to models that can achieve higher accuracy on both training and validation data.\n",
    "\n",
    "It's important to note that while batch normalization offers numerous benefits, its application may not always result in improved performance. The effectiveness of batch normalization can vary depending on factors such as the dataset, network architecture, and specific training requirements. It is recommended to experiment and evaluate the impact of batch normalization in the context of specific tasks and datasets to determine its effectiveness."
   ]
  },
  {
   "cell_type": "markdown",
   "id": "72e25b17-a2c9-4dd7-aef3-7eb343398e49",
   "metadata": {},
   "source": [
    "### Q3. Experimentation and Analysis"
   ]
  },
  {
   "cell_type": "markdown",
   "id": "0dcd6139-979c-4b84-88fd-8d9c10d9cf83",
   "metadata": {},
   "source": [
    "### 1. Experiment with different batch sizes and observe the effect on the training dynamics and model performance"
   ]
  },
  {
   "cell_type": "markdown",
   "id": "bf2e782a-cffc-4a41-b304-425a2f195da4",
   "metadata": {},
   "source": [
    "Experimenting with different batch sizes can provide insights into the impact on training dynamics and model performance. Let's consider a scenario where we train a neural network with varying batch sizes and observe the effects:\n",
    "\n",
    "1. **Smaller Batch Sizes**:\n",
    "   - Smaller batch sizes (e.g., 16 or 32) typically lead to more frequent weight updates during training. This can result in faster convergence, as the network adapts quickly to the gradients computed from smaller subsets of the data.\n",
    "   - However, smaller batch sizes may introduce more noise to the gradient estimates, leading to a less stable training process. This noise can cause the training loss to exhibit more fluctuations, and the training accuracy may vary more during each epoch.\n",
    "   - Additionally, with smaller batch sizes, the training process may take longer due to the increased number of iterations required to process the entire dataset.\n",
    "\n",
    "2. **Larger Batch Sizes**:\n",
    "   - Larger batch sizes (e.g., 128 or 256) often result in more stable training dynamics. The noise in the gradient estimates reduces as more training examples are considered together, leading to smoother convergence.\n",
    "   - With larger batch sizes, the training loss may exhibit fewer fluctuations, and the training accuracy can be more consistent during each epoch. This can provide a clearer indication of the network's true learning progress.\n",
    "   - However, larger batch sizes may lead to slower convergence compared to smaller batch sizes. The infrequent weight updates can cause the network to take longer to find optimal weight configurations.\n",
    "\n",
    "3. **Generalization Performance**:\n",
    "   - The choice of batch size can also impact the generalization performance of the model.\n",
    "   - Smaller batch sizes may offer better generalization, as they introduce more noise to the training process. This can help prevent overfitting and improve the model's ability to generalize to unseen data.\n",
    "   - On the other hand, larger batch sizes may lead to slightly lower generalization performance, as the noise in the gradient estimates is reduced. However, this effect is typically marginal and can be compensated by other regularization techniques.\n",
    "\n",
    "It's important to note that the choice of batch size should be balanced with the available computational resources. Smaller batch sizes require more iterations and can be computationally expensive, while larger batch sizes may consume more memory.\n",
    "\n",
    "To determine the optimal batch size for a specific task and dataset, it is recommended to experiment with different values and monitor the training dynamics, convergence speed, and generalization performance. It's also worth considering other factors such as hardware constraints, training time, and specific characteristics of the dataset to make an informed decision."
   ]
  },
  {
   "cell_type": "markdown",
   "id": "1ea5dcb0-45bd-43d5-9074-e566edc2c5e5",
   "metadata": {},
   "source": [
    "### 2. Discuss the advantages and potential limitations of batch normalization in improving the training of neural networks"
   ]
  },
  {
   "cell_type": "markdown",
   "id": "1f55f315-fa0e-424a-8485-4460bb7293ba",
   "metadata": {},
   "source": [
    "Batch normalization offers several advantages in improving the training of neural networks. However, it also has some potential limitations. Let's discuss both aspects:\n",
    "\n",
    "Advantages of Batch Normalization:\n",
    "\n",
    "1. **Improved Training Speed**: Batch normalization helps accelerate the training process by reducing the internal covariate shift. It stabilizes the gradients, allowing for more efficient backpropagation and faster convergence. This can result in fewer training iterations required to reach a certain level of performance.\n",
    "\n",
    "2. **Stable Gradient Flow**: By normalizing the inputs to each layer, batch normalization ensures that the gradients flowing through the network are within a reasonable range. This stabilizes the gradient flow, mitigating issues such as vanishing or exploding gradients and enabling more reliable and consistent updates of the network's parameters.\n",
    "\n",
    "3. **Higher Learning Rates**: Batch normalization reduces the dependence of each layer's inputs on the learning rate. This allows for the use of higher learning rates without destabilizing the training process. With higher learning rates, the network can converge faster and potentially reach better performance.\n",
    "\n",
    "4. **Regularization Effect**: Batch normalization acts as a form of regularization by introducing noise to the activations within each mini-batch. This reduces overfitting and improves the generalization capability of the network. It can provide some level of regularization without the need for additional techniques like dropout, simplifying the training process.\n",
    "\n",
    "5. **Reduced Sensitivity to Weight Initialization**: Batch normalization reduces the sensitivity of each layer's inputs to the initialization of the network's weights. This makes the training process more robust to the choice of initial weight values. It can be particularly beneficial when training deep networks or networks with complex architectures.\n",
    "\n",
    "Limitations and Considerations:\n",
    "\n",
    "1. **Batch Size Dependency**: The effectiveness of batch normalization can vary depending on the batch size. Very small batch sizes may lead to increased noise in the gradient estimates, which can hinder training stability. Extremely large batch sizes may reduce the regularization effect and slow down convergence. Finding the optimal batch size for a specific task is crucial for achieving the best performance.\n",
    "\n",
    "2. **Inference Performance**: During inference, batch normalization requires calculating the mean and variance over the entire dataset or using population statistics accumulated during training. This can add computational overhead, especially when performing inference on individual examples. Techniques such as running averages or batch renormalization can be used to address this limitation.\n",
    "\n",
    "3. **Dependency on Mini-batch Statistics**: Batch normalization relies on the statistics computed from mini-batches during training. This introduces a dependency on the specific mini-batch and can make the training process sensitive to the choice of batch. This can be problematic when training on datasets with imbalanced or varying statistics across batches.\n",
    "\n",
    "4. **Limited Applicability to Small Datasets**: Batch normalization may not be as effective when training on small datasets. In such cases, the mini-batch statistics may not accurately represent the overall data distribution, leading to suboptimal performance. Alternative normalization techniques, such as layer normalization or instance normalization, can be considered for small datasets.\n",
    "\n",
    "In summary, batch normalization provides significant advantages in improving training speed, stabilizing gradients, enabling higher learning rates, and acting as a regularization technique. However, it requires careful consideration of batch size, can introduce dependencies on mini-batch statistics, and may have limitations for small datasets. By understanding these advantages and limitations, practitioners can effectively utilize batch normalization to enhance the training process of neural networks."
   ]
  }
 ],
 "metadata": {
  "kernelspec": {
   "display_name": "Python 3 (ipykernel)",
   "language": "python",
   "name": "python3"
  },
  "language_info": {
   "codemirror_mode": {
    "name": "ipython",
    "version": 3
   },
   "file_extension": ".py",
   "mimetype": "text/x-python",
   "name": "python",
   "nbconvert_exporter": "python",
   "pygments_lexer": "ipython3",
   "version": "3.10.8"
  }
 },
 "nbformat": 4,
 "nbformat_minor": 5
}
