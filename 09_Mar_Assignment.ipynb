{
 "cells": [
  {
   "cell_type": "markdown",
   "id": "0000a298-4f93-4cf8-860a-47cb868ced0f",
   "metadata": {},
   "source": [
    "### 1. What are the Probability Mass Function (PMF) and Probability Density Function (PDF)? Explain with an example."
   ]
  },
  {
   "cell_type": "markdown",
   "id": "065605fe-b569-4d3a-be08-d427fc3de8c7",
   "metadata": {},
   "source": [
    "The Probability Mass Function (PMF) and Probability Density Function (PDF) are two important concepts in probability theory and statistics. They are used to describe the probability distribution of a random variable, which is a variable whose value is determined by chance.\n",
    "\n",
    "A Probability Mass Function (PMF) is a function that maps the probability of each possible outcome of a discrete random variable. It assigns probabilities to each possible value of a discrete random variable. The PMF is defined as:\n",
    "\n",
    "PMF(X) = P(X = x)\n",
    "\n",
    "where X is a discrete random variable, x is a possible value that X can take, and P(X = x) is the probability that X takes the value x.\n",
    "\n",
    "For example, consider a coin that is flipped three times. Let X be the number of heads obtained. Then, the possible values of X are 0, 1, 2, or 3. The PMF for X is given by:\n",
    "\n",
    "PMF(X=0) = P(X=0) = 1/8\n",
    "PMF(X=1) = P(X=1) = 3/8\n",
    "PMF(X=2) = P(X=2) = 3/8\n",
    "PMF(X=3) = P(X=3) = 1/8\n",
    "\n",
    "The sum of all the probabilities in the PMF must equal 1, as the sum of all possible outcomes is certain to occur.\n",
    "\n",
    "A Probability Density Function (PDF) is used to describe the probability distribution of a continuous random variable. The PDF gives the probability of a random variable taking a particular value within a range of values. Unlike the PMF, the PDF is a continuous function, and the probability that a continuous random variable takes any specific value is always zero.\n",
    "\n",
    "The PDF is defined as:\n",
    "\n",
    "PDF(X=x) = dF(x) / dx\n",
    "\n",
    "where F(x) is the cumulative distribution function (CDF) of the random variable X.\n",
    "\n",
    "For example, consider the height of individuals in a population. The height is a continuous random variable. We can define a PDF to describe the distribution of heights in the population. A common distribution used to describe the height of individuals is the normal distribution. The PDF of a normal distribution is given by:\n",
    "\n",
    "PDF(x) = (1 / (σ * sqrt(2π))) * exp(-((x-μ)^2) / (2 * σ^2))\n",
    "\n",
    "where μ is the mean of the distribution and σ is the standard deviation.\n",
    "\n",
    "The PDF is a smooth curve that describes the relative likelihood of obtaining a particular value for the continuous random variable. However, the probability of obtaining a specific value is always zero, so we instead look at probabilities for intervals of values instead of specific values."
   ]
  },
  {
   "cell_type": "markdown",
   "id": "834b2f74-1d6a-4dd9-98b4-5cad3220284a",
   "metadata": {},
   "source": [
    "### 2. What is Cumulative Density Function (CDF)? Explain with an example. Why CDF is used?"
   ]
  },
  {
   "cell_type": "markdown",
   "id": "272c7ee2-0137-46a2-8c23-9dd370cf8888",
   "metadata": {},
   "source": [
    "The Cumulative Density Function (CDF) is a function that maps the probability of a random variable being less than or equal to a given value. The CDF is used to describe the probability distribution of both discrete and continuous random variables.\n",
    "\n",
    "The CDF of a random variable X is defined as:\n",
    "\n",
    "CDF(X ≤ x) = P(X ≤ x)\n",
    "\n",
    "where x is a real number and P(X ≤ x) is the probability that X is less than or equal to x.\n",
    "\n",
    "The CDF of a discrete random variable is a step function that increases by a value equal to the PMF at each point where the random variable takes a specific value. The CDF of a continuous random variable is a smooth function that increases from 0 to 1 as the value of x increases.\n",
    "\n",
    "For example, consider a fair six-sided die. The possible outcomes of the die are 1, 2, 3, 4, 5, or 6, each with a probability of 1/6. The CDF for the die is:\n",
    "\n",
    "CDF(X ≤ 1) = P(X ≤ 1) = 1/6\n",
    "CDF(X ≤ 2) = P(X ≤ 2) = 2/6\n",
    "CDF(X ≤ 3) = P(X ≤ 3) = 3/6\n",
    "CDF(X ≤ 4) = P(X ≤ 4) = 4/6\n",
    "CDF(X ≤ 5) = P(X ≤ 5) = 5/6\n",
    "CDF(X ≤ 6) = P(X ≤ 6) = 1\n",
    "\n",
    "The CDF shows that the probability of obtaining a value less than or equal to 3 on the die is 1/2, while the probability of obtaining a value less than or equal to 6 is 1.\n",
    "\n",
    "The CDF is used to find the probability of obtaining a value within a range of values for a random variable. For example, the probability of obtaining a value between a and b for a continuous random variable X is given by:\n",
    "\n",
    "P(a ≤ X ≤ b) = CDF(X ≤ b) - CDF(X ≤ a)\n",
    "\n",
    "The CDF can also be used to generate random numbers from a given probability distribution using the inverse transform method. The inverse of the CDF is used to transform uniformly distributed random numbers between 0 and 1 to a random variable with the given probability distribution."
   ]
  },
  {
   "cell_type": "markdown",
   "id": "3d710c3b-b8b3-42dc-af3e-be1599f784ef",
   "metadata": {},
   "source": [
    "### 3. What are some examples of situations where the normal distribution might be used as a model? Explain how the parameters of the normal distribution relate to the shape of the distribution."
   ]
  },
  {
   "cell_type": "markdown",
   "id": "ba376cff-629a-49fe-a005-d1654944619c",
   "metadata": {},
   "source": [
    "The normal distribution is one of the most commonly used probability distributions in statistics and is widely used as a model to describe a wide range of natural phenomena. Some examples of situations where the normal distribution might be used as a model include:\n",
    "\n",
    "Heights of individuals in a population\n",
    "\n",
    "Weights of objects produced in a factory\n",
    "\n",
    "Blood pressure measurements in a population\n",
    "\n",
    "IQ scores in a population\n",
    "\n",
    "Errors in measurements or observations\n",
    "\n",
    "The normal distribution is characterized by two parameters: the mean (μ) and the standard deviation (σ). The mean represents the center of the distribution, while the standard deviation measures the spread or variability of the distribution.\n",
    "\n",
    "The shape of the normal distribution is symmetric and bell-shaped. The highest point on the curve corresponds to the mean, and the curve tails off symmetrically in both directions from the mean. The standard deviation determines the width of the curve, with larger standard deviations producing wider and flatter curves, and smaller standard deviations producing narrower and taller curves.\n",
    "\n",
    "The normal distribution is a continuous distribution, and the probability of obtaining any specific value is always zero. Instead, probabilities are calculated for intervals of values, and the total area under the curve is always equal to 1. The normal distribution is also characterized by the 68-95-99.7 rule, which states that approximately 68% of values fall within one standard deviation of the mean, approximately 95% of values fall within two standard deviations of the mean, and approximately 99.7% of values fall within three standard deviations of the mean."
   ]
  },
  {
   "cell_type": "markdown",
   "id": "53460483-7ffe-419b-8fe8-1d66e7e715dd",
   "metadata": {},
   "source": [
    "### 4. Explain the importance of Normal Distribution. Give a few real-life examples of Normal Distribution."
   ]
  },
  {
   "cell_type": "markdown",
   "id": "41710af6-cbe1-4d75-b766-d73e26da35d0",
   "metadata": {},
   "source": [
    "The normal distribution, also known as the Gaussian distribution, is an important concept in statistics and probability theory. It is a continuous probability distribution that is symmetric and bell-shaped, and it has many important properties that make it useful in a wide range of applications.\n",
    "\n",
    "Some of the key importance of normal distribution are:\n",
    "\n",
    "Approximation: Normal distribution is often used to approximate the probability distribution of real-world phenomena. Many natural processes and measurements, such as heights and weights of individuals, test scores, and stock prices, are known to follow a normal distribution, or at least approximate it well enough.\n",
    "\n",
    "Central Limit Theorem: The central limit theorem states that the sum or average of many independent random variables will tend towards a normal distribution, even if the individual variables do not follow a normal distribution themselves. This is a fundamental result in statistics, as it allows us to make inferences about the population from a sample.\n",
    "\n",
    "Hypothesis Testing: Normal distribution plays a central role in hypothesis testing, as many statistical tests assume that the data follow a normal distribution. These tests include t-tests, ANOVA, regression analysis, and many others.\n",
    "\n",
    "Z-score: Normal distribution allows us to use the Z-score or standard score, which measures the number of standard deviations a data point is from the mean. Z-scores can be used to compare data from different normal distributions and to calculate probabilities of specific events.\n",
    "\n",
    "Some real-life examples of normal distribution are:\n",
    "\n",
    "Heights of people\n",
    "\n",
    "Test scores\n",
    "\n",
    "Stock prices\n",
    "\n",
    "IQ scores\n",
    "\n",
    "Blood pressure"
   ]
  },
  {
   "cell_type": "markdown",
   "id": "1cf7f1c0-db8b-42e7-9655-4b7ecd17cfdb",
   "metadata": {},
   "source": [
    "### 5. What is Bernaulli Distribution? Give an Example. What is the difference between Bernoulli Distribution and Binomial Distribution?"
   ]
  },
  {
   "cell_type": "markdown",
   "id": "70778dd6-f20a-49a2-8c17-c8e309a27be5",
   "metadata": {},
   "source": [
    "The Bernoulli distribution is a probability distribution that describes the outcomes of a single binary event that can have only two possible outcomes, typically denoted as success (1) and failure (0). The distribution is named after the Swiss mathematician Jacob Bernoulli, who introduced it in his book \"Ars Conjectandi\" in 1713.\n",
    "\n",
    "An example of the Bernoulli distribution is the flip of a fair coin, where success (1) is heads and failure (0) is tails. Another example is the success or failure of a single trial of a medical treatment, where success could be defined as a patient's recovery and failure as the patient not recovering.\n",
    "\n",
    "The Bernoulli distribution is characterized by a single parameter, p, which represents the probability of success (1) in a single trial. The probability of failure (0) is therefore 1-p. The probability mass function (PMF) of the Bernoulli distribution is:\n",
    "\n",
    "P(X=x) = p^x * (1-p)^(1-x) for x = 0 or 1\n",
    "\n",
    "The mean (or expected value) of the Bernoulli distribution is p, and the variance is p(1-p).\n",
    "\n",
    "The binomial distribution, on the other hand, describes the probability distribution of the number of successes in a fixed number of independent and identical Bernoulli trials. In other words, the binomial distribution is the sum of independent and identically distributed (iid) Bernoulli random variables.\n",
    "\n",
    "The main difference between Bernoulli and binomial distributions is that the Bernoulli distribution models the outcome of a single trial, while the binomial distribution models the number of successes in a fixed number of independent Bernoulli trials.\n",
    "\n",
    "The binomial distribution is characterized by two parameters: n, the number of trials, and p, the probability of success in each trial. The probability mass function (PMF) of the binomial distribution is:\n",
    "\n",
    "P(X=k) = (n choose k) * p^k * (1-p)^(n-k) for k = 0, 1, 2, ..., n\n",
    "\n",
    "where (n choose k) represents the binomial coefficient, which counts the number of ways to choose k objects from a set of n objects.\n",
    "\n",
    "The mean (or expected value) of the binomial distribution is np, and the variance is np*(1-p). The binomial distribution is used in many real-life applications, such as quality control, polling, and genetics."
   ]
  },
  {
   "cell_type": "markdown",
   "id": "2b5ffc51-33ab-4577-ae09-287200c41a4d",
   "metadata": {},
   "source": [
    "### 6. Consider a dataset with a mean of 50 and a standard deviation of 10. If we assume that the dataset is normally distributed, what is the probability that a randomly selected observation will be greater than 60? Use the appropriate formula and show your calculations."
   ]
  },
  {
   "cell_type": "markdown",
   "id": "32408969-470c-4e33-97c1-e7ba33fd5529",
   "metadata": {},
   "source": [
    "To find the probability that a randomly selected observation from a normally distributed dataset with a mean of 50 and a standard deviation of 10 will be greater than 60, we need to calculate the z-score and then use a standard normal distribution table or calculator.\n",
    "\n",
    "The z-score is calculated as:\n",
    "\n",
    "z = (x - μ) / σ\n",
    "\n",
    "where x is the value we want to find the probability for (in this case, x = 60), μ is the mean of the dataset, and σ is the standard deviation of the dataset.\n",
    "\n",
    "Plugging in the values, we get:\n",
    "\n",
    "z = (60 - 50) / 10 = 1\n",
    "\n",
    "Using a standard normal distribution table or calculator, we can find that the probability of a z-score being greater than 1 is approximately 0.1587.\n",
    "\n",
    "Therefore, the probability that a randomly selected observation from the given normally distributed dataset will be greater than 60 is approximately 0.1587 or 15.87%."
   ]
  },
  {
   "cell_type": "markdown",
   "id": "b31d02ac-4950-46c7-bf8b-2ca6e23ec289",
   "metadata": {},
   "source": [
    "### 7. Explain uniform Distribution with an example."
   ]
  },
  {
   "cell_type": "markdown",
   "id": "a5e05181-6d0f-459e-b11a-36badf7f1f5c",
   "metadata": {},
   "source": [
    "The uniform distribution is a probability distribution that assigns equal probability to all values within a specified interval or range. In other words, it is a continuous distribution where every value within a given range is equally likely to occur.\n",
    "\n",
    "An example of the uniform distribution is the roll of a fair six-sided die. Each of the six faces of the die is equally likely to come up, so the probability of any particular face coming up is 1/6. This means that the probability distribution of the roll of a fair six-sided die is a discrete uniform distribution with parameters a=1 and b=6.\n",
    "\n",
    "Another example of the uniform distribution is the arrival time of customers at a store. If customers arrive randomly and independently within a specified time interval, then the probability of any particular arrival time is the same as the probability of any other arrival time within that interval. This means that the probability distribution of customer arrival times is a continuous uniform distribution with parameters a and b representing the start and end times of the interval, respectively.\n",
    "\n",
    "The probability density function (PDF) of the uniform distribution is given by:\n",
    "\n",
    "f(x) = 1 / (b - a) for a ≤ x ≤ b\n",
    "\n",
    "where a is the lower bound of the interval and b is the upper bound of the interval.\n",
    "\n",
    "The mean (or expected value) of the uniform distribution is:\n",
    "\n",
    "E(X) = (a + b) / 2\n",
    "\n",
    "and the variance is:\n",
    "\n",
    "Var(X) = (b - a)^2 / 12\n",
    "\n",
    "The uniform distribution is used in many real-life applications, such as random number generation, simulation, and statistical sampling."
   ]
  },
  {
   "cell_type": "markdown",
   "id": "709feb94-d5dc-4393-b38d-06b2685543ba",
   "metadata": {},
   "source": [
    "### 8. What is the z score? State the importance of the z score."
   ]
  },
  {
   "cell_type": "markdown",
   "id": "9a347d97-1220-4091-8a3e-6d955db245c1",
   "metadata": {},
   "source": [
    "The z-score (also called standard score or normal deviate) is a statistical measure that indicates how many standard deviations a data point is from the mean of a dataset. It is calculated by subtracting the mean of the dataset from a particular data point, and then dividing the result by the standard deviation of the dataset.\n",
    "\n",
    "The formula for calculating the z-score is:\n",
    "\n",
    "z = (x - μ) / σ\n",
    "\n",
    "where z is the z-score, x is the data point, μ is the mean of the dataset, and σ is the standard deviation of the dataset.\n",
    "\n",
    "The importance of the z-score lies in its ability to standardize data, making it easier to compare values from different datasets. By converting data to z-scores, we can calculate the probability of observing a particular value or range of values, and compare the relative positions of different data points within their respective datasets.\n",
    "\n",
    "The z-score is also used to identify outliers or extreme values in a dataset. Any data point with a z-score greater than 3 or less than -3 is considered an outlier, as it lies more than 3 standard deviations away from the mean of the dataset.\n",
    "\n",
    "Overall, the z-score is an important tool in statistics for standardizing data, comparing values across datasets, and identifying outliers."
   ]
  },
  {
   "cell_type": "markdown",
   "id": "dfbe4c0e-0580-4c1c-b156-94cf74badfef",
   "metadata": {},
   "source": [
    "### 9. What is Central Limit Theorem? State the significance of the Central Limit Theorem."
   ]
  },
  {
   "cell_type": "markdown",
   "id": "87b95fca-9fc4-481d-a970-505226137541",
   "metadata": {},
   "source": [
    "The Central Limit Theorem (CLT) is a fundamental concept in probability theory and statistics that states that the distribution of sample means approaches a normal distribution as the sample size increases, regardless of the shape of the population distribution.\n",
    "\n",
    "In other words, the CLT says that if we take many random samples from any population, and calculate the mean of each sample, then the distribution of those sample means will be approximately normal, regardless of whether the population distribution is normal, skewed, or has any other shape.\n",
    "\n",
    "The significance of the Central Limit Theorem lies in its wide-ranging applications in statistics and data analysis. It allows us to make inferences about a population based on a sample, even if the population distribution is unknown or non-normal. It also forms the basis of many statistical techniques, such as hypothesis testing, confidence intervals, and regression analysis.\n",
    "\n",
    "Furthermore, the CLT provides a theoretical justification for the use of the normal distribution as a model for many real-world phenomena, even when the underlying distribution may not be normal. This is because the normal distribution is easy to work with mathematically and has many desirable properties, such as symmetry and a well-defined mean and variance."
   ]
  },
  {
   "cell_type": "markdown",
   "id": "a5ebaf66-b9c1-45bf-ac83-ccac53543a99",
   "metadata": {},
   "source": [
    "### 10. State the assumptions of the Central Limit Theorem."
   ]
  },
  {
   "cell_type": "markdown",
   "id": "9ed46f3c-ace1-4917-afc5-40c74ad0c67b",
   "metadata": {},
   "source": [
    "The Central Limit Theorem (CLT) is a powerful tool in statistics that allows us to make inferences about a population based on a sample. However, the CLT relies on certain assumptions to hold true. The key assumptions of the Central Limit Theorem are as follows:\n",
    "\n",
    "1.Random Sampling: The samples should be randomly selected from the population, which means that each individual in the population has an equal chance of being selected for the sample.\n",
    "\n",
    "2.Independence: The samples should be independent of each other, meaning that the selection of one sample should not influence the selection of another sample.\n",
    "\n",
    "3.Sample Size: The sample size should be sufficiently large, generally considered to be greater than or equal to 30. Larger sample sizes tend to yield better approximations to the normal distribution.\n",
    "\n",
    "4.Finite Population: If the population is finite, then the sample size should be no more than 10% of the population size.\n",
    "\n",
    "5.Same Sample Size: The sample sizes should be equal for all samples."
   ]
  }
 ],
 "metadata": {
  "kernelspec": {
   "display_name": "Python 3 (ipykernel)",
   "language": "python",
   "name": "python3"
  },
  "language_info": {
   "codemirror_mode": {
    "name": "ipython",
    "version": 3
   },
   "file_extension": ".py",
   "mimetype": "text/x-python",
   "name": "python",
   "nbconvert_exporter": "python",
   "pygments_lexer": "ipython3",
   "version": "3.10.8"
  }
 },
 "nbformat": 4,
 "nbformat_minor": 5
}
