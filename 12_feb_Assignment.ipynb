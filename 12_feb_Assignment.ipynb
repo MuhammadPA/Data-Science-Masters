{
 "cells": [
  {
   "cell_type": "markdown",
   "id": "50c3aa3a-16fc-4af6-a3b6-ec1962a07514",
   "metadata": {},
   "source": [
    "### 1. What is an exception in python? What is the difference between exceptions and syntax errors?\n"
   ]
  },
  {
   "cell_type": "markdown",
   "id": "d30c48c7-efc1-4702-b7d3-67f7ba950a7f",
   "metadata": {},
   "source": [
    "An exception in Python is an error that occurs during the execution of a program. Exceptions are raised when an error condition occurs that the program cannot handle. When an exception is raised, the normal flow of execution is interrupted, and the program jumps to the nearest exception handler. This allows you to catch and handle exceptions in your code, which can help to make your programs more robust and less prone to crashing.\n",
    "\n",
    "The difference between exceptions and syntax errors is that syntax errors occur when the code violates the rules of the Python language, while exceptions occur during the execution of the code. Syntax errors are usually detected by the Python interpreter before the program starts running, and they are usually caused by mistakes in the code such as misspelled keywords, incorrect indentation, or mismatched parentheses. On the other hand, exceptions are caused by events that occur during the execution of the program, such as division by zero, file not found, or network errors.\n",
    "\n",
    "In short, syntax errors are problems with the structure of the code, while exceptions are problems with the runtime behavior of the code."
   ]
  },
  {
   "cell_type": "markdown",
   "id": "f8924540-4b2c-40da-8b81-06193696aba7",
   "metadata": {},
   "source": [
    "### 2. What happens when an exception is not handled? Explain with an example."
   ]
  },
  {
   "cell_type": "code",
   "execution_count": 1,
   "id": "88f41d9d-a36a-4107-9bd1-328fd46ae2b2",
   "metadata": {},
   "outputs": [
    {
     "name": "stdout",
     "output_type": "stream",
     "text": [
      "2.0\n"
     ]
    },
    {
     "ename": "ZeroDivisionError",
     "evalue": "division by zero",
     "output_type": "error",
     "traceback": [
      "\u001b[0;31m---------------------------------------------------------------------------\u001b[0m",
      "\u001b[0;31mZeroDivisionError\u001b[0m                         Traceback (most recent call last)",
      "Cell \u001b[0;32mIn[1], line 9\u001b[0m\n\u001b[1;32m      6\u001b[0m     \u001b[38;5;28;01mreturn\u001b[39;00m a \u001b[38;5;241m/\u001b[39m b\n\u001b[1;32m      8\u001b[0m \u001b[38;5;28mprint\u001b[39m(divide(\u001b[38;5;241m10\u001b[39m, \u001b[38;5;241m5\u001b[39m))\n\u001b[0;32m----> 9\u001b[0m \u001b[38;5;28mprint\u001b[39m(\u001b[43mdivide\u001b[49m\u001b[43m(\u001b[49m\u001b[38;5;241;43m10\u001b[39;49m\u001b[43m,\u001b[49m\u001b[43m \u001b[49m\u001b[38;5;241;43m0\u001b[39;49m\u001b[43m)\u001b[49m)\n\u001b[1;32m     10\u001b[0m \u001b[38;5;28mprint\u001b[39m(\u001b[38;5;124m\"\u001b[39m\u001b[38;5;124mThis line will not be executed\u001b[39m\u001b[38;5;124m\"\u001b[39m)\n\u001b[1;32m     12\u001b[0m \u001b[38;5;124;03m'''In this example, the divide function takes two arguments and returns their quotient. The first call to \u001b[39;00m\n\u001b[1;32m     13\u001b[0m \u001b[38;5;124;03mdivide returns the expected result of 2. However, the second call to divide raises a ZeroDivisionError \u001b[39;00m\n\u001b[1;32m     14\u001b[0m \u001b[38;5;124;03mexception because dividing by zero is undefined. Since the exception is not handled, the program stops \u001b[39;00m\n\u001b[0;32m   (...)\u001b[0m\n\u001b[1;32m     17\u001b[0m \u001b[38;5;124;03mthe division. The traceback also shows the type of the exception, which is ZeroDivisionError. The program \u001b[39;00m\n\u001b[1;32m     18\u001b[0m \u001b[38;5;124;03mstops running after the traceback is displayed, and the line \"This line will not be executed\" is not printed.'''\u001b[39;00m\n",
      "Cell \u001b[0;32mIn[1], line 6\u001b[0m, in \u001b[0;36mdivide\u001b[0;34m(a, b)\u001b[0m\n\u001b[1;32m      5\u001b[0m \u001b[38;5;28;01mdef\u001b[39;00m \u001b[38;5;21mdivide\u001b[39m(a, b):\n\u001b[0;32m----> 6\u001b[0m     \u001b[38;5;28;01mreturn\u001b[39;00m \u001b[43ma\u001b[49m\u001b[43m \u001b[49m\u001b[38;5;241;43m/\u001b[39;49m\u001b[43m \u001b[49m\u001b[43mb\u001b[49m\n",
      "\u001b[0;31mZeroDivisionError\u001b[0m: division by zero"
     ]
    }
   ],
   "source": [
    "''' When an exception is not handled, the program will stop running and an error message will be displayed. \n",
    "The error message will contain information about the type of the exception, and the location in the \n",
    "code where it occurred. The error message is usually referred to as a traceback.'''\n",
    "\n",
    "def divide(a, b):\n",
    "    return a / b\n",
    "\n",
    "print(divide(10, 5))\n",
    "print(divide(10, 0))\n",
    "print(\"This line will not be executed\")\n",
    "\n",
    "'''In this example, the divide function takes two arguments and returns their quotient. The first call to \n",
    "divide returns the expected result of 2. However, the second call to divide raises a ZeroDivisionError \n",
    "exception because dividing by zero is undefined. Since the exception is not handled, the program stops \n",
    "running and the following traceback is displayed:\n",
    "The traceback shows that the exception occurred in the divide function, at line 4, when trying to perform\n",
    "the division. The traceback also shows the type of the exception, which is ZeroDivisionError. The program \n",
    "stops running after the traceback is displayed, and the line \"This line will not be executed\" is not printed.'''"
   ]
  },
  {
   "cell_type": "markdown",
   "id": "378edac1-113f-47cf-afad-c9cd9e04981f",
   "metadata": {},
   "source": [
    "### 3.Which Python sttements are used to catch and handle exceptions? Explain with an example"
   ]
  },
  {
   "cell_type": "code",
   "execution_count": 1,
   "id": "d6ecb677-9fd2-4a91-8439-2a1d65575071",
   "metadata": {},
   "outputs": [
    {
     "name": "stdout",
     "output_type": "stream",
     "text": [
      "Error: [Errno 2] No such file or directory: 'sample.txt'\n"
     ]
    },
    {
     "data": {
      "text/plain": [
       "'In this example, the try block contains the code to open the file \"sample.txt\" and read its contents. \\nIf the file is not found, a FileNotFoundError is raised and caught by the except block. The variable e is \\nused to store the error message, which is then printed. The second except block is a catch-all that catches \\nany other unexpected errors that may occur.'"
      ]
     },
     "execution_count": 1,
     "metadata": {},
     "output_type": "execute_result"
    }
   ],
   "source": [
    "'''The try-except statement in Python is used to catch and handle exceptions. The basic structure of a \n",
    "try-except statement is as follows:'''\n",
    "\n",
    "'''try:\n",
    "    # code block to be executed\n",
    "except [ExceptionType] as [variable_name]:\n",
    "    # code block to handle the exception'''\n",
    "\n",
    "#For example, consider the following code that tries to open a file for reading:\n",
    "try:\n",
    "    f = open(\"sample.txt\", \"r\")\n",
    "    contents = f.read()\n",
    "except FileNotFoundError as e:\n",
    "    print(\"Error:\", e)\n",
    "except:\n",
    "    print(\"Unexpected error.\")\n",
    "    \n",
    "'''In this example, the try block contains the code to open the file \"sample.txt\" and read its contents. \n",
    "If the file is not found, a FileNotFoundError is raised and caught by the except block. The variable e is \n",
    "used to store the error message, which is then printed. The second except block is a catch-all that catches \n",
    "any other unexpected errors that may occur.'''"
   ]
  },
  {
   "cell_type": "markdown",
   "id": "b26a8b8e-8570-4265-b761-a01ee3e30c7d",
   "metadata": {},
   "source": [
    "### 4.Explain with an example:try and else, finllay, raise"
   ]
  },
  {
   "cell_type": "code",
   "execution_count": 2,
   "id": "38b23047-9bd7-4267-a912-dad3e3dfe7e1",
   "metadata": {},
   "outputs": [
    {
     "name": "stdout",
     "output_type": "stream",
     "text": [
      "2.0\n",
      "Cannot divide by zero\n",
      "None\n",
      "Executing finally block\n",
      "2.0\n",
      "Cannot divide by zero\n",
      "Executing finally block\n"
     ]
    },
    {
     "ename": "UnboundLocalError",
     "evalue": "local variable 'result' referenced before assignment",
     "output_type": "error",
     "traceback": [
      "\u001b[0;31m---------------------------------------------------------------------------\u001b[0m",
      "\u001b[0;31mUnboundLocalError\u001b[0m                         Traceback (most recent call last)",
      "Cell \u001b[0;32mIn[2], line 35\u001b[0m\n\u001b[1;32m     32\u001b[0m     \u001b[38;5;28;01mreturn\u001b[39;00m result\n\u001b[1;32m     34\u001b[0m \u001b[38;5;28mprint\u001b[39m(divide(\u001b[38;5;241m10\u001b[39m, \u001b[38;5;241m5\u001b[39m))\n\u001b[0;32m---> 35\u001b[0m \u001b[38;5;28mprint\u001b[39m(\u001b[43mdivide\u001b[49m\u001b[43m(\u001b[49m\u001b[38;5;241;43m10\u001b[39;49m\u001b[43m,\u001b[49m\u001b[43m \u001b[49m\u001b[38;5;241;43m0\u001b[39;49m\u001b[43m)\u001b[49m) \n\u001b[1;32m     37\u001b[0m \u001b[38;5;124;03m'''In this example, the finally block is used to print a message indicating that it has been executed. \u001b[39;00m\n\u001b[1;32m     38\u001b[0m \u001b[38;5;124;03mThe message will be printed regardless of whether an exception was raised or not.\u001b[39;00m\n\u001b[1;32m     39\u001b[0m \n\u001b[1;32m     40\u001b[0m \u001b[38;5;124;03mThe raise statement is used to raise an exception. You can raise a built-in exception or create your \u001b[39;00m\n\u001b[1;32m     41\u001b[0m \u001b[38;5;124;03mown custom exception.'''\u001b[39;00m\n\u001b[1;32m     43\u001b[0m \u001b[38;5;28;01mdef\u001b[39;00m \u001b[38;5;21mpositive_number\u001b[39m(number):\n",
      "Cell \u001b[0;32mIn[2], line 32\u001b[0m, in \u001b[0;36mdivide\u001b[0;34m(a, b)\u001b[0m\n\u001b[1;32m     30\u001b[0m \u001b[38;5;28;01mfinally\u001b[39;00m:\n\u001b[1;32m     31\u001b[0m     \u001b[38;5;28mprint\u001b[39m(\u001b[38;5;124m\"\u001b[39m\u001b[38;5;124mExecuting finally block\u001b[39m\u001b[38;5;124m\"\u001b[39m)\n\u001b[0;32m---> 32\u001b[0m \u001b[38;5;28;01mreturn\u001b[39;00m \u001b[43mresult\u001b[49m\n",
      "\u001b[0;31mUnboundLocalError\u001b[0m: local variable 'result' referenced before assignment"
     ]
    }
   ],
   "source": [
    "'''The try and except statements in Python are used to handle exceptions. The try block contains the \n",
    "code that might raise an exception. The except block contains the code that will be executed if an \n",
    "exception occurs in the try block. The else block is optional and will be executed if there are no \n",
    "exceptions raised in the try block.'''\n",
    "\n",
    "def divide(a, b):\n",
    "    try:\n",
    "        result = a / b\n",
    "    except ZeroDivisionError:\n",
    "        print(\"Cannot divide by zero\")\n",
    "    else:\n",
    "        return result\n",
    "\n",
    "print(divide(10, 5)) \n",
    "print(divide(10, 0))\n",
    "\n",
    "'''In this example, the divide function takes two arguments and returns their quotient. The try block \n",
    "contains the division operation, which might raise a ZeroDivisionError exception if the second argument is \n",
    "zero. The except block catches this exception and prints an error message. The else block returns the result of the division if no exception was raised.\n",
    "\n",
    "The finally block is used to define clean-up actions that must be executed regardless of whether an \n",
    "exception has been raised or not. The finally block is executed after the try block and any associated \n",
    "except blocks.'''\n",
    "\n",
    "def divide(a, b):\n",
    "    try:\n",
    "        result = a / b\n",
    "    except ZeroDivisionError:\n",
    "        print(\"Cannot divide by zero\")\n",
    "    finally:\n",
    "        print(\"Executing finally block\")\n",
    "    return result\n",
    "\n",
    "print(divide(10, 5))\n",
    "print(divide(10, 0)) \n",
    "\n",
    "'''In this example, the finally block is used to print a message indicating that it has been executed. \n",
    "The message will be printed regardless of whether an exception was raised or not.\n",
    "\n",
    "The raise statement is used to raise an exception. You can raise a built-in exception or create your \n",
    "own custom exception.'''\n",
    "\n",
    "def positive_number(number):\n",
    "    if number <= 0:\n",
    "        raise ValueError(\"Number must be positive\")\n",
    "    return number\n",
    "\n",
    "print(positive_number(5)) \n",
    "print(positive_number(-5)) \n",
    "\n",
    "'''In this example, the positive_number function raises a ValueError exception if the argument number is \n",
    "less than or equal to zero. The raise statement is used to raise the exception, and the error message \n",
    "\"Number must be positive\" is passed as an argument to the ValueError constructor. If you call the\n",
    "positive_number function with a negative argument, the exception will be raised and a traceback will \n",
    "be displayed.'''"
   ]
  },
  {
   "cell_type": "markdown",
   "id": "9c523298-a5e9-4ea1-b5a4-d6341b742a74",
   "metadata": {},
   "source": [
    "### 5. What are Custom Exceptions in Python? What do we need Custom Exceptions? Explain with an example"
   ]
  },
  {
   "cell_type": "code",
   "execution_count": null,
   "id": "eb54f3e9-016d-4ba6-9360-b857f6b2d019",
   "metadata": {},
   "outputs": [],
   "source": [
    "'''Custom exceptions in Python are user-defined exceptions that can be raised in a program to signal \n",
    "specific error conditions. The purpose of custom exceptions is to provide more meaningful error messages \n",
    "that can help developers better understand and fix the root cause of an error.'''\n",
    "\n",
    "#For example \n",
    "class InvalidDateException(Exception):\n",
    "    def __init__(self, message):\n",
    "        self.message = message\n",
    "\n",
    "def validate_date(year, month, day):\n",
    "    if month < 1 or month > 12:\n",
    "        raise InvalidDateException(\"Invalid month: {0}\".format(month))\n",
    "    if day < 1 or day > 31:\n",
    "        raise InvalidDateException(\"Invalid day: {0}\".format(day))\n",
    "\n",
    "try:\n",
    "    validate_date(2024, 13, 32)\n",
    "except InvalidDateException as e:\n",
    "    print(\"Error:\", e.message)\n",
    "    \n",
    "'''In this example, the validate_date function raises an InvalidDateException if the month or day is \n",
    "invalid. The try-except block catches the exception and prints an error message with the information\n",
    "provided by the custom exception class. This allows the developer to understand exactly what went wrong \n",
    "and why the error occurred.'''"
   ]
  },
  {
   "cell_type": "markdown",
   "id": "3bab8652-5936-44d4-ad0e-9b4df2c993a9",
   "metadata": {},
   "source": [
    "### 6. Create custom exception class. Use this class to handle an exception."
   ]
  },
  {
   "cell_type": "code",
   "execution_count": 7,
   "id": "0ae31ca2-f66a-40c6-938b-67d37d1c269d",
   "metadata": {},
   "outputs": [
    {
     "name": "stdin",
     "output_type": "stream",
     "text": [
      "enter your age 290\n"
     ]
    },
    {
     "name": "stdout",
     "output_type": "stream",
     "text": [
      "age is too high \n"
     ]
    }
   ],
   "source": [
    "class validateage(Exception) : \n",
    "    def __init__(self, msg) :\n",
    "        self.msg = msg\n",
    "        \n",
    "def validate_age(age) : \n",
    "    if age < 0 : \n",
    "        raise validateage(\"age should not be lesser then zeor \" )\n",
    "    elif age > 200 : \n",
    "        raise validateage(\"age is too high \" )\n",
    "        \n",
    "    else :\n",
    "        print(\"age is valid\" )\n",
    "        \n",
    "try : \n",
    "    age = int(input(\"enter your age\"))\n",
    "    validate_age(age)\n",
    "except validateage as e : \n",
    "    print(e)"
   ]
  }
 ],
 "metadata": {
  "kernelspec": {
   "display_name": "Python 3 (ipykernel)",
   "language": "python",
   "name": "python3"
  },
  "language_info": {
   "codemirror_mode": {
    "name": "ipython",
    "version": 3
   },
   "file_extension": ".py",
   "mimetype": "text/x-python",
   "name": "python",
   "nbconvert_exporter": "python",
   "pygments_lexer": "ipython3",
   "version": "3.10.8"
  }
 },
 "nbformat": 4,
 "nbformat_minor": 5
}
