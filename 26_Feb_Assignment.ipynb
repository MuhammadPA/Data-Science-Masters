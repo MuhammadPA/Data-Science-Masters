{
 "cells": [
  {
   "cell_type": "code",
   "execution_count": 1,
   "id": "d2467c05-968b-4e3a-875e-fd122540f4e6",
   "metadata": {},
   "outputs": [],
   "source": [
    "#Consider the below code to answer further questions:\n",
    "import numpy as np\n",
    "list_ = [ '1','2','3','4','5' ]\n",
    "array_list = np.array(object = list_)"
   ]
  },
  {
   "cell_type": "markdown",
   "id": "3e9a8d83-94ff-4f89-8e44-05bca7af49e3",
   "metadata": {},
   "source": [
    "### 1. Is there any difference in the data type of variables list_ and array_list? If there is then write a code to print the data types of both the variables."
   ]
  },
  {
   "cell_type": "markdown",
   "id": "94038df0-c37a-4abd-a864-066c10159be5",
   "metadata": {},
   "source": [
    "Yes, there is a difference in the data type of variables list_ and array_list.\n",
    "\n",
    "list_ is a Python list and array_list is a numpy array.\n",
    "\n",
    "We can print the data types of both variables using the type() function as shown below:"
   ]
  },
  {
   "cell_type": "code",
   "execution_count": 2,
   "id": "bbb1aeaf-cf27-4e64-a83c-0c12b398513c",
   "metadata": {},
   "outputs": [
    {
     "name": "stdout",
     "output_type": "stream",
     "text": [
      "<class 'list'>\n",
      "<class 'numpy.ndarray'>\n"
     ]
    }
   ],
   "source": [
    "print(type(list_))\n",
    "print(type(array_list))"
   ]
  },
  {
   "cell_type": "markdown",
   "id": "9507564e-efde-4912-86be-dbf8253f7461",
   "metadata": {},
   "source": [
    "### 2. Write a code to print the data type of each and every element of both the variables list_ and array_list."
   ]
  },
  {
   "cell_type": "code",
   "execution_count": 3,
   "id": "f64a69ef-9961-4bc7-927e-10d3ccd00b50",
   "metadata": {},
   "outputs": [
    {
     "name": "stdout",
     "output_type": "stream",
     "text": [
      "<class 'str'>\n",
      "<class 'str'>\n",
      "<class 'str'>\n",
      "<class 'str'>\n",
      "<class 'str'>\n",
      "<class 'numpy.ndarray'>\n",
      "<class 'numpy.ndarray'>\n",
      "<class 'numpy.ndarray'>\n",
      "<class 'numpy.ndarray'>\n",
      "<class 'numpy.ndarray'>\n"
     ]
    }
   ],
   "source": [
    "for element in list_:\n",
    "    print(type(element))\n",
    "\n",
    "for element in np.nditer(array_list):\n",
    "    print(type(element))"
   ]
  },
  {
   "cell_type": "markdown",
   "id": "582c9a9e-fdf2-4cc5-9cd1-bacedcbb2d5c",
   "metadata": {},
   "source": [
    "### 3. Considering the following changes in the variable, array_list:\n",
    "\n",
    "array_list = np.array(object = list_, dtype = int)\n",
    "\n",
    "Will there be any difference in the data type of the elements present in both the variables, list_ and\n",
    "array_list? If so then print the data types of each and every element present in both the variables, list_\n",
    "and arra_list."
   ]
  },
  {
   "cell_type": "code",
   "execution_count": 9,
   "id": "e7e74e16-96d9-478e-b5ce-703f98d0ce3e",
   "metadata": {},
   "outputs": [
    {
     "name": "stdout",
     "output_type": "stream",
     "text": [
      "Data type of elements in list_:\n",
      "<class 'str'>\n",
      "<class 'str'>\n",
      "<class 'str'>\n",
      "<class 'str'>\n",
      "<class 'str'>\n",
      "\n",
      "Data type of elements in array_list:\n",
      "<class 'numpy.ndarray'>\n",
      "<class 'numpy.ndarray'>\n",
      "<class 'numpy.ndarray'>\n",
      "<class 'numpy.ndarray'>\n",
      "<class 'numpy.ndarray'>\n",
      "int64\n"
     ]
    }
   ],
   "source": [
    "'''Yes, there will be a difference in the data type of elements present in both the variables, \n",
    "list_ and array_list. After specifying the dtype as int, the elements of array_list will be of integer \n",
    "data type.'''\n",
    "\n",
    "import numpy as np\n",
    "\n",
    "list_ = ['1', '2', '3', '4', '5']\n",
    "array_list = np.array(object=list_, dtype=int)\n",
    "\n",
    "print(\"Data type of elements in list_:\")\n",
    "for i in list_:\n",
    "    print(type(i))\n",
    "\n",
    "print(\"\\nData type of elements in array_list:\")\n",
    "for i in np.nditer(array_list):\n",
    "    print(type(i))\n",
    "    \n",
    "print(array_list.dtype) "
   ]
  },
  {
   "cell_type": "code",
   "execution_count": 10,
   "id": "537a555f-c5ad-4dd1-bace-229aa8483ddc",
   "metadata": {},
   "outputs": [],
   "source": [
    "#Consider the below code to answer further questions:\n",
    "import numpy as np\n",
    "num_list = [ [ 1 , 2 , 3 ] , [ 4 , 5 , 6 ] ]\n",
    "num_array = np.array(object = num_list)"
   ]
  },
  {
   "cell_type": "markdown",
   "id": "3b3d088f-d9eb-4771-b474-3b7160854f60",
   "metadata": {},
   "source": [
    "### 4. Q4. Write a code to find the following characteristics of variable, num_array:\n",
    "\n",
    "(i) shape\n",
    "\n",
    "(ii) size"
   ]
  },
  {
   "cell_type": "code",
   "execution_count": 13,
   "id": "53c9cf94-ca70-40e6-8ca3-b143a9440436",
   "metadata": {},
   "outputs": [
    {
     "name": "stdout",
     "output_type": "stream",
     "text": [
      "(2, 3)\n",
      "6\n"
     ]
    }
   ],
   "source": [
    "print(num_array.shape)\n",
    "print(num_array.size)"
   ]
  },
  {
   "cell_type": "markdown",
   "id": "cadf65ca-0f6b-42c7-9b31-d7785d796df7",
   "metadata": {},
   "source": [
    "### 5. Write a code to create numpy array of 3*3 matrix containing zeros only, using a numpy array creation function."
   ]
  },
  {
   "cell_type": "code",
   "execution_count": 14,
   "id": "b5a8b05a-7ad0-456c-b7c2-a7c2c0d39765",
   "metadata": {},
   "outputs": [
    {
     "name": "stdout",
     "output_type": "stream",
     "text": [
      "[[0. 0. 0.]\n",
      " [0. 0. 0.]\n",
      " [0. 0. 0.]]\n"
     ]
    }
   ],
   "source": [
    "zeros_array = np.zeros((3, 3))\n",
    "print(zeros_array)"
   ]
  },
  {
   "cell_type": "markdown",
   "id": "325805c6-debd-461d-902a-c842ef4ebf2a",
   "metadata": {},
   "source": [
    "### 6. Create an identity matrix of shape (5,5) using numpy functions?"
   ]
  },
  {
   "cell_type": "code",
   "execution_count": 17,
   "id": "3438abac-be1e-46fa-9f3f-21ae6c95af6a",
   "metadata": {},
   "outputs": [
    {
     "name": "stdout",
     "output_type": "stream",
     "text": [
      "[[1. 0. 0. 0. 0.]\n",
      " [0. 1. 0. 0. 0.]\n",
      " [0. 0. 1. 0. 0.]\n",
      " [0. 0. 0. 1. 0.]\n",
      " [0. 0. 0. 0. 1.]]\n"
     ]
    }
   ],
   "source": [
    "identity_matrix = np.identity(5)\n",
    "print(identity_matrix)"
   ]
  }
 ],
 "metadata": {
  "kernelspec": {
   "display_name": "Python 3 (ipykernel)",
   "language": "python",
   "name": "python3"
  },
  "language_info": {
   "codemirror_mode": {
    "name": "ipython",
    "version": 3
   },
   "file_extension": ".py",
   "mimetype": "text/x-python",
   "name": "python",
   "nbconvert_exporter": "python",
   "pygments_lexer": "ipython3",
   "version": "3.10.8"
  }
 },
 "nbformat": 4,
 "nbformat_minor": 5
}
