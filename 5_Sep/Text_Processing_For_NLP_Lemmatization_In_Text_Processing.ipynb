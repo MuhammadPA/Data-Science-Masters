{
  "cells": [
    {
      "cell_type": "markdown",
      "metadata": {
        "id": "Vf4u0rE7DM_1"
      },
      "source": [
        "# Importing Necessary Libraries"
      ]
    },
    {
      "cell_type": "code",
      "execution_count": null,
      "metadata": {
        "id": "BiarQFLxDM_8"
      },
      "outputs": [],
      "source": [
        "import nltk\n",
        "from nltk.tokenize import word_tokenize\n",
        "from nltk.stem import WordNetLemmatizer"
      ]
    },
    {
      "cell_type": "markdown",
      "metadata": {
        "id": "CiaiQImeDM__"
      },
      "source": [
        "# Sample text"
      ]
    },
    {
      "cell_type": "code",
      "execution_count": null,
      "metadata": {
        "id": "Tu2_yyAJDNAA"
      },
      "outputs": [],
      "source": [
        "text = \"Lemmatization is a crucial step in text processing. It reduces words to their base forms.\""
      ]
    },
    {
      "cell_type": "markdown",
      "metadata": {
        "id": "k_bkjl-uDNAA"
      },
      "source": [
        "# Tokenize into words"
      ]
    },
    {
      "cell_type": "code",
      "execution_count": null,
      "metadata": {
        "id": "nw3iC-RiDNAB",
        "outputId": "104c6c8d-b587-4b60-9495-368fdd03fca4"
      },
      "outputs": [
        {
          "name": "stdout",
          "output_type": "stream",
          "text": [
            "Tokenize into words\n",
            "Tokenized words: ['Lemmatization', 'is', 'a', 'crucial', 'step', 'in', 'text', 'processing', '.', 'It', 'reduces', 'words', 'to', 'their', 'base', 'forms', '.']\n",
            "\n"
          ]
        }
      ],
      "source": [
        "print(\"Tokenize into words\")\n",
        "words = word_tokenize(text)\n",
        "print(\"Tokenized words:\", words)\n",
        "print()"
      ]
    },
    {
      "cell_type": "markdown",
      "metadata": {
        "id": "-FSuE368DNAD"
      },
      "source": [
        "# Initiate the Lemmatizer"
      ]
    },
    {
      "cell_type": "code",
      "execution_count": null,
      "metadata": {
        "id": "Z8JR8B1SDNAE",
        "outputId": "cd54ef1f-e2a0-4f50-a350-50300a468afc"
      },
      "outputs": [
        {
          "name": "stdout",
          "output_type": "stream",
          "text": [
            "Initialize the lemmatizer\n"
          ]
        }
      ],
      "source": [
        "print(\"Initialize the lemmatizer\")\n",
        "lemmatizer = WordNetLemmatizer()"
      ]
    },
    {
      "cell_type": "markdown",
      "metadata": {
        "id": "1KKQsClpDNAF"
      },
      "source": [
        "# Lemmatize words"
      ]
    },
    {
      "cell_type": "code",
      "execution_count": null,
      "metadata": {
        "id": "NDeFnSoxDNAF",
        "outputId": "2f2bf1c6-3929-46d5-b836-85a1da7661d6"
      },
      "outputs": [
        {
          "name": "stdout",
          "output_type": "stream",
          "text": [
            "Lemmatize words\n",
            "Lemmatized words: ['Lemmatization', 'is', 'a', 'crucial', 'step', 'in', 'text', 'processing', '.', 'It', 'reduces', 'word', 'to', 'their', 'base', 'form', '.']\n"
          ]
        }
      ],
      "source": [
        "print(\"Lemmatize words\")\n",
        "lemmatized_words = [lemmatizer.lemmatize(word) for word in words]\n",
        "print(\"Lemmatized words:\", lemmatized_words)"
      ]
    },
    {
      "cell_type": "code",
      "execution_count": null,
      "metadata": {
        "id": "0ax5GE3yDNAG"
      },
      "outputs": [],
      "source": []
    }
  ],
  "metadata": {
    "kernelspec": {
      "display_name": "Python 3",
      "language": "python",
      "name": "python3"
    },
    "language_info": {
      "codemirror_mode": {
        "name": "ipython",
        "version": 3
      },
      "file_extension": ".py",
      "mimetype": "text/x-python",
      "name": "python",
      "nbconvert_exporter": "python",
      "pygments_lexer": "ipython3",
      "version": "3.8.5"
    },
    "colab": {
      "provenance": []
    }
  },
  "nbformat": 4,
  "nbformat_minor": 0
}