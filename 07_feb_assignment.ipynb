{
 "cells": [
  {
   "cell_type": "markdown",
   "id": "4e06fb62-4938-424a-b9f6-3a4c6c96c3ae",
   "metadata": {},
   "source": [
    "### 1. What are the three measures of central tendency?"
   ]
  },
  {
   "cell_type": "markdown",
   "id": "2dc9ad10-4001-424b-9179-a5adc1ea1ad7",
   "metadata": {},
   "source": [
    "The three measures of central tendency are:\n",
    "\n",
    "1.Mean: The arithmetic mean is the most commonly used measure of central tendency. It is calculated by adding up all the values in a set of data and then dividing by the number of values. The mean is sensitive to outliers, meaning that extreme values can significantly affect the value of the mean.\n",
    "\n",
    "2.Median: The median is the middle value in a set of data when the values are arranged in order. If there is an even number of values, the median is the average of the two middle values. The median is less sensitive to outliers than the mean and is often used when there are extreme values in the data.\n",
    "\n",
    "3.Mode: The mode is the value that occurs most frequently in a set of data. There can be more than one mode or no mode at all. The mode is often used with categorical or nominal data where values cannot be added or averaged."
   ]
  },
  {
   "cell_type": "markdown",
   "id": "31f4b056-ed49-4494-a852-3dea8a9eec53",
   "metadata": {},
   "source": [
    "### 2. What is the difference between the mean, median, and mode? How are they used to measure the central tendency of a dataset?"
   ]
  },
  {
   "cell_type": "markdown",
   "id": "57dbdcba-c179-4a3d-9088-fc98cd45cf5f",
   "metadata": {},
   "source": [
    "The mean, median, and mode are all measures of central tendency, but they differ in how they represent the center of a dataset.\n",
    "\n",
    "The mean is calculated by adding up all the values in a dataset and dividing by the number of values. It represents the average value of the dataset and is the most commonly used measure of central tendency. The mean is sensitive to extreme values, or outliers, which can greatly affect its value.\n",
    "\n",
    "The median is the middle value in a dataset when the values are arranged in order. It represents the value that splits the dataset into two equal halves. The median is less sensitive to outliers than the mean and is often used when the dataset has extreme values.\n",
    "\n",
    "The mode is the value that appears most frequently in a dataset. It represents the most common value or values in the dataset. The mode is often used with categorical or nominal data where values cannot be added or averaged.\n",
    "\n",
    "To choose the most appropriate measure of central tendency for a dataset, we need to consider the type of data, the distribution of the data, and the presence of outliers. If the data is normally distributed with no outliers, the mean is the most appropriate measure. If the data is skewed or has outliers, the median may be a better representation of the center of the dataset. If the data is categorical, the mode is the most appropriate measure."
   ]
  },
  {
   "cell_type": "markdown",
   "id": "9d9a7650-de9c-42c3-9934-5e42f79b1801",
   "metadata": {},
   "source": [
    "### 3. Measure the three measures of central tendency for the given height data\n",
    "[178,177,176,177,178.2,178,175,179,180,175,178.9,176.2,177,172.5,178,176.5]"
   ]
  },
  {
   "cell_type": "code",
   "execution_count": 9,
   "id": "cfd82755-8ebe-4505-805d-04e208c657cb",
   "metadata": {},
   "outputs": [
    {
     "name": "stdout",
     "output_type": "stream",
     "text": [
      "177.01875\n",
      "177.0\n",
      "ModeResult(mode=array([177.]), count=array([3]))\n"
     ]
    },
    {
     "name": "stderr",
     "output_type": "stream",
     "text": [
      "/tmp/ipykernel_83/2837922097.py:14: FutureWarning: Unlike other reduction functions (e.g. `skew`, `kurtosis`), the default behavior of `mode` typically preserves the axis it acts along. In SciPy 1.11.0, this behavior will change: the default value of `keepdims` will become False, the `axis` over which the statistic is taken will be eliminated, and the value None will no longer be accepted. Set `keepdims` to True or False to avoid this warning.\n",
      "  mode=stats.mode(height)\n"
     ]
    }
   ],
   "source": [
    "import numpy as np\n",
    "from scipy import stats\n",
    "\n",
    "height= [178,177,176,177,178.2,178,175,179,180,175,178.9,176.2,177,172.5,178,176.5]\n",
    "#Mean\n",
    "mean=np.mean(height)\n",
    "print(mean)\n",
    "\n",
    "#Median\n",
    "median=np.median(height)\n",
    "print(median)\n",
    "\n",
    "#Mode\n",
    "mode=stats.mode(height)\n",
    "print(mode)"
   ]
  },
  {
   "cell_type": "markdown",
   "id": "c2673083-515f-488b-bedd-1bc7d4631d89",
   "metadata": {},
   "source": [
    "### 4.  Find the standard deviation for the given data:\n",
    "[178,177,176,177,178.2,178,175,179,180,175,178.9,176.2,177,172.5,178,176.5]"
   ]
  },
  {
   "cell_type": "code",
   "execution_count": 6,
   "id": "dff007cf-2c52-4f89-8e32-e6eecbece3b2",
   "metadata": {},
   "outputs": [
    {
     "data": {
      "text/plain": [
       "1.7885814036548633"
      ]
     },
     "execution_count": 6,
     "metadata": {},
     "output_type": "execute_result"
    }
   ],
   "source": [
    "import numpy as np\n",
    "data = [178,177,176,177,178.2,178,175,179,180,175,178.9,176.2,177,172.5,178,176.5]\n",
    "np.std(data)"
   ]
  },
  {
   "cell_type": "markdown",
   "id": "4ebbbb17-db3f-4c62-824a-1cc19d22a659",
   "metadata": {},
   "source": [
    "### 5.How are measures of dispersion such as range, variance, and standard deviation used to describe the spread of a dataset? Provide an example."
   ]
  },
  {
   "cell_type": "markdown",
   "id": "eb0d7357-220d-47be-979c-8f8567304080",
   "metadata": {},
   "source": [
    "Measures of dispersion, such as range, variance, and standard deviation, are used to describe the spread or variability of a dataset.\n",
    "\n",
    "The range is the difference between the highest and lowest values in a dataset. It gives a rough idea of the spread of the data, but it can be affected by outliers.\n",
    "\n",
    "The variance is the average of the squared differences between each value and the mean of the dataset. It measures how far the data is spread out from the mean. The variance can be influenced by extreme values and is expressed in squared units.\n",
    "\n",
    "The standard deviation is the square root of the variance. It is a more commonly used measure of dispersion than variance, as it is expressed in the same units as the original data. The standard deviation indicates how far the data is spread out from the mean and is less sensitive to outliers than the variance.\n",
    "\n",
    "For example, consider the following dataset of test scores: 75, 80, 85, 90, 95.\n",
    "\n",
    "The mean of this dataset is (75+80+85+90+95)/5 = 85.\n",
    "\n",
    "The range of the dataset is 95 - 75 = 20.\n",
    "\n",
    "The variance of the dataset is ((75-85)^2 + (80-85)^2 + (85-85)^2 + (90-85)^2 + (95-85)^2)/5 = 100/5 = 20.\n",
    "\n",
    "The standard deviation of the dataset is the square root of the variance, which is √20 = 4.47.\n",
    "\n",
    "The range suggests that the scores are somewhat spread out, but it doesn't give a precise measure of how spread out they are. The variance and standard deviation provide a more precise measure of the spread of the scores, indicating that they are spread out by approximately 4.47 points on average from the mean of 85."
   ]
  },
  {
   "cell_type": "markdown",
   "id": "66057dfc-20bf-4f0b-a6d6-2f8a650cdca8",
   "metadata": {},
   "source": [
    "### 6. What is a Venn diagram?"
   ]
  },
  {
   "cell_type": "markdown",
   "id": "86597adb-c249-42c9-9db5-46353bbb9a72",
   "metadata": {},
   "source": [
    "A Venn diagram is a visual representation of the relationships between different sets of items or concepts. It consists of overlapping circles or other shapes, where each circle represents a set and the overlap between circles represents the intersection of those sets. The areas outside the circles represent the items or concepts that are not part of any of the sets.\n",
    "\n",
    "Venn diagrams can be used to illustrate relationships between different groups, such as the overlap between different demographic groups, or the similarities and differences between different types of animals or plants. They can also be used to solve problems related to sets and their intersections, such as calculating the probability of two events occurring simultaneously. Venn diagrams are a popular tool in mathematics, logic, and statistics."
   ]
  },
  {
   "cell_type": "markdown",
   "id": "78a7e582-8d33-4559-8f82-381657eafe52",
   "metadata": {},
   "source": [
    "### 7. For the two given sets A = (2,3,4,5,6,7) & B = (0,2,6,8,10). Find:\n",
    "(i) A ⋂ B\n",
    "(ii) A ⋃ B"
   ]
  },
  {
   "cell_type": "code",
   "execution_count": 8,
   "id": "e9212117-ef62-41aa-a094-f2a29d266687",
   "metadata": {},
   "outputs": [
    {
     "name": "stdout",
     "output_type": "stream",
     "text": [
      "{0, 2, 3, 4, 5, 6, 7, 8, 10}\n",
      "{2, 6}\n"
     ]
    }
   ],
   "source": [
    "A = {2,3,4,5,6,7}\n",
    "B = {0,2,6,8,10}\n",
    "\n",
    "union= A.union(B)\n",
    "print(union)\n",
    "\n",
    "intersection = A.intersection(B)\n",
    "print(intersection)"
   ]
  },
  {
   "cell_type": "markdown",
   "id": "08bae5b9-3673-4487-9a97-451b8f0409c1",
   "metadata": {},
   "source": [
    "### 8. What do you understand about skewness in data?"
   ]
  },
  {
   "cell_type": "markdown",
   "id": "2ac7876c-f694-4b5b-9150-d6e5775c1c1b",
   "metadata": {},
   "source": [
    "Skewness is a measure of the degree of asymmetry of a probability distribution. In other words, it measures how lopsided a distribution is.\n",
    "\n",
    "A distribution can be positively skewed, negatively skewed, or have no skewness (i.e., be symmetric).\n",
    "\n",
    "A distribution is positively skewed if it has a long tail on the right-hand side of the distribution, meaning that the right side of the distribution extends farther out than the left side. In this case, the mean of the distribution will be greater than the median, and the mode (the most common value) will be less than the median.\n",
    "\n",
    "A distribution is negatively skewed if it has a long tail on the left-hand side of the distribution, meaning that the left side of the distribution extends farther out than the right side. In this case, the mean of the distribution will be less than the median, and the mode will be greater than the median.\n",
    "\n",
    "A distribution has no skewness (i.e., is symmetric) if it is evenly distributed around its mean, with no long tails on either side."
   ]
  },
  {
   "cell_type": "markdown",
   "id": "d7e7d399-01af-4fef-af37-3d4d9fcc2f79",
   "metadata": {},
   "source": [
    "### 9. If a data is right skewed then what will be the position of median with respect to mean?"
   ]
  },
  {
   "cell_type": "markdown",
   "id": "b0bb9398-0190-4f29-a9d9-0d6fc814f9d5",
   "metadata": {},
   "source": [
    "If a data is right skewed, the median will be less than the mean. This is because the mean is pulled towards the long tail on the right-hand side of the distribution, which makes it greater than the median. In a right-skewed distribution, there are typically a few very high values on the right-hand side of the distribution that can have a large impact on the mean. However, the median is not affected by extreme values in the same way, so it provides a better measure of central tendency for skewed datasets. Therefore, in a right-skewed distribution, the median is typically a more representative measure of central tendency than the mean."
   ]
  },
  {
   "cell_type": "markdown",
   "id": "4ded9ddf-f9c1-4503-9847-ecc9f2ee653b",
   "metadata": {},
   "source": [
    "### 10.Explain the difference between covariance and correlation. How are these measures used in statistical analysis?"
   ]
  },
  {
   "cell_type": "markdown",
   "id": "878f5b7e-8a0f-48fe-9ad4-ff9bb6426f58",
   "metadata": {},
   "source": [
    "Covariance and correlation are both measures of the relationship between two variables, but they differ in their interpretation and scale.\n",
    "\n",
    "Covariance measures the extent to which two variables vary together. It is a measure of the joint variability of two variables, and it can take on positive or negative values. A positive covariance indicates that the two variables tend to increase or decrease together, while a negative covariance indicates that the two variables tend to move in opposite directions. However, the magnitude of covariance is not standardized, which means it can be difficult to compare covariances across different datasets or variable scales.\n",
    "\n",
    "Correlation, on the other hand, measures the strength and direction of the linear relationship between two variables. It is a standardized measure that ranges from -1 to +1, with 0 indicating no linear relationship, -1 indicating a perfect negative linear relationship, and +1 indicating a perfect positive linear relationship. Correlation is useful because it is not affected by differences in the scales of the two variables, and it provides a standardized measure of the strength and direction of the relationship."
   ]
  },
  {
   "cell_type": "markdown",
   "id": "96c675ee-2130-46d4-9570-b6bfd2b90480",
   "metadata": {},
   "source": [
    "### 11. What is the formula for calculating the sample mean? Provide an example calculation for a dataset."
   ]
  },
  {
   "cell_type": "markdown",
   "id": "1b5390e3-1186-4cf8-a793-aa9131ae710d",
   "metadata": {},
   "source": [
    "The sample mean is a measure of central tendency that represents the average value of a dataset. It is calculated by summing all the values in the dataset and dividing by the number of observations. The formula for calculating the sample mean is as follows:\n",
    "\n",
    "Sample Mean = (sum of all values) / (number of observations)\n",
    "\n",
    "Here is an example calculation of the sample mean for a dataset:\n",
    "\n",
    "Suppose we have the following dataset:\n",
    "\n",
    "4, 8, 2, 6, 9, 1, 5, 3\n",
    "\n",
    "To calculate the sample mean, we first add up all the values in the dataset:\n",
    "\n",
    "4 + 8 + 2 + 6 + 9 + 1 + 5 + 3 = 38\n",
    "\n",
    "Next, we divide the sum by the number of observations (which in this case is 8):\n",
    "\n",
    "Sample Mean = 38 / 8 = 4.75\n",
    "\n",
    "Therefore, the sample mean of this dataset is 4.75."
   ]
  },
  {
   "cell_type": "markdown",
   "id": "bac9acb3-b686-4ab6-b0e6-c05a73245e15",
   "metadata": {},
   "source": [
    "### 12. For a normal distribution data what is the relationship between its measure of central tendency?"
   ]
  },
  {
   "cell_type": "markdown",
   "id": "c49dcfb4-b747-4387-980f-bde4c935fa22",
   "metadata": {},
   "source": [
    "For a normal distribution data, the measures of central tendency (i.e., mean, median, and mode) are equal to each other. This is because a normal distribution is symmetric around its mean, so the median and mode are also located at the same point as the mean.\n",
    "\n",
    "In other words, the mean, median, and mode are all located at the peak of the normal distribution, and they are all equal to each other. This property of the normal distribution makes it easier to describe and analyze the data, as we can use any of the measures of central tendency to summarize the distribution."
   ]
  },
  {
   "cell_type": "markdown",
   "id": "01cf97e5-93a3-44f8-8be1-b19952f7567e",
   "metadata": {},
   "source": [
    "### 13.How is covariance different from correlation?"
   ]
  },
  {
   "cell_type": "markdown",
   "id": "c8a807eb-945c-4004-8864-c51ade16a6c2",
   "metadata": {},
   "source": [
    "Covariance and correlation are both measures of the relationship between two variables, but they have some important differences.\n",
    "\n",
    "Covariance measures the degree to which two variables vary together. Specifically, covariance measures the expected value of the product of the deviations of two variables from their respective means. A positive covariance indicates that when one variable is above its mean, the other variable tends to be above its mean as well, while a negative covariance indicates that when one variable is above its mean, the other variable tends to be below its mean. However, the magnitude of the covariance depends on the units of the variables, which can make it difficult to compare covariances across different datasets.\n",
    "\n",
    "Correlation, on the other hand, is a standardized measure of the relationship between two variables that ranges from -1 to 1. Correlation is calculated by dividing the covariance of the two variables by the product of their standard deviations. Because correlation is standardized, it is not affected by differences in the units of the variables, making it easier to compare across datasets. A correlation of 1 indicates a perfect positive relationship between the variables, a correlation of -1 indicates a perfect negative relationship, and a correlation of 0 indicates no relationship."
   ]
  },
  {
   "cell_type": "markdown",
   "id": "50d02880-ad12-4d5a-8b09-482b31827f7e",
   "metadata": {},
   "source": [
    "### 14. How do outliers affect measures of central tendency and dispersion? Provide an example."
   ]
  },
  {
   "cell_type": "markdown",
   "id": "ae91c9fe-cccc-4e95-8e44-7e305959005b",
   "metadata": {},
   "source": [
    "Outliers can have a significant impact on measures of central tendency and dispersion. Central tendency refers to the center of a distribution, while dispersion refers to the spread or variability of the data. Outliers are values that are significantly different from the rest of the data and can skew the measures of central tendency and dispersion in different ways.\n",
    "\n",
    "For example, consider a dataset of exam scores:\n",
    "\n",
    "Exam Score\tFrequency\n",
    "\n",
    "80\t3\n",
    "\n",
    "85\t7\n",
    "\n",
    "90\t12\n",
    "\n",
    "95\t5\n",
    "\n",
    "100\t3\n",
    "\n",
    "The mean score for this dataset is 90.5, the median score is 90, and the mode is 90. However, if there is an outlier score of 50, the mean will decrease to 82.83, while the median and mode will remain at 90. This is because the mean is sensitive to extreme values, while the median and mode are not. In this case, the outlier score of 50 significantly affects the measure of central tendency.\n",
    "\n",
    "Similarly, outliers can affect measures of dispersion, such as the range and standard deviation. The range is the difference between the highest and lowest values in a dataset, while the standard deviation measures the average distance of each data point from the mean. If there is an outlier with a very high or low value, the range will be increased, while the standard deviation will also be increased because the data points are more spread out from the mean."
   ]
  }
 ],
 "metadata": {
  "kernelspec": {
   "display_name": "Python 3 (ipykernel)",
   "language": "python",
   "name": "python3"
  },
  "language_info": {
   "codemirror_mode": {
    "name": "ipython",
    "version": 3
   },
   "file_extension": ".py",
   "mimetype": "text/x-python",
   "name": "python",
   "nbconvert_exporter": "python",
   "pygments_lexer": "ipython3",
   "version": "3.10.8"
  }
 },
 "nbformat": 4,
 "nbformat_minor": 5
}
