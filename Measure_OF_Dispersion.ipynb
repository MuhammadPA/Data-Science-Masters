{
  "cells": [
    {
      "cell_type": "markdown",
      "id": "0c22d49c-ee2b-4ca8-b6fa-10c63a72e245",
      "metadata": {
        "id": "0c22d49c-ee2b-4ca8-b6fa-10c63a72e245"
      },
      "source": [
        "## Measure Of Dispersion\n"
      ]
    },
    {
      "cell_type": "code",
      "execution_count": null,
      "id": "620374c3-bc42-4a37-a927-5d43e56f33d6",
      "metadata": {
        "id": "620374c3-bc42-4a37-a927-5d43e56f33d6"
      },
      "outputs": [],
      "source": [
        "##variance\n",
        "\n",
        "ages_lst=[23,43,23,56,74,32,68,98,45,32]"
      ]
    },
    {
      "cell_type": "code",
      "execution_count": null,
      "id": "4f5c3061-1016-4635-a1af-7c96d60fef25",
      "metadata": {
        "id": "4f5c3061-1016-4635-a1af-7c96d60fef25"
      },
      "outputs": [],
      "source": [
        "import numpy as np"
      ]
    },
    {
      "cell_type": "code",
      "execution_count": null,
      "id": "47890046-6c9b-4a76-bfa8-d445b46c6ec2",
      "metadata": {
        "id": "47890046-6c9b-4a76-bfa8-d445b46c6ec2"
      },
      "outputs": [],
      "source": [
        "mean=np.mean(ages_lst)"
      ]
    },
    {
      "cell_type": "code",
      "execution_count": null,
      "id": "3e9ced52-4bc6-4bc4-b536-b964c08bb22e",
      "metadata": {
        "id": "3e9ced52-4bc6-4bc4-b536-b964c08bb22e",
        "outputId": "673c80eb-a0a1-4cfd-f428-e532a337e219"
      },
      "outputs": [
        {
          "data": {
            "text/plain": [
              "49.4"
            ]
          },
          "execution_count": 5,
          "metadata": {},
          "output_type": "execute_result"
        }
      ],
      "source": [
        "mean"
      ]
    },
    {
      "cell_type": "code",
      "execution_count": null,
      "id": "c142b2e0-939e-4cbd-9540-82a0f553dd54",
      "metadata": {
        "id": "c142b2e0-939e-4cbd-9540-82a0f553dd54",
        "outputId": "33962fcc-b27c-4948-d60c-a28f3bf9ecfe"
      },
      "outputs": [
        {
          "data": {
            "text/plain": [
              "541.64"
            ]
          },
          "execution_count": 7,
          "metadata": {},
          "output_type": "execute_result"
        }
      ],
      "source": [
        "var=np.var(ages_lst)\n",
        "var"
      ]
    },
    {
      "cell_type": "code",
      "execution_count": null,
      "id": "d8f3aa19-3b91-4379-b9fc-0ef5bb01e0e2",
      "metadata": {
        "id": "d8f3aa19-3b91-4379-b9fc-0ef5bb01e0e2",
        "outputId": "7fc40eb0-96ea-4856-bce9-b4860a8d7b61"
      },
      "outputs": [
        {
          "data": {
            "text/plain": [
              "23.273160507331188"
            ]
          },
          "execution_count": 9,
          "metadata": {},
          "output_type": "execute_result"
        }
      ],
      "source": [
        "std=np.std(ages_lst)\n",
        "std"
      ]
    },
    {
      "cell_type": "code",
      "execution_count": null,
      "id": "2b997c0c-dde5-4463-abe1-b974c8c71da3",
      "metadata": {
        "id": "2b997c0c-dde5-4463-abe1-b974c8c71da3"
      },
      "outputs": [],
      "source": [
        "import pandas as pd"
      ]
    },
    {
      "cell_type": "code",
      "execution_count": null,
      "id": "f2fe17ef-27ac-4a8b-a132-1ad500dcf54b",
      "metadata": {
        "id": "f2fe17ef-27ac-4a8b-a132-1ad500dcf54b",
        "outputId": "fa0fdec1-d16a-411c-a7f0-ea0e7dc99460"
      },
      "outputs": [
        {
          "data": {
            "text/plain": [
              "[[10, 12, 13], [34, 23, 45], [32, 34, 21]]"
            ]
          },
          "execution_count": 11,
          "metadata": {},
          "output_type": "execute_result"
        }
      ],
      "source": [
        "data=[[10,12,13],[34,23,45],[32,34,21]]\n",
        "data"
      ]
    },
    {
      "cell_type": "code",
      "execution_count": null,
      "id": "b01e6ffa-87dc-4139-9d4e-3648bde5aec0",
      "metadata": {
        "id": "b01e6ffa-87dc-4139-9d4e-3648bde5aec0",
        "outputId": "a96c9171-114f-4f0d-8fc7-449fa21cff11"
      },
      "outputs": [
        {
          "data": {
            "text/html": [
              "<div>\n",
              "<style scoped>\n",
              "    .dataframe tbody tr th:only-of-type {\n",
              "        vertical-align: middle;\n",
              "    }\n",
              "\n",
              "    .dataframe tbody tr th {\n",
              "        vertical-align: top;\n",
              "    }\n",
              "\n",
              "    .dataframe thead th {\n",
              "        text-align: right;\n",
              "    }\n",
              "</style>\n",
              "<table border=\"1\" class=\"dataframe\">\n",
              "  <thead>\n",
              "    <tr style=\"text-align: right;\">\n",
              "      <th></th>\n",
              "      <th>A</th>\n",
              "      <th>B</th>\n",
              "      <th>C</th>\n",
              "    </tr>\n",
              "  </thead>\n",
              "  <tbody>\n",
              "    <tr>\n",
              "      <th>0</th>\n",
              "      <td>10</td>\n",
              "      <td>12</td>\n",
              "      <td>13</td>\n",
              "    </tr>\n",
              "    <tr>\n",
              "      <th>1</th>\n",
              "      <td>34</td>\n",
              "      <td>23</td>\n",
              "      <td>45</td>\n",
              "    </tr>\n",
              "    <tr>\n",
              "      <th>2</th>\n",
              "      <td>32</td>\n",
              "      <td>34</td>\n",
              "      <td>21</td>\n",
              "    </tr>\n",
              "  </tbody>\n",
              "</table>\n",
              "</div>"
            ],
            "text/plain": [
              "    A   B   C\n",
              "0  10  12  13\n",
              "1  34  23  45\n",
              "2  32  34  21"
            ]
          },
          "execution_count": 14,
          "metadata": {},
          "output_type": "execute_result"
        }
      ],
      "source": [
        "df=pd.DataFrame(data,columns=[\"A\",\"B\",\"C\"])\n",
        "df"
      ]
    },
    {
      "cell_type": "code",
      "execution_count": null,
      "id": "f1fec76f-50f5-4a75-aacd-1f964372eccb",
      "metadata": {
        "id": "f1fec76f-50f5-4a75-aacd-1f964372eccb",
        "outputId": "1734f7f1-323c-4f3f-af8c-274eb3fbf3e5"
      },
      "outputs": [
        {
          "data": {
            "text/plain": [
              "A    177.333333\n",
              "B    121.000000\n",
              "C    277.333333\n",
              "dtype: float64"
            ]
          },
          "execution_count": 15,
          "metadata": {},
          "output_type": "execute_result"
        }
      ],
      "source": [
        "df.var()"
      ]
    },
    {
      "cell_type": "code",
      "execution_count": null,
      "id": "b40e86b8-e655-4dba-becd-09e13cbc8e55",
      "metadata": {
        "id": "b40e86b8-e655-4dba-becd-09e13cbc8e55",
        "outputId": "c0269674-3d6a-452b-b9a7-dd79758b5650"
      },
      "outputs": [
        {
          "data": {
            "text/plain": [
              "0      2.333333\n",
              "1    121.000000\n",
              "2     49.000000\n",
              "dtype: float64"
            ]
          },
          "execution_count": 17,
          "metadata": {},
          "output_type": "execute_result"
        }
      ],
      "source": [
        "## Row wise\n",
        "df.var(axis=1)"
      ]
    },
    {
      "cell_type": "code",
      "execution_count": null,
      "id": "0151bc61-c87e-46d9-8182-2afc49a793ae",
      "metadata": {
        "id": "0151bc61-c87e-46d9-8182-2afc49a793ae",
        "outputId": "3b85792b-0d6c-418e-8f89-c70b88aad299"
      },
      "outputs": [
        {
          "data": {
            "text/plain": [
              "A    177.333333\n",
              "B    121.000000\n",
              "C    277.333333\n",
              "dtype: float64"
            ]
          },
          "execution_count": 19,
          "metadata": {},
          "output_type": "execute_result"
        }
      ],
      "source": [
        "## coulmnwise\n",
        "df.var(axis=0)"
      ]
    },
    {
      "cell_type": "code",
      "execution_count": null,
      "id": "302e1275-328d-4d23-8fc0-12594a270e01",
      "metadata": {
        "id": "302e1275-328d-4d23-8fc0-12594a270e01"
      },
      "outputs": [],
      "source": []
    }
  ],
  "metadata": {
    "kernelspec": {
      "display_name": "Python 3 (ipykernel)",
      "language": "python",
      "name": "python3"
    },
    "language_info": {
      "codemirror_mode": {
        "name": "ipython",
        "version": 3
      },
      "file_extension": ".py",
      "mimetype": "text/x-python",
      "name": "python",
      "nbconvert_exporter": "python",
      "pygments_lexer": "ipython3",
      "version": "3.10.8"
    },
    "colab": {
      "provenance": []
    }
  },
  "nbformat": 4,
  "nbformat_minor": 5
}