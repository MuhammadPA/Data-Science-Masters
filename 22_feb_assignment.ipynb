{
 "cells": [
  {
   "cell_type": "markdown",
   "id": "68ea76e9-8ba1-4532-ba60-c86f72361842",
   "metadata": {},
   "source": [
    "### 1. Create a Pandas Series that contains the following data: 4, 8, 15, 16, 23, and 42. Then, print the series."
   ]
  },
  {
   "cell_type": "code",
   "execution_count": 3,
   "id": "9b4b329b-6975-4f24-9063-717e25639e82",
   "metadata": {},
   "outputs": [
    {
     "name": "stdout",
     "output_type": "stream",
     "text": [
      "0     4\n",
      "1     8\n",
      "2    15\n",
      "3    16\n",
      "4    23\n",
      "5    42\n",
      "dtype: int64\n"
     ]
    }
   ],
   "source": [
    "import pandas as pd\n",
    "\n",
    "data = [4, 8, 15, 16, 23, 42]\n",
    "series = pd.Series(data)\n",
    "\n",
    "print(series)"
   ]
  },
  {
   "cell_type": "markdown",
   "id": "09bbe256-6221-4a71-80d4-d9a2dacc5a4b",
   "metadata": {},
   "source": [
    "### 2. Create a variable of list type containing 10 elements in it, and apply pandas.Series function on the variable print it."
   ]
  },
  {
   "cell_type": "code",
   "execution_count": 4,
   "id": "86152a00-e7f1-4105-967c-fbf0dd915e73",
   "metadata": {},
   "outputs": [
    {
     "name": "stdout",
     "output_type": "stream",
     "text": [
      "0     1\n",
      "1     2\n",
      "2     3\n",
      "3     4\n",
      "4     5\n",
      "5     6\n",
      "6     7\n",
      "7     8\n",
      "8     9\n",
      "9    10\n",
      "dtype: int64\n"
     ]
    }
   ],
   "source": [
    "import pandas as pd\n",
    "\n",
    "my_list = [1, 2, 3, 4, 5, 6, 7, 8, 9, 10]\n",
    "my_series = pd.Series(my_list)\n",
    "\n",
    "print(my_series)"
   ]
  },
  {
   "cell_type": "markdown",
   "id": "f6492a37-ab0f-4bad-9749-5ab6ab1d6b38",
   "metadata": {},
   "source": [
    "### 3. Create a Pandas DataFrame that contains the following data:\n",
    "Name\n",
    "Alice\n",
    "Bob\n",
    "Claire\n",
    "\n",
    "Age\n",
    "25\n",
    "30\n",
    "27\n",
    "\n",
    "Gender\n",
    "Female\n",
    "Male\n",
    "Female\n",
    "\n",
    "Then, print the DataFrame."
   ]
  },
  {
   "cell_type": "code",
   "execution_count": 5,
   "id": "a72901a3-ccf1-4238-aeb3-b2c16ca1062b",
   "metadata": {},
   "outputs": [
    {
     "name": "stdout",
     "output_type": "stream",
     "text": [
      "     Name  Age  Gender\n",
      "0   Alice   25  Female\n",
      "1     Bob   30    Male\n",
      "2  Claire   27  Female\n"
     ]
    }
   ],
   "source": [
    "import pandas as pd\n",
    "\n",
    "data = {'Name': ['Alice', 'Bob', 'Claire'],\n",
    "\n",
    "        'Age': [25, 30, 27],\n",
    "\n",
    "        'Gender': ['Female', 'Male', 'Female']}\n",
    "\n",
    "df = pd.DataFrame(data)\n",
    "print(df)"
   ]
  },
  {
   "cell_type": "markdown",
   "id": "630ddb06-ef8e-4836-b654-344e49575929",
   "metadata": {},
   "source": [
    "### 4. What is ‘DataFrame’ in pandas and how is it different from pandas.series? Explain with an example."
   ]
  },
  {
   "cell_type": "code",
   "execution_count": 13,
   "id": "6dff14a7-f4dd-4c33-8507-853265ac522c",
   "metadata": {},
   "outputs": [
    {
     "name": "stdout",
     "output_type": "stream",
     "text": [
      "      Name  Age  Gender\n",
      "0    Alice   25  Female\n",
      "1      Bob   30    Male\n",
      "2  Charlie   35    Male\n"
     ]
    },
    {
     "data": {
      "text/plain": [
       "0      Alice\n",
       "1        Bob\n",
       "2    Charlie\n",
       "Name: Name, dtype: object"
      ]
     },
     "execution_count": 13,
     "metadata": {},
     "output_type": "execute_result"
    }
   ],
   "source": [
    "'''In Pandas, a DataFrame is a 2-dimensional labeled data structure with columns of potentially \n",
    "different types. It is similar to a spreadsheet or a SQL table, and can be thought of as a collection \n",
    "of Pandas Series that share the same index.\n",
    "\n",
    "The key differences between a Pandas Series and a DataFrame is: a Series is a one-dimensional array-like \n",
    "object that can hold any data type, while a DataFrame is a two-dimensional table-like data structure that\n",
    "can hold multiple Series of different data types.'''\n",
    "\n",
    "import pandas as pd\n",
    "\n",
    "data = {'Name': ['Alice', 'Bob', 'Charlie'],\n",
    "        'Age': [25, 30, 35],\n",
    "        'Gender': ['Female', 'Male', 'Male']}\n",
    "\n",
    "df = pd.DataFrame(data)\n",
    "print(df)\n",
    "\n",
    "'''In this example, the DataFrame has three columns (Name, Age, and Gender) and three rows\n",
    "(corresponding to each person). Each column is a Series, and they share the same index (0, 1, and 2 \n",
    "in this case). We can access each column by using its label like this:'''\n",
    "\n",
    "names = df['Name']\n",
    "ages = df['Age']\n",
    "genders = df['Gender']\n",
    "\n",
    "#Each of these variables (names, ages, and genders) will be a Series object with its own index and values.\n",
    "#Example:\n",
    "names"
   ]
  },
  {
   "cell_type": "markdown",
   "id": "8ad07415-9793-4de6-b284-c45e8966f9fa",
   "metadata": {},
   "source": [
    "### 5. What are some common functions you can use to manipulate data in a Pandas DataFrame? Can you give an example of when you might use one of these functions?"
   ]
  },
  {
   "cell_type": "markdown",
   "id": "46e4e7c7-4a52-48c3-8194-76ef9e4d61a8",
   "metadata": {},
   "source": [
    "Pandas provides a wide range of functions for manipulating data in a DataFrame. Here are some common functions that are frequently used:\n",
    "\n",
    "df.head(): This function returns the first n rows of a DataFrame. For example, df.head(10) will return the first 10 rows of a DataFrame.\n",
    "\n",
    "df.tail(): This function returns the last n rows of a DataFrame. For example, df.tail(10) will return the last 10 rows of a DataFrame.\n",
    "\n",
    "df.info(): This function provides a summary of a DataFrame's columns, including data types, non-null values, and memory usage.\n",
    "\n",
    "df.describe(): This function provides summary statistics of a DataFrame's numeric columns, including count, mean, standard deviation, minimum, and maximum values.\n",
    "\n",
    "df.groupby(): This function groups a DataFrame by one or more columns and allows you to perform operations on each group. For example, df.groupby('category')['sales'].sum() will group a DataFrame by the category column and calculate the sum of the sales column for each group.\n",
    "\n",
    "df.sort_values(): This function sorts a DataFrame by one or more columns. For example, df.sort_values(by='date') will sort a DataFrame by the date column in ascending order.\n",
    "\n",
    "df.drop(): This function drops one or more columns or rows from a DataFrame. For example, df.drop(['column1', 'column2'], axis=1) will drop the column1 and column2 columns from a DataFrame.\n",
    "\n",
    "df.fillna(): This function fills in missing values in a DataFrame with a specified value or method. For example, df.fillna(method='ffill') will fill in missing values with the previous value in the same column.\n",
    "\n",
    "df.merge(): This function merges two or more DataFrames based on a common column or index. For example, pd.merge(df1, df2, on='id') will merge df1 and df2 based on the id column."
   ]
  },
  {
   "cell_type": "markdown",
   "id": "fed65ca1-313e-4825-a9b3-55cce55a6420",
   "metadata": {},
   "source": [
    "### 6. Which of the following is mutable in nature Series, DataFrame, Panel?"
   ]
  },
  {
   "cell_type": "markdown",
   "id": "d79ce1df-1204-4332-8ba6-63c07c855188",
   "metadata": {},
   "source": [
    "Series and DataFrame are mutable in nature, whereas Panel is considered deprecated in recent versions of Pandas and is no longer recommended for use.\n",
    "\n",
    "Panels were originally introduced in Pandas to handle three-dimensional data. However, it was found that most use cases for three-dimensional data could be handled more effectively using other data structures, such as multi-indexed DataFrames.\n",
    "\n",
    "As a result, Panels have been deprecated in Pandas since version 0.20.0 and are no longer recommended for use. Instead, multi-indexed DataFrames or nested dictionaries are used to represent three-dimensional data. Multi-indexed DataFrames provide an intuitive way to represent higher-dimensional data by allowing you to create a DataFrame with multiple levels of indexing, while nested dictionaries allow you to represent a hierarchy of dictionaries, each containing a DataFrame or Series."
   ]
  },
  {
   "cell_type": "markdown",
   "id": "e08a8bfc-81a8-48ee-b2b6-041661d72ecb",
   "metadata": {},
   "source": [
    "### 7.Create a DataFrame using multiple Series. Explain with an example."
   ]
  },
  {
   "cell_type": "code",
   "execution_count": 12,
   "id": "25674246-c0a9-4dbb-a5b4-1f1fc13be039",
   "metadata": {},
   "outputs": [
    {
     "name": "stdout",
     "output_type": "stream",
     "text": [
      "      Name  Age           City\n",
      "0    Alice   25       New York\n",
      "1      Bob   30  San Francisco\n",
      "2  Charlie   35    Los Angeles\n",
      "3    David   40        Chicago\n"
     ]
    },
    {
     "data": {
      "text/plain": [
       "'In this example, we create three Series representing data for three columns in a DataFrame: names, \\nages, and cities. We then create a DataFrame using these three Series using the pd.DataFrame() function,\\nwhere we pass in a dictionary with column names as keys and the corresponding Series as values.\\n\\nThe resulting DataFrame has three columns: Name, Age, and City. Each column contains the data from\\nthe corresponding Series. The index of the DataFrame is automatically generated as a range of integers\\nfrom 0 to the number of rows in the DataFrame (in this case, 4).'"
      ]
     },
     "execution_count": 12,
     "metadata": {},
     "output_type": "execute_result"
    }
   ],
   "source": [
    "import pandas as pd\n",
    "\n",
    "names = pd.Series(['Alice', 'Bob', 'Charlie', 'David'])\n",
    "ages = pd.Series([25, 30, 35, 40])\n",
    "cities = pd.Series(['New York', 'San Francisco', 'Los Angeles', 'Chicago'])\n",
    "\n",
    "df = pd.DataFrame({'Name': names, 'Age': ages, 'City': cities})\n",
    "\n",
    "print(df)\n",
    "\n",
    "'''In this example, we create three Series representing data for three columns in a DataFrame: names, \n",
    "ages, and cities. We then create a DataFrame using these three Series using the pd.DataFrame() function,\n",
    "where we pass in a dictionary with column names as keys and the corresponding Series as values.\n",
    "\n",
    "The resulting DataFrame has three columns: Name, Age, and City. Each column contains the data from\n",
    "the corresponding Series. The index of the DataFrame is automatically generated as a range of integers\n",
    "from 0 to the number of rows in the DataFrame (in this case, 4).'''"
   ]
  }
 ],
 "metadata": {
  "kernelspec": {
   "display_name": "Python 3 (ipykernel)",
   "language": "python",
   "name": "python3"
  },
  "language_info": {
   "codemirror_mode": {
    "name": "ipython",
    "version": 3
   },
   "file_extension": ".py",
   "mimetype": "text/x-python",
   "name": "python",
   "nbconvert_exporter": "python",
   "pygments_lexer": "ipython3",
   "version": "3.10.8"
  }
 },
 "nbformat": 4,
 "nbformat_minor": 5
}
