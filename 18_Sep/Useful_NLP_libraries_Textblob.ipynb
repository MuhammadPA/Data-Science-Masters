{
  "cells": [
    {
      "cell_type": "markdown",
      "metadata": {
        "id": "mgTkNxuRiftH"
      },
      "source": [
        "# Importing necessary libraries"
      ]
    },
    {
      "cell_type": "code",
      "execution_count": null,
      "metadata": {
        "id": "mGSOogjJiftU"
      },
      "outputs": [],
      "source": [
        "import nltk\n",
        "from textblob import TextBlob"
      ]
    },
    {
      "cell_type": "code",
      "execution_count": null,
      "metadata": {
        "id": "Lks3VpbCifta",
        "outputId": "ff16410a-cc41-4485-b01d-61706bfce8d6"
      },
      "outputs": [
        {
          "name": "stderr",
          "output_type": "stream",
          "text": [
            "[nltk_data] Downloading package brown to\n",
            "[nltk_data]     C:\\Users\\Manisha\\AppData\\Roaming\\nltk_data...\n",
            "[nltk_data]   Package brown is already up-to-date!\n"
          ]
        },
        {
          "data": {
            "text/plain": [
              "True"
            ]
          },
          "execution_count": 2,
          "metadata": {},
          "output_type": "execute_result"
        }
      ],
      "source": [
        "nltk.download('brown')"
      ]
    },
    {
      "cell_type": "markdown",
      "metadata": {
        "id": "LRzWwfChiftg"
      },
      "source": [
        "# Sample text for demonstration"
      ]
    },
    {
      "cell_type": "code",
      "execution_count": null,
      "metadata": {
        "id": "frxz4pKEifth"
      },
      "outputs": [],
      "source": [
        "text = \"TextBlob is a versatile NLP library for Python. It simplifies many text processing tasks.\""
      ]
    },
    {
      "cell_type": "markdown",
      "metadata": {
        "id": "MSLapFDBiftj"
      },
      "source": [
        "# Introduction to TextBlob"
      ]
    },
    {
      "cell_type": "code",
      "execution_count": null,
      "metadata": {
        "id": "lt7NX_cZiftk",
        "outputId": "818ca263-5c60-4f99-c048-6c7e2a0589a1"
      },
      "outputs": [
        {
          "name": "stdout",
          "output_type": "stream",
          "text": [
            "Introduction to TextBlob: TextBlob is a versatile NLP library for Python. It simplifies many text processing tasks.\n"
          ]
        }
      ],
      "source": [
        "intro_blob = TextBlob(text)\n",
        "print(\"Introduction to TextBlob:\", intro_blob)"
      ]
    },
    {
      "cell_type": "markdown",
      "metadata": {
        "id": "lnSfcSp-iftm"
      },
      "source": [
        "# Sentiment Analysis and Polarity Detection"
      ]
    },
    {
      "cell_type": "code",
      "execution_count": null,
      "metadata": {
        "id": "cORMgm5wifto",
        "outputId": "99f97722-f73d-4848-fc44-264278a82b9a"
      },
      "outputs": [
        {
          "name": "stdout",
          "output_type": "stream",
          "text": [
            "Sentiment Analysis: positive (Polarity: 0.625 )\n"
          ]
        }
      ],
      "source": [
        "sentiment_blob = TextBlob(\"I love this product!\")\n",
        "polarity = sentiment_blob.sentiment.polarity\n",
        "sentiment = \"positive\" if polarity > 0 else \"negative\" if polarity < 0 else \"neutral\"\n",
        "print(\"Sentiment Analysis:\", sentiment, \"(Polarity:\", polarity, \")\")"
      ]
    },
    {
      "cell_type": "markdown",
      "metadata": {
        "id": "NfLcBDHciftq"
      },
      "source": [
        "# Part-of-Speech Tagging and Noun Phrase Extraction"
      ]
    },
    {
      "cell_type": "code",
      "execution_count": null,
      "metadata": {
        "id": "MygBSNUYiftr",
        "outputId": "5c418fa4-4d9a-4405-f879-15272a142cc1"
      },
      "outputs": [
        {
          "name": "stdout",
          "output_type": "stream",
          "text": [
            "Part-of-Speech Tags: [('The', 'DT'), ('black', 'JJ'), ('cat', 'NN'), ('is', 'VBZ'), ('sleeping', 'VBG'), ('on', 'IN'), ('the', 'DT'), ('soft', 'JJ'), ('mat', 'NN')]\n",
            "Noun Phrases: ['black cat', 'soft mat']\n"
          ]
        }
      ],
      "source": [
        "pos_blob = TextBlob(\"The black cat is sleeping on the soft mat.\")\n",
        "pos_tags = pos_blob.tags\n",
        "noun_phrases = pos_blob.noun_phrases\n",
        "print(\"Part-of-Speech Tags:\", pos_tags)\n",
        "print(\"Noun Phrases:\", noun_phrases)"
      ]
    },
    {
      "cell_type": "markdown",
      "metadata": {
        "id": "BtJbC0tnifts"
      },
      "source": [
        "# Language Translation and Language Detection"
      ]
    },
    {
      "cell_type": "code",
      "execution_count": null,
      "metadata": {
        "id": "t6_nSDWuiftu",
        "outputId": "2bbfe1f8-9ce9-47e0-9528-07a5a8156ab7"
      },
      "outputs": [
        {
          "name": "stdout",
          "output_type": "stream",
          "text": [
            "Requirement already satisfied: googletrans==4.0.0-rc1 in c:\\users\\manisha\\anaconda3\\lib\\site-packages (4.0.0rc1)\n",
            "Requirement already satisfied: httpx==0.13.3 in c:\\users\\manisha\\anaconda3\\lib\\site-packages (from googletrans==4.0.0-rc1) (0.13.3)\n",
            "Requirement already satisfied: chardet==3.* in c:\\users\\manisha\\anaconda3\\lib\\site-packages (from httpx==0.13.3->googletrans==4.0.0-rc1) (3.0.4)\n",
            "Requirement already satisfied: rfc3986<2,>=1.3 in c:\\users\\manisha\\anaconda3\\lib\\site-packages (from httpx==0.13.3->googletrans==4.0.0-rc1) (1.5.0)\n",
            "Requirement already satisfied: idna==2.* in c:\\users\\manisha\\anaconda3\\lib\\site-packages (from httpx==0.13.3->googletrans==4.0.0-rc1) (2.10)\n",
            "Requirement already satisfied: sniffio in c:\\users\\manisha\\anaconda3\\lib\\site-packages (from httpx==0.13.3->googletrans==4.0.0-rc1) (1.3.0)\n",
            "Requirement already satisfied: httpcore==0.9.* in c:\\users\\manisha\\anaconda3\\lib\\site-packages (from httpx==0.13.3->googletrans==4.0.0-rc1) (0.9.1)\n",
            "Requirement already satisfied: certifi in c:\\users\\manisha\\anaconda3\\lib\\site-packages (from httpx==0.13.3->googletrans==4.0.0-rc1) (2020.6.20)\n",
            "Requirement already satisfied: hstspreload in c:\\users\\manisha\\anaconda3\\lib\\site-packages (from httpx==0.13.3->googletrans==4.0.0-rc1) (2023.1.1)\n",
            "Requirement already satisfied: h11<0.10,>=0.8 in c:\\users\\manisha\\anaconda3\\lib\\site-packages (from httpcore==0.9.*->httpx==0.13.3->googletrans==4.0.0-rc1) (0.9.0)\n",
            "Requirement already satisfied: h2==3.* in c:\\users\\manisha\\anaconda3\\lib\\site-packages (from httpcore==0.9.*->httpx==0.13.3->googletrans==4.0.0-rc1) (3.2.0)\n",
            "Requirement already satisfied: hyperframe<6,>=5.2.0 in c:\\users\\manisha\\anaconda3\\lib\\site-packages (from h2==3.*->httpcore==0.9.*->httpx==0.13.3->googletrans==4.0.0-rc1) (5.2.0)\n",
            "Requirement already satisfied: hpack<4,>=3.0 in c:\\users\\manisha\\anaconda3\\lib\\site-packages (from h2==3.*->httpcore==0.9.*->httpx==0.13.3->googletrans==4.0.0-rc1) (3.0.0)\n"
          ]
        }
      ],
      "source": [
        "!pip install googletrans==4.0.0-rc1"
      ]
    },
    {
      "cell_type": "code",
      "execution_count": null,
      "metadata": {
        "id": "cwWKpkxEiftw",
        "outputId": "eb666823-a57d-4543-f465-7049c178e73d"
      },
      "outputs": [
        {
          "name": "stdout",
          "output_type": "stream",
          "text": [
            "Original Text: Hola, ¿cómo estás?\n",
            "Detected Language: es\n",
            "Translated Text: Hello how are you?\n"
          ]
        }
      ],
      "source": [
        "from googletrans import Translator\n",
        "\n",
        "# Initialize the Translator\n",
        "translator = Translator()\n",
        "\n",
        "# Text to be translated\n",
        "original_text = \"Hola, ¿cómo estás?\"\n",
        "\n",
        "# Detect the language of the original text\n",
        "detected_language = translator.detect(original_text).lang\n",
        "\n",
        "# Translate the text to English\n",
        "translated_text = translator.translate(original_text, src=detected_language, dest='en').text\n",
        "\n",
        "print(\"Original Text:\", original_text)\n",
        "print(\"Detected Language:\", detected_language)\n",
        "print(\"Translated Text:\", translated_text)"
      ]
    },
    {
      "cell_type": "markdown",
      "metadata": {
        "id": "_fDsNDtyiftx"
      },
      "source": [
        "# Extending TextBlob's Functionality through Extensions"
      ]
    },
    {
      "cell_type": "code",
      "execution_count": null,
      "metadata": {
        "id": "-Nt5HkNbifty",
        "outputId": "71dcf802-18d4-4046-b33a-09218492fe5d"
      },
      "outputs": [
        {
          "name": "stdout",
          "output_type": "stream",
          "text": [
            "This is a custom function for TextBlob!\n"
          ]
        }
      ],
      "source": [
        "# Subclass TextBlob to add custom methods\n",
        "class ExtendedTextBlob(TextBlob):\n",
        "    def my_custom_function(self):\n",
        "        return \"This is a custom function for TextBlob!\"\n",
        "\n",
        "# Create an instance of the extended TextBlob\n",
        "extended_blob = ExtendedTextBlob(\"This is some text.\")\n",
        "\n",
        "# Call the custom function\n",
        "result = extended_blob.my_custom_function()\n",
        "print(result)"
      ]
    },
    {
      "cell_type": "code",
      "execution_count": null,
      "metadata": {
        "id": "YqHgNBBQift0"
      },
      "outputs": [],
      "source": []
    }
  ],
  "metadata": {
    "kernelspec": {
      "display_name": "Python 3",
      "language": "python",
      "name": "python3"
    },
    "language_info": {
      "codemirror_mode": {
        "name": "ipython",
        "version": 3
      },
      "file_extension": ".py",
      "mimetype": "text/x-python",
      "name": "python",
      "nbconvert_exporter": "python",
      "pygments_lexer": "ipython3",
      "version": "3.8.5"
    },
    "colab": {
      "provenance": []
    }
  },
  "nbformat": 4,
  "nbformat_minor": 0
}