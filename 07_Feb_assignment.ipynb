{
 "cells": [
  {
   "cell_type": "markdown",
   "id": "6d4af9b8-37e5-48ae-b464-8a4311c23842",
   "metadata": {},
   "source": [
    "### You are writing code for a company. The requirement of the company is that you create a python function that will check whether the password entered by the user is correct or not. The function should take the password as input and return the string “Valid Password” if the entered password follows the below-given password guidelines else it should return “Invalid Password”.\n",
    "Note: 1. The Password should contain at least two uppercase letters and at least two lowercase letters.\n",
    "2. The Password should contain at least a number and three special characters.\n",
    "3. The length of the password should be 10 characters long."
   ]
  },
  {
   "cell_type": "code",
   "execution_count": 12,
   "id": "1ba748b8-bbe4-4ebc-a0e8-9c416652ec5d",
   "metadata": {},
   "outputs": [
    {
     "name": "stdout",
     "output_type": "stream",
     "text": [
      "Valid Password\n"
     ]
    }
   ],
   "source": [
    "def validate_password(password):\n",
    "    if len(password) <= 10:\n",
    "        return \"Invalid Password\"\n",
    "    upper_count = 0\n",
    "    lower_count = 0\n",
    "    number_count = 0\n",
    "    special_count = 0\n",
    "    for char in password:\n",
    "        if char.islower():\n",
    "            lower_count += 1\n",
    "        elif char.isupper():\n",
    "            upper_count += 1\n",
    "        elif char.isdigit():\n",
    "            number_count += 1\n",
    "        elif not char.isalnum():\n",
    "            special_count += 1\n",
    "    if upper_count >= 2 and lower_count >= 2 and number_count >= 1 and special_count >= 3:\n",
    "        return \"Valid Password\"\n",
    "    else:\n",
    "        return \"Invalid Password\"\n",
    "print(validate_password(\"HelloWorld!23#$%\"))"
   ]
  },
  {
   "cell_type": "markdown",
   "id": "2da01eae-7978-4d80-8048-bd3672d5727d",
   "metadata": {},
   "source": [
    "### Solve the below-given questions using at least one of the following:\n",
    "1. Lambda function\n",
    "2. Filter function\n",
    "3. Map function\n",
    "4. List Comprehension\n",
    "Check if the string starts with a particular letter Y\n",
    "Check if the string is numericY\n",
    "Sort a list of tuples having fruit names and their quantity. \n",
    "[(\"mango\",99),(\"orange\",80), (\"grapes\", 1000)-\n",
    "Find the squares of numbers from 1 to 10 Y.\n",
    "Find the cube root of numbers from 1 to 10 Y.\n",
    "Check if a given number is even Y.\n",
    "Filter odd numbers from the given list.\n",
    "[1,2,3,4,5,6,7,8,9,10]\n",
    "Sort a list of integers into positive and negative integers lists.\n",
    "[1,2,3,4,5,6,-1,-2,-3,-4,-5,0]"
   ]
  },
  {
   "cell_type": "code",
   "execution_count": 20,
   "id": "18376cdd-d835-4b9d-9d98-02b9b33155a0",
   "metadata": {},
   "outputs": [
    {
     "name": "stdout",
     "output_type": "stream",
     "text": [
      "['Banana']\n",
      "['123', '456', '789']\n",
      "[('orange', 80), ('mango', 99), ('grapes', 1000)]\n",
      "[1, 4, 9, 16, 25, 36, 49, 64, 81, 100]\n",
      "[1, 1, 1, 1, 1, 1, 1, 2, 2, 2]\n",
      "[2, 4, 6, 8, 10]\n",
      "[1, 3, 5, 7, 9]\n",
      "Positive numbers: [1, 2, 3, 4, 5, 6]\n",
      "Negative numbers: [-1, -2, -3, -4, -5]\n"
     ]
    }
   ],
   "source": [
    "# Check if the string starts with a particular letter:\n",
    "def starts_with_letter(string, letter):\n",
    "    return string[0].lower() == letter.lower()\n",
    "\n",
    "strings = [\"apple\", \"Banana\", \"Cherry\", \"date\", \"Elderberry\"]\n",
    "letter = \"b\"\n",
    "filtered_strings = filter(lambda x: starts_with_letter(x, letter), strings)\n",
    "print(list(filtered_strings))\n",
    "\n",
    "# Check if the string is numeric:\n",
    "def is_numeric(string):\n",
    "    try:\n",
    "        float(string)\n",
    "        return True\n",
    "    except ValueError:\n",
    "        return False\n",
    "\n",
    "strings = [\"123\", \"456\", \"789\", \"abc\", \"def\"]\n",
    "filtered_strings = filter(is_numeric, strings)\n",
    "print(list(filtered_strings))\n",
    "\n",
    "# Sort a list of tuples having fruit names and their quantity:\n",
    "fruits = [(\"mango\", 99), (\"orange\", 80), (\"grapes\", 1000)]\n",
    "sorted_fruits = sorted(fruits, key=lambda x: x[1])\n",
    "print(sorted_fruits)\n",
    "\n",
    "# Find the squares of numbers from 1 to 10:\n",
    "numbers = range(1, 11)\n",
    "squared_numbers = map(lambda x: x**2, numbers)\n",
    "print(list(squared_numbers))\n",
    "\n",
    "# Find the cube root of numbers from 1 to 10:\n",
    "import math\n",
    "numbers = range(1, 11)\n",
    "cube_roots = map(lambda x: int(math.pow(x, 1/3)), numbers)\n",
    "print(list(cube_roots))\n",
    "\n",
    "# Check if a given number is even:\n",
    "numbers = [1, 2, 3, 4, 5, 6, 7, 8, 9, 10]\n",
    "even_numbers = filter(lambda x: x % 2 == 0, numbers)\n",
    "print(list(even_numbers))\n",
    "\n",
    "# Filter odd numbers from a given list:\n",
    "numbers = [1, 2, 3, 4, 5, 6, 7, 8, 9, 10]\n",
    "odd_numbers = filter(lambda x: x % 2 != 0, numbers)\n",
    "print(list(odd_numbers))\n",
    "\n",
    "# Sort a list of integers into positive and negative integers lists:\n",
    "numbers = [1, 2, 3, 4, 5, 6, -1, -2, -3, -4, -5, 0]\n",
    "positive_numbers = filter(lambda x: x>0, numbers)\n",
    "negative_numbers = filter(lambda x: x<0, numbers)\n",
    "print(\"Positive numbers:\", list(positive_numbers))\n",
    "print(\"Negative numbers:\", list(negative_numbers))"
   ]
  }
 ],
 "metadata": {
  "kernelspec": {
   "display_name": "Python 3 (ipykernel)",
   "language": "python",
   "name": "python3"
  },
  "language_info": {
   "codemirror_mode": {
    "name": "ipython",
    "version": 3
   },
   "file_extension": ".py",
   "mimetype": "text/x-python",
   "name": "python",
   "nbconvert_exporter": "python",
   "pygments_lexer": "ipython3",
   "version": "3.10.8"
  }
 },
 "nbformat": 4,
 "nbformat_minor": 5
}
