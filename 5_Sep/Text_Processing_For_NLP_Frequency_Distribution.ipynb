{
  "cells": [
    {
      "cell_type": "markdown",
      "metadata": {
        "id": "I7uis9DkDMnX"
      },
      "source": [
        "# Importing Necessary Libraries"
      ]
    },
    {
      "cell_type": "code",
      "execution_count": null,
      "metadata": {
        "id": "nj6V9yL3DMnk"
      },
      "outputs": [],
      "source": [
        "from collections import Counter"
      ]
    },
    {
      "cell_type": "markdown",
      "metadata": {
        "id": "M60Ka2HZDMnp"
      },
      "source": [
        "# Sample Text"
      ]
    },
    {
      "cell_type": "code",
      "execution_count": null,
      "metadata": {
        "id": "VVZoq9OQDMnr"
      },
      "outputs": [],
      "source": [
        "# Sample text\n",
        "text = \"This is a sample text. It contains some words. This text is used for frequency distribution example.\""
      ]
    },
    {
      "cell_type": "markdown",
      "metadata": {
        "id": "Gc1DYf9bDMnu"
      },
      "source": [
        "# Tokenization"
      ]
    },
    {
      "cell_type": "code",
      "execution_count": null,
      "metadata": {
        "id": "DBw4b_w_DMnu",
        "outputId": "2a3d8e89-12c6-434e-b37c-babf9413a3ef"
      },
      "outputs": [
        {
          "name": "stdout",
          "output_type": "stream",
          "text": [
            "Tokenization\n",
            "Tokenized words: ['This', 'is', 'a', 'sample', 'text.', 'It', 'contains', 'some', 'words.', 'This', 'text', 'is', 'used', 'for', 'frequency', 'distribution', 'example.']\n",
            "\n"
          ]
        }
      ],
      "source": [
        "print(\"Tokenization\")\n",
        "words = text.split()\n",
        "print(\"Tokenized words:\", words)\n",
        "print()"
      ]
    },
    {
      "cell_type": "markdown",
      "metadata": {
        "id": "S6ZujweWDMny"
      },
      "source": [
        "# Calculating word frequency"
      ]
    },
    {
      "cell_type": "code",
      "execution_count": null,
      "metadata": {
        "id": "ex93HiUcDMn0",
        "outputId": "8f2215c5-e318-4174-a78f-f94de89a10a7"
      },
      "outputs": [
        {
          "name": "stdout",
          "output_type": "stream",
          "text": [
            "Calculating word frequency\n",
            "Word frequency: Counter({'This': 2, 'is': 2, 'a': 1, 'sample': 1, 'text.': 1, 'It': 1, 'contains': 1, 'some': 1, 'words.': 1, 'text': 1, 'used': 1, 'for': 1, 'frequency': 1, 'distribution': 1, 'example.': 1})\n",
            "\n"
          ]
        }
      ],
      "source": [
        "print(\"Calculating word frequency\")\n",
        "word_frequency = Counter(words)\n",
        "print(\"Word frequency:\", word_frequency)\n",
        "print()"
      ]
    },
    {
      "cell_type": "markdown",
      "metadata": {
        "id": "Jg2voVEUDMn1"
      },
      "source": [
        "# Displaying the frequency distribution"
      ]
    },
    {
      "cell_type": "code",
      "execution_count": null,
      "metadata": {
        "id": "KhtqjnHBDMn3",
        "outputId": "14860ad8-68db-411b-a50e-d086d0ea6987"
      },
      "outputs": [
        {
          "name": "stdout",
          "output_type": "stream",
          "text": [
            "Displaying the frequency distribution\n",
            "Word\t\tFrequency\n",
            "------------------------\n",
            "This\t\t2\n",
            "is\t\t2\n",
            "a\t\t1\n",
            "sample\t\t1\n",
            "text.\t\t1\n",
            "It\t\t1\n",
            "contains\t\t1\n",
            "some\t\t1\n",
            "words.\t\t1\n",
            "text\t\t1\n",
            "used\t\t1\n",
            "for\t\t1\n",
            "frequency\t\t1\n",
            "distribution\t\t1\n",
            "example.\t\t1\n"
          ]
        }
      ],
      "source": [
        "print(\"Displaying the frequency distribution\")\n",
        "print(\"Word\\t\\tFrequency\")\n",
        "print(\"------------------------\")\n",
        "for word, frequency in word_frequency.items():\n",
        "    print(f\"{word}\\t\\t{frequency}\")"
      ]
    },
    {
      "cell_type": "code",
      "execution_count": null,
      "metadata": {
        "id": "zt1gyGKhDMn7"
      },
      "outputs": [],
      "source": []
    }
  ],
  "metadata": {
    "kernelspec": {
      "display_name": "Python 3",
      "language": "python",
      "name": "python3"
    },
    "language_info": {
      "codemirror_mode": {
        "name": "ipython",
        "version": 3
      },
      "file_extension": ".py",
      "mimetype": "text/x-python",
      "name": "python",
      "nbconvert_exporter": "python",
      "pygments_lexer": "ipython3",
      "version": "3.8.5"
    },
    "colab": {
      "provenance": []
    }
  },
  "nbformat": 4,
  "nbformat_minor": 0
}