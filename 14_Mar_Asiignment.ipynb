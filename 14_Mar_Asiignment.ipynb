{
 "cells": [
  {
   "cell_type": "markdown",
   "id": "6f561fcb-9b96-4c5d-bf14-2c528a835c3b",
   "metadata": {},
   "source": [
    "### 1. Write a Python function that takes in two arrays of data and calculates the F-value for a variance ratio test. The function should return the F-value and the corresponding p-value for the test."
   ]
  },
  {
   "cell_type": "code",
   "execution_count": 2,
   "id": "788bcfeb-b4be-477e-9cd0-32e4f96577e9",
   "metadata": {},
   "outputs": [
    {
     "name": "stdout",
     "output_type": "stream",
     "text": [
      "F-value: 0.42794074305937535\n",
      "p-value: 0.971335886282114\n"
     ]
    }
   ],
   "source": [
    "import scipy.stats as stats\n",
    "import numpy as np\n",
    "\n",
    "def var_ratio_test(data1, data2):\n",
    "    var1 = stats.variation(data1, ddof=1)\n",
    "    var2 = stats.variation(data2, ddof=1)\n",
    "    F = var1/var2\n",
    "    df1 = len(data1) - 1\n",
    "    df2 = len(data2) - 1\n",
    "    p_value = 1 - stats.f.cdf(F, df1, df2)\n",
    "    \n",
    "    return F, p_value\n",
    "\n",
    "data1 = np.random.normal(loc=0, scale=1, size=20)\n",
    "data2 = np.random.normal(loc=0, scale=2, size=30)\n",
    "\n",
    "F, p_value = var_ratio_test(data1, data2)\n",
    "print(\"F-value:\", F)\n",
    "print(\"p-value:\", p_value)"
   ]
  },
  {
   "cell_type": "markdown",
   "id": "ec195f73-6b89-46f6-b4e3-934a2377a486",
   "metadata": {},
   "source": [
    "### 2. Given a significance level of 0.05 and the degrees of freedom for the numerator and denominator of an F-distribution, write a Python function that returns the critical F-value for a two-tailed test."
   ]
  },
  {
   "cell_type": "code",
   "execution_count": 3,
   "id": "aa68010e-36f7-4d96-b4b2-19df55e7b278",
   "metadata": {},
   "outputs": [
    {
     "data": {
      "text/plain": [
       "(4.236085668188633, 0.15107670102998205)"
      ]
     },
     "execution_count": 3,
     "metadata": {},
     "output_type": "execute_result"
    }
   ],
   "source": [
    "import scipy.stats as stats\n",
    "\n",
    "def crit_F_value(df1, df2, alpha=0.05):\n",
    "    return stats.f.ppf(1 - alpha/2, df1, df2), stats.f.ppf(alpha/2, df1, df2)\n",
    "\n",
    "crit_F_value(5, 10, 0.05)"
   ]
  },
  {
   "cell_type": "markdown",
   "id": "1be912c2-2d8a-4567-8401-f6664b3958b7",
   "metadata": {},
   "source": [
    "### 3.Write a Python program that generates random samples from two normal distributions with known variances and uses an F-test to determine if the variances are equal. The program should output the F- value, degrees of freedom, and p-value for the test."
   ]
  },
  {
   "cell_type": "code",
   "execution_count": 6,
   "id": "6103fc84-0bba-4298-9eb3-592e9a214dbb",
   "metadata": {},
   "outputs": [
    {
     "name": "stdout",
     "output_type": "stream",
     "text": [
      "F-value:  0.5724556168982523\n",
      "Degrees of freedom:  49  and  59\n",
      "P-value:  0.9768783848562302\n"
     ]
    }
   ],
   "source": [
    "import numpy as np\n",
    "from scipy.stats import f\n",
    "\n",
    "\n",
    "np.random.seed(123)\n",
    "var1 = 2\n",
    "var2 = 4\n",
    "n1 = 50\n",
    "n2 = 60\n",
    "\n",
    "sample1 = np.random.normal(loc=0, scale=np.sqrt(var1), size=n1)\n",
    "sample2 = np.random.normal(loc=0, scale=np.sqrt(var2), size=n2)\n",
    "\n",
    "f_statistic = np.var(sample1, ddof=1) / np.var(sample2, ddof=1)\n",
    "df1 = n1 - 1\n",
    "df2 = n2 - 1\n",
    "p_value = f.sf(f_statistic, df1, df2)\n",
    "\n",
    "print(\"F-value: \", f_statistic)\n",
    "print(\"Degrees of freedom: \", df1, \" and \", df2)\n",
    "print(\"P-value: \", p_value)"
   ]
  },
  {
   "cell_type": "markdown",
   "id": "7a556750-9a32-4044-9954-9e5eebe63a80",
   "metadata": {},
   "source": [
    "### 4.The variances of two populations are known to be 10 and 15. A sample of 12 observations is taken from each population. Conduct an F-test at the 5% significance level to determine if the variances are significantly different."
   ]
  },
  {
   "cell_type": "code",
   "execution_count": 14,
   "id": "5b7a499f-0c24-4b12-8a86-1e826100ba6a",
   "metadata": {},
   "outputs": [
    {
     "name": "stdout",
     "output_type": "stream",
     "text": [
      "Fail to reject the null hypothesis\n",
      "3.473699051085809\n",
      "0.6666666666666666\n"
     ]
    }
   ],
   "source": [
    "import scipy.stats as stats\n",
    "\n",
    "var1 = 10\n",
    "var2 = 15\n",
    "n1 = 12\n",
    "n2 = 12\n",
    "alpha = 0.05\n",
    "\n",
    "F_statistic = var1 / var2\n",
    "\n",
    "df1 = n1 - 1\n",
    "df2 = n2 - 1\n",
    "critical_F = stats.f.ppf(q=1-alpha/2, dfn=df1, dfd=df2)\n",
    "\n",
    "p_value = 2 * min(stats.f.sf(F_statistic, df1, df2), stats.f.cdf(F_statistic, df1, df2))\n",
    "\n",
    "if F_statistic > critical_F or p_value < alpha:\n",
    "    print(\"Reject the null hypothesis\")\n",
    "else:\n",
    "    print(\"Fail to reject the null hypothesis\")"
   ]
  },
  {
   "cell_type": "markdown",
   "id": "4c20b3e4-6a9f-4d83-a864-a651370d2762",
   "metadata": {},
   "source": [
    "### 5. A manufacturer claims that the variance of the diameter of a certain product is 0.005. A sample of 25 products is taken, and the sample variance is found to be 0.006. Conduct an F-test at the 1% significance level to determine if the claim is justified."
   ]
  },
  {
   "cell_type": "code",
   "execution_count": 8,
   "id": "29b803c3-0ffd-404a-b415-d549f41e9a16",
   "metadata": {},
   "outputs": [
    {
     "name": "stdout",
     "output_type": "stream",
     "text": [
      "Fail to reject the null hypothesis\n"
     ]
    }
   ],
   "source": [
    "import scipy.stats as stats\n",
    "\n",
    "sigma_squared = 0.005\n",
    "s_squared = 0.006\n",
    "n = 25\n",
    "alpha = 0.01\n",
    "\n",
    "F_statistic = s_squared / sigma_squared\n",
    "\n",
    "df1 = n - 1\n",
    "df2 = n - 1\n",
    "critical_F = stats.f.ppf(q=1-alpha/2, dfn=df1, dfd=df2)\n",
    "\n",
    "p_value = 2 * min(stats.f.sf(F_statistic, df1, df2), stats.f.cdf(F_statistic, df1, df2))\n",
    "\n",
    "if F_statistic > critical_F or p_value < alpha:\n",
    "    print(\"Reject the null hypothesis\")\n",
    "else:\n",
    "    print(\"Fail to reject the null hypothesis\")"
   ]
  },
  {
   "cell_type": "markdown",
   "id": "6870c26c-d128-4d75-9cc9-31bb10db103d",
   "metadata": {},
   "source": [
    "### 6. Write a Python function that takes in the degrees of freedom for the numerator and denominator of an F-distribution and calculates the mean and variance of the distribution. The function should return the mean and variance as a tuple."
   ]
  },
  {
   "cell_type": "code",
   "execution_count": 9,
   "id": "a54d9c52-bf3c-47ca-bc1b-886386c7fcb1",
   "metadata": {},
   "outputs": [
    {
     "name": "stdout",
     "output_type": "stream",
     "text": [
      "Mean: 1.25\n",
      "Variance: 1.3541666666666667\n"
     ]
    }
   ],
   "source": [
    "import math\n",
    "\n",
    "def f_distribution_mean_and_variance(dfn, dfd):\n",
    "    mean = dfd / (dfd - 2)\n",
    "    variance = (2 * (dfd ** 2) * (dfn + dfd - 2)) / ((dfn * (dfd - 2) ** 2 * (dfd - 4)))\n",
    "    return mean, variance\n",
    "\n",
    "dfn = 5\n",
    "dfd = 10\n",
    "mean, variance = f_distribution_mean_and_variance(dfn, dfd)\n",
    "print(\"Mean:\", mean)\n",
    "print(\"Variance:\", variance)"
   ]
  },
  {
   "cell_type": "markdown",
   "id": "5f41ec94-1cbe-4093-b513-4f489e3c77a0",
   "metadata": {},
   "source": [
    "### 7. A random sample of 10 measurements is taken from a normal population with unknown variance. The sample variance is found to be 25. Another random sample of 15 measurements is taken from another normal population with unknown variance, and the sample variance is found to be 20. Conduct an F-test at the 10% significance level to determine if the variances are significantly different."
   ]
  },
  {
   "cell_type": "code",
   "execution_count": 15,
   "id": "17df7b30-a748-4e8d-aefb-8dfb484b467b",
   "metadata": {},
   "outputs": [
    {
     "name": "stdout",
     "output_type": "stream",
     "text": [
      "Fail to reject the null hypothesis\n"
     ]
    }
   ],
   "source": [
    "import scipy.stats as stats\n",
    "\n",
    "alpha = 0.10\n",
    "dfn = 9\n",
    "dfd = 14\n",
    "F=1.25\n",
    "critical_value = stats.f.ppf(1 - alpha, dfn, dfd)\n",
    "\n",
    "\n",
    "if F > critical_value:\n",
    "    print(\"Reject the null hypothesis\")\n",
    "else:\n",
    "    print(\"Fail to reject the null hypothesis\")"
   ]
  },
  {
   "cell_type": "markdown",
   "id": "7f9ca4f1-6562-4d23-8a2f-e18d69537b60",
   "metadata": {},
   "source": [
    "### 8. The following data represent the waiting times in minutes at two different restaurants on a Saturday night: Restaurant A: 24, 25, 28, 23, 22, 20, 27; Restaurant B: 31, 33, 35, 30, 32, 36. Conduct an F-test at the 5% significance level to determine if the variances are significantly different."
   ]
  },
  {
   "cell_type": "code",
   "execution_count": 16,
   "id": "226f87c9-e40d-470e-a910-45e31dede405",
   "metadata": {},
   "outputs": [
    {
     "name": "stdout",
     "output_type": "stream",
     "text": [
      "Fail to reject the null hypothesis\n"
     ]
    }
   ],
   "source": [
    "import scipy.stats as stats\n",
    "\n",
    "alpha = 0.05\n",
    "dfn = 6\n",
    "dfd = 5\n",
    "F = 2.1071\n",
    "\n",
    "critical_value = stats.f.ppf(1 - alpha, dfn, dfd)\n",
    "\n",
    "if F > critical_value:\n",
    "    print(\"Reject the null hypothesis\")\n",
    "else:\n",
    "    print(\"Fail to reject the null hypothesis\")"
   ]
  },
  {
   "cell_type": "markdown",
   "id": "2d574886-0a24-4152-bbe9-bd06dc3542b8",
   "metadata": {},
   "source": [
    "### 9. The following data represent the test scores of two groups of students: Group A: 80, 85, 90, 92, 87, 83; Group B: 75, 78, 82, 79, 81, 84. Conduct an F-test at the 1% significance level to determine if the variances are significantly different."
   ]
  },
  {
   "cell_type": "code",
   "execution_count": 17,
   "id": "c2afdd53-7ba9-4925-b220-1e47928c09ad",
   "metadata": {},
   "outputs": [
    {
     "name": "stdout",
     "output_type": "stream",
     "text": [
      "Fail to reject the null hypothesis\n"
     ]
    }
   ],
   "source": [
    "import scipy.stats as stats\n",
    "\n",
    "alpha = 0.01\n",
    "dfn = 5\n",
    "dfd = 5\n",
    "F =  4.95\n",
    "critical_value = stats.f.ppf(1 - alpha, dfn, dfd)\n",
    "\n",
    "if F > critical_value:\n",
    "    print(\"Reject the null hypothesis\")\n",
    "else:\n",
    "    print(\"Fail to reject the null hypothesis\")"
   ]
  }
 ],
 "metadata": {
  "kernelspec": {
   "display_name": "Python 3 (ipykernel)",
   "language": "python",
   "name": "python3"
  },
  "language_info": {
   "codemirror_mode": {
    "name": "ipython",
    "version": 3
   },
   "file_extension": ".py",
   "mimetype": "text/x-python",
   "name": "python",
   "nbconvert_exporter": "python",
   "pygments_lexer": "ipython3",
   "version": "3.10.8"
  }
 },
 "nbformat": 4,
 "nbformat_minor": 5
}
