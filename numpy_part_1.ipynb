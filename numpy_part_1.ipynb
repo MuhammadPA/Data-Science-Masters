{
  "cells": [
    {
      "cell_type": "code",
      "execution_count": null,
      "id": "86bb128d-1c6c-405a-b02e-4408a0b02341",
      "metadata": {
        "id": "86bb128d-1c6c-405a-b02e-4408a0b02341"
      },
      "outputs": [],
      "source": [
        "import numpy as np "
      ]
    },
    {
      "cell_type": "code",
      "execution_count": null,
      "id": "8da4e628-485a-48a2-8345-fb89200f0ae5",
      "metadata": {
        "id": "8da4e628-485a-48a2-8345-fb89200f0ae5"
      },
      "outputs": [],
      "source": [
        "l = [1,2,3,4,5]"
      ]
    },
    {
      "cell_type": "code",
      "execution_count": null,
      "id": "5e14be2d-906d-434e-b592-891c662c233a",
      "metadata": {
        "id": "5e14be2d-906d-434e-b592-891c662c233a"
      },
      "outputs": [],
      "source": [
        "arr = np.array(l)"
      ]
    },
    {
      "cell_type": "code",
      "execution_count": null,
      "id": "2816d0c8-90ec-4c25-bdd2-0bc097d32edc",
      "metadata": {
        "id": "2816d0c8-90ec-4c25-bdd2-0bc097d32edc",
        "outputId": "f4f97b43-26a1-4786-e797-89b96f60f030"
      },
      "outputs": [
        {
          "data": {
            "text/plain": [
              "numpy.ndarray"
            ]
          },
          "execution_count": 5,
          "metadata": {},
          "output_type": "execute_result"
        }
      ],
      "source": [
        "type(arr)"
      ]
    },
    {
      "cell_type": "code",
      "execution_count": null,
      "id": "0d3273f0-56ec-4d7a-a199-6409ae3abcc3",
      "metadata": {
        "id": "0d3273f0-56ec-4d7a-a199-6409ae3abcc3",
        "outputId": "5291e4d9-4477-44b1-a14f-0d5d85fab063"
      },
      "outputs": [
        {
          "data": {
            "text/plain": [
              "array([1, 2, 3, 4, 5])"
            ]
          },
          "execution_count": 6,
          "metadata": {},
          "output_type": "execute_result"
        }
      ],
      "source": [
        "np.asarray(l)"
      ]
    },
    {
      "cell_type": "code",
      "execution_count": null,
      "id": "dd84992e-c7cb-480d-977b-4c7ef5cb6eb9",
      "metadata": {
        "id": "dd84992e-c7cb-480d-977b-4c7ef5cb6eb9"
      },
      "outputs": [],
      "source": [
        "arr1 = np.array([[1,2,3] , [2,3,4]])"
      ]
    },
    {
      "cell_type": "code",
      "execution_count": null,
      "id": "cbf7273a-f7cf-4b2f-b1c6-225a660c823a",
      "metadata": {
        "id": "cbf7273a-f7cf-4b2f-b1c6-225a660c823a",
        "outputId": "495959ba-6bf3-404f-e4d4-1d7896785860"
      },
      "outputs": [
        {
          "data": {
            "text/plain": [
              "1"
            ]
          },
          "execution_count": 9,
          "metadata": {},
          "output_type": "execute_result"
        }
      ],
      "source": [
        "arr.ndim"
      ]
    },
    {
      "cell_type": "code",
      "execution_count": null,
      "id": "b072bc04-edb2-4e1f-b868-27b777ddeebc",
      "metadata": {
        "id": "b072bc04-edb2-4e1f-b868-27b777ddeebc",
        "outputId": "8b525e4d-953a-4300-97f6-2f7792ef3068"
      },
      "outputs": [
        {
          "data": {
            "text/plain": [
              "2"
            ]
          },
          "execution_count": 10,
          "metadata": {},
          "output_type": "execute_result"
        }
      ],
      "source": [
        "arr1.ndim"
      ]
    },
    {
      "cell_type": "code",
      "execution_count": null,
      "id": "ba6ba737-a666-47a9-8d8d-672db5b04c67",
      "metadata": {
        "id": "ba6ba737-a666-47a9-8d8d-672db5b04c67",
        "outputId": "b9e2add5-ae8f-4738-e541-ac2036bd84a4"
      },
      "outputs": [
        {
          "data": {
            "text/plain": [
              "array([1, 2, 3, 4, 5])"
            ]
          },
          "execution_count": 11,
          "metadata": {},
          "output_type": "execute_result"
        }
      ],
      "source": [
        "arr"
      ]
    },
    {
      "cell_type": "code",
      "execution_count": null,
      "id": "7cf0ef8e-8a1e-4498-b657-151909255781",
      "metadata": {
        "id": "7cf0ef8e-8a1e-4498-b657-151909255781",
        "outputId": "4499d2aa-5edf-4287-e5a9-9b5249bc6a93"
      },
      "outputs": [
        {
          "data": {
            "text/plain": [
              "array([[1, 2, 3],\n",
              "       [2, 3, 4]])"
            ]
          },
          "execution_count": 12,
          "metadata": {},
          "output_type": "execute_result"
        }
      ],
      "source": [
        "arr1"
      ]
    },
    {
      "cell_type": "code",
      "execution_count": null,
      "id": "0e60fc5b-e408-497f-b8f3-dc8a6b3270bf",
      "metadata": {
        "id": "0e60fc5b-e408-497f-b8f3-dc8a6b3270bf"
      },
      "outputs": [],
      "source": [
        "mat = np.matrix(l)"
      ]
    },
    {
      "cell_type": "code",
      "execution_count": null,
      "id": "6f4c6476-8215-46f9-b3f0-e9c545e519fb",
      "metadata": {
        "id": "6f4c6476-8215-46f9-b3f0-e9c545e519fb",
        "outputId": "c9a2a14a-aeb9-41ff-a4df-54c5cbf315e3"
      },
      "outputs": [
        {
          "data": {
            "text/plain": [
              "array([1, 2, 3, 4, 5])"
            ]
          },
          "execution_count": 15,
          "metadata": {},
          "output_type": "execute_result"
        }
      ],
      "source": [
        "np.asanyarray(l)"
      ]
    },
    {
      "cell_type": "code",
      "execution_count": null,
      "id": "f2f1953f-2132-4dcf-b31b-5d57952d0a18",
      "metadata": {
        "id": "f2f1953f-2132-4dcf-b31b-5d57952d0a18",
        "outputId": "fc9b091f-742a-4fe0-a853-5d8d684de6d1"
      },
      "outputs": [
        {
          "data": {
            "text/plain": [
              "matrix([[1, 2, 3, 4, 5]])"
            ]
          },
          "execution_count": 16,
          "metadata": {},
          "output_type": "execute_result"
        }
      ],
      "source": [
        "np.asanyarray(mat)"
      ]
    },
    {
      "cell_type": "code",
      "execution_count": null,
      "id": "b1770e72-e056-4876-b3b4-8e31fb97e50f",
      "metadata": {
        "id": "b1770e72-e056-4876-b3b4-8e31fb97e50f",
        "outputId": "e6eac5be-31e1-4b97-e747-c1327d2018ed"
      },
      "outputs": [
        {
          "data": {
            "text/plain": [
              "array([1, 2, 3, 4, 5])"
            ]
          },
          "execution_count": 17,
          "metadata": {},
          "output_type": "execute_result"
        }
      ],
      "source": [
        "arr"
      ]
    },
    {
      "cell_type": "code",
      "execution_count": null,
      "id": "4535f906-ebdc-43dd-a972-bdb7312427b7",
      "metadata": {
        "id": "4535f906-ebdc-43dd-a972-bdb7312427b7"
      },
      "outputs": [],
      "source": [
        "a = arr"
      ]
    },
    {
      "cell_type": "code",
      "execution_count": null,
      "id": "8fa118a2-34e5-4531-9351-23896c8d50b2",
      "metadata": {
        "id": "8fa118a2-34e5-4531-9351-23896c8d50b2",
        "outputId": "600ead16-ef2f-4dd6-a7ea-ab88929f5a30"
      },
      "outputs": [
        {
          "data": {
            "text/plain": [
              "array([1, 2, 3, 4, 5])"
            ]
          },
          "execution_count": 19,
          "metadata": {},
          "output_type": "execute_result"
        }
      ],
      "source": [
        "a"
      ]
    },
    {
      "cell_type": "code",
      "execution_count": null,
      "id": "9df5a9ef-c93e-49a7-b844-cd1a48e07298",
      "metadata": {
        "id": "9df5a9ef-c93e-49a7-b844-cd1a48e07298",
        "outputId": "7840079a-3c05-4117-c5dc-1a8ad0748406"
      },
      "outputs": [
        {
          "data": {
            "text/plain": [
              "array([1, 2, 3, 4, 5])"
            ]
          },
          "execution_count": 20,
          "metadata": {},
          "output_type": "execute_result"
        }
      ],
      "source": [
        "arr"
      ]
    },
    {
      "cell_type": "code",
      "execution_count": null,
      "id": "ac10bed4-7231-4369-ab1b-14004a468e76",
      "metadata": {
        "id": "ac10bed4-7231-4369-ab1b-14004a468e76"
      },
      "outputs": [],
      "source": [
        "arr[0] = 100"
      ]
    },
    {
      "cell_type": "code",
      "execution_count": null,
      "id": "730f4eef-3f6d-4163-b267-4244d8f12c9c",
      "metadata": {
        "id": "730f4eef-3f6d-4163-b267-4244d8f12c9c",
        "outputId": "6db61847-e13b-4621-9feb-0c73269050be"
      },
      "outputs": [
        {
          "data": {
            "text/plain": [
              "array([100,   2,   3,   4,   5])"
            ]
          },
          "execution_count": 22,
          "metadata": {},
          "output_type": "execute_result"
        }
      ],
      "source": [
        "arr"
      ]
    },
    {
      "cell_type": "code",
      "execution_count": null,
      "id": "37d75cc5-0541-4718-8d53-1e1944d1cd93",
      "metadata": {
        "id": "37d75cc5-0541-4718-8d53-1e1944d1cd93",
        "outputId": "1872e933-341d-4996-e682-404321deac96"
      },
      "outputs": [
        {
          "data": {
            "text/plain": [
              "array([100,   2,   3,   4,   5])"
            ]
          },
          "execution_count": 23,
          "metadata": {},
          "output_type": "execute_result"
        }
      ],
      "source": [
        "a"
      ]
    },
    {
      "cell_type": "code",
      "execution_count": null,
      "id": "0d70f85d-d317-4f2d-afa2-e57ef4e3fde3",
      "metadata": {
        "id": "0d70f85d-d317-4f2d-afa2-e57ef4e3fde3"
      },
      "outputs": [],
      "source": [
        "b = np.copy(arr)"
      ]
    },
    {
      "cell_type": "code",
      "execution_count": null,
      "id": "b863c6ee-f8b7-4eee-9e72-88763f8df0d2",
      "metadata": {
        "id": "b863c6ee-f8b7-4eee-9e72-88763f8df0d2",
        "outputId": "f691830b-9fca-499a-a761-446d0cfc63cd"
      },
      "outputs": [
        {
          "data": {
            "text/plain": [
              "array([100,   2,   3,   4,   5])"
            ]
          },
          "execution_count": 25,
          "metadata": {},
          "output_type": "execute_result"
        }
      ],
      "source": [
        "b"
      ]
    },
    {
      "cell_type": "code",
      "execution_count": null,
      "id": "860f0814-cd02-4fbc-8029-c17ed5a69042",
      "metadata": {
        "id": "860f0814-cd02-4fbc-8029-c17ed5a69042"
      },
      "outputs": [],
      "source": [
        "b[0] = 234"
      ]
    },
    {
      "cell_type": "code",
      "execution_count": null,
      "id": "3ae8e6f3-09a1-405c-8d85-a67f66a19ce5",
      "metadata": {
        "id": "3ae8e6f3-09a1-405c-8d85-a67f66a19ce5",
        "outputId": "049e9900-df25-4f2b-fb84-82966b3141ab"
      },
      "outputs": [
        {
          "data": {
            "text/plain": [
              "array([234,   2,   3,   4,   5])"
            ]
          },
          "execution_count": 28,
          "metadata": {},
          "output_type": "execute_result"
        }
      ],
      "source": [
        "b"
      ]
    },
    {
      "cell_type": "code",
      "execution_count": null,
      "id": "ac52da77-b145-4bbf-9a7b-423c7a8f6899",
      "metadata": {
        "id": "ac52da77-b145-4bbf-9a7b-423c7a8f6899",
        "outputId": "bb258b03-0ef1-42ae-e19d-3f32f0e1cab2"
      },
      "outputs": [
        {
          "data": {
            "text/plain": [
              "array([100,   2,   3,   4,   5])"
            ]
          },
          "execution_count": 29,
          "metadata": {},
          "output_type": "execute_result"
        }
      ],
      "source": [
        "arr"
      ]
    },
    {
      "cell_type": "code",
      "execution_count": null,
      "id": "25f92814-a930-4d6c-9f1a-d5839e26ac9a",
      "metadata": {
        "id": "25f92814-a930-4d6c-9f1a-d5839e26ac9a",
        "outputId": "306b55a4-e013-4219-c453-25fb8b9d88dd"
      },
      "outputs": [
        {
          "data": {
            "text/plain": [
              "array([[ True, False, False],\n",
              "       [False,  True, False],\n",
              "       [False, False,  True]])"
            ]
          },
          "execution_count": 30,
          "metadata": {},
          "output_type": "execute_result"
        }
      ],
      "source": [
        "np.fromfunction(lambda i,j : i==j , (3,3))"
      ]
    },
    {
      "cell_type": "code",
      "execution_count": null,
      "id": "7df95de4-4cd7-465f-9fec-efa55d7cf5c0",
      "metadata": {
        "id": "7df95de4-4cd7-465f-9fec-efa55d7cf5c0",
        "outputId": "0d20864d-962b-4e60-dcbb-27f0aee584c0"
      },
      "outputs": [
        {
          "data": {
            "text/plain": [
              "array([[0., 0., 0.],\n",
              "       [0., 1., 2.],\n",
              "       [0., 2., 4.]])"
            ]
          },
          "execution_count": 31,
          "metadata": {},
          "output_type": "execute_result"
        }
      ],
      "source": [
        "np.fromfunction(lambda i,j : i*j , (3,3))"
      ]
    },
    {
      "cell_type": "code",
      "execution_count": null,
      "id": "d359cbcc-f87e-4dc0-84f2-a17b452dc508",
      "metadata": {
        "id": "d359cbcc-f87e-4dc0-84f2-a17b452dc508",
        "outputId": "3fe15bf2-648e-4604-9168-f22813a4d731"
      },
      "outputs": [
        {
          "data": {
            "text/plain": [
              "[0, 1, 4, 9, 16]"
            ]
          },
          "execution_count": 33,
          "metadata": {},
          "output_type": "execute_result"
        }
      ],
      "source": [
        "list(i*i for i in range(5))"
      ]
    },
    {
      "cell_type": "code",
      "execution_count": null,
      "id": "ada06e9a-3549-4321-8dde-61afd933f4d6",
      "metadata": {
        "id": "ada06e9a-3549-4321-8dde-61afd933f4d6"
      },
      "outputs": [],
      "source": [
        "iterable  = (i*i for i in range(5))"
      ]
    },
    {
      "cell_type": "code",
      "execution_count": null,
      "id": "52974402-8480-4e44-86de-72dd2e41da0d",
      "metadata": {
        "id": "52974402-8480-4e44-86de-72dd2e41da0d",
        "outputId": "8f8b1d52-b003-4bbf-9d2c-b0461eb3c2e8"
      },
      "outputs": [
        {
          "data": {
            "text/plain": [
              "array([ 0.,  1.,  4.,  9., 16.])"
            ]
          },
          "execution_count": 36,
          "metadata": {},
          "output_type": "execute_result"
        }
      ],
      "source": [
        "np.fromiter(iterable,float)"
      ]
    },
    {
      "cell_type": "code",
      "execution_count": null,
      "id": "4094378e-1a2f-4673-b1e3-828ea49a1da3",
      "metadata": {
        "id": "4094378e-1a2f-4673-b1e3-828ea49a1da3",
        "outputId": "e972c5df-98ae-4673-aaf1-b7792dcf090a"
      },
      "outputs": [
        {
          "data": {
            "text/plain": [
              "array([23., 45., 56.])"
            ]
          },
          "execution_count": 37,
          "metadata": {},
          "output_type": "execute_result"
        }
      ],
      "source": [
        "np.fromstring('23 45 56',sep  = ' ' )"
      ]
    },
    {
      "cell_type": "code",
      "execution_count": null,
      "id": "a7da21ca-6cc4-491b-baa6-a6e96f6bf6f4",
      "metadata": {
        "id": "a7da21ca-6cc4-491b-baa6-a6e96f6bf6f4",
        "outputId": "18e98589-87cb-4eca-f228-0f5a7cfcbb1a"
      },
      "outputs": [
        {
          "data": {
            "text/plain": [
              "array([23., 45., 56.])"
            ]
          },
          "execution_count": 38,
          "metadata": {},
          "output_type": "execute_result"
        }
      ],
      "source": [
        "np.fromstring('23,45,56',sep  = ',' )"
      ]
    },
    {
      "cell_type": "code",
      "execution_count": null,
      "id": "207f50e2-1f94-4a36-b775-76b88d8f70a0",
      "metadata": {
        "id": "207f50e2-1f94-4a36-b775-76b88d8f70a0",
        "outputId": "e2e3be7d-8b2b-4e78-d78f-988c3d4dd482"
      },
      "outputs": [
        {
          "data": {
            "text/plain": [
              "array([100,   2,   3,   4,   5])"
            ]
          },
          "execution_count": 39,
          "metadata": {},
          "output_type": "execute_result"
        }
      ],
      "source": [
        "arr"
      ]
    },
    {
      "cell_type": "code",
      "execution_count": null,
      "id": "92ea7edf-eb41-41e5-b6d2-1dd32aa01e8a",
      "metadata": {
        "id": "92ea7edf-eb41-41e5-b6d2-1dd32aa01e8a",
        "outputId": "9d94b0ec-80f7-4135-a350-285ab3ed3711"
      },
      "outputs": [
        {
          "data": {
            "text/plain": [
              "array([[1, 2, 3],\n",
              "       [2, 3, 4]])"
            ]
          },
          "execution_count": 40,
          "metadata": {},
          "output_type": "execute_result"
        }
      ],
      "source": [
        "arr1"
      ]
    },
    {
      "cell_type": "code",
      "execution_count": null,
      "id": "b5a00056-ca3b-4897-bf5d-a1a72a416981",
      "metadata": {
        "id": "b5a00056-ca3b-4897-bf5d-a1a72a416981",
        "outputId": "c357b88c-4b08-48c5-8819-7ba8e694ed5c"
      },
      "outputs": [
        {
          "data": {
            "text/plain": [
              "1"
            ]
          },
          "execution_count": 41,
          "metadata": {},
          "output_type": "execute_result"
        }
      ],
      "source": [
        "arr.ndim"
      ]
    },
    {
      "cell_type": "code",
      "execution_count": null,
      "id": "82c6afe0-f434-404c-b715-2a2e3f484a18",
      "metadata": {
        "id": "82c6afe0-f434-404c-b715-2a2e3f484a18",
        "outputId": "c85fb7b1-9f49-4cde-ce7e-3ce5f06eec39"
      },
      "outputs": [
        {
          "data": {
            "text/plain": [
              "2"
            ]
          },
          "execution_count": 42,
          "metadata": {},
          "output_type": "execute_result"
        }
      ],
      "source": [
        "arr1.ndim"
      ]
    },
    {
      "cell_type": "code",
      "execution_count": null,
      "id": "6755f374-fc0b-46f9-bbc9-aac90a6eabe5",
      "metadata": {
        "id": "6755f374-fc0b-46f9-bbc9-aac90a6eabe5",
        "outputId": "f8ca6e23-e168-42ad-e480-42631937237d"
      },
      "outputs": [
        {
          "data": {
            "text/plain": [
              "5"
            ]
          },
          "execution_count": 43,
          "metadata": {},
          "output_type": "execute_result"
        }
      ],
      "source": [
        "arr.size"
      ]
    },
    {
      "cell_type": "code",
      "execution_count": null,
      "id": "120f9b8d-d5ce-4731-a6f9-9d90751089c0",
      "metadata": {
        "id": "120f9b8d-d5ce-4731-a6f9-9d90751089c0",
        "outputId": "250fcfc4-394f-45e0-8023-973c4560eea2"
      },
      "outputs": [
        {
          "data": {
            "text/plain": [
              "6"
            ]
          },
          "execution_count": 44,
          "metadata": {},
          "output_type": "execute_result"
        }
      ],
      "source": [
        "arr1.size"
      ]
    },
    {
      "cell_type": "code",
      "execution_count": null,
      "id": "d64860b7-ed8e-4f97-aa6d-5dfca01e998c",
      "metadata": {
        "id": "d64860b7-ed8e-4f97-aa6d-5dfca01e998c",
        "outputId": "d8eb95fe-4267-4708-9e64-b10fb88825ae"
      },
      "outputs": [
        {
          "data": {
            "text/plain": [
              "(5,)"
            ]
          },
          "execution_count": 45,
          "metadata": {},
          "output_type": "execute_result"
        }
      ],
      "source": [
        "arr.shape"
      ]
    },
    {
      "cell_type": "code",
      "execution_count": null,
      "id": "139d0ef0-acff-4001-9e91-7fafa68b7285",
      "metadata": {
        "id": "139d0ef0-acff-4001-9e91-7fafa68b7285",
        "outputId": "68344bf1-bea7-4f32-c283-505e58a74646"
      },
      "outputs": [
        {
          "data": {
            "text/plain": [
              "(2, 3)"
            ]
          },
          "execution_count": 46,
          "metadata": {},
          "output_type": "execute_result"
        }
      ],
      "source": [
        "arr1.shape"
      ]
    },
    {
      "cell_type": "code",
      "execution_count": null,
      "id": "49b88ef5-b480-4310-a251-ba34000a8463",
      "metadata": {
        "id": "49b88ef5-b480-4310-a251-ba34000a8463",
        "outputId": "5366df9a-03ae-463e-fa26-b4f45f32ebcd"
      },
      "outputs": [
        {
          "data": {
            "text/plain": [
              "array([[1, 2, 3],\n",
              "       [2, 3, 4]])"
            ]
          },
          "execution_count": 48,
          "metadata": {},
          "output_type": "execute_result"
        }
      ],
      "source": [
        "arr1"
      ]
    },
    {
      "cell_type": "code",
      "execution_count": null,
      "id": "dfbb330b-7164-42ea-8195-9cd6652d3ebd",
      "metadata": {
        "id": "dfbb330b-7164-42ea-8195-9cd6652d3ebd",
        "outputId": "f6b65175-5d42-40de-ab01-410ccf78ed4d"
      },
      "outputs": [
        {
          "data": {
            "text/plain": [
              "dtype('int64')"
            ]
          },
          "execution_count": 49,
          "metadata": {},
          "output_type": "execute_result"
        }
      ],
      "source": [
        "arr.dtype"
      ]
    },
    {
      "cell_type": "code",
      "execution_count": null,
      "id": "6ab4ec3d-a70d-4295-949e-13e99692bea2",
      "metadata": {
        "id": "6ab4ec3d-a70d-4295-949e-13e99692bea2",
        "outputId": "a7f8caa7-638a-4ef8-fef4-469a0433d808"
      },
      "outputs": [
        {
          "data": {
            "text/plain": [
              "dtype('int64')"
            ]
          },
          "execution_count": 50,
          "metadata": {},
          "output_type": "execute_result"
        }
      ],
      "source": [
        "arr1.dtype"
      ]
    },
    {
      "cell_type": "code",
      "execution_count": null,
      "id": "8fb42cf9-b57e-4a5c-9d7d-6540c6b79608",
      "metadata": {
        "id": "8fb42cf9-b57e-4a5c-9d7d-6540c6b79608"
      },
      "outputs": [],
      "source": []
    }
  ],
  "metadata": {
    "kernelspec": {
      "display_name": "Python 3 (ipykernel)",
      "language": "python",
      "name": "python3"
    },
    "language_info": {
      "codemirror_mode": {
        "name": "ipython",
        "version": 3
      },
      "file_extension": ".py",
      "mimetype": "text/x-python",
      "name": "python",
      "nbconvert_exporter": "python",
      "pygments_lexer": "ipython3",
      "version": "3.10.8"
    },
    "colab": {
      "provenance": []
    }
  },
  "nbformat": 4,
  "nbformat_minor": 5
}