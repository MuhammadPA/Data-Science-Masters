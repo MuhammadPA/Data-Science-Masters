{
 "cells": [
  {
   "cell_type": "markdown",
   "id": "c5bf599a-2e92-4b90-96a1-36e1303cf0e1",
   "metadata": {},
   "source": [
    "### 1. Create a python function to sort the given list of tuples based on integer value using a lambda fuunction.\n",
    "[('Sachin Tendulkar':34357),('Ricky Ponting':27483),('Jack Kallis':25534),('Virat Kohli':24936)]"
   ]
  },
  {
   "cell_type": "code",
   "execution_count": 1,
   "id": "9d605c0f-396c-4610-9f45-27bf03cf70c6",
   "metadata": {},
   "outputs": [
    {
     "name": "stdout",
     "output_type": "stream",
     "text": [
      "[('Virat Kohli', 24936), ('Jack Kallis', 25534), ('Ricky Ponting', 27483), ('Sachin Tendulkar', 34357)]\n"
     ]
    }
   ],
   "source": [
    "def sort_tuple_list(tuple_list):\n",
    "    return sorted(tuple_list, key=lambda x: x[1])\n",
    "\n",
    "player_records = [('Sachin Tendulkar', 34357),\n",
    "                  ('Ricky Ponting', 27483),\n",
    "                  ('Jack Kallis', 25534),\n",
    "                  ('Virat Kohli', 24936)]\n",
    "\n",
    "sorted_player_records = sort_tuple_list(player_records)\n",
    "print(sorted_player_records)"
   ]
  },
  {
   "cell_type": "markdown",
   "id": "d1732847-f865-4b69-86f3-2f01556a3699",
   "metadata": {},
   "source": [
    "### 2.Write a python program to find the squares of all the numbers in the given list of integers using lambda and map functions\n",
    "[1,2,3,4,5,6,7,8,9,10]"
   ]
  },
  {
   "cell_type": "code",
   "execution_count": 2,
   "id": "502d0f71-01d1-4caa-9e05-3b2abac0d84b",
   "metadata": {},
   "outputs": [
    {
     "name": "stdout",
     "output_type": "stream",
     "text": [
      "[1, 4, 9, 16, 25, 36, 49, 64, 81, 100]\n"
     ]
    }
   ],
   "source": [
    "numbers = [1, 2, 3, 4, 5, 6, 7, 8, 9, 10]\n",
    "squared_numbers = list(map(lambda x: x**2, numbers))\n",
    "print(squared_numbers)"
   ]
  },
  {
   "cell_type": "markdown",
   "id": "4c5a80d6-84b1-4891-9d03-80c8cc46dff5",
   "metadata": {},
   "source": [
    "### 3.Write a python program to convert the given list of integers into a tuple of strings. Use map and lambda functions.\n",
    "Given String:[1,2,3,4,5,6,7,8,9,10]\n",
    "Expected Output:['1','2','3','4','5','6','7','8','9','10']"
   ]
  },
  {
   "cell_type": "code",
   "execution_count": 3,
   "id": "75b13d36-4d4f-4b30-9e00-2f16ab6b1e4e",
   "metadata": {},
   "outputs": [
    {
     "name": "stdout",
     "output_type": "stream",
     "text": [
      "('1', '2', '3', '4', '5', '6', '7', '8', '9', '10')\n"
     ]
    }
   ],
   "source": [
    "numbers = [1, 2, 3, 4, 5, 6, 7, 8, 9, 10]\n",
    "string_numbers = tuple(map(lambda x: str(x), numbers))\n",
    "print(string_numbers)"
   ]
  },
  {
   "cell_type": "markdown",
   "id": "19fe98ae-1d3d-4bdb-8426-8d21128395fc",
   "metadata": {},
   "source": [
    "### 4.Write a python program using reduce function to compute the product of a list containing numbers from 1 t0 25"
   ]
  },
  {
   "cell_type": "code",
   "execution_count": 2,
   "id": "ae845a04-a7bf-42e0-8471-89d1dc033e0e",
   "metadata": {},
   "outputs": [
    {
     "name": "stdout",
     "output_type": "stream",
     "text": [
      "15511210043330985984000000\n"
     ]
    }
   ],
   "source": [
    "from functools import reduce\n",
    "\n",
    "numbers = range(1, 26)\n",
    "product = reduce(lambda x, y: x*y, numbers)\n",
    "print(product)"
   ]
  },
  {
   "cell_type": "markdown",
   "id": "f3454199-29fa-4677-b75c-56ac7bbeac3b",
   "metadata": {},
   "source": [
    "### 5.Write a pyhton program using reduce function to compute the product of a list that are divisible by 2 and 3 using filter function\n",
    "[2,3,6,9,27,60,90,120,55,46]"
   ]
  },
  {
   "cell_type": "code",
   "execution_count": 3,
   "id": "9368007a-ff73-472d-83de-129033548dbd",
   "metadata": {},
   "outputs": [
    {
     "name": "stdout",
     "output_type": "stream",
     "text": [
      "3888000\n"
     ]
    }
   ],
   "source": [
    "from functools import reduce\n",
    "\n",
    "numbers = [2,3,6,9,27,60,90,120,55,46]\n",
    "filtered_numbers = list(filter(lambda x: x % 2 == 0 and x % 3 == 0, numbers))\n",
    "product = reduce(lambda x, y: x*y, filtered_numbers)\n",
    "print(product)"
   ]
  },
  {
   "cell_type": "markdown",
   "id": "76797d64-0e83-42ca-98a0-59d0fe5d763f",
   "metadata": {},
   "source": [
    "### 6.Write a python program to find palindromes in the given list of strings using lambda and filter function\n",
    "['python','php','aba','radar','level']"
   ]
  },
  {
   "cell_type": "code",
   "execution_count": 4,
   "id": "9e126a3d-746f-45d6-aeb9-e4faa6b748e2",
   "metadata": {},
   "outputs": [
    {
     "name": "stdout",
     "output_type": "stream",
     "text": [
      "['php', 'aba', 'radar', 'level']\n"
     ]
    }
   ],
   "source": [
    "strings = ['python','php','aba','radar','level']\n",
    "palindromes = list(filter(lambda x: x == x[::-1], strings))\n",
    "print(palindromes)"
   ]
  }
 ],
 "metadata": {
  "kernelspec": {
   "display_name": "Python 3 (ipykernel)",
   "language": "python",
   "name": "python3"
  },
  "language_info": {
   "codemirror_mode": {
    "name": "ipython",
    "version": 3
   },
   "file_extension": ".py",
   "mimetype": "text/x-python",
   "name": "python",
   "nbconvert_exporter": "python",
   "pygments_lexer": "ipython3",
   "version": "3.10.8"
  }
 },
 "nbformat": 4,
 "nbformat_minor": 5
}
