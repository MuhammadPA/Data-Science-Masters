{
  "cells": [
    {
      "cell_type": "markdown",
      "metadata": {
        "id": "v7RjF9DDDO_H"
      },
      "source": [
        "# Importing Necessary Libraries"
      ]
    },
    {
      "cell_type": "code",
      "execution_count": null,
      "metadata": {
        "id": "ymwuAlANDO_Q"
      },
      "outputs": [],
      "source": [
        "import nltk\n",
        "from nltk.tokenize import sent_tokenize"
      ]
    },
    {
      "cell_type": "markdown",
      "metadata": {
        "id": "GvkZ10b_DO_S"
      },
      "source": [
        "# Sample text"
      ]
    },
    {
      "cell_type": "code",
      "execution_count": null,
      "metadata": {
        "id": "90q23jnCDO_T"
      },
      "outputs": [],
      "source": [
        "text = \"This is the first sentence. Here comes the second sentence. Finally, the third sentence.\""
      ]
    },
    {
      "cell_type": "markdown",
      "metadata": {
        "id": "xV1isul7DO_U"
      },
      "source": [
        "# Tokenize into sentences"
      ]
    },
    {
      "cell_type": "code",
      "execution_count": null,
      "metadata": {
        "id": "gkFKAz3QDO_U",
        "outputId": "9653b048-0f29-4caf-b9c9-d4b1ad554cf4"
      },
      "outputs": [
        {
          "name": "stdout",
          "output_type": "stream",
          "text": [
            "Tokenize into sentences\n",
            "Tokenized sentences: ['This is the first sentence.', 'Here comes the second sentence.', 'Finally, the third sentence.']\n",
            "\n"
          ]
        }
      ],
      "source": [
        "print(\"Tokenize into sentences\")\n",
        "sentences = sent_tokenize(text)\n",
        "print(\"Tokenized sentences:\", sentences)\n",
        "print()"
      ]
    },
    {
      "cell_type": "markdown",
      "metadata": {
        "id": "K1BBsYORDO_X"
      },
      "source": [
        "# Count sentences"
      ]
    },
    {
      "cell_type": "code",
      "execution_count": null,
      "metadata": {
        "id": "ORWUjnkcDO_X",
        "outputId": "fe81e837-0f3a-42a7-c349-3138b7aae151"
      },
      "outputs": [
        {
          "name": "stdout",
          "output_type": "stream",
          "text": [
            "Count sentences\n",
            "Number of sentences: 3\n",
            "\n"
          ]
        }
      ],
      "source": [
        "print(\"Count sentences\")\n",
        "num_sentences = len(sentences)\n",
        "print(\"Number of sentences:\", num_sentences)\n",
        "print()"
      ]
    },
    {
      "cell_type": "markdown",
      "metadata": {
        "id": "NQ4yhEt4DO_Z"
      },
      "source": [
        "# Finding the longest sentence"
      ]
    },
    {
      "cell_type": "code",
      "execution_count": null,
      "metadata": {
        "id": "JVe88sP-DO_a",
        "outputId": "3da41500-bb4a-4be7-a921-7097cb5e897f"
      },
      "outputs": [
        {
          "name": "stdout",
          "output_type": "stream",
          "text": [
            "Finding the longest sentence\n",
            "Longest sentence: Here comes the second sentence.\n",
            "\n"
          ]
        }
      ],
      "source": [
        "print(\"Finding the longest sentence\")\n",
        "longest_sentence = max(sentences, key=len)\n",
        "print(\"Longest sentence:\", longest_sentence)\n",
        "print()"
      ]
    },
    {
      "cell_type": "markdown",
      "metadata": {
        "id": "QZ1gNr5iDO_b"
      },
      "source": [
        "# Removing punctuation from sentences"
      ]
    },
    {
      "cell_type": "code",
      "execution_count": null,
      "metadata": {
        "id": "QaWAg1FfDO_b",
        "outputId": "966ff0b7-fce0-44c3-db1b-928a6e913b66"
      },
      "outputs": [
        {
          "name": "stdout",
          "output_type": "stream",
          "text": [
            "Removing punctuation from sentences\n",
            "Sentences without punctuation: ['This is the first sentence', 'Here comes the second sentence', 'Finally the third sentence']\n"
          ]
        }
      ],
      "source": [
        "print(\"Removing punctuation from sentences\")\n",
        "import string\n",
        "\n",
        "def remove_punctuation(sentence):\n",
        "    translator = str.maketrans(\"\", \"\", string.punctuation)\n",
        "    return sentence.translate(translator)\n",
        "\n",
        "cleaned_sentences = [remove_punctuation(sentence) for sentence in sentences]\n",
        "print(\"Sentences without punctuation:\", cleaned_sentences)"
      ]
    },
    {
      "cell_type": "code",
      "execution_count": null,
      "metadata": {
        "id": "pLQ8nh8GDO_c"
      },
      "outputs": [],
      "source": []
    }
  ],
  "metadata": {
    "kernelspec": {
      "display_name": "Python 3",
      "language": "python",
      "name": "python3"
    },
    "language_info": {
      "codemirror_mode": {
        "name": "ipython",
        "version": 3
      },
      "file_extension": ".py",
      "mimetype": "text/x-python",
      "name": "python",
      "nbconvert_exporter": "python",
      "pygments_lexer": "ipython3",
      "version": "3.8.5"
    },
    "colab": {
      "provenance": []
    }
  },
  "nbformat": 4,
  "nbformat_minor": 0
}