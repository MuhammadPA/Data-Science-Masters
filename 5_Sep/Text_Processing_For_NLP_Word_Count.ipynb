{
  "cells": [
    {
      "cell_type": "markdown",
      "metadata": {
        "id": "T31H29X4DQXD"
      },
      "source": [
        "# Sample text"
      ]
    },
    {
      "cell_type": "code",
      "execution_count": null,
      "metadata": {
        "id": "ySLIkLo4DQXK"
      },
      "outputs": [],
      "source": [
        "text = \"This is a sample text. It contains some words. This text is used for word count example.\""
      ]
    },
    {
      "cell_type": "markdown",
      "metadata": {
        "id": "SBaw378jDQXP"
      },
      "source": [
        "# Tokenization"
      ]
    },
    {
      "cell_type": "code",
      "execution_count": null,
      "metadata": {
        "id": "hznDIGGuDQXQ",
        "outputId": "2ad89399-b5cb-4836-8ea9-a3dfb3184e20"
      },
      "outputs": [
        {
          "name": "stdout",
          "output_type": "stream",
          "text": [
            "Tokenization\n",
            "Tokenized words: ['This', 'is', 'a', 'sample', 'text.', 'It', 'contains', 'some', 'words.', 'This', 'text', 'is', 'used', 'for', 'word', 'count', 'example.']\n",
            "\n"
          ]
        }
      ],
      "source": [
        "print(\"Tokenization\")\n",
        "words = text.split()\n",
        "print(\"Tokenized words:\", words)\n",
        "print()"
      ]
    },
    {
      "cell_type": "markdown",
      "metadata": {
        "id": "jfYfPq6MDQXT"
      },
      "source": [
        "# Counting Words"
      ]
    },
    {
      "cell_type": "code",
      "execution_count": null,
      "metadata": {
        "id": "ZC9rDkTpDQXW",
        "outputId": "5e9ad023-42de-4130-82c4-b3a52a7281f9"
      },
      "outputs": [
        {
          "name": "stdout",
          "output_type": "stream",
          "text": [
            "Counting words\n",
            "Total word count: 17\n",
            "\n"
          ]
        }
      ],
      "source": [
        "print(\"Counting words\")\n",
        "word_count = len(words)\n",
        "print(\"Total word count:\", word_count)\n",
        "print()"
      ]
    },
    {
      "cell_type": "markdown",
      "metadata": {
        "id": "cnSYlnukDQXY"
      },
      "source": [
        "# Counting Unique Words"
      ]
    },
    {
      "cell_type": "code",
      "execution_count": null,
      "metadata": {
        "id": "1K_UJ_H3DQXZ",
        "outputId": "3f62f4cf-998b-480b-d528-440328f535af"
      },
      "outputs": [
        {
          "name": "stdout",
          "output_type": "stream",
          "text": [
            "Counting unique words\n",
            "Total unique word count: 15\n"
          ]
        }
      ],
      "source": [
        "print(\"Counting unique words\")\n",
        "unique_words = set(words)\n",
        "unique_word_count = len(unique_words)\n",
        "print(\"Total unique word count:\", unique_word_count)"
      ]
    },
    {
      "cell_type": "code",
      "execution_count": null,
      "metadata": {
        "id": "xOmWgS1_DQXb"
      },
      "outputs": [],
      "source": []
    }
  ],
  "metadata": {
    "kernelspec": {
      "display_name": "Python 3",
      "language": "python",
      "name": "python3"
    },
    "language_info": {
      "codemirror_mode": {
        "name": "ipython",
        "version": 3
      },
      "file_extension": ".py",
      "mimetype": "text/x-python",
      "name": "python",
      "nbconvert_exporter": "python",
      "pygments_lexer": "ipython3",
      "version": "3.8.5"
    },
    "colab": {
      "provenance": []
    }
  },
  "nbformat": 4,
  "nbformat_minor": 0
}