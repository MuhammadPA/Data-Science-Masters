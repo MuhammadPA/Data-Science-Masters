{
  "cells": [
    {
      "cell_type": "code",
      "execution_count": null,
      "id": "70f59085-15eb-4fc3-97a3-09ad75aa6b92",
      "metadata": {
        "id": "70f59085-15eb-4fc3-97a3-09ad75aa6b92"
      },
      "outputs": [],
      "source": [
        "import numpy as np"
      ]
    },
    {
      "cell_type": "code",
      "execution_count": null,
      "id": "94f3ea4a-6691-4d4f-b141-f82433cb992b",
      "metadata": {
        "id": "94f3ea4a-6691-4d4f-b141-f82433cb992b"
      },
      "outputs": [],
      "source": [
        "#Numpy - Array Manipulation."
      ]
    },
    {
      "cell_type": "code",
      "execution_count": null,
      "id": "18c374d6-7014-4baf-832b-5890404e3897",
      "metadata": {
        "id": "18c374d6-7014-4baf-832b-5890404e3897"
      },
      "outputs": [],
      "source": [
        "arr = np.random.randint(1,10 , (4,4))"
      ]
    },
    {
      "cell_type": "code",
      "execution_count": null,
      "id": "2bb18a8b-fa50-4064-b444-48661da4e6e2",
      "metadata": {
        "id": "2bb18a8b-fa50-4064-b444-48661da4e6e2",
        "outputId": "8b93df58-22d1-4077-bb83-1091142fae13"
      },
      "outputs": [
        {
          "data": {
            "text/plain": [
              "array([[5, 5, 2, 3],\n",
              "       [2, 8, 5, 8],\n",
              "       [4, 5, 9, 5],\n",
              "       [8, 5, 1, 4]])"
            ]
          },
          "execution_count": 4,
          "metadata": {},
          "output_type": "execute_result"
        }
      ],
      "source": [
        "arr"
      ]
    },
    {
      "cell_type": "code",
      "execution_count": null,
      "id": "7383b31a-00b7-416a-b657-da4b446b6eef",
      "metadata": {
        "id": "7383b31a-00b7-416a-b657-da4b446b6eef",
        "outputId": "49ae336f-8310-489b-dd0d-d1bb7c0cff40"
      },
      "outputs": [
        {
          "data": {
            "text/plain": [
              "array([[5, 5],\n",
              "       [2, 3],\n",
              "       [2, 8],\n",
              "       [5, 8],\n",
              "       [4, 5],\n",
              "       [9, 5],\n",
              "       [8, 5],\n",
              "       [1, 4]])"
            ]
          },
          "execution_count": 5,
          "metadata": {},
          "output_type": "execute_result"
        }
      ],
      "source": [
        "arr.reshape(8,2)"
      ]
    },
    {
      "cell_type": "code",
      "execution_count": null,
      "id": "b6da154c-d8c3-4d87-b913-e7e7f5c19eac",
      "metadata": {
        "id": "b6da154c-d8c3-4d87-b913-e7e7f5c19eac",
        "outputId": "508ede55-40f1-4105-a5ce-05f28b00d1e0"
      },
      "outputs": [
        {
          "data": {
            "text/plain": [
              "array([[5, 5, 2, 3],\n",
              "       [2, 8, 5, 8],\n",
              "       [4, 5, 9, 5],\n",
              "       [8, 5, 1, 4]])"
            ]
          },
          "execution_count": 6,
          "metadata": {},
          "output_type": "execute_result"
        }
      ],
      "source": [
        "arr"
      ]
    },
    {
      "cell_type": "code",
      "execution_count": null,
      "id": "e2067f8a-390e-4881-8617-db9c570fafca",
      "metadata": {
        "id": "e2067f8a-390e-4881-8617-db9c570fafca",
        "outputId": "10da5e77-1408-4dde-9f76-313508a5a0c7"
      },
      "outputs": [
        {
          "data": {
            "text/plain": [
              "array([[5, 2, 4, 8],\n",
              "       [5, 8, 5, 5],\n",
              "       [2, 5, 9, 1],\n",
              "       [3, 8, 5, 4]])"
            ]
          },
          "execution_count": 7,
          "metadata": {},
          "output_type": "execute_result"
        }
      ],
      "source": [
        "arr.T"
      ]
    },
    {
      "cell_type": "code",
      "execution_count": null,
      "id": "d490d1c8-ff01-457c-bacf-22cfeda16c2e",
      "metadata": {
        "id": "d490d1c8-ff01-457c-bacf-22cfeda16c2e",
        "outputId": "3bc3cc1d-2b75-413d-d5ea-25a05ad5a902"
      },
      "outputs": [
        {
          "data": {
            "text/plain": [
              "array([5, 5, 2, 3, 2, 8, 5, 8, 4, 5, 9, 5, 8, 5, 1, 4])"
            ]
          },
          "execution_count": 8,
          "metadata": {},
          "output_type": "execute_result"
        }
      ],
      "source": [
        "arr.flatten()"
      ]
    },
    {
      "cell_type": "code",
      "execution_count": null,
      "id": "59700b0b-ab9b-4e35-81d4-9185d33cf66a",
      "metadata": {
        "id": "59700b0b-ab9b-4e35-81d4-9185d33cf66a",
        "outputId": "45142c20-2e96-498b-eb4d-2105e9951460"
      },
      "outputs": [
        {
          "data": {
            "text/plain": [
              "array([[5, 5, 2, 3],\n",
              "       [2, 8, 5, 8],\n",
              "       [4, 5, 9, 5],\n",
              "       [8, 5, 1, 4]])"
            ]
          },
          "execution_count": 9,
          "metadata": {},
          "output_type": "execute_result"
        }
      ],
      "source": [
        "arr"
      ]
    },
    {
      "cell_type": "code",
      "execution_count": null,
      "id": "b72995bf-6b99-4f99-842b-d93b0a1f3565",
      "metadata": {
        "id": "b72995bf-6b99-4f99-842b-d93b0a1f3565",
        "outputId": "bee14e82-a82d-4aa4-9255-928d383eb03e"
      },
      "outputs": [
        {
          "data": {
            "text/plain": [
              "array([[[5, 5, 2, 3]],\n",
              "\n",
              "       [[2, 8, 5, 8]],\n",
              "\n",
              "       [[4, 5, 9, 5]],\n",
              "\n",
              "       [[8, 5, 1, 4]]])"
            ]
          },
          "execution_count": 11,
          "metadata": {},
          "output_type": "execute_result"
        }
      ],
      "source": [
        "np.expand_dims(arr,axis=1)"
      ]
    },
    {
      "cell_type": "code",
      "execution_count": null,
      "id": "55974e7a-dab7-4422-b72a-9b749dd83dbd",
      "metadata": {
        "id": "55974e7a-dab7-4422-b72a-9b749dd83dbd",
        "outputId": "746514f6-706e-45f5-b7f0-0f818983a664"
      },
      "outputs": [
        {
          "data": {
            "text/plain": [
              "array([[[5, 5, 2, 3],\n",
              "        [2, 8, 5, 8],\n",
              "        [4, 5, 9, 5],\n",
              "        [8, 5, 1, 4]]])"
            ]
          },
          "execution_count": 12,
          "metadata": {},
          "output_type": "execute_result"
        }
      ],
      "source": [
        "np.expand_dims(arr,axis=0)"
      ]
    },
    {
      "cell_type": "code",
      "execution_count": null,
      "id": "b34a5681-4013-4a06-a398-85d588faacaf",
      "metadata": {
        "id": "b34a5681-4013-4a06-a398-85d588faacaf"
      },
      "outputs": [],
      "source": [
        "data = np.array([[1] , [2] , [3]])"
      ]
    },
    {
      "cell_type": "code",
      "execution_count": null,
      "id": "121d008b-bd18-422c-b7f4-881d42e4cb42",
      "metadata": {
        "id": "121d008b-bd18-422c-b7f4-881d42e4cb42",
        "outputId": "3310a593-9158-4483-b62a-1438ca703f44"
      },
      "outputs": [
        {
          "data": {
            "text/plain": [
              "array([1, 2, 3])"
            ]
          },
          "execution_count": 14,
          "metadata": {},
          "output_type": "execute_result"
        }
      ],
      "source": [
        "np.squeeze(data)"
      ]
    },
    {
      "cell_type": "code",
      "execution_count": null,
      "id": "70d8fe92-e22c-4f83-a124-70362eb1451f",
      "metadata": {
        "id": "70d8fe92-e22c-4f83-a124-70362eb1451f",
        "outputId": "66a20e11-d53e-4ece-eaa6-cb5109992192"
      },
      "outputs": [
        {
          "data": {
            "text/plain": [
              "array([1, 1, 1, 1, 2, 2, 2, 2, 3, 3, 3, 3])"
            ]
          },
          "execution_count": 16,
          "metadata": {},
          "output_type": "execute_result"
        }
      ],
      "source": [
        "np.repeat(data,4)"
      ]
    },
    {
      "cell_type": "code",
      "execution_count": null,
      "id": "531a9065-1281-4f8a-ada4-d4741644e33e",
      "metadata": {
        "id": "531a9065-1281-4f8a-ada4-d4741644e33e",
        "outputId": "0ad5af27-cc1d-4ea4-cb69-55e130446dcc"
      },
      "outputs": [
        {
          "data": {
            "text/plain": [
              "array([[2],\n",
              "       [3],\n",
              "       [1]])"
            ]
          },
          "execution_count": 18,
          "metadata": {},
          "output_type": "execute_result"
        }
      ],
      "source": [
        "np.roll(data,2)"
      ]
    },
    {
      "cell_type": "code",
      "execution_count": null,
      "id": "ebc3ee04-8e88-4787-879c-ae2569c9cb14",
      "metadata": {
        "id": "ebc3ee04-8e88-4787-879c-ae2569c9cb14",
        "outputId": "440508a5-074a-45cd-a43d-1ef6c436db1c"
      },
      "outputs": [
        {
          "data": {
            "text/plain": [
              "array([[1, 0, 0, 0],\n",
              "       [0, 2, 0, 0],\n",
              "       [0, 0, 3, 0],\n",
              "       [0, 0, 0, 4]])"
            ]
          },
          "execution_count": 20,
          "metadata": {},
          "output_type": "execute_result"
        }
      ],
      "source": [
        "np.diag(np.array([1,2,3,4]))"
      ]
    },
    {
      "cell_type": "code",
      "execution_count": null,
      "id": "7faab151-070f-416c-87c9-215dfef0483f",
      "metadata": {
        "id": "7faab151-070f-416c-87c9-215dfef0483f"
      },
      "outputs": [],
      "source": [
        "#Numpy - Binary Operators."
      ]
    },
    {
      "cell_type": "code",
      "execution_count": null,
      "id": "9a26ad23-9872-457d-8765-e07389b3b36c",
      "metadata": {
        "id": "9a26ad23-9872-457d-8765-e07389b3b36c"
      },
      "outputs": [],
      "source": [
        "arr1 = np.random.randint(1,10 , (3,4))\n",
        "arr2 = np.random.randint(1,10 , (3,4))"
      ]
    },
    {
      "cell_type": "code",
      "execution_count": null,
      "id": "26951d0b-7aec-4713-a3cc-4d8a12f41931",
      "metadata": {
        "id": "26951d0b-7aec-4713-a3cc-4d8a12f41931",
        "outputId": "6053ad45-5f9f-4672-f669-f41189adc954"
      },
      "outputs": [
        {
          "data": {
            "text/plain": [
              "array([[1, 6, 7, 9],\n",
              "       [3, 4, 4, 2],\n",
              "       [7, 9, 6, 9]])"
            ]
          },
          "execution_count": 24,
          "metadata": {},
          "output_type": "execute_result"
        }
      ],
      "source": [
        "arr1"
      ]
    },
    {
      "cell_type": "code",
      "execution_count": null,
      "id": "f634503e-5f85-4405-ae63-8fe00d580bd2",
      "metadata": {
        "id": "f634503e-5f85-4405-ae63-8fe00d580bd2",
        "outputId": "6efb0059-2529-4af5-8b25-fbec3b9e2a5b"
      },
      "outputs": [
        {
          "data": {
            "text/plain": [
              "array([[5, 8, 9, 1],\n",
              "       [2, 8, 8, 4],\n",
              "       [6, 8, 5, 2]])"
            ]
          },
          "execution_count": 25,
          "metadata": {},
          "output_type": "execute_result"
        }
      ],
      "source": [
        "arr2"
      ]
    },
    {
      "cell_type": "code",
      "execution_count": null,
      "id": "5c017cd3-4058-4989-bf4d-1b98726f9d00",
      "metadata": {
        "id": "5c017cd3-4058-4989-bf4d-1b98726f9d00",
        "outputId": "9ea17831-af6f-42c8-ecd6-cea7eeddd9f4"
      },
      "outputs": [
        {
          "data": {
            "text/plain": [
              "array([[ 6, 14, 16, 10],\n",
              "       [ 5, 12, 12,  6],\n",
              "       [13, 17, 11, 11]])"
            ]
          },
          "execution_count": 26,
          "metadata": {},
          "output_type": "execute_result"
        }
      ],
      "source": [
        "arr1+arr2"
      ]
    },
    {
      "cell_type": "code",
      "execution_count": null,
      "id": "95b051a0-6b03-49aa-b7f6-319aed9a4a8f",
      "metadata": {
        "id": "95b051a0-6b03-49aa-b7f6-319aed9a4a8f",
        "outputId": "6dde1df9-693a-4272-bf55-3e8225a8537e"
      },
      "outputs": [
        {
          "data": {
            "text/plain": [
              "array([[ 5, 48, 63,  9],\n",
              "       [ 6, 32, 32,  8],\n",
              "       [42, 72, 30, 18]])"
            ]
          },
          "execution_count": 27,
          "metadata": {},
          "output_type": "execute_result"
        }
      ],
      "source": [
        "arr1*arr2"
      ]
    },
    {
      "cell_type": "code",
      "execution_count": null,
      "id": "558e6566-a96e-4401-9f09-b57e8f2d7d47",
      "metadata": {
        "id": "558e6566-a96e-4401-9f09-b57e8f2d7d47",
        "outputId": "0c54de9a-27db-4e6b-b0be-6b9a16e46c2c"
      },
      "outputs": [
        {
          "data": {
            "text/plain": [
              "array([[0.2       , 0.75      , 0.77777778, 9.        ],\n",
              "       [1.5       , 0.5       , 0.5       , 0.5       ],\n",
              "       [1.16666667, 1.125     , 1.2       , 4.5       ]])"
            ]
          },
          "execution_count": 28,
          "metadata": {},
          "output_type": "execute_result"
        }
      ],
      "source": [
        "arr1/arr2"
      ]
    },
    {
      "cell_type": "code",
      "execution_count": null,
      "id": "4127be23-7a17-4d7f-a5a3-5088b8c76efe",
      "metadata": {
        "id": "4127be23-7a17-4d7f-a5a3-5088b8c76efe",
        "outputId": "01025f86-c438-470b-c5ad-07a6e179c222"
      },
      "outputs": [
        {
          "data": {
            "text/plain": [
              "array([[-4, -2, -2,  8],\n",
              "       [ 1, -4, -4, -2],\n",
              "       [ 1,  1,  1,  7]])"
            ]
          },
          "execution_count": 29,
          "metadata": {},
          "output_type": "execute_result"
        }
      ],
      "source": [
        "arr1-arr2"
      ]
    },
    {
      "cell_type": "code",
      "execution_count": null,
      "id": "caf3f5c8-9be9-4752-a6ea-f984f7039c60",
      "metadata": {
        "id": "caf3f5c8-9be9-4752-a6ea-f984f7039c60",
        "outputId": "aff6cb78-bb8b-4e94-d393-ef7faa4da0cf"
      },
      "outputs": [
        {
          "data": {
            "text/plain": [
              "array([[       1,  1679616, 40353607,        9],\n",
              "       [       9,    65536,    65536,       16],\n",
              "       [  117649, 43046721,     7776,       81]])"
            ]
          },
          "execution_count": 30,
          "metadata": {},
          "output_type": "execute_result"
        }
      ],
      "source": [
        "arr1**arr2"
      ]
    },
    {
      "cell_type": "code",
      "execution_count": null,
      "id": "3984513b-84b3-49b1-a44c-8cbe50943945",
      "metadata": {
        "id": "3984513b-84b3-49b1-a44c-8cbe50943945",
        "outputId": "9ca6bca6-a9da-492c-a71e-a1b3467afc1c"
      },
      "outputs": [
        {
          "data": {
            "text/plain": [
              "array([[ -2,  -7,  -8, -10],\n",
              "       [ -4,  -5,  -5,  -3],\n",
              "       [ -8, -10,  -7, -10]])"
            ]
          },
          "execution_count": 31,
          "metadata": {},
          "output_type": "execute_result"
        }
      ],
      "source": [
        "~arr1"
      ]
    },
    {
      "cell_type": "code",
      "execution_count": null,
      "id": "95c14e51-0714-45e5-865c-c6b33d9dd460",
      "metadata": {
        "id": "95c14e51-0714-45e5-865c-c6b33d9dd460",
        "outputId": "a3fb40ea-be97-4119-f60e-464717c80e70"
      },
      "outputs": [
        {
          "data": {
            "text/plain": [
              "array([[1, 6, 7, 9],\n",
              "       [3, 4, 4, 2],\n",
              "       [7, 9, 6, 9]])"
            ]
          },
          "execution_count": 32,
          "metadata": {},
          "output_type": "execute_result"
        }
      ],
      "source": [
        "arr1"
      ]
    },
    {
      "cell_type": "code",
      "execution_count": null,
      "id": "11e6826c-95d9-4cfd-b2a7-1d41a94cf4e0",
      "metadata": {
        "id": "11e6826c-95d9-4cfd-b2a7-1d41a94cf4e0",
        "outputId": "9ca66e2a-f8ed-4506-db87-6333b9468654"
      },
      "outputs": [
        {
          "data": {
            "text/plain": [
              "array([[False, False, False,  True],\n",
              "       [ True, False, False, False],\n",
              "       [ True,  True,  True,  True]])"
            ]
          },
          "execution_count": 33,
          "metadata": {},
          "output_type": "execute_result"
        }
      ],
      "source": [
        "arr1>arr2"
      ]
    },
    {
      "cell_type": "code",
      "execution_count": null,
      "id": "86763bce-c374-4e3b-b028-fe33c4c2d917",
      "metadata": {
        "id": "86763bce-c374-4e3b-b028-fe33c4c2d917"
      },
      "outputs": [],
      "source": [
        "#Numpy - String Functions."
      ]
    },
    {
      "cell_type": "code",
      "execution_count": null,
      "id": "4e9d8358-b5b3-4083-bbb5-8b2d8b8afa50",
      "metadata": {
        "id": "4e9d8358-b5b3-4083-bbb5-8b2d8b8afa50"
      },
      "outputs": [],
      "source": [
        "arr = np.array([\"sudh\" , \"kumar\"])"
      ]
    },
    {
      "cell_type": "code",
      "execution_count": null,
      "id": "3593e240-7c06-4182-8087-e563c94994fe",
      "metadata": {
        "id": "3593e240-7c06-4182-8087-e563c94994fe",
        "outputId": "48a790f9-dbcc-4b0b-d0ec-a50eb1343c1f"
      },
      "outputs": [
        {
          "data": {
            "text/plain": [
              "array(['sudh', 'kumar'], dtype='<U5')"
            ]
          },
          "execution_count": 36,
          "metadata": {},
          "output_type": "execute_result"
        }
      ],
      "source": [
        "arr"
      ]
    },
    {
      "cell_type": "code",
      "execution_count": null,
      "id": "d6d03f2f-4904-450b-804f-b56fee4e23c7",
      "metadata": {
        "id": "d6d03f2f-4904-450b-804f-b56fee4e23c7",
        "outputId": "93dc0b20-e42f-4c33-a359-a7dfd0b9c70a"
      },
      "outputs": [
        {
          "data": {
            "text/plain": [
              "array(['SUDH', 'KUMAR'], dtype='<U5')"
            ]
          },
          "execution_count": 37,
          "metadata": {},
          "output_type": "execute_result"
        }
      ],
      "source": [
        "np.char.upper(arr)"
      ]
    },
    {
      "cell_type": "code",
      "execution_count": null,
      "id": "fdda8b87-78c9-4c52-88a2-3c14fdfabe16",
      "metadata": {
        "id": "fdda8b87-78c9-4c52-88a2-3c14fdfabe16",
        "outputId": "b0f322c0-33c5-4cb5-f711-60997c4f5e4e"
      },
      "outputs": [
        {
          "data": {
            "text/plain": [
              "array(['Sudh', 'Kumar'], dtype='<U5')"
            ]
          },
          "execution_count": 38,
          "metadata": {},
          "output_type": "execute_result"
        }
      ],
      "source": [
        "np.char.capitalize(arr)"
      ]
    },
    {
      "cell_type": "code",
      "execution_count": null,
      "id": "ab86f1ae-ad97-41e6-b018-074c05729651",
      "metadata": {
        "id": "ab86f1ae-ad97-41e6-b018-074c05729651",
        "outputId": "4fedcd4e-3619-4ef6-fc9c-8141649e7d99"
      },
      "outputs": [
        {
          "data": {
            "text/plain": [
              "array(['Sudh', 'Kumar'], dtype='<U5')"
            ]
          },
          "execution_count": 39,
          "metadata": {},
          "output_type": "execute_result"
        }
      ],
      "source": [
        "np.char.title(arr)"
      ]
    },
    {
      "cell_type": "code",
      "execution_count": null,
      "id": "0ea3632e-770e-47aa-bc6f-c8fa866ef333",
      "metadata": {
        "id": "0ea3632e-770e-47aa-bc6f-c8fa866ef333"
      },
      "outputs": [],
      "source": [
        "#Numpy - Mathematical Functions."
      ]
    },
    {
      "cell_type": "code",
      "execution_count": null,
      "id": "5f6a7d0b-317e-4a49-bb96-a26862b56952",
      "metadata": {
        "id": "5f6a7d0b-317e-4a49-bb96-a26862b56952",
        "outputId": "2e148b0c-254d-4fbd-ddde-b3521bf557ee"
      },
      "outputs": [
        {
          "data": {
            "text/plain": [
              "array([[1, 6, 7, 9],\n",
              "       [3, 4, 4, 2],\n",
              "       [7, 9, 6, 9]])"
            ]
          },
          "execution_count": 41,
          "metadata": {},
          "output_type": "execute_result"
        }
      ],
      "source": [
        "arr1"
      ]
    },
    {
      "cell_type": "code",
      "execution_count": null,
      "id": "26284ba4-da67-4fc0-b7af-1e01419cd9ac",
      "metadata": {
        "id": "26284ba4-da67-4fc0-b7af-1e01419cd9ac",
        "outputId": "ccca4c14-b143-42f3-bd83-8493883f2361"
      },
      "outputs": [
        {
          "data": {
            "text/plain": [
              "array([[ 0.84147098, -0.2794155 ,  0.6569866 ,  0.41211849],\n",
              "       [ 0.14112001, -0.7568025 , -0.7568025 ,  0.90929743],\n",
              "       [ 0.6569866 ,  0.41211849, -0.2794155 ,  0.41211849]])"
            ]
          },
          "execution_count": 42,
          "metadata": {},
          "output_type": "execute_result"
        }
      ],
      "source": [
        "np.sin(arr1)"
      ]
    },
    {
      "cell_type": "code",
      "execution_count": null,
      "id": "48d91f83-70b2-489d-a99e-247e01efdc4a",
      "metadata": {
        "id": "48d91f83-70b2-489d-a99e-247e01efdc4a",
        "outputId": "38a23328-fa53-4825-f473-a0a6dd4d2517"
      },
      "outputs": [
        {
          "data": {
            "text/plain": [
              "array([[ 0.54030231,  0.96017029,  0.75390225, -0.91113026],\n",
              "       [-0.9899925 , -0.65364362, -0.65364362, -0.41614684],\n",
              "       [ 0.75390225, -0.91113026,  0.96017029, -0.91113026]])"
            ]
          },
          "execution_count": 43,
          "metadata": {},
          "output_type": "execute_result"
        }
      ],
      "source": [
        "np.cos(arr1)"
      ]
    },
    {
      "cell_type": "code",
      "execution_count": null,
      "id": "189fdb82-a3cc-42bf-9920-65e4d5f79a22",
      "metadata": {
        "id": "189fdb82-a3cc-42bf-9920-65e4d5f79a22",
        "outputId": "88ab3885-4579-4aca-d19e-2085a17bd602"
      },
      "outputs": [
        {
          "data": {
            "text/plain": [
              "array([[ 1.55740772, -0.29100619,  0.87144798, -0.45231566],\n",
              "       [-0.14254654,  1.15782128,  1.15782128, -2.18503986],\n",
              "       [ 0.87144798, -0.45231566, -0.29100619, -0.45231566]])"
            ]
          },
          "execution_count": 44,
          "metadata": {},
          "output_type": "execute_result"
        }
      ],
      "source": [
        "np.tan(arr1)"
      ]
    },
    {
      "cell_type": "code",
      "execution_count": null,
      "id": "bc6ef3d8-38c9-41e8-bf7a-5504a501aad5",
      "metadata": {
        "id": "bc6ef3d8-38c9-41e8-bf7a-5504a501aad5",
        "outputId": "15534153-4660-431b-b8f1-d1e4f6f81844"
      },
      "outputs": [
        {
          "data": {
            "text/plain": [
              "array([[0.        , 0.77815125, 0.84509804, 0.95424251],\n",
              "       [0.47712125, 0.60205999, 0.60205999, 0.30103   ],\n",
              "       [0.84509804, 0.95424251, 0.77815125, 0.95424251]])"
            ]
          },
          "execution_count": 45,
          "metadata": {},
          "output_type": "execute_result"
        }
      ],
      "source": [
        "np.log10(arr1)"
      ]
    },
    {
      "cell_type": "code",
      "execution_count": null,
      "id": "e4a11d55-550a-44a5-9462-3161074d51cc",
      "metadata": {
        "id": "e4a11d55-550a-44a5-9462-3161074d51cc",
        "outputId": "ffd8e190-0084-4daf-b61e-cde863a96644"
      },
      "outputs": [
        {
          "data": {
            "text/plain": [
              "array([[2.71828183e+00, 4.03428793e+02, 1.09663316e+03, 8.10308393e+03],\n",
              "       [2.00855369e+01, 5.45981500e+01, 5.45981500e+01, 7.38905610e+00],\n",
              "       [1.09663316e+03, 8.10308393e+03, 4.03428793e+02, 8.10308393e+03]])"
            ]
          },
          "execution_count": 46,
          "metadata": {},
          "output_type": "execute_result"
        }
      ],
      "source": [
        "np.exp(arr1)"
      ]
    },
    {
      "cell_type": "code",
      "execution_count": null,
      "id": "1013d24a-f318-4252-a945-96a34263afca",
      "metadata": {
        "id": "1013d24a-f318-4252-a945-96a34263afca",
        "outputId": "592c569f-0727-410c-bc85-e11a41fabdd8"
      },
      "outputs": [
        {
          "data": {
            "text/plain": [
              "array([[ 1, 36, 49, 81],\n",
              "       [ 9, 16, 16,  4],\n",
              "       [49, 81, 36, 81]])"
            ]
          },
          "execution_count": 47,
          "metadata": {},
          "output_type": "execute_result"
        }
      ],
      "source": [
        "np.power(arr1,2)"
      ]
    },
    {
      "cell_type": "code",
      "execution_count": null,
      "id": "b6a5b346-22fe-4463-b427-dba2cd7f5501",
      "metadata": {
        "id": "b6a5b346-22fe-4463-b427-dba2cd7f5501",
        "outputId": "b79dc13d-9d0b-4ffd-ead7-a16c41b9ea2d"
      },
      "outputs": [
        {
          "data": {
            "text/plain": [
              "5.583333333333333"
            ]
          },
          "execution_count": 48,
          "metadata": {},
          "output_type": "execute_result"
        }
      ],
      "source": [
        "np.mean(arr1\n",
        "       )"
      ]
    },
    {
      "cell_type": "code",
      "execution_count": null,
      "id": "9617d19c-0c15-47ed-8597-3cebed5f8eed",
      "metadata": {
        "id": "9617d19c-0c15-47ed-8597-3cebed5f8eed",
        "outputId": "61cab5d6-4cc4-4975-ba04-830ef971d85f"
      },
      "outputs": [
        {
          "data": {
            "text/plain": [
              "6.0"
            ]
          },
          "execution_count": 49,
          "metadata": {},
          "output_type": "execute_result"
        }
      ],
      "source": [
        "np.median(arr1)"
      ]
    },
    {
      "cell_type": "code",
      "execution_count": null,
      "id": "47b963c9-89ff-4ac3-8fc2-f2761c8dd747",
      "metadata": {
        "id": "47b963c9-89ff-4ac3-8fc2-f2761c8dd747",
        "outputId": "17fbee7f-8d5a-496c-c04f-658f7285ce7a"
      },
      "outputs": [
        {
          "data": {
            "text/plain": [
              "2.6601482832520613"
            ]
          },
          "execution_count": 51,
          "metadata": {},
          "output_type": "execute_result"
        }
      ],
      "source": [
        "np.std(arr1)"
      ]
    },
    {
      "cell_type": "code",
      "execution_count": null,
      "id": "68b4695e-d8ae-450e-9a44-fc97d1865438",
      "metadata": {
        "id": "68b4695e-d8ae-450e-9a44-fc97d1865438",
        "outputId": "11dfa1c3-f0af-4cdb-8109-aad6dd0259ee"
      },
      "outputs": [
        {
          "data": {
            "text/plain": [
              "7.076388888888889"
            ]
          },
          "execution_count": 52,
          "metadata": {},
          "output_type": "execute_result"
        }
      ],
      "source": [
        "np.var(arr1)"
      ]
    },
    {
      "cell_type": "code",
      "execution_count": null,
      "id": "54370914-e24b-437a-93d9-3868db47d942",
      "metadata": {
        "id": "54370914-e24b-437a-93d9-3868db47d942",
        "outputId": "f1bc1b6b-7ec7-415d-94a5-e6c3eb16318c"
      },
      "outputs": [
        {
          "data": {
            "text/plain": [
              "1"
            ]
          },
          "execution_count": 53,
          "metadata": {},
          "output_type": "execute_result"
        }
      ],
      "source": [
        "np.min(arr1)"
      ]
    },
    {
      "cell_type": "code",
      "execution_count": null,
      "id": "e63d0dad-bca3-4b62-a16a-78fe46aac859",
      "metadata": {
        "id": "e63d0dad-bca3-4b62-a16a-78fe46aac859",
        "outputId": "1423c9bd-e724-46f6-b448-ff69f5685d74"
      },
      "outputs": [
        {
          "data": {
            "text/plain": [
              "9"
            ]
          },
          "execution_count": 54,
          "metadata": {},
          "output_type": "execute_result"
        }
      ],
      "source": [
        "np.max(arr1)"
      ]
    },
    {
      "cell_type": "code",
      "execution_count": null,
      "id": "16807d5c-ddde-424d-9781-37804dc7fee2",
      "metadata": {
        "id": "16807d5c-ddde-424d-9781-37804dc7fee2"
      },
      "outputs": [],
      "source": [
        "#Numpy - Arithmetic Operations."
      ]
    },
    {
      "cell_type": "code",
      "execution_count": null,
      "id": "6e3eaa31-fa42-4862-8366-2db7d457062b",
      "metadata": {
        "id": "6e3eaa31-fa42-4862-8366-2db7d457062b",
        "outputId": "70b0813b-da5f-4517-9bf6-9f0520f59d53"
      },
      "outputs": [
        {
          "data": {
            "text/plain": [
              "array([[1, 6, 7, 9],\n",
              "       [3, 4, 4, 2],\n",
              "       [7, 9, 6, 9]])"
            ]
          },
          "execution_count": 56,
          "metadata": {},
          "output_type": "execute_result"
        }
      ],
      "source": [
        "arr1"
      ]
    },
    {
      "cell_type": "code",
      "execution_count": null,
      "id": "7fc8e766-7952-42ff-a1ad-7e55561ddc24",
      "metadata": {
        "id": "7fc8e766-7952-42ff-a1ad-7e55561ddc24",
        "outputId": "143c3337-4cdf-417a-d2cb-91a2ef281e40"
      },
      "outputs": [
        {
          "data": {
            "text/plain": [
              "array([[5, 8, 9, 1],\n",
              "       [2, 8, 8, 4],\n",
              "       [6, 8, 5, 2]])"
            ]
          },
          "execution_count": 57,
          "metadata": {},
          "output_type": "execute_result"
        }
      ],
      "source": [
        "arr2"
      ]
    },
    {
      "cell_type": "code",
      "execution_count": null,
      "id": "924f83db-e526-414c-b347-a1e113bbd127",
      "metadata": {
        "id": "924f83db-e526-414c-b347-a1e113bbd127",
        "outputId": "21e3be46-a37c-47a8-b107-ddb4d8990d54"
      },
      "outputs": [
        {
          "data": {
            "text/plain": [
              "array([[-4, -2, -2,  8],\n",
              "       [ 1, -4, -4, -2],\n",
              "       [ 1,  1,  1,  7]])"
            ]
          },
          "execution_count": 58,
          "metadata": {},
          "output_type": "execute_result"
        }
      ],
      "source": [
        "arr1-arr2"
      ]
    },
    {
      "cell_type": "code",
      "execution_count": null,
      "id": "bbd75fb7-d89c-466a-bf1e-b98c1316c647",
      "metadata": {
        "id": "bbd75fb7-d89c-466a-bf1e-b98c1316c647",
        "outputId": "f357000f-0df7-4e35-bafe-47e22ea3e9a1"
      },
      "outputs": [
        {
          "data": {
            "text/plain": [
              "array([[-4, -2, -2,  8],\n",
              "       [ 1, -4, -4, -2],\n",
              "       [ 1,  1,  1,  7]])"
            ]
          },
          "execution_count": 59,
          "metadata": {},
          "output_type": "execute_result"
        }
      ],
      "source": [
        "np.subtract(arr1,arr2)"
      ]
    },
    {
      "cell_type": "code",
      "execution_count": null,
      "id": "74056e98-1005-44c2-a7a9-8d1597c594aa",
      "metadata": {
        "id": "74056e98-1005-44c2-a7a9-8d1597c594aa",
        "outputId": "c1f65631-a095-445d-b032-305322fb2614"
      },
      "outputs": [
        {
          "data": {
            "text/plain": [
              "array([[ 5, 48, 63,  9],\n",
              "       [ 6, 32, 32,  8],\n",
              "       [42, 72, 30, 18]])"
            ]
          },
          "execution_count": 60,
          "metadata": {},
          "output_type": "execute_result"
        }
      ],
      "source": [
        "np.multiply(arr1,arr2)"
      ]
    },
    {
      "cell_type": "code",
      "execution_count": null,
      "id": "7d319616-7dbc-49ee-a9eb-1ac1bb5bcf32",
      "metadata": {
        "id": "7d319616-7dbc-49ee-a9eb-1ac1bb5bcf32",
        "outputId": "e02ea437-e384-4cb5-e0db-dc31bf4a6970"
      },
      "outputs": [
        {
          "data": {
            "text/plain": [
              "array([[1, 6, 7, 0],\n",
              "       [1, 4, 4, 2],\n",
              "       [1, 1, 1, 1]])"
            ]
          },
          "execution_count": 61,
          "metadata": {},
          "output_type": "execute_result"
        }
      ],
      "source": [
        "np.mod(arr1,arr2)"
      ]
    },
    {
      "cell_type": "code",
      "execution_count": null,
      "id": "ecea2d4f-6660-4b0d-b1b8-f1a7fadce393",
      "metadata": {
        "id": "ecea2d4f-6660-4b0d-b1b8-f1a7fadce393",
        "outputId": "c71da852-ef1d-474a-84af-973de134a0fb"
      },
      "outputs": [
        {
          "data": {
            "text/plain": [
              "array([[       1,  1679616, 40353607,        9],\n",
              "       [       9,    65536,    65536,       16],\n",
              "       [  117649, 43046721,     7776,       81]])"
            ]
          },
          "execution_count": 62,
          "metadata": {},
          "output_type": "execute_result"
        }
      ],
      "source": [
        "np.power(arr1,arr2)"
      ]
    },
    {
      "cell_type": "code",
      "execution_count": null,
      "id": "4941ee37-a5cb-48b2-8e16-9ec01c0d24b8",
      "metadata": {
        "id": "4941ee37-a5cb-48b2-8e16-9ec01c0d24b8",
        "outputId": "32142ab8-3845-4385-fffd-9fd2a782df80"
      },
      "outputs": [
        {
          "data": {
            "text/plain": [
              "array([[1.        , 2.44948974, 2.64575131, 3.        ],\n",
              "       [1.73205081, 2.        , 2.        , 1.41421356],\n",
              "       [2.64575131, 3.        , 2.44948974, 3.        ]])"
            ]
          },
          "execution_count": 63,
          "metadata": {},
          "output_type": "execute_result"
        }
      ],
      "source": [
        "np.sqrt(arr1)"
      ]
    },
    {
      "cell_type": "code",
      "execution_count": null,
      "id": "876de89e-1084-442f-85c3-b5e5199c8913",
      "metadata": {
        "id": "876de89e-1084-442f-85c3-b5e5199c8913"
      },
      "outputs": [],
      "source": [
        "#Numpy - Statistical Functions."
      ]
    },
    {
      "cell_type": "code",
      "execution_count": null,
      "id": "cf9916d8-440c-46e4-a38c-a3e614fb648c",
      "metadata": {
        "id": "cf9916d8-440c-46e4-a38c-a3e614fb648c",
        "outputId": "5c071f21-5233-4f6a-b031-1332654b49b9"
      },
      "outputs": [
        {
          "data": {
            "text/plain": [
              "array([[1, 6, 7, 9],\n",
              "       [3, 4, 4, 2],\n",
              "       [7, 9, 6, 9]])"
            ]
          },
          "execution_count": 66,
          "metadata": {},
          "output_type": "execute_result"
        }
      ],
      "source": [
        "arr1"
      ]
    },
    {
      "cell_type": "code",
      "execution_count": null,
      "id": "b011fa23-16e0-47e6-a75f-92ce7f5c6fce",
      "metadata": {
        "id": "b011fa23-16e0-47e6-a75f-92ce7f5c6fce",
        "outputId": "ff75db6c-309c-4a58-cfda-794a6fb02d33"
      },
      "outputs": [
        {
          "data": {
            "text/plain": [
              "5.583333333333333"
            ]
          },
          "execution_count": 67,
          "metadata": {},
          "output_type": "execute_result"
        }
      ],
      "source": [
        "np.mean(arr1)"
      ]
    },
    {
      "cell_type": "code",
      "execution_count": null,
      "id": "ee5aa283-3a6a-4e38-9cb9-aa881e61469a",
      "metadata": {
        "id": "ee5aa283-3a6a-4e38-9cb9-aa881e61469a",
        "outputId": "7d532688-83ad-4959-a7d3-6c8b90bdfa45"
      },
      "outputs": [
        {
          "data": {
            "text/plain": [
              "2.6601482832520613"
            ]
          },
          "execution_count": 68,
          "metadata": {},
          "output_type": "execute_result"
        }
      ],
      "source": [
        "np.std(arr1)"
      ]
    },
    {
      "cell_type": "code",
      "execution_count": null,
      "id": "425d6db7-29d5-46e3-aa0c-12d052b961b8",
      "metadata": {
        "id": "425d6db7-29d5-46e3-aa0c-12d052b961b8",
        "outputId": "3402dfeb-d9d1-4103-f18e-c1fcb86bacfc"
      },
      "outputs": [
        {
          "data": {
            "text/plain": [
              "6.0"
            ]
          },
          "execution_count": 69,
          "metadata": {},
          "output_type": "execute_result"
        }
      ],
      "source": [
        "np.median(arr1)"
      ]
    },
    {
      "cell_type": "code",
      "execution_count": null,
      "id": "51512996-398f-4258-b6db-defaffeadb92",
      "metadata": {
        "id": "51512996-398f-4258-b6db-defaffeadb92"
      },
      "outputs": [],
      "source": []
    }
  ],
  "metadata": {
    "kernelspec": {
      "display_name": "Python 3 (ipykernel)",
      "language": "python",
      "name": "python3"
    },
    "language_info": {
      "codemirror_mode": {
        "name": "ipython",
        "version": 3
      },
      "file_extension": ".py",
      "mimetype": "text/x-python",
      "name": "python",
      "nbconvert_exporter": "python",
      "pygments_lexer": "ipython3",
      "version": "3.10.8"
    },
    "colab": {
      "provenance": []
    }
  },
  "nbformat": 4,
  "nbformat_minor": 5
}