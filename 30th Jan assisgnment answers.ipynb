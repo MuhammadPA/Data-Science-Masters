{
 "cells": [
  {
   "cell_type": "markdown",
   "id": "4c4b48b6-87be-4040-80f9-fbb9f8851ed5",
   "metadata": {},
   "source": [
    "## 1.Python program to accept percentage from the user and didplay the grade according to the following   criteria"
   ]
  },
  {
   "cell_type": "code",
   "execution_count": 3,
   "id": "167f3836-3c14-4f84-9b93-185d8d4c5ea1",
   "metadata": {},
   "outputs": [
    {
     "name": "stdin",
     "output_type": "stream",
     "text": [
      "Enter the percentage: 77\n"
     ]
    },
    {
     "name": "stdout",
     "output_type": "stream",
     "text": [
      "C\n"
     ]
    }
   ],
   "source": [
    "marks=int(input(\"Enter the percentage:\"))\n",
    "if marks>90:\n",
    "    print(\"A\")\n",
    "elif marks>80 and marks<=90:\n",
    "    print(\"B\")\n",
    "elif marks>=60 and marks<=80:\n",
    "    print(\"C\")\n",
    "else:\n",
    "    print(\"D\")"
   ]
  },
  {
   "cell_type": "markdown",
   "id": "a980cdc6-041e-4089-8dec-70e1d0a5751a",
   "metadata": {},
   "source": [
    "## 2. Program to accept the cost price of a bike and display the road tax to be paid according to the following criteria"
   ]
  },
  {
   "cell_type": "code",
   "execution_count": 10,
   "id": "1f1323a9-c726-4a4e-a625-089103dd2db4",
   "metadata": {},
   "outputs": [
    {
     "name": "stdin",
     "output_type": "stream",
     "text": [
      "Enter the cost price 80000\n"
     ]
    },
    {
     "name": "stdout",
     "output_type": "stream",
     "text": [
      "Tax to be paid=8000.0\n"
     ]
    }
   ],
   "source": [
    "cost_price=int(input(\"Enter the cost price\"))\n",
    "if cost_price>=100000:\n",
    "    print(f\"Tax to be paid={cost_price*0.15}\")\n",
    "elif cost_price>50000 and cost_price<=100000:\n",
    "    print(f\"Tax to be paid={cost_price*0.1}\")\n",
    "else:\n",
    "    print(f\"Tax to be paid={cost_price*0.05}\")"
   ]
  },
  {
   "cell_type": "markdown",
   "id": "7ec3ef01-07e0-485d-be1a-e2b23143bf99",
   "metadata": {},
   "source": [
    "## 3. Accept any city from the user and display the monument of the city"
   ]
  },
  {
   "cell_type": "code",
   "execution_count": 2,
   "id": "45b29ecb-1a46-4cd4-9187-8a0874f8ae41",
   "metadata": {},
   "outputs": [
    {
     "name": "stdin",
     "output_type": "stream",
     "text": [
      "Enter the name of the city: Jaipur\n"
     ]
    },
    {
     "name": "stdout",
     "output_type": "stream",
     "text": [
      "Jal Mahal\n"
     ]
    }
   ],
   "source": [
    "city=input(\"Enter the name of the city:\")\n",
    "if city=='Delhi':\n",
    "    print(\"Red Fort\")\n",
    "elif city=='Agra':\n",
    "    print(\"Taj Mahal\")\n",
    "elif city=='Jaipur':\n",
    "    print(\"Jal Mahal\")\n",
    "else:\n",
    "     print(\"Invalid city\")   "
   ]
  },
  {
   "cell_type": "markdown",
   "id": "c9cf743e-a475-4312-8b90-52a013f0930a",
   "metadata": {},
   "source": [
    "## 4. Check how many times a number dvided by 3 before it is less than or equal to 10"
   ]
  },
  {
   "cell_type": "code",
   "execution_count": 1,
   "id": "608d89d9-5b8f-49a4-8b12-90af3607854b",
   "metadata": {},
   "outputs": [
    {
     "name": "stdin",
     "output_type": "stream",
     "text": [
      "Enter a number:  150\n"
     ]
    },
    {
     "name": "stdout",
     "output_type": "stream",
     "text": [
      "The number was divided by 3 by 3 times.\n"
     ]
    }
   ],
   "source": [
    "num = int(input(\"Enter a number: \"))\n",
    "counter = 0\n",
    "\n",
    "while num > 10:\n",
    "    num = num / 3\n",
    "    counter += 1\n",
    "\n",
    "print(\"The number was divided by 3 by\", counter, \"times.\")"
   ]
  },
  {
   "cell_type": "markdown",
   "id": "44f8e43f-412e-48b1-9ae9-fb18c31ba049",
   "metadata": {},
   "source": [
    "## 5. Why and when to use while loop in Python. Give a detailed description with example"
   ]
  },
  {
   "cell_type": "code",
   "execution_count": 7,
   "id": "9064c4e5-def4-4b52-8eaf-4fa82e13d2da",
   "metadata": {},
   "outputs": [
    {
     "name": "stdout",
     "output_type": "stream",
     "text": [
      "0\n",
      "1\n",
      "2\n",
      "3\n",
      "4\n",
      "5\n",
      "6\n",
      "7\n",
      "8\n",
      "9\n"
     ]
    },
    {
     "data": {
      "text/plain": [
       "\"In this example, the counter variable is initialized to 0 and the while loop will repeat until counter is no longer less than 10. In each iteration, the value of counter is printed and then increased by 1. This will result in the numbers 0 to 9 being printed.\\n\\nA while loop is useful when you don't know beforehand how many times you need to repeat a set of statements. For example, you can use a while loop to keep asking the user for input until they provide a valid response, or to keep reading data from a file until the end of the file is reached.\\n\\nIt's important to keep in mind that an infinite loop can occur if the condition in the while loop is never met, causing the loop to repeat forever. To avoid this, make sure to update the variables inside the loop so that the condition will eventually become False.\""
      ]
     },
     "execution_count": 7,
     "metadata": {},
     "output_type": "execute_result"
    }
   ],
   "source": [
    "'''The while loop in Python is used to repeat a block of code as long as a certain condition is true. It's a type of loop that allows you to repeat a set of statements an unknown number of times, until a certain condition is met.\n",
    "\n",
    "Here's the basic syntax for a while loop in Python:\n",
    "while (condition):\n",
    "    #CODE TO BE EXECUTED\n",
    "The condition in the while loop is evaluated before each iteration. If the condition is True, the loop will continue to execute the code inside the loop. If the condition is False, the loop will terminate and control will be passed to the next statement after the loop.\n",
    "\n",
    "Here's an example of using a while loop to print out the numbers 0 to 9:'''\n",
    "\n",
    "counter = 0\n",
    "\n",
    "while counter < 10:\n",
    "    print(counter)\n",
    "    counter += 1\n",
    "\n",
    "'''In this example, the counter variable is initialized to 0 and the while loop will repeat until counter is no longer less than 10. In each iteration, the value of counter is printed and then increased by 1. This will result in the numbers 0 to 9 being printed.\n",
    "\n",
    "A while loop is useful when you don't know beforehand how many times you need to repeat a set of statements. For example, you can use a while loop to keep asking the user for input until they provide a valid response, or to keep reading data from a file until the end of the file is reached.\n",
    "\n",
    "It's important to keep in mind that an infinite loop can occur if the condition in the while loop is never met, causing the loop to repeat forever. To avoid this, make sure to update the variables inside the loop so that the condition will eventually become False.'''"
   ]
  },
  {
   "cell_type": "markdown",
   "id": "f1bbc1d1-9806-4b79-9a7e-e72bf001634b",
   "metadata": {},
   "source": [
    "## 6. Use a nested while loop to print three different pattern"
   ]
  },
  {
   "cell_type": "code",
   "execution_count": 3,
   "id": "d798785c-c649-4911-8efa-cf0115e9374a",
   "metadata": {},
   "outputs": [
    {
     "name": "stdin",
     "output_type": "stream",
     "text": [
      "Enter the number of rows:  3\n"
     ]
    },
    {
     "name": "stdout",
     "output_type": "stream",
     "text": [
      "*\n",
      "**\n",
      "***\n"
     ]
    },
    {
     "name": "stdin",
     "output_type": "stream",
     "text": [
      "Enter the number of rows:  4\n"
     ]
    },
    {
     "name": "stdout",
     "output_type": "stream",
     "text": [
      "****\n",
      "***\n",
      "**\n",
      "*\n"
     ]
    },
    {
     "name": "stdin",
     "output_type": "stream",
     "text": [
      "Enter the number of rows:  5\n"
     ]
    },
    {
     "name": "stdout",
     "output_type": "stream",
     "text": [
      " *\n",
      "  ***\n",
      "   *****\n",
      "    *******\n",
      "     *********\n",
      "    *******\n",
      "   *****\n",
      "  ***\n",
      " *\n"
     ]
    }
   ],
   "source": [
    "#A pyramid pattern:\n",
    "rows = int(input(\"Enter the number of rows: \"))\n",
    "i = 1\n",
    "while i <= rows:\n",
    "    j = 1\n",
    "    while j <= i:\n",
    "        print(\"*\", end=\"\")\n",
    "        j += 1\n",
    "    print()\n",
    "    i += 1\n",
    "\n",
    "# An inverted pyramid pattern:\n",
    "rows = int(input(\"Enter the number of rows: \"))\n",
    "i = rows\n",
    "while i >= 1:\n",
    "    j = 1\n",
    "    while j <= i:\n",
    "        print(\"*\", end=\"\")\n",
    "        j += 1\n",
    "    print()\n",
    "    i -= 1\n",
    "    \n",
    "#A diamond pattern:\n",
    "rows = int(input(\"Enter the number of rows: \"))\n",
    "\n",
    "k = 0\n",
    "for i in range(1, rows * 2):\n",
    "    for j in range(rows - abs(rows - i)):\n",
    "        print(\" \", end=\"\")\n",
    "    while k != (2 * (rows - abs(rows - i)) - 1):\n",
    "        print(\"*\", end=\"\")\n",
    "        k = k + 1\n",
    "    k = 0\n",
    "    print()"
   ]
  },
  {
   "cell_type": "markdown",
   "id": "fcd54c46-eabb-47b3-809d-5641819c2865",
   "metadata": {},
   "source": [
    "## 7. Reverse a while loop to display numbers from 10 to 1"
   ]
  },
  {
   "cell_type": "code",
   "execution_count": 5,
   "id": "47b9648d-9e6b-475e-991d-1d48a47c21f2",
   "metadata": {},
   "outputs": [
    {
     "name": "stdout",
     "output_type": "stream",
     "text": [
      "10\n",
      "9\n",
      "8\n",
      "7\n",
      "6\n",
      "5\n",
      "4\n",
      "3\n",
      "2\n",
      "1\n"
     ]
    }
   ],
   "source": [
    "i=10\n",
    "while(i>=1):\n",
    "    print(i,end=\"\\n\")\n",
    "    i-=1"
   ]
  },
  {
   "cell_type": "markdown",
   "id": "d3a0833f-2966-4cbd-9742-4a7cbe3962b7",
   "metadata": {},
   "source": [
    "## 8. reverse a while loop to display numbers from 10 to 1"
   ]
  },
  {
   "cell_type": "code",
   "execution_count": 6,
   "id": "7598ccfa-5363-4dfc-a69b-d715a85b8be7",
   "metadata": {},
   "outputs": [
    {
     "name": "stdout",
     "output_type": "stream",
     "text": [
      "10\n",
      "9\n",
      "8\n",
      "7\n",
      "6\n",
      "5\n",
      "4\n",
      "3\n",
      "2\n",
      "1\n"
     ]
    }
   ],
   "source": [
    "i=10\n",
    "while(i>=1):\n",
    "    print(i,end=\"\\n\")\n",
    "    i-=1"
   ]
  }
 ],
 "metadata": {
  "kernelspec": {
   "display_name": "Python 3 (ipykernel)",
   "language": "python",
   "name": "python3"
  },
  "language_info": {
   "codemirror_mode": {
    "name": "ipython",
    "version": 3
   },
   "file_extension": ".py",
   "mimetype": "text/x-python",
   "name": "python",
   "nbconvert_exporter": "python",
   "pygments_lexer": "ipython3",
   "version": "3.10.8"
  }
 },
 "nbformat": 4,
 "nbformat_minor": 5
}
