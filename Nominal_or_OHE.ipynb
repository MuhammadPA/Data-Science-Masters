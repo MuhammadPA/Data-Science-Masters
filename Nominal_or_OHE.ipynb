{
  "cells": [
    {
      "cell_type": "markdown",
      "id": "b725fff2-9092-47c3-aee9-59e01aeafb89",
      "metadata": {
        "id": "b725fff2-9092-47c3-aee9-59e01aeafb89"
      },
      "source": [
        "## Data Encoding\n",
        "\n",
        "1. Nominal/OHE Encoding\n",
        "2. Label and Ordinal Encoding\n",
        "3. Target Guided Ordinal Encoding "
      ]
    },
    {
      "cell_type": "markdown",
      "id": "8a8beb63-db1a-49db-b663-5b7893ab3f1f",
      "metadata": {
        "id": "8a8beb63-db1a-49db-b663-5b7893ab3f1f"
      },
      "source": [
        "### Nominal/OHE Encoding\n",
        "One hot encoding, also known as nominal encoding, is a technique used to represent categorical data as numerical data, which is more suitable for machine learning algorithms. In this technique, each category is represented as a binary vector where each bit corresponds to a unique category. For example, if we have a categorical variable \"color\" with three possible values (red, green, blue), we can represent it using one hot encoding as follows:\n",
        "\n",
        "1. Red: [1, 0, 0]\n",
        "2. Green: [0, 1, 0]\n",
        "3. Blue: [0, 0, 1]"
      ]
    },
    {
      "cell_type": "code",
      "execution_count": null,
      "id": "776cce0a-4c44-4d32-b4af-d466c6c0a145",
      "metadata": {
        "id": "776cce0a-4c44-4d32-b4af-d466c6c0a145"
      },
      "outputs": [],
      "source": [
        "import pandas as pd\n",
        "from sklearn.preprocessing import OneHotEncoder"
      ]
    },
    {
      "cell_type": "code",
      "execution_count": null,
      "id": "ce14529b-1029-429e-89bf-46af0ad6eb90",
      "metadata": {
        "id": "ce14529b-1029-429e-89bf-46af0ad6eb90"
      },
      "outputs": [],
      "source": [
        "## Create a simple dataframe \n",
        "df = pd.DataFrame({\n",
        "    'color': ['red', 'blue', 'green', 'green', 'red', 'blue']\n",
        "})"
      ]
    },
    {
      "cell_type": "code",
      "execution_count": null,
      "id": "92ea0409-6533-49ac-b967-256b5ffd059f",
      "metadata": {
        "id": "92ea0409-6533-49ac-b967-256b5ffd059f",
        "outputId": "e219ca76-fdf8-4fce-fc2e-5744bdae12e8"
      },
      "outputs": [
        {
          "data": {
            "text/html": [
              "<div>\n",
              "<style scoped>\n",
              "    .dataframe tbody tr th:only-of-type {\n",
              "        vertical-align: middle;\n",
              "    }\n",
              "\n",
              "    .dataframe tbody tr th {\n",
              "        vertical-align: top;\n",
              "    }\n",
              "\n",
              "    .dataframe thead th {\n",
              "        text-align: right;\n",
              "    }\n",
              "</style>\n",
              "<table border=\"1\" class=\"dataframe\">\n",
              "  <thead>\n",
              "    <tr style=\"text-align: right;\">\n",
              "      <th></th>\n",
              "      <th>color</th>\n",
              "    </tr>\n",
              "  </thead>\n",
              "  <tbody>\n",
              "    <tr>\n",
              "      <th>0</th>\n",
              "      <td>red</td>\n",
              "    </tr>\n",
              "    <tr>\n",
              "      <th>1</th>\n",
              "      <td>blue</td>\n",
              "    </tr>\n",
              "    <tr>\n",
              "      <th>2</th>\n",
              "      <td>green</td>\n",
              "    </tr>\n",
              "    <tr>\n",
              "      <th>3</th>\n",
              "      <td>green</td>\n",
              "    </tr>\n",
              "    <tr>\n",
              "      <th>4</th>\n",
              "      <td>red</td>\n",
              "    </tr>\n",
              "  </tbody>\n",
              "</table>\n",
              "</div>"
            ],
            "text/plain": [
              "   color\n",
              "0    red\n",
              "1   blue\n",
              "2  green\n",
              "3  green\n",
              "4    red"
            ]
          },
          "execution_count": 3,
          "metadata": {},
          "output_type": "execute_result"
        }
      ],
      "source": [
        "df.head()"
      ]
    },
    {
      "cell_type": "code",
      "execution_count": null,
      "id": "a0a31d7e-204e-461c-8767-75059c022180",
      "metadata": {
        "id": "a0a31d7e-204e-461c-8767-75059c022180"
      },
      "outputs": [],
      "source": [
        "##create an instance of Onehotencoder\n",
        "encoder=OneHotEncoder()"
      ]
    },
    {
      "cell_type": "code",
      "execution_count": null,
      "id": "b91291e1-e221-45c9-af5b-147eee3e86e7",
      "metadata": {
        "id": "b91291e1-e221-45c9-af5b-147eee3e86e7"
      },
      "outputs": [],
      "source": [
        "## perform fit and transform\n",
        "encoded=encoder.fit_transform(df[['color']]).toarray()"
      ]
    },
    {
      "cell_type": "code",
      "execution_count": null,
      "id": "e56961e3-ca2e-4bbe-bfea-8b7cea6e4a46",
      "metadata": {
        "id": "e56961e3-ca2e-4bbe-bfea-8b7cea6e4a46"
      },
      "outputs": [],
      "source": [
        "import pandas as pd\n",
        "encoder_df=pd.DataFrame(encoded,columns=encoder.get_feature_names_out())"
      ]
    },
    {
      "cell_type": "code",
      "execution_count": null,
      "id": "95df0e6f-fa4e-496f-9c50-5f941c39ab66",
      "metadata": {
        "id": "95df0e6f-fa4e-496f-9c50-5f941c39ab66",
        "outputId": "c55b995b-431c-4a08-f22a-6501e8514dc4"
      },
      "outputs": [
        {
          "data": {
            "text/html": [
              "<div>\n",
              "<style scoped>\n",
              "    .dataframe tbody tr th:only-of-type {\n",
              "        vertical-align: middle;\n",
              "    }\n",
              "\n",
              "    .dataframe tbody tr th {\n",
              "        vertical-align: top;\n",
              "    }\n",
              "\n",
              "    .dataframe thead th {\n",
              "        text-align: right;\n",
              "    }\n",
              "</style>\n",
              "<table border=\"1\" class=\"dataframe\">\n",
              "  <thead>\n",
              "    <tr style=\"text-align: right;\">\n",
              "      <th></th>\n",
              "      <th>color_blue</th>\n",
              "      <th>color_green</th>\n",
              "      <th>color_red</th>\n",
              "    </tr>\n",
              "  </thead>\n",
              "  <tbody>\n",
              "    <tr>\n",
              "      <th>0</th>\n",
              "      <td>0.0</td>\n",
              "      <td>0.0</td>\n",
              "      <td>1.0</td>\n",
              "    </tr>\n",
              "    <tr>\n",
              "      <th>1</th>\n",
              "      <td>1.0</td>\n",
              "      <td>0.0</td>\n",
              "      <td>0.0</td>\n",
              "    </tr>\n",
              "    <tr>\n",
              "      <th>2</th>\n",
              "      <td>0.0</td>\n",
              "      <td>1.0</td>\n",
              "      <td>0.0</td>\n",
              "    </tr>\n",
              "    <tr>\n",
              "      <th>3</th>\n",
              "      <td>0.0</td>\n",
              "      <td>1.0</td>\n",
              "      <td>0.0</td>\n",
              "    </tr>\n",
              "    <tr>\n",
              "      <th>4</th>\n",
              "      <td>0.0</td>\n",
              "      <td>0.0</td>\n",
              "      <td>1.0</td>\n",
              "    </tr>\n",
              "    <tr>\n",
              "      <th>5</th>\n",
              "      <td>1.0</td>\n",
              "      <td>0.0</td>\n",
              "      <td>0.0</td>\n",
              "    </tr>\n",
              "  </tbody>\n",
              "</table>\n",
              "</div>"
            ],
            "text/plain": [
              "   color_blue  color_green  color_red\n",
              "0         0.0          0.0        1.0\n",
              "1         1.0          0.0        0.0\n",
              "2         0.0          1.0        0.0\n",
              "3         0.0          1.0        0.0\n",
              "4         0.0          0.0        1.0\n",
              "5         1.0          0.0        0.0"
            ]
          },
          "execution_count": 11,
          "metadata": {},
          "output_type": "execute_result"
        }
      ],
      "source": [
        "encoder_df"
      ]
    },
    {
      "cell_type": "code",
      "execution_count": null,
      "id": "71b9e570-3529-422c-8cb9-19a630b48907",
      "metadata": {
        "id": "71b9e570-3529-422c-8cb9-19a630b48907",
        "outputId": "0c92a663-c31d-47c5-fd75-d3e374de3948"
      },
      "outputs": [
        {
          "name": "stderr",
          "output_type": "stream",
          "text": [
            "/opt/conda/lib/python3.10/site-packages/sklearn/base.py:409: UserWarning: X does not have valid feature names, but OneHotEncoder was fitted with feature names\n",
            "  warnings.warn(\n"
          ]
        },
        {
          "data": {
            "text/plain": [
              "array([[1., 0., 0.]])"
            ]
          },
          "execution_count": 15,
          "metadata": {},
          "output_type": "execute_result"
        }
      ],
      "source": [
        "## for new data\n",
        "encoder.transform([['blue']]).toarray()"
      ]
    },
    {
      "cell_type": "code",
      "execution_count": null,
      "id": "a219dc14-529b-4077-aa42-4cd7e3f43498",
      "metadata": {
        "id": "a219dc14-529b-4077-aa42-4cd7e3f43498",
        "outputId": "a81624c2-1408-4a59-eaf4-ae5aa9b097a0"
      },
      "outputs": [
        {
          "data": {
            "text/html": [
              "<div>\n",
              "<style scoped>\n",
              "    .dataframe tbody tr th:only-of-type {\n",
              "        vertical-align: middle;\n",
              "    }\n",
              "\n",
              "    .dataframe tbody tr th {\n",
              "        vertical-align: top;\n",
              "    }\n",
              "\n",
              "    .dataframe thead th {\n",
              "        text-align: right;\n",
              "    }\n",
              "</style>\n",
              "<table border=\"1\" class=\"dataframe\">\n",
              "  <thead>\n",
              "    <tr style=\"text-align: right;\">\n",
              "      <th></th>\n",
              "      <th>color</th>\n",
              "      <th>color_blue</th>\n",
              "      <th>color_green</th>\n",
              "      <th>color_red</th>\n",
              "    </tr>\n",
              "  </thead>\n",
              "  <tbody>\n",
              "    <tr>\n",
              "      <th>0</th>\n",
              "      <td>red</td>\n",
              "      <td>0.0</td>\n",
              "      <td>0.0</td>\n",
              "      <td>1.0</td>\n",
              "    </tr>\n",
              "    <tr>\n",
              "      <th>1</th>\n",
              "      <td>blue</td>\n",
              "      <td>1.0</td>\n",
              "      <td>0.0</td>\n",
              "      <td>0.0</td>\n",
              "    </tr>\n",
              "    <tr>\n",
              "      <th>2</th>\n",
              "      <td>green</td>\n",
              "      <td>0.0</td>\n",
              "      <td>1.0</td>\n",
              "      <td>0.0</td>\n",
              "    </tr>\n",
              "    <tr>\n",
              "      <th>3</th>\n",
              "      <td>green</td>\n",
              "      <td>0.0</td>\n",
              "      <td>1.0</td>\n",
              "      <td>0.0</td>\n",
              "    </tr>\n",
              "    <tr>\n",
              "      <th>4</th>\n",
              "      <td>red</td>\n",
              "      <td>0.0</td>\n",
              "      <td>0.0</td>\n",
              "      <td>1.0</td>\n",
              "    </tr>\n",
              "    <tr>\n",
              "      <th>5</th>\n",
              "      <td>blue</td>\n",
              "      <td>1.0</td>\n",
              "      <td>0.0</td>\n",
              "      <td>0.0</td>\n",
              "    </tr>\n",
              "  </tbody>\n",
              "</table>\n",
              "</div>"
            ],
            "text/plain": [
              "   color  color_blue  color_green  color_red\n",
              "0    red         0.0          0.0        1.0\n",
              "1   blue         1.0          0.0        0.0\n",
              "2  green         0.0          1.0        0.0\n",
              "3  green         0.0          1.0        0.0\n",
              "4    red         0.0          0.0        1.0\n",
              "5   blue         1.0          0.0        0.0"
            ]
          },
          "execution_count": 16,
          "metadata": {},
          "output_type": "execute_result"
        }
      ],
      "source": [
        "pd.concat([df,encoder_df],axis=1)"
      ]
    },
    {
      "cell_type": "code",
      "execution_count": 4,
      "id": "57f83007-e989-4d67-a172-005170225536",
      "metadata": {
        "id": "57f83007-e989-4d67-a172-005170225536"
      },
      "outputs": [],
      "source": [
        "import pandas as pd\n",
        "from sklearn.preprocessing import OneHotEncoder\n",
        "import seaborn as sns\n",
        "df=sns.load_dataset('tips')\n",
        "df.head()\n",
        "encoder=OneHotEncoder()"
      ]
    },
    {
      "cell_type": "code",
      "source": [
        "encoded=encoder.fit_transform(df[['time']]).toarray()\n",
        "import pandas as pd\n",
        "encoder_df=pd.DataFrame(encoded,columns=encoder.get_feature_names_out())\n",
        "encoder_df\n",
        "pd.concat([df,encoder_df],axis=1)"
      ],
      "metadata": {
        "id": "B5jTRXYefFBi",
        "outputId": "b9c94356-2f55-4702-f151-467e2b74c2e9",
        "colab": {
          "base_uri": "https://localhost:8080/",
          "height": 423
        }
      },
      "id": "B5jTRXYefFBi",
      "execution_count": 9,
      "outputs": [
        {
          "output_type": "execute_result",
          "data": {
            "text/plain": [
              "     total_bill   tip     sex smoker   day    time  size  time_Dinner  \\\n",
              "0         16.99  1.01  Female     No   Sun  Dinner     2          1.0   \n",
              "1         10.34  1.66    Male     No   Sun  Dinner     3          1.0   \n",
              "2         21.01  3.50    Male     No   Sun  Dinner     3          1.0   \n",
              "3         23.68  3.31    Male     No   Sun  Dinner     2          1.0   \n",
              "4         24.59  3.61  Female     No   Sun  Dinner     4          1.0   \n",
              "..          ...   ...     ...    ...   ...     ...   ...          ...   \n",
              "239       29.03  5.92    Male     No   Sat  Dinner     3          1.0   \n",
              "240       27.18  2.00  Female    Yes   Sat  Dinner     2          1.0   \n",
              "241       22.67  2.00    Male    Yes   Sat  Dinner     2          1.0   \n",
              "242       17.82  1.75    Male     No   Sat  Dinner     2          1.0   \n",
              "243       18.78  3.00  Female     No  Thur  Dinner     2          1.0   \n",
              "\n",
              "     time_Lunch  \n",
              "0           0.0  \n",
              "1           0.0  \n",
              "2           0.0  \n",
              "3           0.0  \n",
              "4           0.0  \n",
              "..          ...  \n",
              "239         0.0  \n",
              "240         0.0  \n",
              "241         0.0  \n",
              "242         0.0  \n",
              "243         0.0  \n",
              "\n",
              "[244 rows x 9 columns]"
            ],
            "text/html": [
              "\n",
              "  <div id=\"df-c4b86eab-3f89-4326-99f3-4c8ac7a65a2e\">\n",
              "    <div class=\"colab-df-container\">\n",
              "      <div>\n",
              "<style scoped>\n",
              "    .dataframe tbody tr th:only-of-type {\n",
              "        vertical-align: middle;\n",
              "    }\n",
              "\n",
              "    .dataframe tbody tr th {\n",
              "        vertical-align: top;\n",
              "    }\n",
              "\n",
              "    .dataframe thead th {\n",
              "        text-align: right;\n",
              "    }\n",
              "</style>\n",
              "<table border=\"1\" class=\"dataframe\">\n",
              "  <thead>\n",
              "    <tr style=\"text-align: right;\">\n",
              "      <th></th>\n",
              "      <th>total_bill</th>\n",
              "      <th>tip</th>\n",
              "      <th>sex</th>\n",
              "      <th>smoker</th>\n",
              "      <th>day</th>\n",
              "      <th>time</th>\n",
              "      <th>size</th>\n",
              "      <th>time_Dinner</th>\n",
              "      <th>time_Lunch</th>\n",
              "    </tr>\n",
              "  </thead>\n",
              "  <tbody>\n",
              "    <tr>\n",
              "      <th>0</th>\n",
              "      <td>16.99</td>\n",
              "      <td>1.01</td>\n",
              "      <td>Female</td>\n",
              "      <td>No</td>\n",
              "      <td>Sun</td>\n",
              "      <td>Dinner</td>\n",
              "      <td>2</td>\n",
              "      <td>1.0</td>\n",
              "      <td>0.0</td>\n",
              "    </tr>\n",
              "    <tr>\n",
              "      <th>1</th>\n",
              "      <td>10.34</td>\n",
              "      <td>1.66</td>\n",
              "      <td>Male</td>\n",
              "      <td>No</td>\n",
              "      <td>Sun</td>\n",
              "      <td>Dinner</td>\n",
              "      <td>3</td>\n",
              "      <td>1.0</td>\n",
              "      <td>0.0</td>\n",
              "    </tr>\n",
              "    <tr>\n",
              "      <th>2</th>\n",
              "      <td>21.01</td>\n",
              "      <td>3.50</td>\n",
              "      <td>Male</td>\n",
              "      <td>No</td>\n",
              "      <td>Sun</td>\n",
              "      <td>Dinner</td>\n",
              "      <td>3</td>\n",
              "      <td>1.0</td>\n",
              "      <td>0.0</td>\n",
              "    </tr>\n",
              "    <tr>\n",
              "      <th>3</th>\n",
              "      <td>23.68</td>\n",
              "      <td>3.31</td>\n",
              "      <td>Male</td>\n",
              "      <td>No</td>\n",
              "      <td>Sun</td>\n",
              "      <td>Dinner</td>\n",
              "      <td>2</td>\n",
              "      <td>1.0</td>\n",
              "      <td>0.0</td>\n",
              "    </tr>\n",
              "    <tr>\n",
              "      <th>4</th>\n",
              "      <td>24.59</td>\n",
              "      <td>3.61</td>\n",
              "      <td>Female</td>\n",
              "      <td>No</td>\n",
              "      <td>Sun</td>\n",
              "      <td>Dinner</td>\n",
              "      <td>4</td>\n",
              "      <td>1.0</td>\n",
              "      <td>0.0</td>\n",
              "    </tr>\n",
              "    <tr>\n",
              "      <th>...</th>\n",
              "      <td>...</td>\n",
              "      <td>...</td>\n",
              "      <td>...</td>\n",
              "      <td>...</td>\n",
              "      <td>...</td>\n",
              "      <td>...</td>\n",
              "      <td>...</td>\n",
              "      <td>...</td>\n",
              "      <td>...</td>\n",
              "    </tr>\n",
              "    <tr>\n",
              "      <th>239</th>\n",
              "      <td>29.03</td>\n",
              "      <td>5.92</td>\n",
              "      <td>Male</td>\n",
              "      <td>No</td>\n",
              "      <td>Sat</td>\n",
              "      <td>Dinner</td>\n",
              "      <td>3</td>\n",
              "      <td>1.0</td>\n",
              "      <td>0.0</td>\n",
              "    </tr>\n",
              "    <tr>\n",
              "      <th>240</th>\n",
              "      <td>27.18</td>\n",
              "      <td>2.00</td>\n",
              "      <td>Female</td>\n",
              "      <td>Yes</td>\n",
              "      <td>Sat</td>\n",
              "      <td>Dinner</td>\n",
              "      <td>2</td>\n",
              "      <td>1.0</td>\n",
              "      <td>0.0</td>\n",
              "    </tr>\n",
              "    <tr>\n",
              "      <th>241</th>\n",
              "      <td>22.67</td>\n",
              "      <td>2.00</td>\n",
              "      <td>Male</td>\n",
              "      <td>Yes</td>\n",
              "      <td>Sat</td>\n",
              "      <td>Dinner</td>\n",
              "      <td>2</td>\n",
              "      <td>1.0</td>\n",
              "      <td>0.0</td>\n",
              "    </tr>\n",
              "    <tr>\n",
              "      <th>242</th>\n",
              "      <td>17.82</td>\n",
              "      <td>1.75</td>\n",
              "      <td>Male</td>\n",
              "      <td>No</td>\n",
              "      <td>Sat</td>\n",
              "      <td>Dinner</td>\n",
              "      <td>2</td>\n",
              "      <td>1.0</td>\n",
              "      <td>0.0</td>\n",
              "    </tr>\n",
              "    <tr>\n",
              "      <th>243</th>\n",
              "      <td>18.78</td>\n",
              "      <td>3.00</td>\n",
              "      <td>Female</td>\n",
              "      <td>No</td>\n",
              "      <td>Thur</td>\n",
              "      <td>Dinner</td>\n",
              "      <td>2</td>\n",
              "      <td>1.0</td>\n",
              "      <td>0.0</td>\n",
              "    </tr>\n",
              "  </tbody>\n",
              "</table>\n",
              "<p>244 rows × 9 columns</p>\n",
              "</div>\n",
              "      <button class=\"colab-df-convert\" onclick=\"convertToInteractive('df-c4b86eab-3f89-4326-99f3-4c8ac7a65a2e')\"\n",
              "              title=\"Convert this dataframe to an interactive table.\"\n",
              "              style=\"display:none;\">\n",
              "        \n",
              "  <svg xmlns=\"http://www.w3.org/2000/svg\" height=\"24px\"viewBox=\"0 0 24 24\"\n",
              "       width=\"24px\">\n",
              "    <path d=\"M0 0h24v24H0V0z\" fill=\"none\"/>\n",
              "    <path d=\"M18.56 5.44l.94 2.06.94-2.06 2.06-.94-2.06-.94-.94-2.06-.94 2.06-2.06.94zm-11 1L8.5 8.5l.94-2.06 2.06-.94-2.06-.94L8.5 2.5l-.94 2.06-2.06.94zm10 10l.94 2.06.94-2.06 2.06-.94-2.06-.94-.94-2.06-.94 2.06-2.06.94z\"/><path d=\"M17.41 7.96l-1.37-1.37c-.4-.4-.92-.59-1.43-.59-.52 0-1.04.2-1.43.59L10.3 9.45l-7.72 7.72c-.78.78-.78 2.05 0 2.83L4 21.41c.39.39.9.59 1.41.59.51 0 1.02-.2 1.41-.59l7.78-7.78 2.81-2.81c.8-.78.8-2.07 0-2.86zM5.41 20L4 18.59l7.72-7.72 1.47 1.35L5.41 20z\"/>\n",
              "  </svg>\n",
              "      </button>\n",
              "      \n",
              "  <style>\n",
              "    .colab-df-container {\n",
              "      display:flex;\n",
              "      flex-wrap:wrap;\n",
              "      gap: 12px;\n",
              "    }\n",
              "\n",
              "    .colab-df-convert {\n",
              "      background-color: #E8F0FE;\n",
              "      border: none;\n",
              "      border-radius: 50%;\n",
              "      cursor: pointer;\n",
              "      display: none;\n",
              "      fill: #1967D2;\n",
              "      height: 32px;\n",
              "      padding: 0 0 0 0;\n",
              "      width: 32px;\n",
              "    }\n",
              "\n",
              "    .colab-df-convert:hover {\n",
              "      background-color: #E2EBFA;\n",
              "      box-shadow: 0px 1px 2px rgba(60, 64, 67, 0.3), 0px 1px 3px 1px rgba(60, 64, 67, 0.15);\n",
              "      fill: #174EA6;\n",
              "    }\n",
              "\n",
              "    [theme=dark] .colab-df-convert {\n",
              "      background-color: #3B4455;\n",
              "      fill: #D2E3FC;\n",
              "    }\n",
              "\n",
              "    [theme=dark] .colab-df-convert:hover {\n",
              "      background-color: #434B5C;\n",
              "      box-shadow: 0px 1px 3px 1px rgba(0, 0, 0, 0.15);\n",
              "      filter: drop-shadow(0px 1px 2px rgba(0, 0, 0, 0.3));\n",
              "      fill: #FFFFFF;\n",
              "    }\n",
              "  </style>\n",
              "\n",
              "      <script>\n",
              "        const buttonEl =\n",
              "          document.querySelector('#df-c4b86eab-3f89-4326-99f3-4c8ac7a65a2e button.colab-df-convert');\n",
              "        buttonEl.style.display =\n",
              "          google.colab.kernel.accessAllowed ? 'block' : 'none';\n",
              "\n",
              "        async function convertToInteractive(key) {\n",
              "          const element = document.querySelector('#df-c4b86eab-3f89-4326-99f3-4c8ac7a65a2e');\n",
              "          const dataTable =\n",
              "            await google.colab.kernel.invokeFunction('convertToInteractive',\n",
              "                                                     [key], {});\n",
              "          if (!dataTable) return;\n",
              "\n",
              "          const docLinkHtml = 'Like what you see? Visit the ' +\n",
              "            '<a target=\"_blank\" href=https://colab.research.google.com/notebooks/data_table.ipynb>data table notebook</a>'\n",
              "            + ' to learn more about interactive tables.';\n",
              "          element.innerHTML = '';\n",
              "          dataTable['output_type'] = 'display_data';\n",
              "          await google.colab.output.renderOutput(dataTable, element);\n",
              "          const docLink = document.createElement('div');\n",
              "          docLink.innerHTML = docLinkHtml;\n",
              "          element.appendChild(docLink);\n",
              "        }\n",
              "      </script>\n",
              "    </div>\n",
              "  </div>\n",
              "  "
            ]
          },
          "metadata": {},
          "execution_count": 9
        }
      ]
    },
    {
      "cell_type": "markdown",
      "id": "10ef53b5-92e3-49e5-8d25-3d65b623c339",
      "metadata": {
        "id": "10ef53b5-92e3-49e5-8d25-3d65b623c339"
      },
      "source": [
        "### Label Encoding \n",
        "Label encoding and ordinal encoding are two techniques used to encode categorical data as numerical data.\n",
        "\n",
        "Label encoding involves assigning a unique numerical label to each category in the variable. The labels are usually assigned in alphabetical order or based on the frequency of the categories. For example, if we have a categorical variable \"color\" with three possible values (red, green, blue), we can represent it using label encoding as follows:\n",
        "\n",
        "1. Red: 1\n",
        "2. Green: 2\n",
        "3. Blue: 3"
      ]
    },
    {
      "cell_type": "code",
      "execution_count": null,
      "id": "89703e0a-f3cf-4c22-9e76-9ff47e44d4a5",
      "metadata": {
        "id": "89703e0a-f3cf-4c22-9e76-9ff47e44d4a5",
        "outputId": "c50321e2-2706-472d-a55a-03ea0414e78f"
      },
      "outputs": [
        {
          "data": {
            "text/html": [
              "<div>\n",
              "<style scoped>\n",
              "    .dataframe tbody tr th:only-of-type {\n",
              "        vertical-align: middle;\n",
              "    }\n",
              "\n",
              "    .dataframe tbody tr th {\n",
              "        vertical-align: top;\n",
              "    }\n",
              "\n",
              "    .dataframe thead th {\n",
              "        text-align: right;\n",
              "    }\n",
              "</style>\n",
              "<table border=\"1\" class=\"dataframe\">\n",
              "  <thead>\n",
              "    <tr style=\"text-align: right;\">\n",
              "      <th></th>\n",
              "      <th>color</th>\n",
              "    </tr>\n",
              "  </thead>\n",
              "  <tbody>\n",
              "    <tr>\n",
              "      <th>0</th>\n",
              "      <td>red</td>\n",
              "    </tr>\n",
              "    <tr>\n",
              "      <th>1</th>\n",
              "      <td>blue</td>\n",
              "    </tr>\n",
              "    <tr>\n",
              "      <th>2</th>\n",
              "      <td>green</td>\n",
              "    </tr>\n",
              "    <tr>\n",
              "      <th>3</th>\n",
              "      <td>green</td>\n",
              "    </tr>\n",
              "    <tr>\n",
              "      <th>4</th>\n",
              "      <td>red</td>\n",
              "    </tr>\n",
              "  </tbody>\n",
              "</table>\n",
              "</div>"
            ],
            "text/plain": [
              "   color\n",
              "0    red\n",
              "1   blue\n",
              "2  green\n",
              "3  green\n",
              "4    red"
            ]
          },
          "execution_count": 19,
          "metadata": {},
          "output_type": "execute_result"
        }
      ],
      "source": [
        "df.head()"
      ]
    },
    {
      "cell_type": "code",
      "execution_count": null,
      "id": "9c734d4b-9c75-4eae-b4e3-bf615b373f27",
      "metadata": {
        "id": "9c734d4b-9c75-4eae-b4e3-bf615b373f27"
      },
      "outputs": [],
      "source": [
        "from sklearn.preprocessing import LabelEncoder\n",
        "lbl_encoder=LabelEncoder()"
      ]
    },
    {
      "cell_type": "code",
      "execution_count": null,
      "id": "5d005085-bfce-4174-8cec-15bd09bb9012",
      "metadata": {
        "id": "5d005085-bfce-4174-8cec-15bd09bb9012",
        "outputId": "95c8becf-6d69-41a3-8493-662cbd93f861"
      },
      "outputs": [
        {
          "name": "stderr",
          "output_type": "stream",
          "text": [
            "/opt/conda/lib/python3.10/site-packages/sklearn/preprocessing/_label.py:116: DataConversionWarning: A column-vector y was passed when a 1d array was expected. Please change the shape of y to (n_samples, ), for example using ravel().\n",
            "  y = column_or_1d(y, warn=True)\n"
          ]
        },
        {
          "data": {
            "text/plain": [
              "array([2, 0, 1, 1, 2, 0])"
            ]
          },
          "execution_count": 21,
          "metadata": {},
          "output_type": "execute_result"
        }
      ],
      "source": [
        "lbl_encoder.fit_transform(df[['color']])"
      ]
    },
    {
      "cell_type": "code",
      "execution_count": null,
      "id": "ec8ae604-50e5-4b20-9dab-ce09415d2b61",
      "metadata": {
        "id": "ec8ae604-50e5-4b20-9dab-ce09415d2b61",
        "outputId": "0c0f51ab-2eb9-49b9-bebf-376c2fa0456e"
      },
      "outputs": [
        {
          "name": "stderr",
          "output_type": "stream",
          "text": [
            "/opt/conda/lib/python3.10/site-packages/sklearn/preprocessing/_label.py:134: DataConversionWarning: A column-vector y was passed when a 1d array was expected. Please change the shape of y to (n_samples, ), for example using ravel().\n",
            "  y = column_or_1d(y, dtype=self.classes_.dtype, warn=True)\n"
          ]
        },
        {
          "data": {
            "text/plain": [
              "array([2])"
            ]
          },
          "execution_count": 23,
          "metadata": {},
          "output_type": "execute_result"
        }
      ],
      "source": [
        "lbl_encoder.transform([['red']])"
      ]
    },
    {
      "cell_type": "code",
      "execution_count": null,
      "id": "3a9b072a-8e93-4351-9129-6572f1baac51",
      "metadata": {
        "id": "3a9b072a-8e93-4351-9129-6572f1baac51",
        "outputId": "db89b339-a4b6-498b-a432-f1fd420190e7"
      },
      "outputs": [
        {
          "data": {
            "text/plain": [
              "array([0])"
            ]
          },
          "execution_count": 24,
          "metadata": {},
          "output_type": "execute_result"
        }
      ],
      "source": [
        "lbl_encoder.transform([['blue']])"
      ]
    },
    {
      "cell_type": "code",
      "execution_count": null,
      "id": "53ddbfcd-ab44-4991-b27a-35f0d4c9888e",
      "metadata": {
        "id": "53ddbfcd-ab44-4991-b27a-35f0d4c9888e",
        "outputId": "868ac2f7-be70-4830-dc70-6fa78ebe84db"
      },
      "outputs": [
        {
          "data": {
            "text/plain": [
              "array([1])"
            ]
          },
          "execution_count": 25,
          "metadata": {},
          "output_type": "execute_result"
        }
      ],
      "source": [
        "lbl_encoder.transform([['green']])"
      ]
    },
    {
      "cell_type": "markdown",
      "id": "92a8de31-97d9-415a-bce5-598027452be7",
      "metadata": {
        "id": "92a8de31-97d9-415a-bce5-598027452be7"
      },
      "source": [
        "### Ordinal Encoding\n",
        "It is used to encode categorical data that have an intrinsic order or ranking. In this technique, each category is assigned a numerical value based on its position in the order. For example, if we have a categorical variable \"education level\" with four possible values (high school, college, graduate, post-graduate), we can represent it using ordinal encoding as follows:\n",
        "\n",
        "1. High school: 1\n",
        "2. College: 2\n",
        "3. Graduate: 3\n",
        "4. Post-graduate: 4"
      ]
    },
    {
      "cell_type": "code",
      "execution_count": null,
      "id": "310afa03-31ee-445e-8bcd-1fc96e97ea3d",
      "metadata": {
        "id": "310afa03-31ee-445e-8bcd-1fc96e97ea3d"
      },
      "outputs": [],
      "source": [
        "## ORdinal Encoding\n",
        "from sklearn.preprocessing import OrdinalEncoder"
      ]
    },
    {
      "cell_type": "code",
      "execution_count": null,
      "id": "5e7c6056-96bc-446d-9e36-0c12fe9f8d05",
      "metadata": {
        "id": "5e7c6056-96bc-446d-9e36-0c12fe9f8d05"
      },
      "outputs": [],
      "source": [
        "# create a sample dataframe with an ordinal variable\n",
        "df = pd.DataFrame({\n",
        "    'size': ['small', 'medium', 'large', 'medium', 'small', 'large']\n",
        "})"
      ]
    },
    {
      "cell_type": "code",
      "execution_count": null,
      "id": "c2ccbda4-b944-480b-aed9-4c3ed45dda48",
      "metadata": {
        "id": "c2ccbda4-b944-480b-aed9-4c3ed45dda48",
        "outputId": "c1463eba-2248-4e01-c856-bdd8e2aa97c7"
      },
      "outputs": [
        {
          "data": {
            "text/html": [
              "<div>\n",
              "<style scoped>\n",
              "    .dataframe tbody tr th:only-of-type {\n",
              "        vertical-align: middle;\n",
              "    }\n",
              "\n",
              "    .dataframe tbody tr th {\n",
              "        vertical-align: top;\n",
              "    }\n",
              "\n",
              "    .dataframe thead th {\n",
              "        text-align: right;\n",
              "    }\n",
              "</style>\n",
              "<table border=\"1\" class=\"dataframe\">\n",
              "  <thead>\n",
              "    <tr style=\"text-align: right;\">\n",
              "      <th></th>\n",
              "      <th>size</th>\n",
              "    </tr>\n",
              "  </thead>\n",
              "  <tbody>\n",
              "    <tr>\n",
              "      <th>0</th>\n",
              "      <td>small</td>\n",
              "    </tr>\n",
              "    <tr>\n",
              "      <th>1</th>\n",
              "      <td>medium</td>\n",
              "    </tr>\n",
              "    <tr>\n",
              "      <th>2</th>\n",
              "      <td>large</td>\n",
              "    </tr>\n",
              "    <tr>\n",
              "      <th>3</th>\n",
              "      <td>medium</td>\n",
              "    </tr>\n",
              "    <tr>\n",
              "      <th>4</th>\n",
              "      <td>small</td>\n",
              "    </tr>\n",
              "    <tr>\n",
              "      <th>5</th>\n",
              "      <td>large</td>\n",
              "    </tr>\n",
              "  </tbody>\n",
              "</table>\n",
              "</div>"
            ],
            "text/plain": [
              "     size\n",
              "0   small\n",
              "1  medium\n",
              "2   large\n",
              "3  medium\n",
              "4   small\n",
              "5   large"
            ]
          },
          "execution_count": 28,
          "metadata": {},
          "output_type": "execute_result"
        }
      ],
      "source": [
        "df"
      ]
    },
    {
      "cell_type": "code",
      "execution_count": null,
      "id": "fd325129-314b-40ef-9807-ffb15607d71f",
      "metadata": {
        "id": "fd325129-314b-40ef-9807-ffb15607d71f"
      },
      "outputs": [],
      "source": [
        "## create an instance of ORdinalEncoder and then fit_transform\n",
        "encoder=OrdinalEncoder(categories=[['small','medium','large']])"
      ]
    },
    {
      "cell_type": "code",
      "execution_count": null,
      "id": "ba2d1b4d-b22f-431a-b625-cf32aa7ee1aa",
      "metadata": {
        "id": "ba2d1b4d-b22f-431a-b625-cf32aa7ee1aa",
        "outputId": "6d40b270-82b3-4bfc-8433-d7a1e95b4afd"
      },
      "outputs": [
        {
          "data": {
            "text/plain": [
              "array([[0.],\n",
              "       [1.],\n",
              "       [2.],\n",
              "       [1.],\n",
              "       [0.],\n",
              "       [2.]])"
            ]
          },
          "execution_count": 31,
          "metadata": {},
          "output_type": "execute_result"
        }
      ],
      "source": [
        "encoder.fit_transform(df[['size']])"
      ]
    },
    {
      "cell_type": "code",
      "execution_count": null,
      "id": "f6bdced6-51ee-4808-8619-870242553062",
      "metadata": {
        "id": "f6bdced6-51ee-4808-8619-870242553062",
        "outputId": "522b7037-69ac-47a8-82a6-809c0d8eefcd"
      },
      "outputs": [
        {
          "name": "stderr",
          "output_type": "stream",
          "text": [
            "/opt/conda/lib/python3.10/site-packages/sklearn/base.py:409: UserWarning: X does not have valid feature names, but OrdinalEncoder was fitted with feature names\n",
            "  warnings.warn(\n"
          ]
        },
        {
          "data": {
            "text/plain": [
              "array([[0.]])"
            ]
          },
          "execution_count": 32,
          "metadata": {},
          "output_type": "execute_result"
        }
      ],
      "source": [
        "encoder.transform([['small']])"
      ]
    },
    {
      "cell_type": "code",
      "execution_count": null,
      "id": "6269eea8-41c3-4d96-b46b-71abf915d3b0",
      "metadata": {
        "id": "6269eea8-41c3-4d96-b46b-71abf915d3b0"
      },
      "outputs": [],
      "source": []
    },
    {
      "cell_type": "code",
      "execution_count": null,
      "id": "ee9ba410-17c6-4793-b5d4-afe770c9abe8",
      "metadata": {
        "id": "ee9ba410-17c6-4793-b5d4-afe770c9abe8"
      },
      "outputs": [],
      "source": []
    },
    {
      "cell_type": "code",
      "execution_count": null,
      "id": "2265d20f-6719-44fa-afb2-4b1c3644774d",
      "metadata": {
        "id": "2265d20f-6719-44fa-afb2-4b1c3644774d"
      },
      "outputs": [],
      "source": []
    },
    {
      "cell_type": "code",
      "execution_count": null,
      "id": "d5e01360-b61d-4929-bf20-c1ade79758e5",
      "metadata": {
        "id": "d5e01360-b61d-4929-bf20-c1ade79758e5"
      },
      "outputs": [],
      "source": []
    },
    {
      "cell_type": "code",
      "execution_count": null,
      "id": "15ac97e7-cb16-4f81-8c44-cb33f773eb73",
      "metadata": {
        "id": "15ac97e7-cb16-4f81-8c44-cb33f773eb73"
      },
      "outputs": [],
      "source": []
    }
  ],
  "metadata": {
    "kernelspec": {
      "display_name": "Python 3 (ipykernel)",
      "language": "python",
      "name": "python3"
    },
    "language_info": {
      "codemirror_mode": {
        "name": "ipython",
        "version": 3
      },
      "file_extension": ".py",
      "mimetype": "text/x-python",
      "name": "python",
      "nbconvert_exporter": "python",
      "pygments_lexer": "ipython3",
      "version": "3.10.8"
    },
    "colab": {
      "provenance": []
    }
  },
  "nbformat": 4,
  "nbformat_minor": 5
}