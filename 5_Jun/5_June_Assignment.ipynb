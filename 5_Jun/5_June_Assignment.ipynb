{
 "cells": [
  {
   "cell_type": "markdown",
   "id": "360152a1-f21f-4606-967e-be707f995418",
   "metadata": {},
   "source": [
    "## Part 1: Understandingg Weight Initialization"
   ]
  },
  {
   "cell_type": "markdown",
   "id": "9f56e4d6-d6c8-4f5d-838c-856c3c751fcb",
   "metadata": {},
   "source": [
    "### 1. Explain the importance of weight initialization in artificial neural networks. Why is it necessary to initialize the weights carefully?"
   ]
  },
  {
   "cell_type": "markdown",
   "id": "56c70f77-9690-4de4-94b5-f814f0aef4c1",
   "metadata": {},
   "source": [
    "Weight initialization plays a crucial role in the training process of artificial neural networks. It refers to the process of assigning initial values to the weights of the network before training begins. The choice of weight initialization method can significantly impact the learning process and the overall performance of the network. Here are a few reasons why careful weight initialization is necessary:\n",
    "\n",
    "1. Avoiding vanishing or exploding gradients: During the training of a neural network, the gradients are computed and used to update the weights through the backpropagation algorithm. If the weights are initialized too small, the gradients may become increasingly smaller as they propagate through the layers, resulting in vanishing gradients. In such cases, the network struggles to learn and may not converge to an optimal solution. On the other hand, if the weights are initialized too large, the gradients can explode, causing instability during training. Proper weight initialization helps alleviate these issues and facilitates smoother and faster convergence.\n",
    "\n",
    "2. Breaking symmetry: Symmetry in weight initialization can lead to symmetric neurons that perform the same computations, making the network redundant and hindering its ability to learn diverse representations. By initializing the weights differently, the network can break symmetry and encourage neurons to learn distinct features, enhancing the network's representational capacity.\n",
    "\n",
    "3. Encouraging exploration of the solution space: Weight initialization influences the starting point of the optimization process. By carefully initializing the weights, the network is more likely to start in a region of the parameter space where it can explore a diverse set of solutions. This exploration is crucial for finding a global or high-quality local minimum of the loss function, leading to better generalization and improved performance.\n",
    "\n",
    "4. Preserving gradient flow: Proper weight initialization can help maintain a reasonable range of activation values throughout the network. This range ensures that the gradients neither vanish nor explode, allowing effective flow of information during both forward and backward passes. This gradient flow is essential for stable and efficient learning.\n",
    "\n",
    "5. Adapting to different activation functions: Different activation functions have specific characteristics and sensitivities to the input range. Weight initialization techniques consider the properties of these activation functions, ensuring that the initial weights are compatible and promote efficient learning. For example, Xavier and He initialization methods are popular choices for activation functions like sigmoid and ReLU, respectively.\n",
    "\n",
    "Overall, careful weight initialization is necessary to address issues like vanishing/exploding gradients, symmetry, optimization starting point, gradient flow, and compatibility with activation functions. By choosing appropriate weight initialization techniques, we can improve the network's convergence, stability, and ability to learn meaningful representations, ultimately leading to better performance on various tasks."
   ]
  },
  {
   "cell_type": "markdown",
   "id": "7a2c22ad-a8e1-4580-b496-53ccec2daea1",
   "metadata": {},
   "source": [
    "### 2. Describe the challenges associated with improper weight initialization. How do these issues affect model training and convergence."
   ]
  },
  {
   "cell_type": "markdown",
   "id": "a5a4bb8d-add4-4671-aa58-4d07aa4fcb82",
   "metadata": {},
   "source": [
    "Improper weight initialization can lead to several challenges during model training, affecting the convergence and overall performance of the neural network. Here are some common issues associated with improper weight initialization:\n",
    "\n",
    "1. Vanishing and exploding gradients: If the weights are initialized too small, the gradients can become increasingly smaller as they propagate through the layers during backpropagation. This phenomenon is known as vanishing gradients. When gradients vanish, the network struggles to learn and update the weights properly, impeding convergence. On the other hand, if the weights are initialized too large, the gradients can explode, causing instability during training. Exploding gradients can lead to large weight updates, making the learning process erratic and preventing convergence.\n",
    "\n",
    "2. Symmetry in weight updates: When the weights of the network are initialized symmetrically, such as setting all weights to the same value, it can result in symmetric neurons that perform the same computations. As a result, the network becomes redundant, and each neuron fails to learn distinct features. Breaking this symmetry is crucial for the network to learn diverse representations and improve its performance.\n",
    "\n",
    "3. Slow convergence: Improper weight initialization can slow down the convergence of the network. If the initial weights are set far from an optimal solution, it may take a significant number of iterations for the network to adjust and approach the desired performance. Slow convergence can delay the training process and require more computational resources, increasing the time and cost of training the model.\n",
    "\n",
    "4. Unstable learning dynamics: Weight initialization affects the stability of the learning process. Unstable learning dynamics can manifest as oscillations or erratic behavior in the loss function during training. This instability can make it challenging to find an optimal solution and hinder the network's ability to generalize well to unseen data.\n",
    "\n",
    "5. Activation saturation: Some activation functions, such as sigmoid, can saturate when the inputs are too large or too small, resulting in gradients close to zero. If the weights are initialized in a way that causes the activations to be saturated early in training, it can hinder the flow of gradients and limit the network's ability to learn.\n",
    "\n",
    "6. Incompatibility with activation functions: Different activation functions have specific characteristics, and improper weight initialization can lead to incompatibility with certain activation functions. For example, if the weights are initialized too large with the ReLU activation function, it can cause dead neurons that never activate due to the ReLU's thresholding behavior. This issue can limit the capacity of the network to learn and affect its performance.\n",
    "\n",
    "These challenges associated with improper weight initialization can result in slower convergence, unstable learning dynamics, difficulties in finding optimal solutions, and limited learning capacity. Proper weight initialization techniques are essential to mitigate these issues, promote stable and efficient training, and improve the overall performance of the neural network."
   ]
  },
  {
   "cell_type": "markdown",
   "id": "623a26b4-3900-4db6-986e-7cda80a9240a",
   "metadata": {},
   "source": [
    "### 3. Discuss the concept of variance and how it relates to weight initialization. Why is it crucial to consider the variance of weights during initialization ?"
   ]
  },
  {
   "cell_type": "markdown",
   "id": "302a7eec-3ef2-4432-b97c-27b69af62d57",
   "metadata": {},
   "source": [
    "Variance is a statistical measure that quantifies the spread or dispersion of a set of values. In the context of weight initialization in neural networks, variance refers to the variability or distribution of the initial weights assigned to the network's connections.\n",
    "\n",
    "Considering the variance of weights during initialization is crucial for several reasons:\n",
    "\n",
    "1. Controlling signal propagation: The variance of weights affects the scale of signals propagated through the network. If the weights have high variance, the signals can have a larger range and may lead to more significant activations and gradients. Conversely, low variance weights result in signals with a smaller range. By adjusting the variance, we can control the strength of signal propagation and ensure that it is conducive to effective learning.\n",
    "\n",
    "2. Balancing information flow: In a neural network, different layers and neurons have different numbers of inputs and outputs. If the variance of weights is not appropriately adjusted, it can cause an imbalance in the information flow across layers. This imbalance can lead to either overly amplified or suppressed signals, which can disrupt the learning process and affect the convergence of the network. By considering the variance, we can aim for a more balanced information flow, ensuring that each layer receives and processes inputs of suitable magnitudes.\n",
    "\n",
    "3. Activation function compatibility: Different activation functions have different sensitivities to the input range. For instance, sigmoid and hyperbolic tangent (tanh) functions are more sensitive to inputs near zero, while rectified linear unit (ReLU) and its variants are not. Therefore, it is important to consider the variance of weights during initialization to ensure compatibility with the chosen activation functions. The variance should be adjusted in a way that the initial activations fall within the regions where the activation functions exhibit favorable properties, such as non-saturation or non-zero gradients.\n",
    "\n",
    "4. Preventing saturation or vanishing gradients: Improper weight initialization can lead to saturation of activation functions, where the activations tend to approach the extreme ends of the activation range. This saturation can cause gradients to become very small or even vanish, making it difficult for the network to learn effectively. By carefully selecting the variance, we can avoid such saturation and prevent the associated issues of vanishing gradients, promoting more stable and efficient learning.\n",
    "\n",
    "5. Enhancing exploration of the solution space: The variance of weights influences the diversity of the initial solutions explored by the network. A suitable variance allows the network to start the learning process in a region of the parameter space that encourages exploration of a diverse set of solutions. This exploration is crucial for finding a global or high-quality local minimum of the loss function, enabling the network to generalize well to unseen data.\n",
    "\n",
    "In summary, considering the variance of weights during initialization is crucial for controlling signal propagation, balancing information flow, ensuring activation function compatibility, preventing saturation or vanishing gradients, and enhancing the exploration of the solution space. Proper adjustment of the variance contributes to stable training, faster convergence, and improved performance of the neural network."
   ]
  },
  {
   "cell_type": "markdown",
   "id": "09afb768-7297-439d-af3a-5c28094aa636",
   "metadata": {},
   "source": [
    "## Part 2: Weight Initialization Techniques"
   ]
  },
  {
   "cell_type": "markdown",
   "id": "6d77745f-42d4-496c-8de8-a23d32ba4a14",
   "metadata": {},
   "source": [
    "### 4. Explain the concept of zero initialization. Discuss its potential limitations and when it can be appropriate to use."
   ]
  },
  {
   "cell_type": "markdown",
   "id": "ce0ff072-da12-4390-9ba4-28580163b8cc",
   "metadata": {},
   "source": [
    "Zero initialization, as the name suggests, refers to initializing all the weights of a neural network to zero during the weight initialization process. In this approach, all the connections in the network start with the same weight value of zero.\n",
    "\n",
    "Zero initialization has some potential limitations:\n",
    "\n",
    "1. Symmetry breaking: When all the weights are initialized to zero, the network suffers from symmetry, where all the neurons in a layer perform the same computations. As a result, the gradients for these symmetric neurons are also the same, leading to identical weight updates during training. This symmetry hinders the network's ability to learn diverse representations and limits its capacity to model complex relationships in the data.\n",
    "\n",
    "2. Stuck neurons: Due to symmetry, zero initialization can cause some neurons to become \"stuck\" or \"dead\" during training. These neurons always have zero outputs and do not contribute to the learning process. Stuck neurons reduce the effective capacity of the network, limiting its representational power and potentially hindering its performance.\n",
    "\n",
    "3. Vanishing gradients: Zero initialization can lead to vanishing gradients, particularly when combined with activation functions such as sigmoid or hyperbolic tangent. Since all the weights are initially zero, the gradients computed during backpropagation are also zero, resulting in negligible weight updates. As a consequence, the network fails to learn effectively, particularly in deeper architectures.\n",
    "\n",
    "Despite these limitations, zero initialization can be appropriate to use in certain scenarios:\n",
    "\n",
    "1. Transfer learning: In transfer learning, where pre-trained weights from a different task or domain are utilized, zero initialization can be used as a starting point for fine-tuning. In this case, the pre-trained weights already contain valuable information, and zero initialization serves as a means to reset the network for the new task while preserving the learned representations.\n",
    "\n",
    "2. Specific activation functions: Certain activation functions, such as rectified linear units (ReLU) and its variants, are less susceptible to the issues associated with zero initialization. ReLU activations ignore negative inputs and therefore do not suffer from saturation when initialized to zero. In fact, zero initialization can be suitable for ReLU activations, as it allows the neurons to learn from both positive and negative inputs.\n",
    "\n",
    "3. Sparse architectures: Zero initialization can be beneficial in sparse architectures where only a subset of connections are active or non-zero. In such cases, zero initialization allows the network to start with a sparse representation, which can lead to more efficient memory usage and computational benefits.\n",
    "\n",
    "In practice, however, zero initialization is often not the preferred choice for weight initialization in most scenarios. Alternative methods such as random initialization (e.g., Gaussian or uniform distribution) or specialized techniques like Xavier initialization or He initialization are typically employed to address the limitations of zero initialization and promote better convergence and performance of neural networks."
   ]
  },
  {
   "cell_type": "markdown",
   "id": "a6487b34-4902-41ef-b2c0-94253e45b31a",
   "metadata": {},
   "source": [
    "### 5. Describe the process of random initialization. How can random initialization be adjusted to mitigate potential issues like saturation or vanishing/exploding gradients."
   ]
  },
  {
   "cell_type": "markdown",
   "id": "6b274ef7-a5ec-4caa-8163-29889e7dc698",
   "metadata": {},
   "source": [
    "Random initialization is a common technique used to initialize the weights of artificial neural networks. Instead of setting all weights to a fixed value, random initialization assigns random values to the weights from a specified distribution.\n",
    "\n",
    "The process of random initialization typically involves the following steps:\n",
    "\n",
    "1. Choose a random distribution: Common choices for weight initialization include Gaussian (normal) distribution or uniform distribution. In Gaussian initialization, the weights are sampled from a Gaussian distribution with a mean of 0 and a specified standard deviation. In uniform initialization, the weights are randomly selected from a uniform distribution within a specified range.\n",
    "\n",
    "2. Set the scale or range of the distribution: The scale or range determines the spread of the random values assigned to the weights. It is essential to adjust the scale appropriately to mitigate issues like saturation or vanishing/exploding gradients. If the scale is too small, it can lead to saturation and vanishing gradients. If the scale is too large, it can result in exploding gradients.\n",
    "\n",
    "To mitigate potential issues like saturation or vanishing/exploding gradients, the random initialization process can be adjusted in the following ways:\n",
    "\n",
    "1. Non-zero mean initialization: Instead of initializing the weights with a mean of zero, it can be beneficial to use a non-zero mean. For example, a small positive mean can be used to shift the weights away from zero, thereby avoiding issues associated with symmetry and saturation. This approach is particularly useful when using activation functions that are sensitive to inputs around zero, such as sigmoid or hyperbolic tangent.\n",
    "\n",
    "2. Xavier initialization: Xavier initialization, also known as Glorot initialization, is a popular technique that adjusts the scale of random initialization based on the number of inputs and outputs of a layer. It aims to keep the variance of activations and gradients relatively constant across layers. For a uniform distribution, the range of the distribution is determined by the formula: ±sqrt(6 / (fan_in + fan_out)), where fan_in is the number of input units and fan_out is the number of output units of the layer. For a Gaussian distribution, the standard deviation is calculated as sqrt(2 / (fan_in + fan_out)). Xavier initialization helps prevent saturation or vanishing/exploding gradients in deeper networks.\n",
    "\n",
    "3. He initialization: He initialization, also known as Kaiming initialization, is an adaptation of Xavier initialization specifically designed for activation functions like ReLU and its variants. It scales the random initialization based on the number of inputs to the layer. For a uniform distribution, the range is determined by ±sqrt(6 / fan_in), and for a Gaussian distribution, the standard deviation is sqrt(2 / fan_in). He initialization helps ensure that the ReLU activations are within the desirable range for effective learning, preventing issues like saturation and vanishing gradients.\n",
    "\n",
    "By adjusting the distribution, mean, and scale of random initialization, techniques like non-zero mean initialization, Xavier initialization, and He initialization can mitigate issues related to saturation, vanishing, or exploding gradients. These techniques help promote more stable learning, faster convergence, and improved performance of the neural network."
   ]
  },
  {
   "cell_type": "markdown",
   "id": "f6c62d23-fbd2-4e21-aad4-b6741b5b09ff",
   "metadata": {},
   "source": [
    "### 6. Discuss the concept of Xavier/Glorot initialization. Explain how it addresses the challenges of improper weight initialization and the underlying theory behind it?"
   ]
  },
  {
   "cell_type": "markdown",
   "id": "dfa4fc18-e2fa-402f-a190-f0717b6a931e",
   "metadata": {},
   "source": [
    "Xavier initialization, also known as Glorot initialization, is a weight initialization technique proposed by Xavier Glorot and Yoshua Bengio. It is designed to address the challenges associated with improper weight initialization, specifically in deep neural networks.\n",
    "\n",
    "The underlying theory behind Xavier initialization is to ensure that the variance of activations and gradients remains relatively constant across layers during forward and backward propagation, respectively. This stability helps in efficient learning and avoids issues like vanishing or exploding gradients.\n",
    "\n",
    "Xavier initialization achieves this by adjusting the scale of random initialization based on the number of input and output connections of a layer. The scale is chosen such that it balances the variances of the inputs and outputs of each layer. The initialization process can differ for different types of activation functions.\n",
    "\n",
    "For a layer with fan_in input connections and fan_out output connections, Xavier initialization scales the random weights as follows:\n",
    "\n",
    "1. Uniform distribution: The range of the distribution is determined by ±sqrt(6 / (fan_in + fan_out)). This range ensures that the initial weights have enough spread to cover the possible range of activations and gradients in both forward and backward passes.\n",
    "\n",
    "2. Gaussian distribution: The standard deviation is calculated as sqrt(2 / (fan_in + fan_out)). The Gaussian distribution with this standard deviation has the same effect as the uniform distribution with the above range.\n",
    "\n",
    "The motivation behind the Xavier initialization comes from considering the variance of a randomly initialized weight. In a layer, the output of each neuron is a linear combination of the inputs multiplied by their respective weights. Assuming the inputs and weights are uncorrelated and have zero mean and unit variance, the variance of the output is the sum of the variances of the inputs multiplied by the variances of the weights.\n",
    "\n",
    "In a deep network, if the variances of the activations and gradients increase or decrease significantly as the information propagates through the layers, it can lead to unstable learning. Large variances may cause exploding gradients, making the training unstable, while small variances result in vanishing gradients, preventing effective learning. Xavier initialization aims to keep these variances relatively constant across layers.\n",
    "\n",
    "By adjusting the scale of initialization based on the number of inputs and outputs, Xavier initialization balances the variances and provides a suitable starting point for training. It avoids the issues of saturation, vanishing gradients, and exploding gradients that can arise with improper weight initialization. This technique has been widely adopted and has shown improved performance in various deep learning architectures, contributing to more stable training and faster convergence of neural networks."
   ]
  },
  {
   "cell_type": "markdown",
   "id": "90afff33-b9d1-4d12-9056-493822aac103",
   "metadata": {},
   "source": [
    "### 7. Explain the concept of He initialization. How does it differ from Xavier initialization, and when is it preferred."
   ]
  },
  {
   "cell_type": "markdown",
   "id": "53371f19-3212-403b-a7f7-af84049d6059",
   "metadata": {},
   "source": [
    "He initialization, also known as Kaiming initialization, is a weight initialization technique proposed by Kaiming He et al. It is specifically designed for activation functions that benefit from positive inputs, such as rectified linear units (ReLU) and its variants.\n",
    "\n",
    "The main difference between He initialization and Xavier initialization lies in how they adjust the scale of random initialization based on the number of input connections of a layer.\n",
    "\n",
    "In Xavier initialization, the scale is determined by considering the sum of the number of input and output connections. This equal consideration is suitable for symmetric activation functions, such as sigmoid or tanh, which are sensitive to inputs around zero.\n",
    "\n",
    "In contrast, He initialization focuses solely on the number of input connections and aims to maintain the appropriate spread of activations for activation functions that are not symmetric, such as ReLU. Since ReLU ignores negative inputs, it is beneficial to initialize the weights in a way that ensures a positive output for a reasonable range of inputs.\n",
    "\n",
    "He initialization scales the random weights as follows:\n",
    "\n",
    "1. Uniform distribution: The range of the distribution is determined by ±sqrt(6 / fan_in). This range ensures that the initial weights have enough spread to cover the positive input range of the ReLU activation function.\n",
    "\n",
    "2. Gaussian distribution: The standard deviation is calculated as sqrt(2 / fan_in). This standard deviation in a Gaussian distribution has the same effect as the uniform distribution with the above range.\n",
    "\n",
    "He initialization addresses the limitations of Xavier initialization when dealing with activation functions like ReLU. With ReLU, zero-centered initialization methods like Xavier can lead to a significant number of \"dead\" neurons that never activate due to the thresholding behavior of ReLU. He initialization helps mitigate this issue by initializing the weights in a way that ensures a positive output for a suitable range of inputs.\n",
    "\n",
    "He initialization is preferred when using activation functions like ReLU, Leaky ReLU, or variants of ReLU. These activation functions have become popular in deep learning models due to their ability to mitigate the vanishing gradient problem and promote better information flow through the network. When employing such activation functions, He initialization has been shown to improve the convergence and performance of the network compared to other weight initialization techniques."
   ]
  },
  {
   "cell_type": "markdown",
   "id": "8e361e0b-1e80-45b7-8a07-609aa9be3d34",
   "metadata": {},
   "source": [
    "## Part 3: Applyipg Weight Initialization"
   ]
  },
  {
   "cell_type": "markdown",
   "id": "9a629502-4bcf-4b0d-9970-91ea6f0f789a",
   "metadata": {},
   "source": [
    "### 8. Implement different weight initialization techniques (zero initialization, random initialization, Xavier initialization, and He initialization) in a neural network using a framework of your choice. Train the model on a suitable dataset and compare the performance of the initialized models."
   ]
  },
  {
   "cell_type": "code",
   "execution_count": 1,
   "id": "2cff7c45-a6f0-40dd-8625-e6718528ed92",
   "metadata": {},
   "outputs": [
    {
     "name": "stdout",
     "output_type": "stream",
     "text": [
      "Collecting tensorflow\n",
      "  Downloading tensorflow-2.13.0-cp310-cp310-manylinux_2_17_x86_64.manylinux2014_x86_64.whl (524.1 MB)\n",
      "\u001b[2K     \u001b[90m━━━━━━━━━━━━━━━━━━━━━━━━━━━━━━━━━━━━━━━\u001b[0m \u001b[32m524.1/524.1 MB\u001b[0m \u001b[31m3.0 MB/s\u001b[0m eta \u001b[36m0:00:00\u001b[0m00:01\u001b[0m00:01\u001b[0m\n",
      "\u001b[?25hRequirement already satisfied: typing-extensions<4.6.0,>=3.6.6 in /opt/conda/lib/python3.10/site-packages (from tensorflow) (4.4.0)\n",
      "Collecting astunparse>=1.6.0\n",
      "  Downloading astunparse-1.6.3-py2.py3-none-any.whl (12 kB)\n",
      "Collecting termcolor>=1.1.0\n",
      "  Downloading termcolor-2.3.0-py3-none-any.whl (6.9 kB)\n",
      "Collecting tensorflow-io-gcs-filesystem>=0.23.1\n",
      "  Downloading tensorflow_io_gcs_filesystem-0.32.0-cp310-cp310-manylinux_2_12_x86_64.manylinux2010_x86_64.whl (2.4 MB)\n",
      "\u001b[2K     \u001b[90m━━━━━━━━━━━━━━━━━━━━━━━━━━━━━━━━━━━━━━━━\u001b[0m \u001b[32m2.4/2.4 MB\u001b[0m \u001b[31m64.5 MB/s\u001b[0m eta \u001b[36m0:00:00\u001b[0m00:01\u001b[0m\n",
      "\u001b[?25hCollecting gast<=0.4.0,>=0.2.1\n",
      "  Downloading gast-0.4.0-py3-none-any.whl (9.8 kB)\n",
      "Requirement already satisfied: h5py>=2.9.0 in /opt/conda/lib/python3.10/site-packages (from tensorflow) (3.7.0)\n",
      "Collecting tensorflow-estimator<2.14,>=2.13.0\n",
      "  Downloading tensorflow_estimator-2.13.0-py2.py3-none-any.whl (440 kB)\n",
      "\u001b[2K     \u001b[90m━━━━━━━━━━━━━━━━━━━━━━━━━━━━━━━━━━━━━━\u001b[0m \u001b[32m440.8/440.8 kB\u001b[0m \u001b[31m24.9 MB/s\u001b[0m eta \u001b[36m0:00:00\u001b[0m\n",
      "\u001b[?25hRequirement already satisfied: packaging in /opt/conda/lib/python3.10/site-packages (from tensorflow) (22.0)\n",
      "Collecting opt-einsum>=2.3.2\n",
      "  Downloading opt_einsum-3.3.0-py3-none-any.whl (65 kB)\n",
      "\u001b[2K     \u001b[90m━━━━━━━━━━━━━━━━━━━━━━━━━━━━━━━━━━━━━━━━\u001b[0m \u001b[32m65.5/65.5 kB\u001b[0m \u001b[31m13.7 MB/s\u001b[0m eta \u001b[36m0:00:00\u001b[0m\n",
      "\u001b[?25hCollecting absl-py>=1.0.0\n",
      "  Downloading absl_py-1.4.0-py3-none-any.whl (126 kB)\n",
      "\u001b[2K     \u001b[90m━━━━━━━━━━━━━━━━━━━━━━━━━━━━━━━━━━━━━━\u001b[0m \u001b[32m126.5/126.5 kB\u001b[0m \u001b[31m23.4 MB/s\u001b[0m eta \u001b[36m0:00:00\u001b[0m\n",
      "\u001b[?25hRequirement already satisfied: numpy<=1.24.3,>=1.22 in /opt/conda/lib/python3.10/site-packages (from tensorflow) (1.23.5)\n",
      "Collecting grpcio<2.0,>=1.24.3\n",
      "  Downloading grpcio-1.56.0-cp310-cp310-manylinux_2_17_x86_64.manylinux2014_x86_64.whl (5.2 MB)\n",
      "\u001b[2K     \u001b[90m━━━━━━━━━━━━━━━━━━━━━━━━━━━━━━━━━━━━━━━━\u001b[0m \u001b[32m5.2/5.2 MB\u001b[0m \u001b[31m77.7 MB/s\u001b[0m eta \u001b[36m0:00:00\u001b[0mta \u001b[36m0:00:01\u001b[0m\n",
      "\u001b[?25hCollecting libclang>=13.0.0\n",
      "  Downloading libclang-16.0.0-py2.py3-none-manylinux2010_x86_64.whl (22.9 MB)\n",
      "\u001b[2K     \u001b[90m━━━━━━━━━━━━━━━━━━━━━━━━━━━━━━━━━━━━━━━━\u001b[0m \u001b[32m22.9/22.9 MB\u001b[0m \u001b[31m58.4 MB/s\u001b[0m eta \u001b[36m0:00:00\u001b[0m00:01\u001b[0m00:01\u001b[0m\n",
      "\u001b[?25hCollecting flatbuffers>=23.1.21\n",
      "  Downloading flatbuffers-23.5.26-py2.py3-none-any.whl (26 kB)\n",
      "Collecting tensorboard<2.14,>=2.13\n",
      "  Downloading tensorboard-2.13.0-py3-none-any.whl (5.6 MB)\n",
      "\u001b[2K     \u001b[90m━━━━━━━━━━━━━━━━━━━━━━━━━━━━━━━━━━━━━━━━\u001b[0m \u001b[32m5.6/5.6 MB\u001b[0m \u001b[31m76.6 MB/s\u001b[0m eta \u001b[36m0:00:00\u001b[0m:00:01\u001b[0m00:01\u001b[0m\n",
      "\u001b[?25hCollecting google-pasta>=0.1.1\n",
      "  Downloading google_pasta-0.2.0-py3-none-any.whl (57 kB)\n",
      "\u001b[2K     \u001b[90m━━━━━━━━━━━━━━━━━━━━━━━━━━━━━━━━━━━━━━━━\u001b[0m \u001b[32m57.5/57.5 kB\u001b[0m \u001b[31m11.7 MB/s\u001b[0m eta \u001b[36m0:00:00\u001b[0m\n",
      "\u001b[?25hRequirement already satisfied: six>=1.12.0 in /opt/conda/lib/python3.10/site-packages (from tensorflow) (1.16.0)\n",
      "Collecting wrapt>=1.11.0\n",
      "  Downloading wrapt-1.15.0-cp310-cp310-manylinux_2_5_x86_64.manylinux1_x86_64.manylinux_2_17_x86_64.manylinux2014_x86_64.whl (78 kB)\n",
      "\u001b[2K     \u001b[90m━━━━━━━━━━━━━━━━━━━━━━━━━━━━━━━━━━━━━━━━\u001b[0m \u001b[32m78.4/78.4 kB\u001b[0m \u001b[31m16.0 MB/s\u001b[0m eta \u001b[36m0:00:00\u001b[0m\n",
      "\u001b[?25hRequirement already satisfied: protobuf!=4.21.0,!=4.21.1,!=4.21.2,!=4.21.3,!=4.21.4,!=4.21.5,<5.0.0dev,>=3.20.3 in /opt/conda/lib/python3.10/site-packages (from tensorflow) (4.21.11)\n",
      "Requirement already satisfied: setuptools in /opt/conda/lib/python3.10/site-packages (from tensorflow) (65.5.1)\n",
      "Collecting keras<2.14,>=2.13.1\n",
      "  Downloading keras-2.13.1-py3-none-any.whl (1.7 MB)\n",
      "\u001b[2K     \u001b[90m━━━━━━━━━━━━━━━━━━━━━━━━━━━━━━━━━━━━━━━━\u001b[0m \u001b[32m1.7/1.7 MB\u001b[0m \u001b[31m80.0 MB/s\u001b[0m eta \u001b[36m0:00:00\u001b[0m\n",
      "\u001b[?25hRequirement already satisfied: wheel<1.0,>=0.23.0 in /opt/conda/lib/python3.10/site-packages (from astunparse>=1.6.0->tensorflow) (0.38.4)\n",
      "Collecting google-auth<3,>=1.6.3\n",
      "  Downloading google_auth-2.21.0-py2.py3-none-any.whl (182 kB)\n",
      "\u001b[2K     \u001b[90m━━━━━━━━━━━━━━━━━━━━━━━━━━━━━━━━━━━━━━\u001b[0m \u001b[32m182.1/182.1 kB\u001b[0m \u001b[31m26.5 MB/s\u001b[0m eta \u001b[36m0:00:00\u001b[0m\n",
      "\u001b[?25hCollecting google-auth-oauthlib<1.1,>=0.5\n",
      "  Downloading google_auth_oauthlib-1.0.0-py2.py3-none-any.whl (18 kB)\n",
      "Collecting werkzeug>=1.0.1\n",
      "  Downloading Werkzeug-2.3.6-py3-none-any.whl (242 kB)\n",
      "\u001b[2K     \u001b[90m━━━━━━━━━━━━━━━━━━━━━━━━━━━━━━━━━━━━━━\u001b[0m \u001b[32m242.5/242.5 kB\u001b[0m \u001b[31m36.1 MB/s\u001b[0m eta \u001b[36m0:00:00\u001b[0m\n",
      "\u001b[?25hRequirement already satisfied: requests<3,>=2.21.0 in /opt/conda/lib/python3.10/site-packages (from tensorboard<2.14,>=2.13->tensorflow) (2.28.1)\n",
      "Collecting markdown>=2.6.8\n",
      "  Downloading Markdown-3.4.3-py3-none-any.whl (93 kB)\n",
      "\u001b[2K     \u001b[90m━━━━━━━━━━━━━━━━━━━━━━━━━━━━━━━━━━━━━━━━\u001b[0m \u001b[32m93.9/93.9 kB\u001b[0m \u001b[31m9.3 MB/s\u001b[0m eta \u001b[36m0:00:00\u001b[0m\n",
      "\u001b[?25hCollecting tensorboard-data-server<0.8.0,>=0.7.0\n",
      "  Downloading tensorboard_data_server-0.7.1-py3-none-manylinux2014_x86_64.whl (6.6 MB)\n",
      "\u001b[2K     \u001b[90m━━━━━━━━━━━━━━━━━━━━━━━━━━━━━━━━━━━━━━━━\u001b[0m \u001b[32m6.6/6.6 MB\u001b[0m \u001b[31m73.1 MB/s\u001b[0m eta \u001b[36m0:00:00\u001b[0m:00:01\u001b[0m00:01\u001b[0m\n",
      "\u001b[?25hRequirement already satisfied: urllib3<2.0 in /opt/conda/lib/python3.10/site-packages (from google-auth<3,>=1.6.3->tensorboard<2.14,>=2.13->tensorflow) (1.26.13)\n",
      "Collecting pyasn1-modules>=0.2.1\n",
      "  Downloading pyasn1_modules-0.3.0-py2.py3-none-any.whl (181 kB)\n",
      "\u001b[2K     \u001b[90m━━━━━━━━━━━━━━━━━━━━━━━━━━━━━━━━━━━━━━\u001b[0m \u001b[32m181.3/181.3 kB\u001b[0m \u001b[31m31.1 MB/s\u001b[0m eta \u001b[36m0:00:00\u001b[0m\n",
      "\u001b[?25hCollecting cachetools<6.0,>=2.0.0\n",
      "  Downloading cachetools-5.3.1-py3-none-any.whl (9.3 kB)\n",
      "Collecting rsa<5,>=3.1.4\n",
      "  Downloading rsa-4.9-py3-none-any.whl (34 kB)\n",
      "Collecting requests-oauthlib>=0.7.0\n",
      "  Downloading requests_oauthlib-1.3.1-py2.py3-none-any.whl (23 kB)\n",
      "Requirement already satisfied: certifi>=2017.4.17 in /opt/conda/lib/python3.10/site-packages (from requests<3,>=2.21.0->tensorboard<2.14,>=2.13->tensorflow) (2022.12.7)\n",
      "Requirement already satisfied: idna<4,>=2.5 in /opt/conda/lib/python3.10/site-packages (from requests<3,>=2.21.0->tensorboard<2.14,>=2.13->tensorflow) (3.4)\n",
      "Requirement already satisfied: charset-normalizer<3,>=2 in /opt/conda/lib/python3.10/site-packages (from requests<3,>=2.21.0->tensorboard<2.14,>=2.13->tensorflow) (2.1.1)\n",
      "Requirement already satisfied: MarkupSafe>=2.1.1 in /opt/conda/lib/python3.10/site-packages (from werkzeug>=1.0.1->tensorboard<2.14,>=2.13->tensorflow) (2.1.1)\n",
      "Collecting pyasn1<0.6.0,>=0.4.6\n",
      "  Downloading pyasn1-0.5.0-py2.py3-none-any.whl (83 kB)\n",
      "\u001b[2K     \u001b[90m━━━━━━━━━━━━━━━━━━━━━━━━━━━━━━━━━━━━━━━━\u001b[0m \u001b[32m83.9/83.9 kB\u001b[0m \u001b[31m16.1 MB/s\u001b[0m eta \u001b[36m0:00:00\u001b[0m\n",
      "\u001b[?25hRequirement already satisfied: oauthlib>=3.0.0 in /opt/conda/lib/python3.10/site-packages (from requests-oauthlib>=0.7.0->google-auth-oauthlib<1.1,>=0.5->tensorboard<2.14,>=2.13->tensorflow) (3.2.2)\n",
      "Installing collected packages: libclang, flatbuffers, wrapt, werkzeug, termcolor, tensorflow-io-gcs-filesystem, tensorflow-estimator, tensorboard-data-server, pyasn1, opt-einsum, markdown, keras, grpcio, google-pasta, gast, cachetools, astunparse, absl-py, rsa, requests-oauthlib, pyasn1-modules, google-auth, google-auth-oauthlib, tensorboard, tensorflow\n",
      "Successfully installed absl-py-1.4.0 astunparse-1.6.3 cachetools-5.3.1 flatbuffers-23.5.26 gast-0.4.0 google-auth-2.21.0 google-auth-oauthlib-1.0.0 google-pasta-0.2.0 grpcio-1.56.0 keras-2.13.1 libclang-16.0.0 markdown-3.4.3 opt-einsum-3.3.0 pyasn1-0.5.0 pyasn1-modules-0.3.0 requests-oauthlib-1.3.1 rsa-4.9 tensorboard-2.13.0 tensorboard-data-server-0.7.1 tensorflow-2.13.0 tensorflow-estimator-2.13.0 tensorflow-io-gcs-filesystem-0.32.0 termcolor-2.3.0 werkzeug-2.3.6 wrapt-1.15.0\n",
      "Note: you may need to restart the kernel to use updated packages.\n"
     ]
    }
   ],
   "source": [
    "pip install tensorflow"
   ]
  },
  {
   "cell_type": "code",
   "execution_count": 13,
   "id": "fdafdc1f-7432-43e8-8611-9f2b0c5620cd",
   "metadata": {},
   "outputs": [],
   "source": [
    "import numpy as np\n",
    "import tensorflow as tf\n",
    "from tensorflow import keras\n",
    "import matplotlib.pyplot as plt\n",
    "\n",
    "# Loading and preprocessing the MNIST dataset\n",
    "(x_train, y_train), (x_test, y_test) = keras.datasets.mnist.load_data()\n",
    "x_train = x_train.reshape(-1, 28*28).astype('float32') / 255.0\n",
    "x_test = x_test.reshape(-1, 28*28).astype('float32') / 255.0\n",
    "y_train = keras.utils.to_categorical(y_train)\n",
    "y_test = keras.utils.to_categorical(y_test)"
   ]
  },
  {
   "cell_type": "code",
   "execution_count": 14,
   "id": "8ad67b97-2428-4031-b0db-ebdc067c8f7d",
   "metadata": {},
   "outputs": [
    {
     "name": "stderr",
     "output_type": "stream",
     "text": [
      "/opt/conda/lib/python3.10/site-packages/keras/src/initializers/initializers.py:120: UserWarning: The initializer RandomNormal is unseeded and being called multiple times, which will return identical values each time (even if the initializer is unseeded). Please update your code to provide a seed to the initializer, or avoid using the same initializer instance more than once.\n",
      "  warnings.warn(\n",
      "/opt/conda/lib/python3.10/site-packages/keras/src/initializers/initializers.py:120: UserWarning: The initializer GlorotUniform is unseeded and being called multiple times, which will return identical values each time (even if the initializer is unseeded). Please update your code to provide a seed to the initializer, or avoid using the same initializer instance more than once.\n",
      "  warnings.warn(\n",
      "/opt/conda/lib/python3.10/site-packages/keras/src/initializers/initializers.py:120: UserWarning: The initializer HeNormal is unseeded and being called multiple times, which will return identical values each time (even if the initializer is unseeded). Please update your code to provide a seed to the initializer, or avoid using the same initializer instance more than once.\n",
      "  warnings.warn(\n"
     ]
    }
   ],
   "source": [
    "# Defining the model architecture\n",
    "def create_model(initializer):\n",
    "    model = keras.Sequential([\n",
    "        keras.layers.Dense(256, activation='relu', input_shape=(28*28,),\n",
    "                           kernel_initializer=initializer),\n",
    "        keras.layers.Dense(128, activation='relu', kernel_initializer=initializer),\n",
    "        keras.layers.Dense(64, activation='relu', kernel_initializer=initializer),\n",
    "        keras.layers.Dense(10, activation='softmax')\n",
    "    ])\n",
    "    return model\n",
    "\n",
    "# Zero Initialization\n",
    "zero_initialized_model = create_model(tf.keras.initializers.Zeros())\n",
    "\n",
    "# Random Initialization\n",
    "random_initialized_model = create_model(tf.keras.initializers.RandomNormal(mean=0.0, stddev=0.05))\n",
    "\n",
    "# Xavier Initialization\n",
    "xavier_initialized_model = create_model(tf.keras.initializers.GlorotUniform())\n",
    "\n",
    "# He Initialization\n",
    "he_initialized_model = create_model(tf.keras.initializers.HeNormal())"
   ]
  },
  {
   "cell_type": "code",
   "execution_count": 15,
   "id": "80329c84-ae9e-49ec-a784-c59169204677",
   "metadata": {},
   "outputs": [],
   "source": [
    "# Compiling models\n",
    "optimizers = ['adam', 'adam', 'adam', 'adam']\n",
    "loss = keras.losses.CategoricalCrossentropy()\n",
    "metrics = ['accuracy']\n",
    "\n",
    "models = [zero_initialized_model, random_initialized_model, xavier_initialized_model, he_initialized_model]\n",
    "\n",
    "for model, optimizer in zip(models, optimizers):\n",
    "    model.compile(optimizer=optimizer, loss=loss, metrics=metrics)"
   ]
  },
  {
   "cell_type": "code",
   "execution_count": 16,
   "id": "947860f5-382a-4f53-b3d8-3c0141ff0745",
   "metadata": {},
   "outputs": [
    {
     "name": "stdout",
     "output_type": "stream",
     "text": [
      "Epoch 1/10\n",
      "469/469 [==============================] - 3s 6ms/step - loss: 2.3017 - accuracy: 0.1109 - val_loss: 2.3011 - val_accuracy: 0.1135\n",
      "Epoch 2/10\n",
      "469/469 [==============================] - 2s 5ms/step - loss: 2.3013 - accuracy: 0.1124 - val_loss: 2.3010 - val_accuracy: 0.1135\n",
      "Epoch 3/10\n",
      "469/469 [==============================] - 2s 5ms/step - loss: 2.3013 - accuracy: 0.1124 - val_loss: 2.3011 - val_accuracy: 0.1135\n",
      "Epoch 4/10\n",
      "469/469 [==============================] - 2s 5ms/step - loss: 2.3013 - accuracy: 0.1124 - val_loss: 2.3010 - val_accuracy: 0.1135\n",
      "Epoch 5/10\n",
      "469/469 [==============================] - 2s 5ms/step - loss: 2.3013 - accuracy: 0.1124 - val_loss: 2.3010 - val_accuracy: 0.1135\n",
      "Epoch 6/10\n",
      "469/469 [==============================] - 2s 5ms/step - loss: 2.3013 - accuracy: 0.1124 - val_loss: 2.3010 - val_accuracy: 0.1135\n",
      "Epoch 7/10\n",
      "469/469 [==============================] - 2s 5ms/step - loss: 2.3013 - accuracy: 0.1124 - val_loss: 2.3011 - val_accuracy: 0.1135\n",
      "Epoch 8/10\n",
      "469/469 [==============================] - 2s 5ms/step - loss: 2.3013 - accuracy: 0.1124 - val_loss: 2.3011 - val_accuracy: 0.1135\n",
      "Epoch 9/10\n",
      "469/469 [==============================] - 2s 5ms/step - loss: 2.3013 - accuracy: 0.1124 - val_loss: 2.3010 - val_accuracy: 0.1135\n",
      "Epoch 10/10\n",
      "469/469 [==============================] - 2s 5ms/step - loss: 2.3013 - accuracy: 0.1124 - val_loss: 2.3010 - val_accuracy: 0.1135\n",
      "Epoch 1/10\n",
      "469/469 [==============================] - 3s 6ms/step - loss: 0.3165 - accuracy: 0.9092 - val_loss: 0.1320 - val_accuracy: 0.9600\n",
      "Epoch 2/10\n",
      "469/469 [==============================] - 2s 5ms/step - loss: 0.1169 - accuracy: 0.9646 - val_loss: 0.1021 - val_accuracy: 0.9678\n",
      "Epoch 3/10\n",
      "469/469 [==============================] - 2s 5ms/step - loss: 0.0760 - accuracy: 0.9770 - val_loss: 0.0803 - val_accuracy: 0.9742\n",
      "Epoch 4/10\n",
      "469/469 [==============================] - 2s 5ms/step - loss: 0.0548 - accuracy: 0.9826 - val_loss: 0.0827 - val_accuracy: 0.9735\n",
      "Epoch 5/10\n",
      "469/469 [==============================] - 3s 5ms/step - loss: 0.0427 - accuracy: 0.9868 - val_loss: 0.0782 - val_accuracy: 0.9748\n",
      "Epoch 6/10\n",
      "469/469 [==============================] - 3s 6ms/step - loss: 0.0326 - accuracy: 0.9897 - val_loss: 0.0695 - val_accuracy: 0.9790\n",
      "Epoch 7/10\n",
      "469/469 [==============================] - 2s 5ms/step - loss: 0.0265 - accuracy: 0.9912 - val_loss: 0.0731 - val_accuracy: 0.9796\n",
      "Epoch 8/10\n",
      "469/469 [==============================] - 2s 5ms/step - loss: 0.0231 - accuracy: 0.9924 - val_loss: 0.0756 - val_accuracy: 0.9792\n",
      "Epoch 9/10\n",
      "469/469 [==============================] - 2s 5ms/step - loss: 0.0183 - accuracy: 0.9939 - val_loss: 0.0906 - val_accuracy: 0.9765\n",
      "Epoch 10/10\n",
      "469/469 [==============================] - 3s 5ms/step - loss: 0.0208 - accuracy: 0.9929 - val_loss: 0.0821 - val_accuracy: 0.9792\n",
      "Epoch 1/10\n",
      "469/469 [==============================] - 3s 6ms/step - loss: 0.2782 - accuracy: 0.9186 - val_loss: 0.1405 - val_accuracy: 0.9544\n",
      "Epoch 2/10\n",
      "469/469 [==============================] - 2s 5ms/step - loss: 0.1060 - accuracy: 0.9681 - val_loss: 0.0894 - val_accuracy: 0.9725\n",
      "Epoch 3/10\n",
      "469/469 [==============================] - 3s 5ms/step - loss: 0.0661 - accuracy: 0.9795 - val_loss: 0.0760 - val_accuracy: 0.9769\n",
      "Epoch 4/10\n",
      "469/469 [==============================] - 2s 5ms/step - loss: 0.0490 - accuracy: 0.9845 - val_loss: 0.0838 - val_accuracy: 0.9764\n",
      "Epoch 5/10\n",
      "469/469 [==============================] - 2s 5ms/step - loss: 0.0374 - accuracy: 0.9879 - val_loss: 0.0830 - val_accuracy: 0.9754\n",
      "Epoch 6/10\n",
      "469/469 [==============================] - 3s 5ms/step - loss: 0.0286 - accuracy: 0.9908 - val_loss: 0.0832 - val_accuracy: 0.9753\n",
      "Epoch 7/10\n",
      "469/469 [==============================] - 3s 5ms/step - loss: 0.0263 - accuracy: 0.9914 - val_loss: 0.0789 - val_accuracy: 0.9786\n",
      "Epoch 8/10\n",
      "469/469 [==============================] - 3s 5ms/step - loss: 0.0189 - accuracy: 0.9937 - val_loss: 0.0821 - val_accuracy: 0.9791\n",
      "Epoch 9/10\n",
      "469/469 [==============================] - 3s 5ms/step - loss: 0.0158 - accuracy: 0.9948 - val_loss: 0.0732 - val_accuracy: 0.9790\n",
      "Epoch 10/10\n",
      "469/469 [==============================] - 3s 5ms/step - loss: 0.0176 - accuracy: 0.9942 - val_loss: 0.1196 - val_accuracy: 0.9725\n",
      "Epoch 1/10\n",
      "469/469 [==============================] - 3s 6ms/step - loss: 0.2669 - accuracy: 0.9216 - val_loss: 0.1392 - val_accuracy: 0.9587\n",
      "Epoch 2/10\n",
      "469/469 [==============================] - 2s 5ms/step - loss: 0.0992 - accuracy: 0.9698 - val_loss: 0.0921 - val_accuracy: 0.9715\n",
      "Epoch 3/10\n",
      "469/469 [==============================] - 2s 5ms/step - loss: 0.0670 - accuracy: 0.9793 - val_loss: 0.0821 - val_accuracy: 0.9748\n",
      "Epoch 4/10\n",
      "469/469 [==============================] - 2s 5ms/step - loss: 0.0482 - accuracy: 0.9849 - val_loss: 0.0848 - val_accuracy: 0.9743\n",
      "Epoch 5/10\n",
      "469/469 [==============================] - 2s 5ms/step - loss: 0.0368 - accuracy: 0.9880 - val_loss: 0.0740 - val_accuracy: 0.9779\n",
      "Epoch 6/10\n",
      "469/469 [==============================] - 3s 5ms/step - loss: 0.0290 - accuracy: 0.9907 - val_loss: 0.0885 - val_accuracy: 0.9740\n",
      "Epoch 7/10\n",
      "469/469 [==============================] - 2s 5ms/step - loss: 0.0234 - accuracy: 0.9922 - val_loss: 0.0805 - val_accuracy: 0.9771\n",
      "Epoch 8/10\n",
      "469/469 [==============================] - 2s 5ms/step - loss: 0.0188 - accuracy: 0.9939 - val_loss: 0.0839 - val_accuracy: 0.9784\n",
      "Epoch 9/10\n",
      "469/469 [==============================] - 2s 5ms/step - loss: 0.0173 - accuracy: 0.9944 - val_loss: 0.0880 - val_accuracy: 0.9774\n",
      "Epoch 10/10\n",
      "469/469 [==============================] - 2s 5ms/step - loss: 0.0164 - accuracy: 0.9943 - val_loss: 0.0849 - val_accuracy: 0.9786\n"
     ]
    }
   ],
   "source": [
    "# Train models\n",
    "batch_size = 128\n",
    "epochs = 10\n",
    "\n",
    "history = []\n",
    "\n",
    "for model in models:\n",
    "    hist = model.fit(x_train, y_train, batch_size=batch_size, epochs=epochs, verbose=1, validation_data=(x_test, y_test))\n",
    "    history.append(hist)"
   ]
  },
  {
   "cell_type": "code",
   "execution_count": 19,
   "id": "81c6c0cd-7eab-4b47-b004-6f2d7f3d73ff",
   "metadata": {},
   "outputs": [
    {
     "data": {
      "image/png": "[encoded data removed]",
      "text/plain": [
       "<Figure size 1000x600 with 1 Axes>"
      ]
     },
     "metadata": {},
     "output_type": "display_data"
    }
   ],
   "source": [
    "# Plot loss curves\n",
    "plt.figure(figsize=(10, 6))\n",
    "\n",
    "for i, hist in enumerate(history):\n",
    "    plt.plot(hist.history['loss'], label=f'Training Loss (Model {i+1})')\n",
    "    plt.plot(hist.history['val_loss'], label=f'Validation Loss (Model {i+1})')\n",
    "\n",
    "plt.title('Training and Validation Loss Comparison')\n",
    "plt.xlabel('Epoch')\n",
    "plt.ylabel('Loss')\n",
    "plt.legend()\n",
    "plt.grid(True)\n",
    "plt.show()"
   ]
  },
  {
   "cell_type": "markdown",
   "id": "931b0626-6742-497a-b765-b27c3dc3999a",
   "metadata": {},
   "source": [
    "### 9. Discuss the considerations and tradeoffs when choosing the appropriate weight initialization technique for a given neural network architecture and task."
   ]
  },
  {
   "cell_type": "markdown",
   "id": "898d19a6-db70-4b9f-972e-7cf020cd5c42",
   "metadata": {},
   "source": [
    "Choosing the appropriate weight initialization technique for a neural network architecture and task involves several considerations and tradeoffs. Here are some key factors to keep in mind:\n",
    "\n",
    "1. Activation functions: Different activation functions have different sensitivities and behaviors. Some, like sigmoid and hyperbolic tangent, are more sensitive to inputs around zero, while others, like ReLU, are not. It is essential to choose a weight initialization technique that is compatible with the activation functions used in the network. For example, Xavier initialization is suitable for symmetric activation functions, while He initialization is more suitable for ReLU-like activation functions.\n",
    "\n",
    "2. Network depth: The depth of the neural network can impact the choice of weight initialization technique. In deeper networks, the problem of vanishing or exploding gradients is more pronounced. Techniques like Xavier and He initialization are specifically designed to address these issues in deep networks. It is crucial to consider the depth of the network and select an initialization technique that promotes stable gradients throughout the layers.\n",
    "\n",
    "3. Symmetry breaking: Symmetry in weight initialization can lead to symmetric neurons that perform the same computations, limiting the network's learning capacity. Techniques like Xavier and He initialization introduce randomness to break this symmetry and encourage the network to learn diverse representations. If symmetry breaking is a concern, it is important to choose an initialization technique that explicitly addresses this issue.\n",
    "\n",
    "4. Task-specific considerations: The nature of the task at hand can influence the choice of weight initialization technique. For example, if the task involves transfer learning, where pre-trained weights are used, it might be appropriate to initialize the network with those weights and fine-tune from there. Additionally, the choice of weight initialization can also depend on the specific characteristics of the dataset, such as class imbalance, feature distribution, or input scale. Understanding the nuances of the task and dataset can guide the selection of an appropriate initialization technique.\n",
    "\n",
    "5. Experimentation and validation: It is essential to experiment and validate the performance of different weight initialization techniques on the specific architecture and task. The effectiveness of an initialization technique can vary depending on the network architecture, dataset, and optimization algorithm used. Therefore, it is crucial to compare and evaluate the models initialized with different techniques to determine the most suitable option.\n",
    "\n",
    "6. Overfitting and regularization: Weight initialization can affect the model's susceptibility to overfitting. Improper initialization can lead to models that are either too sensitive or too resistant to training data. Regularization techniques, such as dropout or weight decay, can also interact with weight initialization. It is important to consider how weight initialization interacts with regularization to achieve the desired balance between model complexity and generalization."
   ]
  }
 ],
 "metadata": {
  "kernelspec": {
   "display_name": "Python 3 (ipykernel)",
   "language": "python",
   "name": "python3"
  },
  "language_info": {
   "codemirror_mode": {
    "name": "ipython",
    "version": 3
   },
   "file_extension": ".py",
   "mimetype": "text/x-python",
   "name": "python",
   "nbconvert_exporter": "python",
   "pygments_lexer": "ipython3",
   "version": "3.10.8"
  }
 },
 "nbformat": 4,
 "nbformat_minor": 5
}
