{
 "cells": [
  {
   "cell_type": "markdown",
   "id": "e376968f-63a3-4bdf-adc9-c11322829465",
   "metadata": {},
   "source": [
    "### 1. Create a function which will take a list as an an argument and return the product of all the numbers after creating a flat list. Use the given list as an argument for your function.\n",
    "list1=[1,2,3,4,[44,55,66,True],False,(34,56,78,89,34),{1,2,3,3,2,1},{1:34,\"key2\":[55,67,78,89],4:(45,22,61,34)},[56:'data science'],'Machine Learning']\n",
    "Note:You must extract numeric keys and values of the dictionary also."
   ]
  },
  {
   "cell_type": "code",
   "execution_count": 10,
   "id": "c880a825-5610-4104-a847-d43d740e9c74",
   "metadata": {},
   "outputs": [
    {
     "name": "stdout",
     "output_type": "stream",
     "text": [
      "0\n"
     ]
    }
   ],
   "source": [
    "def get_product(lst):\n",
    "    flat_list = []\n",
    "    for item in lst:\n",
    "        if isinstance(item, (int, float)):\n",
    "            flat_list.append(item)\n",
    "        elif isinstance(item, (tuple, list)):\n",
    "            flat_list.extend(get_product(item))\n",
    "        elif isinstance(item, dict):\n",
    "            flat_list.extend(get_product(item.keys()))\n",
    "            flat_list.extend(get_product(item.values()))\n",
    "    return flat_list\n",
    "    print(flat_list)\n",
    "\n",
    "def calculate_product(lst):\n",
    "    flat_list = get_product(lst)\n",
    "    product = 1\n",
    "    for item in flat_list:\n",
    "        if isinstance(item, (int, float)):\n",
    "            product *= item\n",
    "    return product\n",
    "\n",
    "list1=[1,2,3,4,[44,55,66,True],False,(34,56,78,89,34),{1,2,3,3,2,1},{1:34,\"key2\":[55,67,78,89],4:(45,22,61,34)},[56,'data science'],'Machine Learning']\n",
    "print(calculate_product(list1))"
   ]
  },
  {
   "cell_type": "markdown",
   "id": "e5edfd8a-3605-44e7-8b18-56eb8543e0bf",
   "metadata": {},
   "source": [
    "### 2.Write a python program to encrypt a message sent to you by your friend. The logic of encryption should be such that, for a the output should be z, for b the output should be y, for c the output should be x respectively and so on. Also thewhitespace should be replaced with a dollar sign. Keep the punctuation marks unchanged. \n",
    "Input sentence: I want to become a Data Scientist.\n",
    "Encrypt the above input sentence using the program that you just created.\n",
    "Note: Convert the given input sentence into lowercase before encrypting. The final output should be lowercase."
   ]
  },
  {
   "cell_type": "code",
   "execution_count": 11,
   "id": "d0279386-0766-4815-9710-72162ebc39b2",
   "metadata": {},
   "outputs": [
    {
     "name": "stdout",
     "output_type": "stream",
     "text": [
      "Encrypted Message:  r$dzmg$gl$yvxlnv$z$wzgz$hxrvmgrhg.\n"
     ]
    }
   ],
   "source": [
    "def encrypt_message(message):\n",
    "  message = message.lower()\n",
    "  result = \"\"\n",
    "  for char in message:\n",
    "    if char == \" \":\n",
    "      result += \"$\"\n",
    "    elif char.isalpha():\n",
    "      result += chr(ord(\"z\") - ord(char) + ord(\"a\"))\n",
    "    else:\n",
    "      result += char\n",
    "  return result\n",
    "\n",
    "input_message = \"I want to become a Data Scientist.\"\n",
    "encrypted_message = encrypt_message(input_message)\n",
    "print(\"Encrypted Message: \", encrypted_message)"
   ]
  },
  {
   "cell_type": "code",
   "execution_count": null,
   "id": "6a95cebe-a054-412c-b58b-95a17d377d32",
   "metadata": {},
   "outputs": [],
   "source": []
  }
 ],
 "metadata": {
  "kernelspec": {
   "display_name": "Python 3 (ipykernel)",
   "language": "python",
   "name": "python3"
  },
  "language_info": {
   "codemirror_mode": {
    "name": "ipython",
    "version": 3
   },
   "file_extension": ".py",
   "mimetype": "text/x-python",
   "name": "python",
   "nbconvert_exporter": "python",
   "pygments_lexer": "ipython3",
   "version": "3.10.8"
  }
 },
 "nbformat": 4,
 "nbformat_minor": 5
}
