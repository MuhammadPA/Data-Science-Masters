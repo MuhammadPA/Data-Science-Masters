{
  "cells": [
    {
      "cell_type": "markdown",
      "metadata": {
        "id": "xWTcEbO1DPlx"
      },
      "source": [
        "# Importing necessary libraries"
      ]
    },
    {
      "cell_type": "code",
      "execution_count": null,
      "metadata": {
        "id": "gzYA9SP7DPl4"
      },
      "outputs": [],
      "source": [
        "import nltk\n",
        "from nltk.tokenize import word_tokenize, sent_tokenize"
      ]
    },
    {
      "cell_type": "markdown",
      "metadata": {
        "id": "l3vi-AvqDPmI"
      },
      "source": [
        "# Sample Text"
      ]
    },
    {
      "cell_type": "code",
      "execution_count": null,
      "metadata": {
        "id": "h6pmNEAoDPmR"
      },
      "outputs": [],
      "source": [
        "text = \"This is a sample sentence. And here is another one.\""
      ]
    },
    {
      "cell_type": "markdown",
      "metadata": {
        "id": "4pDuNrlnDPmT"
      },
      "source": [
        "# Tokenize into words"
      ]
    },
    {
      "cell_type": "code",
      "execution_count": null,
      "metadata": {
        "id": "_lSMpF95DPmV",
        "outputId": "25f9405b-de41-46b3-a9b2-59cf92716857"
      },
      "outputs": [
        {
          "name": "stdout",
          "output_type": "stream",
          "text": [
            "Tokenize into words\n",
            "Tokenized words: ['This', 'is', 'a', 'sample', 'sentence', '.', 'And', 'here', 'is', 'another', 'one', '.']\n",
            "\n"
          ]
        }
      ],
      "source": [
        "print(\"Tokenize into words\")\n",
        "words = word_tokenize(text)\n",
        "print(\"Tokenized words:\", words)\n",
        "print()"
      ]
    },
    {
      "cell_type": "markdown",
      "metadata": {
        "id": "r_GuBVB9DPmY"
      },
      "source": [
        "# Tokenize into sentences"
      ]
    },
    {
      "cell_type": "code",
      "execution_count": null,
      "metadata": {
        "id": "Svpp7jvlDPma",
        "outputId": "a35dcd0a-0489-4828-a4e6-f84e67f2167a"
      },
      "outputs": [
        {
          "name": "stdout",
          "output_type": "stream",
          "text": [
            "Tokenize into sentences\n",
            "Tokenized sentences: ['This is a sample sentence.', 'And here is another one.']\n"
          ]
        }
      ],
      "source": [
        "print(\"Tokenize into sentences\")\n",
        "sentences = sent_tokenize(text)\n",
        "print(\"Tokenized sentences:\", sentences)"
      ]
    },
    {
      "cell_type": "code",
      "execution_count": null,
      "metadata": {
        "id": "O-ljAuEhDPmb"
      },
      "outputs": [],
      "source": []
    }
  ],
  "metadata": {
    "kernelspec": {
      "display_name": "Python 3",
      "language": "python",
      "name": "python3"
    },
    "language_info": {
      "codemirror_mode": {
        "name": "ipython",
        "version": 3
      },
      "file_extension": ".py",
      "mimetype": "text/x-python",
      "name": "python",
      "nbconvert_exporter": "python",
      "pygments_lexer": "ipython3",
      "version": "3.8.5"
    },
    "colab": {
      "provenance": []
    }
  },
  "nbformat": 4,
  "nbformat_minor": 0
}