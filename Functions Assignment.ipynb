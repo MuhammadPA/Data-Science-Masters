{
 "cells": [
  {
   "cell_type": "markdown",
   "id": "cb017ee2-b33e-4b84-8ce0-6bf414c60df4",
   "metadata": {},
   "source": [
    "### 1.Which keyword is used to create a fuction? Create a fuction to return a list of odd numbers in the range 1 to 25."
   ]
  },
  {
   "cell_type": "code",
   "execution_count": 2,
   "id": "7eb980a2-4b97-4846-b64b-3cfd91e0ab02",
   "metadata": {},
   "outputs": [
    {
     "name": "stdout",
     "output_type": "stream",
     "text": [
      "[1, 3, 5, 7, 9, 11, 13, 15, 17, 19, 21, 23, 25]\n"
     ]
    }
   ],
   "source": [
    "#The keyword \"def\" is used to create a function in Python. \n",
    "def odd_numbers():\n",
    "    odds = []\n",
    "    for i in range(1, 26):\n",
    "        if i % 2 != 0:\n",
    "            odds.append(i)\n",
    "    return odds\n",
    "print(odd_numbers())"
   ]
  },
  {
   "cell_type": "markdown",
   "id": "c87f5f95-ff10-487a-b568-ccc18dec43c2",
   "metadata": {},
   "source": [
    "### 2.Why *args and **kwargs used in some functions? Create a function for *args and **kwargs to demonstrate their use"
   ]
  },
  {
   "cell_type": "code",
   "execution_count": 3,
   "id": "d434f146-9e68-441d-b33f-feaffb667ddc",
   "metadata": {},
   "outputs": [
    {
     "name": "stdout",
     "output_type": "stream",
     "text": [
      "Positional arguments (*args):  ('Hello', 'World')\n",
      "Keyword arguments (**kwargs):  {'first_name': 'John', 'last_name': 'Doe'}\n"
     ]
    }
   ],
   "source": [
    "'''The syntax *args and **kwargs in a function definition is used to pass a variable number \n",
    "of arguments to a function.\n",
    "\n",
    "*args is used to send a non-keyworded variable length argument list to the function. \n",
    "Essentially, it allows you to pass an arbitrary number of arguments to the function, \n",
    "and those arguments will be stored in a tuple.\n",
    "\n",
    "**kwargs allows you to pass keyworded variable length of arguments to a function. \n",
    "It stores the arguments as a dictionary.'''\n",
    "\n",
    "def print_args(*args, **kwargs):\n",
    "    print(\"Positional arguments (*args): \", args)\n",
    "    print(\"Keyword arguments (**kwargs): \", kwargs)\n",
    "\n",
    "# call the function with a mix of positional and keyword arguments\n",
    "print_args(\"Hello\", \"World\", first_name=\"John\", last_name=\"Doe\")"
   ]
  },
  {
   "cell_type": "markdown",
   "id": "0f3c2d42-8d07-4f9a-a444-b0fa4da68f57",
   "metadata": {},
   "source": [
    "### 3.What is an iterator in python? Name the method used to initialise the iterator object and the method used for iteration. Use these these methods to print the first five elements of the given list [2,4,6,8,10,12,14,16,18,20]"
   ]
  },
  {
   "cell_type": "code",
   "execution_count": 4,
   "id": "da155d5d-c500-4141-a9b1-31f4c1c584d2",
   "metadata": {},
   "outputs": [
    {
     "name": "stdout",
     "output_type": "stream",
     "text": [
      "2\n",
      "4\n",
      "6\n",
      "8\n",
      "10\n"
     ]
    }
   ],
   "source": [
    "'''An iterator in Python is an object that implements the iterator protocol,\n",
    "which consists of two methods: __iter__ and __next__. An object is called iterable \n",
    "if it has an __iter__ method that returns an iterator, and the iterator has a __next__ method\n",
    "that returns the next element of the sequence or raises a StopIteration exception when\n",
    "there are no more elements.\n",
    "\n",
    "The iter() function is used to initialize the iterator object, and the next() function \n",
    "is used for iteration. Here's how you can use these methods to print the first five elements of the \n",
    "list [2, 4, 6, 8, 10, 12, 14, 16, 18, 20]:\n",
    "'''\n",
    "numbers = [2, 4, 6, 8, 10, 12, 14, 16, 18, 20]\n",
    "\n",
    "# initialize the iterator object\n",
    "numbers_iterator = iter(numbers)\n",
    "\n",
    "# iterate over the first five elements\n",
    "for i in range(5):\n",
    "    print(next(numbers_iterator))"
   ]
  },
  {
   "cell_type": "markdown",
   "id": "60d8b5c5-876d-4cd5-9636-00561fc3e2ec",
   "metadata": {},
   "source": [
    "### 4.What is generator function in python? Why yield keyword is used? Give an example of a generator function."
   ]
  },
  {
   "cell_type": "code",
   "execution_count": 5,
   "id": "87b3c0ad-6114-4602-8e0b-71e6240a71b6",
   "metadata": {},
   "outputs": [
    {
     "name": "stdout",
     "output_type": "stream",
     "text": [
      "0\n",
      "1\n",
      "1\n",
      "2\n",
      "3\n",
      "5\n",
      "8\n",
      "13\n",
      "21\n",
      "34\n"
     ]
    }
   ],
   "source": [
    "'''A generator function in Python is a function that contains a yield statement instead of a \n",
    "return statement. It is used to create a generator object that can be used to iterate over a sequence of \n",
    "values. The yield keyword is used to produce a value and \"pause\" the function execution, maintaining \n",
    "the state of the function between calls.\n",
    "\n",
    "A generator function is called just like a normal function, but instead of returning a value, \n",
    "it returns a generator object. When the generator function is called, the code inside it is executed \n",
    "until it reaches the yield keyword. The value following the yield keyword is returned, \n",
    "and the function execution is paused. The next time the generator function is called, \n",
    "execution resumes where it left off and continues until it reaches the next yield keyword, and so on.\n",
    "\n",
    "Here's an example of a generator function that generates the sequence of Fibonacci numbers:'''\n",
    "def fibonacci_generator():\n",
    "    a, b = 0, 1\n",
    "    while True:\n",
    "        yield a\n",
    "        a, b = b, a + b\n",
    "\n",
    "fib = fibonacci_generator()\n",
    "for i in range(10):\n",
    "    print(next(fib))"
   ]
  },
  {
   "cell_type": "markdown",
   "id": "5ab3b8e0-e1e9-4900-8c76-d1e95aaa73d7",
   "metadata": {},
   "source": [
    "### 5.Create a generator function for prime numbers less than 1000. Use the next(0 method to print the first 20 prime numbers"
   ]
  },
  {
   "cell_type": "code",
   "execution_count": null,
   "id": "99ca1ad6-5711-4ff2-a2bc-b286c5c55f3b",
   "metadata": {},
   "outputs": [],
   "source": []
  }
 ],
 "metadata": {
  "kernelspec": {
   "display_name": "Python 3 (ipykernel)",
   "language": "python",
   "name": "python3"
  },
  "language_info": {
   "codemirror_mode": {
    "name": "ipython",
    "version": 3
   },
   "file_extension": ".py",
   "mimetype": "text/x-python",
   "name": "python",
   "nbconvert_exporter": "python",
   "pygments_lexer": "ipython3",
   "version": "3.10.8"
  }
 },
 "nbformat": 4,
 "nbformat_minor": 5
}
