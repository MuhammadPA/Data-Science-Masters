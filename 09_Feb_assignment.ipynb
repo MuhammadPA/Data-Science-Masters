{
 "cells": [
  {
   "cell_type": "markdown",
   "id": "4187dd12-d0d5-470c-9754-188d45b46277",
   "metadata": {},
   "source": [
    "### 1. Create a vehicle class with an init method having instance variables as name_of_vehicle, max_speed and average_of_vehicle."
   ]
  },
  {
   "cell_type": "code",
   "execution_count": null,
   "id": "e3e74520-c6fd-49ce-9935-8e9f19c3432a",
   "metadata": {},
   "outputs": [],
   "source": [
    "class Vehicle:\n",
    "    def __init__(self, name_of_vehicle, max_speed, average_of_vehicle):\n",
    "        self.name_of_vehicle = name_of_vehicle\n",
    "        self.max_speed = max_speed\n",
    "        self.average_of_vehicle = average_of_vehicle"
   ]
  },
  {
   "cell_type": "markdown",
   "id": "a6ed93f0-73bd-4084-8d9b-893fb29e7859",
   "metadata": {},
   "source": [
    "### 2. Create a child class car from the vehicle class created in Que 1, which will inherit the vehicle class. Create a method named seating_capacity which takes capacity as an argument and returns the name of the vehicle and its seating capacity."
   ]
  },
  {
   "cell_type": "code",
   "execution_count": 10,
   "id": "1efb6d4a-bd67-4a4b-a9ff-25a1c4f51656",
   "metadata": {},
   "outputs": [
    {
     "name": "stdout",
     "output_type": "stream",
     "text": [
      "Sedan has a seating capacity of 5.\n"
     ]
    }
   ],
   "source": [
    "class Car(Vehicle):\n",
    "    def seating_capacity(self, capacity):\n",
    "        return f\"{self.name_of_vehicle} has a seating capacity of {capacity}.\"\n",
    "my_car = Car(\"Sedan\", 180, 15)\n",
    "print(my_car.seating_capacity(5))"
   ]
  },
  {
   "cell_type": "markdown",
   "id": "d4039edc-9d11-4f3f-872f-531de0172781",
   "metadata": {},
   "source": [
    "### 3. What is multiple inheritance? Write a python code to demonstrate multiple inheritance."
   ]
  },
  {
   "cell_type": "code",
   "execution_count": 13,
   "id": "8acaae5c-430f-45e1-a28e-41da13be7789",
   "metadata": {},
   "outputs": [
    {
     "name": "stdout",
     "output_type": "stream",
     "text": [
      "this is my class 1\n",
      "this is my class 2\n"
     ]
    }
   ],
   "source": [
    "''' Multiple inheritance is a feature in object-oriented programming languages that allows a class \n",
    "to inherit characteristics and behaviors from more than one parent class. With multiple inheritance, \n",
    "a class can inherit attributes, methods, and behaviors from multiple parent classes.'''\n",
    "\n",
    "class class1:\n",
    "    def test_class1(self) : \n",
    "        print(\"this is my class 1\" )\n",
    "class class2 :\n",
    "    def test_class2(self) : \n",
    "        print(\"this is my class 2\")\n",
    "class class3 (class1 , class2) : \n",
    "    pass\n",
    "obj_class3 = class3()\n",
    "obj_class3.test_class1()\n",
    "obj_class3.test_class2()"
   ]
  },
  {
   "cell_type": "markdown",
   "id": "b9a52a33-4109-4ece-a641-3e6a86eb6332",
   "metadata": {},
   "source": [
    "### 4.What are getter and setter in python? Create a class and create a getter and a setter method in this class."
   ]
  },
  {
   "cell_type": "code",
   "execution_count": 14,
   "id": "d6c14af2-6466-4c04-af2a-9cb665a5f82b",
   "metadata": {},
   "outputs": [
    {
     "name": "stdout",
     "output_type": "stream",
     "text": [
      "5\n",
      "10\n",
      "Radius cannot be negative\n"
     ]
    }
   ],
   "source": [
    "''' In Python, getter and setter methods are used to access and set the values of an \n",
    "object's attributes. A getter method is used to access the value of an attribute, while a setter \n",
    "method is used to set the value of an attribute.'''\n",
    "\n",
    "class Circle:\n",
    "    def __init__(self, radius):\n",
    "        self._radius = radius\n",
    "\n",
    "    def get_radius(self):\n",
    "        return self._radius\n",
    "\n",
    "    def set_radius(self, value):\n",
    "        if value >= 0:\n",
    "            self._radius = value\n",
    "        else:\n",
    "            raise ValueError(\"Radius cannot be negative\")\n",
    "\n",
    "    radius = property(get_radius, set_radius)\n",
    "c = Circle(5)\n",
    "print(c.radius) \n",
    "\n",
    "c.radius = 10\n",
    "print(c.radius) \n",
    "\n",
    "try:\n",
    "    c.radius = -5\n",
    "except ValueError as e:\n",
    "    print(e)"
   ]
  },
  {
   "cell_type": "markdown",
   "id": "ba2b2bb3-6b04-4fcc-85a4-641388585221",
   "metadata": {},
   "source": [
    "### 5. What is method overriding in python? Write a python code to demonstrate method overriding."
   ]
  },
  {
   "cell_type": "code",
   "execution_count": 15,
   "id": "6599b475-fdc9-459f-bccc-225e500e7240",
   "metadata": {},
   "outputs": [
    {
     "name": "stdout",
     "output_type": "stream",
     "text": [
      "Woof woof\n",
      "Meow\n"
     ]
    }
   ],
   "source": [
    "''' Method overriding is a feature in object-oriented programming that allows a subclass to provide a \n",
    "different implementation for a method that it inherits from its parent class. The new implementation \n",
    "\"overrides\" the original method from the parent class.'''\n",
    "\n",
    "class Animal:\n",
    "    def make_sound(self):\n",
    "        return \"Some generic animal sound\"\n",
    "\n",
    "class Dog(Animal):\n",
    "    def make_sound(self):\n",
    "        return \"Woof woof\"\n",
    "\n",
    "class Cat(Animal):\n",
    "    def make_sound(self):\n",
    "        return \"Meow\"\n",
    "\n",
    "dog = Dog()\n",
    "cat = Cat()\n",
    "\n",
    "print(dog.make_sound())\n",
    "print(cat.make_sound())"
   ]
  }
 ],
 "metadata": {
  "kernelspec": {
   "display_name": "Python 3 (ipykernel)",
   "language": "python",
   "name": "python3"
  },
  "language_info": {
   "codemirror_mode": {
    "name": "ipython",
    "version": 3
   },
   "file_extension": ".py",
   "mimetype": "text/x-python",
   "name": "python",
   "nbconvert_exporter": "python",
   "pygments_lexer": "ipython3",
   "version": "3.10.8"
  }
 },
 "nbformat": 4,
 "nbformat_minor": 5
}
