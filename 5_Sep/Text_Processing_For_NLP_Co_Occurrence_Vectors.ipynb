{
  "cells": [
    {
      "cell_type": "markdown",
      "metadata": {
        "id": "Rj05g-LbYC4c"
      },
      "source": [
        "# Importing neccessary libraries"
      ]
    },
    {
      "cell_type": "code",
      "execution_count": null,
      "metadata": {
        "id": "QiQcX7XIYC4q"
      },
      "outputs": [],
      "source": [
        "import numpy as np\n",
        "from collections import defaultdict\n",
        "from nltk.tokenize import word_tokenize, sent_tokenize"
      ]
    },
    {
      "cell_type": "markdown",
      "metadata": {
        "id": "clsiec1RYC4x"
      },
      "source": [
        "# Sample text"
      ]
    },
    {
      "cell_type": "code",
      "execution_count": null,
      "metadata": {
        "id": "hYFoRT2OYC4z"
      },
      "outputs": [],
      "source": [
        "text = \"Co-occurrence vectors capture word relationships in a text corpus. They are used for various NLP tasks.\""
      ]
    },
    {
      "cell_type": "markdown",
      "metadata": {
        "id": "OdxJlfXCYC41"
      },
      "source": [
        "# Tokenize into words and sentences"
      ]
    },
    {
      "cell_type": "code",
      "execution_count": null,
      "metadata": {
        "id": "a6D0lyYCYC43",
        "outputId": "953f1fba-43e4-44e8-f3b4-2cbc5c8a5327"
      },
      "outputs": [
        {
          "name": "stdout",
          "output_type": "stream",
          "text": [
            "Tokenize into sentences and words\n",
            "Tokenized sentences: [['co-occurrence', 'vectors', 'capture', 'word', 'relationships', 'in', 'a', 'text', 'corpus', '.'], ['they', 'are', 'used', 'for', 'various', 'nlp', 'tasks', '.']]\n",
            "\n"
          ]
        }
      ],
      "source": [
        "print(\"Tokenize into sentences and words\")\n",
        "sentences = sent_tokenize(text)\n",
        "tokenized_sentences = [word_tokenize(sentence.lower()) for sentence in sentences]\n",
        "print(\"Tokenized sentences:\", tokenized_sentences)\n",
        "print()"
      ]
    },
    {
      "cell_type": "markdown",
      "metadata": {
        "id": "fT_wibrIYC49"
      },
      "source": [
        "# Build co-occurence matrix"
      ]
    },
    {
      "cell_type": "code",
      "execution_count": null,
      "metadata": {
        "id": "nIvNz7grYC4_",
        "outputId": "ed7a6efb-6c99-4285-b721-f97c53c0398a"
      },
      "outputs": [
        {
          "name": "stdout",
          "output_type": "stream",
          "text": [
            "Build co-occurrence matrix\n"
          ]
        }
      ],
      "source": [
        "print(\"Build co-occurrence matrix\")\n",
        "window_size = 2\n",
        "co_occurrence_matrix = defaultdict(lambda: defaultdict(int))\n",
        "\n",
        "for sentence in tokenized_sentences:\n",
        "    for i, target_word in enumerate(sentence):\n",
        "        for j in range(max(0, i - window_size), min(len(sentence), i + window_size + 1)):\n",
        "            if i != j:\n",
        "                context_word = sentence[j]\n",
        "                co_occurrence_matrix[target_word][context_word] += 1"
      ]
    },
    {
      "cell_type": "markdown",
      "metadata": {
        "id": "69sJqqYWYC5B"
      },
      "source": [
        "# Print co-occurence matrix"
      ]
    },
    {
      "cell_type": "code",
      "execution_count": null,
      "metadata": {
        "id": "WW9aETZ4YC5C",
        "outputId": "c8aea693-663e-41e1-a5bf-efd51dc55562"
      },
      "outputs": [
        {
          "name": "stdout",
          "output_type": "stream",
          "text": [
            "Co-occurrence matrix:\n",
            "co-occurrence defaultdict(<class 'int'>, {'vectors': 1, 'capture': 1})\n",
            "vectors defaultdict(<class 'int'>, {'co-occurrence': 1, 'capture': 1, 'word': 1})\n",
            "capture defaultdict(<class 'int'>, {'co-occurrence': 1, 'vectors': 1, 'word': 1, 'relationships': 1})\n",
            "word defaultdict(<class 'int'>, {'vectors': 1, 'capture': 1, 'relationships': 1, 'in': 1})\n",
            "relationships defaultdict(<class 'int'>, {'capture': 1, 'word': 1, 'in': 1, 'a': 1})\n",
            "in defaultdict(<class 'int'>, {'word': 1, 'relationships': 1, 'a': 1, 'text': 1})\n",
            "a defaultdict(<class 'int'>, {'relationships': 1, 'in': 1, 'text': 1, 'corpus': 1})\n",
            "text defaultdict(<class 'int'>, {'in': 1, 'a': 1, 'corpus': 1, '.': 1})\n",
            "corpus defaultdict(<class 'int'>, {'a': 1, 'text': 1, '.': 1})\n",
            ". defaultdict(<class 'int'>, {'text': 1, 'corpus': 1, 'nlp': 1, 'tasks': 1})\n",
            "they defaultdict(<class 'int'>, {'are': 1, 'used': 1})\n",
            "are defaultdict(<class 'int'>, {'they': 1, 'used': 1, 'for': 1})\n",
            "used defaultdict(<class 'int'>, {'they': 1, 'are': 1, 'for': 1, 'various': 1})\n",
            "for defaultdict(<class 'int'>, {'are': 1, 'used': 1, 'various': 1, 'nlp': 1})\n",
            "various defaultdict(<class 'int'>, {'used': 1, 'for': 1, 'nlp': 1, 'tasks': 1})\n",
            "nlp defaultdict(<class 'int'>, {'for': 1, 'various': 1, 'tasks': 1, '.': 1})\n",
            "tasks defaultdict(<class 'int'>, {'various': 1, 'nlp': 1, '.': 1})\n",
            "\n"
          ]
        }
      ],
      "source": [
        "print(\"Co-occurrence matrix:\")\n",
        "for target_word, context_words in co_occurrence_matrix.items():\n",
        "    print(target_word, context_words)\n",
        "print()"
      ]
    },
    {
      "cell_type": "code",
      "execution_count": null,
      "metadata": {
        "id": "J6r4S3IZYC5F"
      },
      "outputs": [],
      "source": []
    }
  ],
  "metadata": {
    "kernelspec": {
      "display_name": "Python 3",
      "language": "python",
      "name": "python3"
    },
    "language_info": {
      "codemirror_mode": {
        "name": "ipython",
        "version": 3
      },
      "file_extension": ".py",
      "mimetype": "text/x-python",
      "name": "python",
      "nbconvert_exporter": "python",
      "pygments_lexer": "ipython3",
      "version": "3.8.5"
    },
    "colab": {
      "provenance": []
    }
  },
  "nbformat": 4,
  "nbformat_minor": 0
}