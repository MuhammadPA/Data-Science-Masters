{
 "cells": [
  {
   "cell_type": "markdown",
   "id": "7b2ad2d8-3a47-48fb-a743-04fefe266bd7",
   "metadata": {},
   "source": [
    "### 1.What is the difference between Ordinal Encoding and Label Encoding? Provide an example of when you might choose one over the other."
   ]
  },
  {
   "cell_type": "markdown",
   "id": "04fb99bd-897f-433a-b75c-87e9c08f0c80",
   "metadata": {},
   "source": [
    "Ordinal encoding and label encoding are both techniques used to encode categorical variables as numerical variables. However, there is a subtle difference between the two.\n",
    "\n",
    "Ordinal encoding is a technique used to encode categorical variables that have a natural ordering. For example, suppose we have a variable \"education level\" with categories \"high school\", \"some college\", \"bachelor's degree\", \"master's degree\", and \"doctorate\". In this case, we can assign a numerical value to each category based on their relative order. For example, we can encode \"high school\" as 1, \"some college\" as 2, \"bachelor's degree\" as 3, \"master's degree\" as 4, and \"doctorate\" as 5.\n",
    "\n",
    "Label encoding, on the other hand, is a technique used to encode categorical variables that do not have a natural ordering. In this case, we simply assign a numerical value to each category. For example, suppose we have a variable \"city\" with categories \"New York\", \"Chicago\", and \"Los Angeles\". In this case, we can encode \"New York\" as 1, \"Chicago\" as 2, and \"Los Angeles\" as 3.\n",
    "\n",
    "In general, we would choose ordinal encoding when the categorical variable has a natural ordering, such as \"education level\". This allows the model to capture the relative importance or hierarchy between the categories. On the other hand, we would choose label encoding when the categorical variable does not have a natural ordering, such as \"city\". In this case, we simply want to represent each category with a unique numerical value.\n",
    "\n",
    "Here is an example in Python of how we can implement ordinal encoding and label encoding using the OrdinalEncoder and LabelEncoder classes from the sklearn.preprocessing module:"
   ]
  },
  {
   "cell_type": "code",
   "execution_count": 10,
   "id": "e29771a7-ed4a-4035-a167-44c6b893212e",
   "metadata": {},
   "outputs": [
    {
     "name": "stdout",
     "output_type": "stream",
     "text": [
      "     education_level         city  education_level_encoded  city_encoded\n",
      "0        high school     New York                      0.0             2\n",
      "1  bachelor's degree      Chicago                      2.0             0\n",
      "2    master's degree  Los Angeles                      3.0             1\n",
      "3       some college      Chicago                      1.0             0\n",
      "4          doctorate     New York                      4.0             2\n"
     ]
    }
   ],
   "source": [
    "from sklearn.preprocessing import OrdinalEncoder, LabelEncoder\n",
    "import pandas as pd\n",
    "\n",
    "data = {'education_level': ['high school', 'bachelor\\'s degree', 'master\\'s degree', 'some college', 'doctorate'],\n",
    "        'city': ['New York', 'Chicago', 'Los Angeles', 'Chicago', 'New York']}\n",
    "df = pd.DataFrame(data)\n",
    "\n",
    "oe = OrdinalEncoder(categories=[['high school', 'some college', 'bachelor\\'s degree', 'master\\'s degree', 'doctorate']])\n",
    "df['education_level_encoded'] = oe.fit_transform(df[['education_level']])\n",
    "\n",
    "le = LabelEncoder()\n",
    "df['city_encoded'] = le.fit_transform(df['city'])\n",
    "\n",
    "print(df)"
   ]
  },
  {
   "cell_type": "markdown",
   "id": "ebc02630-604b-4728-986b-4fe1eae7970b",
   "metadata": {},
   "source": [
    "### 2. Explain how Target Guided Ordinal Encoding works and provide an example of when you might use it in a machine learning project."
   ]
  },
  {
   "cell_type": "markdown",
   "id": "e767a912-fa90-4875-9400-75e21054e006",
   "metadata": {},
   "source": [
    "Target Guided Ordinal Encoding is a technique used to encode categorical variables into ordinal variables based on their relationship with the target variable. The goal of this technique is to capture the information contained in the categorical variable in a way that is useful for predicting the target variable.\n",
    "\n",
    "The steps to implement Target Guided Ordinal Encoding are as follows:\n",
    "\n",
    "Calculate the mean of the target variable for each category of the categorical variable.\n",
    "Order the categories based on their mean value of the target variable.\n",
    "Assign a unique ordinal value to each category based on its order.\n",
    "For example, let's consider a dataset with a categorical variable \"city\" and a binary target variable \"is_customer_churned\". We want to encode the \"city\" variable using Target Guided Ordinal Encoding.\n",
    "\n",
    "Calculate the mean of the target variable for each category of the \"city\" variable:\n",
    "\n",
    "City\tCount\tMean(is_customer_churned)\n",
    "\n",
    "New York\t500\t0.2\n",
    "\n",
    "Los Angeles\t300\t0.3\n",
    "\n",
    "San Francisco\t200\t0.1\n",
    "\n",
    "Order the categories based on their mean value of the target variable:\n",
    "\n",
    "San Francisco < New York < Los Angeles\n",
    "\n",
    "Assign a unique ordinal value to each category based on its order:\n",
    "\n",
    "San Francisco -> 1, New York -> 2, Los Angeles -> 3\n",
    "\n",
    "In this way, we have created a new ordinal variable that captures the information contained in the \"city\" variable in a way that is useful for predicting the target variable.\n",
    "\n",
    "Target Guided Ordinal Encoding can be useful in situations where the categorical variable has a strong relationship with the target variable. For example, in a marketing campaign where we want to predict the response rate of customers to a promotional offer, we can use Target Guided Ordinal Encoding to encode the \"income\" variable. This can capture the information contained in the \"income\" variable in a way that is useful for predicting the response rate of customers."
   ]
  },
  {
   "cell_type": "markdown",
   "id": "10521870-63a2-479c-a384-023f5d30422e",
   "metadata": {},
   "source": [
    "### 3. Define covariance and explain why it is important in statistical analysis. How is covariance calculated?"
   ]
  },
  {
   "cell_type": "markdown",
   "id": "1455e899-33d7-4710-b713-12e50e5be92d",
   "metadata": {},
   "source": [
    "Covariance is a measure of the degree to which two random variables change together. Specifically, it measures the extent to which two variables are linearly related. In other words, it is a statistical measure of the strength of the relationship between two variables.\n",
    "\n",
    "Covariance is important in statistical analysis because it can be used to determine whether two variables are related, and if so, how strongly they are related. If the covariance between two variables is positive, then they tend to increase or decrease together. If the covariance is negative, then they tend to move in opposite directions. If the covariance is zero, then there is no linear relationship between the variables.\n",
    "\n",
    "Covariance is calculated by taking the sum of the product of the deviations of each variable from its mean, and then dividing by the number of observations:\n",
    "\n",
    "cov(X, Y) = Σ [(Xi - Xmean) * (Yi - Ymean)] / (n - 1)\n",
    "\n",
    "Where:\n",
    "\n",
    "X and Y are two random variables\n",
    "Xi and Yi are the individual observations of X and Y, respectively\n",
    "Xmean and Ymean are the means of X and Y, respectively\n",
    "n is the total number of observations\n",
    "The resulting covariance value can be positive, negative, or zero. A positive value indicates that the variables are positively related, while a negative value indicates that they are negatively related. A value of zero indicates that the variables are uncorrelated.\n",
    "\n",
    "Covariance is an important tool in statistics and data analysis because it can help identify the strength and direction of the relationship between variables. However, it has some limitations, such as being sensitive to the scale of the variables and being influenced by outliers. Therefore, other measures, such as correlation, are often used in conjunction with covariance to gain a more complete understanding of the relationship between variables."
   ]
  },
  {
   "cell_type": "markdown",
   "id": "294e0c2a-468f-463e-bfb1-244e4cebab4e",
   "metadata": {},
   "source": [
    "### 4. For a dataset with the following categorical variables: Color (red, green, blue), Size (small, medium, large), and Material (wood, metal, plastic), perform label encoding using Python's scikit-learn library. Show your code and explain the output."
   ]
  },
  {
   "cell_type": "code",
   "execution_count": 2,
   "id": "39dcef92-416a-4e0a-87f8-8c9fab3d3b5a",
   "metadata": {},
   "outputs": [
    {
     "name": "stdout",
     "output_type": "stream",
     "text": [
      "   Color  Size  Material\n",
      "0      2     1         2\n",
      "1      1     2         0\n",
      "2      0     0         1\n",
      "3      1     1         1\n",
      "4      2     2         2\n"
     ]
    }
   ],
   "source": [
    "from sklearn.preprocessing import LabelEncoder\n",
    "import pandas as pd\n",
    "\n",
    "df = pd.DataFrame({'Color': ['red', 'green', 'blue', 'green', 'red'],\n",
    "                   'Size': ['medium', 'small', 'large', 'medium', 'small'],\n",
    "                   'Material': ['wood', 'metal', 'plastic', 'plastic', 'wood']})\n",
    "\n",
    "le = LabelEncoder()\n",
    "\n",
    "df['Color'] = le.fit_transform(df['Color'])\n",
    "df['Size'] = le.fit_transform(df['Size'])\n",
    "df['Material'] = le.fit_transform(df['Material'])\n",
    "\n",
    "print(df)"
   ]
  },
  {
   "cell_type": "markdown",
   "id": "1fb9c180-a628-4419-858d-7e28d9cdf7d5",
   "metadata": {},
   "source": [
    "### 5. Calculate the covariance matrix for the following variables in a dataset: Age, Income, and Education level. Interpret the results."
   ]
  },
  {
   "cell_type": "code",
   "execution_count": 3,
   "id": "802cb073-5ba6-4f1c-8ec7-ebf22ba475c5",
   "metadata": {},
   "outputs": [
    {
     "name": "stdout",
     "output_type": "stream",
     "text": [
      "[[2.50e+02 2.50e+05 6.00e+01]\n",
      " [2.50e+05 2.50e+08 6.00e+04]\n",
      " [6.00e+01 6.00e+04 1.48e+01]]\n"
     ]
    }
   ],
   "source": [
    "import numpy as np\n",
    "\n",
    "age = [30, 40, 50, 60, 70]\n",
    "income = [50000, 60000, 70000, 80000, 90000]\n",
    "education = [12, 16, 18, 20, 22]\n",
    "\n",
    "X = np.vstack([age, income, education]).T\n",
    "\n",
    "covariance_matrix = np.cov(X, rowvar=False)\n",
    "\n",
    "print(covariance_matrix)"
   ]
  },
  {
   "cell_type": "markdown",
   "id": "efd90c65-b02f-46c8-93e5-e36d5dc6fe03",
   "metadata": {},
   "source": [
    "### 6. You are working on a machine learning project with a dataset containing several categorical variables, including \"Gender\" (Male/Female), \"Education Level\" (High School/Bachelor's/Master's/PhD), and \"Employment Status\" (Unemployed/Part-Time/Full-Time). Which encoding method would you use for each variable, and why?"
   ]
  },
  {
   "cell_type": "markdown",
   "id": "4ddb3f8f-dd1a-4163-9fd0-3446b30511d4",
   "metadata": {},
   "source": [
    "For the given categorical variables in the dataset:\n",
    "\n",
    "1.\"Gender\" (Male/Female) - As this variable contains only two categories, we can use binary encoding or label encoding.\n",
    "\n",
    "Example of Binary Encoding:\n",
    "\n",
    "Male -> 0\n",
    "\n",
    "Female -> 1\n",
    "\n",
    "2.\"Education Level\" (High School/Bachelor's/Master's/PhD) - As the categories in this variable have an ordinal relationship (i.e., PhD > Master's > Bachelor's > High School), we can use ordinal encoding or target guided ordinal encoding.\n",
    "\n",
    "Example of Ordinal Encoding:\n",
    "\n",
    "High School -> 1\n",
    "\n",
    "Bachelor's -> 2\n",
    "\n",
    "Master's -> 3\n",
    "\n",
    "PhD -> 4\n",
    "\n",
    "3.\"Employment Status\" (Unemployed/Part-Time/Full-Time) - As there is no intrinsic order or relationship between the categories in this variable, we can use one-hot encoding or binary encoding.\n",
    "\n",
    "Example of One-Hot Encoding:\n",
    "\n",
    "Unemployed -> [1, 0, 0]\n",
    "\n",
    "Part-Time -> [0, 1, 0]\n",
    "\n",
    "Full-Time -> [0, 0, 1]"
   ]
  },
  {
   "cell_type": "markdown",
   "id": "f5c3a990-65e4-4230-bf1e-1bd4440dd992",
   "metadata": {},
   "source": [
    "### 7. You are analyzing a dataset with two continuous variables, \"Temperature\" and \"Humidity\", and two categorical variables, \"Weather Condition\" (Sunny/Cloudy/Rainy) and \"Wind Direction\" (North/South/ East/West). Calculate the covariance between each pair of variables and interpret the results."
   ]
  },
  {
   "cell_type": "code",
   "execution_count": 5,
   "id": "56507a36-faec-4134-93de-1cb9b857909a",
   "metadata": {},
   "outputs": [
    {
     "name": "stdout",
     "output_type": "stream",
     "text": [
      "             Temperature  Humidity\n",
      "Temperature         9.30     21.25\n",
      "Humidity           21.25     62.50\n"
     ]
    },
    {
     "name": "stderr",
     "output_type": "stream",
     "text": [
      "/tmp/ipykernel_2528/226919747.py:11: FutureWarning: The default value of numeric_only in DataFrame.cov is deprecated. In a future version, it will default to False. Select only valid columns or specify the value of numeric_only to silence this warning.\n",
      "  covariance_matrix = df.cov()\n"
     ]
    }
   ],
   "source": [
    "import pandas as pd\n",
    "\n",
    "# create a sample dataset\n",
    "data = {'Temperature': [25, 27, 30, 22, 28],\n",
    "        'Humidity': [60, 65, 70, 55, 75],\n",
    "        'Weather Condition': ['Sunny', 'Cloudy', 'Rainy', 'Rainy', 'Sunny'],\n",
    "        'Wind Direction': ['North', 'South', 'East', 'West', 'North']}\n",
    "df = pd.DataFrame(data)\n",
    "\n",
    "# calculate covariance matrix\n",
    "covariance_matrix = df.cov()\n",
    "\n",
    "# display results\n",
    "print(covariance_matrix)"
   ]
  }
 ],
 "metadata": {
  "kernelspec": {
   "display_name": "Python 3 (ipykernel)",
   "language": "python",
   "name": "python3"
  },
  "language_info": {
   "codemirror_mode": {
    "name": "ipython",
    "version": 3
   },
   "file_extension": ".py",
   "mimetype": "text/x-python",
   "name": "python",
   "nbconvert_exporter": "python",
   "pygments_lexer": "ipython3",
   "version": "3.10.8"
  }
 },
 "nbformat": 4,
 "nbformat_minor": 5
}
