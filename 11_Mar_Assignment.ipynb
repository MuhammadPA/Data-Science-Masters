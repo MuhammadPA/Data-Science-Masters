{
 "cells": [
  {
   "cell_type": "markdown",
   "id": "bdeb4de2-50ad-4fbd-9ace-5a96e3a5b2cc",
   "metadata": {},
   "source": [
    "### 1. What is the difference between a t-test and a z-test? Provide an example scenario where you would use each type of test."
   ]
  },
  {
   "cell_type": "markdown",
   "id": "494c01f1-cdfc-4fc0-be86-9c862e7e868a",
   "metadata": {},
   "source": [
    "A t-test and a z-test are both statistical tests used to compare two population means or proportions. However, there are some key differences between them:\n",
    "\n",
    "1.Z-test assumes the population standard deviation is known, while t-test assumes it is unknown and estimates it from the sample.\n",
    "\n",
    "2.Z-test is appropriate when the sample size is large (typically above 30), while t-test is used when the sample size is small (typically below 30).\n",
    "\n",
    "3.Z-test is used when the population is normally distributed, while t-test can be used with non-normal populations if the sample size is large enough.\n",
    "\n",
    "An example scenario where you would use a z-test is when you are comparing the mean weight of newborn babies in two hospitals with large sample sizes (e.g., n > 30). You know the population standard deviation of newborn weights from previous studies, and you want to determine whether there is a significant difference in the mean weight of babies born in Hospital A compared to Hospital B."
   ]
  },
  {
   "cell_type": "markdown",
   "id": "f484bcc7-21ca-4bf9-9978-32b0cbf5e3e1",
   "metadata": {},
   "source": [
    "### 2. Differentiate between one-tailed and two-tailed tests."
   ]
  },
  {
   "cell_type": "markdown",
   "id": "11fea819-0922-424b-8070-6a0426908ac2",
   "metadata": {},
   "source": [
    "One-tailed and two-tailed tests are used in hypothesis testing to determine whether a sample statistic is significantly different from a population parameter.\n",
    "\n",
    "In a one-tailed test, the alternative hypothesis specifies the direction of the difference between the sample statistic and the population parameter. The null hypothesis assumes there is no difference between the two. For example, a one-tailed test could be used to determine whether a new drug increases a patient's life expectancy. The null hypothesis would be that the drug has no effect on life expectancy, and the alternative hypothesis would be that the drug increases life expectancy. The one-tailed test would determine whether the data supports the hypothesis that the drug increases life expectancy, but not whether it decreases it.\n",
    "\n",
    "In a two-tailed test, the alternative hypothesis does not specify the direction of the difference between the sample statistic and the population parameter. The null hypothesis assumes there is no difference, and the alternative hypothesis is that there is a difference, but it could be in either direction. For example, a two-tailed test could be used to determine whether the mean weight of newborn babies born to mothers who smoked during pregnancy is different from the mean weight of babies born to non-smoking mothers. The null hypothesis would be that there is no difference in mean weight, and the alternative hypothesis would be that there is a difference in mean weight. The two-tailed test would determine whether the data supports the hypothesis that there is a difference in mean weight, but not whether it is higher or lower for the smoking group."
   ]
  },
  {
   "cell_type": "markdown",
   "id": "364fc88d-ece6-4fff-9cfe-9fb053063945",
   "metadata": {},
   "source": [
    "### 3. Explain the concept of Type 1 and Type 2 errors in hypothesis testing. Provide an example scenario for each type of error."
   ]
  },
  {
   "cell_type": "markdown",
   "id": "fd18a126-ca1a-43e0-b2ca-a2e10303247f",
   "metadata": {},
   "source": [
    "In hypothesis testing, there are two types of errors that can occur: Type 1 error and Type 2 error.\n",
    "\n",
    "Type 1 error occurs when the null hypothesis is rejected, but it is actually true. In other words, the test incorrectly concludes that there is a significant effect or difference when there really isn't one. The probability of a Type 1 error is denoted by the significance level (alpha) and is typically set at 0.05 or 0.01. A lower alpha level means a lower probability of making a Type 1 error.\n",
    "\n",
    "An example scenario for Type 1 error is a drug trial. The null hypothesis is that the drug has no effect, and the alternative hypothesis is that the drug does have an effect. If the drug trial concludes that the drug is effective (rejecting the null hypothesis), but it is actually not effective, then a Type 1 error has occurred.\n",
    "\n",
    "Type 2 error occurs when the null hypothesis is not rejected, but it is actually false. In other words, the test fails to detect a significant effect or difference when there really is one. The probability of a Type 2 error is denoted by the power of the test (1-beta) and is influenced by factors such as sample size, effect size, and alpha level. A higher power of the test means a lower probability of making a Type 2 error.\n",
    "\n",
    "An example scenario for Type 2 error is a medical test for a disease. The null hypothesis is that the patient does not have the disease, and the alternative hypothesis is that the patient does have the disease. If the medical test fails to detect the disease (not rejecting the null hypothesis), but the patient actually has the disease, then a Type 2 error has occurred."
   ]
  },
  {
   "cell_type": "markdown",
   "id": "5c6696ce-9225-481f-bb38-2c9f79b49346",
   "metadata": {},
   "source": [
    "### 4. Explain Bayes's theorem with an example."
   ]
  },
  {
   "cell_type": "markdown",
   "id": "01efcfa2-a75e-43cc-aac5-17db33766d2c",
   "metadata": {},
   "source": [
    "Bayes's theorem is a fundamental concept in probability theory and statistics, which allows us to update our beliefs about an event or hypothesis based on new evidence or information.\n",
    "\n",
    "Bayes's theorem states that the probability of a hypothesis H given some observed evidence E is proportional to the probability of the evidence given the hypothesis, multiplied by the prior probability of the hypothesis. This can be written mathematically as:\n",
    "\n",
    "P(H|E) = P(E|H) * P(H) / P(E)\n",
    "\n",
    "where P(H|E) is the posterior probability of the hypothesis given the evidence, P(E|H) is the likelihood of the evidence given the hypothesis, P(H) is the prior probability of the hypothesis, and P(E) is the probability of the evidence.\n",
    "\n",
    "An example of Bayes's theorem is in medical diagnosis. Let's assume that a certain rare disease affects 0.1% of the population. A diagnostic test for the disease has a sensitivity of 95% (meaning it correctly identifies 95% of people with the disease) and a specificity of 98% (meaning it correctly identifies 98% of people without the disease).\n",
    "\n",
    "Suppose we have a patient who tests positive for the disease. What is the probability that the patient actually has the disease? Using Bayes's theorem, we can calculate the posterior probability of the hypothesis (that the patient has the disease) given the evidence (that the patient tests positive):\n",
    "\n",
    "P(Disease|Positive) = P(Positive|Disease) * P(Disease) / P(Positive)\n",
    "\n",
    "where P(Disease|Positive) is the probability that the patient has the disease given a positive test result, P(Positive|Disease) is the probability of a positive test result given that the patient has the disease (the sensitivity), P(Disease) is the prior probability of the patient having the disease (0.1%), and P(Positive) is the probability of a positive test result.\n",
    "\n",
    "We can calculate P(Positive) as follows:\n",
    "\n",
    "P(Positive) = P(Positive|Disease) * P(Disease) + P(Positive|No Disease) * P(No Disease)\n",
    "\n",
    "where P(Positive|No Disease) is the probability of a positive test result given that the patient does not have the disease (the false positive rate), and P(No Disease) is the complement of the prior probability of having the disease (99.9%).\n",
    "\n",
    "Plugging in the values, we get:\n",
    "\n",
    "P(Positive) = (0.95 * 0.001) + (0.02 * 0.999) = 0.02183\n",
    "\n",
    "Now we can calculate the posterior probability of the hypothesis:\n",
    "\n",
    "P(Disease|Positive) = (0.95 * 0.001) / 0.02183 = 0.0435\n",
    "\n",
    "So, even though the patient tested positive, the probability of actually having the disease is only about 4.35%. This demonstrates how Bayes's theorem can be used to update our beliefs about an event or hypothesis based on new evidence or information."
   ]
  },
  {
   "cell_type": "markdown",
   "id": "f78f0215-4d05-4de9-9f8f-176707e2d4d8",
   "metadata": {},
   "source": [
    "### 5. What is a confidence interval? How to calculate the confidence interval, explain with an example."
   ]
  },
  {
   "cell_type": "markdown",
   "id": "bb1ee8ef-4b82-4b7e-82a4-cc3c1a9e20ab",
   "metadata": {},
   "source": [
    "A confidence interval is a range of values that is used to estimate the true value of a population parameter with a certain level of confidence. It is calculated using sample data and provides a range of plausible values for the population parameter.\n",
    "\n",
    "The confidence interval is typically reported as a range of values with an associated level of confidence. For example, a 95% confidence interval for a population mean of a certain variable might be reported as [10.5, 12.5], which means that we are 95% confident that the true population mean falls within this range.\n",
    "\n",
    "To calculate a confidence interval, you first need to determine the level of confidence you want to use. Common levels of confidence include 90%, 95%, and 99%. Once you have determined the level of confidence, you can calculate the margin of error using the formula:\n",
    "\n",
    "Margin of error = z-score * (standard deviation / square root of sample size)\n",
    "\n",
    "where the z-score is determined based on the level of confidence and the standard deviation and sample size are calculated from the sample data.\n",
    "\n",
    "Once you have calculated the margin of error, you can use it to calculate the lower and upper bounds of the confidence interval using the formula:\n",
    "\n",
    "Lower bound = sample mean - margin of error\n",
    "Upper bound = sample mean + margin of error\n",
    "\n",
    "For example, let's say we want to calculate a 95% confidence interval for the mean height of a population based on a sample of 100 individuals. The sample mean height is 68 inches, and the standard deviation is 3 inches. We can determine the z-score for a 95% confidence interval using a standard normal distribution table or calculator, which is approximately 1.96.\n",
    "\n",
    "The margin of error would be calculated as:\n",
    "\n",
    "Margin of error = 1.96 * (3 / square root of 100) = 0.588\n",
    "\n",
    "Therefore, the 95% confidence interval for the mean height would be:\n",
    "\n",
    "Lower bound = 68 - 0.588 = 67.412\n",
    "Upper bound = 68 + 0.588 = 68.588\n",
    "\n",
    "We can interpret this as meaning that we are 95% confident that the true mean height of the population falls between 67.412 and 68.588 inches."
   ]
  },
  {
   "cell_type": "markdown",
   "id": "af9f546a-13c9-402c-8854-e9d6ab7b4f27",
   "metadata": {},
   "source": [
    "### 6. Use Bayes' Theorem to calculate the probability of an event occurring given prior knowledge of the event's probability and new evidence. Provide a sample problem and solution."
   ]
  },
  {
   "cell_type": "markdown",
   "id": "7743c922-cfe3-4e3c-9b17-59880af26919",
   "metadata": {},
   "source": [
    "Problem:\n",
    "Suppose that 1% of people in a certain population have a rare genetic disease. A medical test for the disease is 95% accurate, meaning that the test correctly identifies a positive result in 95% of people who have the disease, and correctly identifies a negative result in 95% of people who do not have the disease. If a person tests positive for the disease, what is the probability that they actually have the disease?\n",
    "\n",
    "Solution:\n",
    "Let's define the following events:\n",
    "A: the event that a person has the disease\n",
    "B: the event that a person tests positive for the disease\n",
    "\n",
    "Using Bayes' Theorem, we can calculate the probability of A given B, denoted P(A|B), as follows:\n",
    "\n",
    "P(A|B) = P(B|A) * P(A) / P(B)\n",
    "\n",
    "where P(B|A) is the probability of testing positive given that a person has the disease, P(A) is the prior probability of having the disease, and P(B) is the overall probability of testing positive, calculated as the sum of the probabilities of testing positive and actually having the disease, and testing positive but not having the disease.\n",
    "\n",
    "From the problem statement, we know that P(A) = 0.01 (1% of people have the disease), and P(B|A) = 0.95 (the test correctly identifies a positive result in 95% of people who have the disease). We can also calculate P(B|not A) as the probability of a false positive, which is 1 - 0.95 = 0.05.\n",
    "\n",
    "To calculate P(B), we can use the law of total probability:\n",
    "\n",
    "P(B) = P(B|A) * P(A) + P(B|not A) * P(not A)\n",
    "\n",
    "where P(not A) = 1 - P(A) = 0.99.\n",
    "\n",
    "Substituting in the known values, we get:\n",
    "\n",
    "P(B) = 0.95 * 0.01 + 0.05 * 0.99 = 0.0585\n",
    "\n",
    "Now we can plug all these values into Bayes' Theorem:\n",
    "\n",
    "P(A|B) = P(B|A) * P(A) / P(B) = 0.95 * 0.01 / 0.0585 = 0.1624\n",
    "\n",
    "Therefore, the probability that a person actually has the disease given a positive test result is approximately 16.2%."
   ]
  },
  {
   "cell_type": "markdown",
   "id": "fd4571d0-1546-49b9-8a22-6b9d31b04787",
   "metadata": {},
   "source": [
    "### 7. Calculate the 95% confidence interval for a sample of data with a mean of 50 and a standard deviation of 5. Interpret the results."
   ]
  },
  {
   "cell_type": "markdown",
   "id": "fcd237de-cb72-43c5-a5a6-3f3d7bbe56f7",
   "metadata": {},
   "source": [
    "To calculate the 95% confidence interval for a sample of data with a mean of 50 and a standard deviation of 5, we need to use the following formula:\n",
    "\n",
    "CI = X ± Zα/2 * (σ/√n)\n",
    "\n",
    "Where:\n",
    "X = sample mean (50)\n",
    "Zα/2 = the z-score corresponding to the level of significance (95% confidence interval corresponds to a z-score of 1.96)\n",
    "σ = population standard deviation (5)\n",
    "n = sample size (we don't have this information, but assuming it is a large enough sample size, we can use the formula with a margin of error of 5% or less)\n",
    "\n",
    "Substituting in the values, we get:\n",
    "\n",
    "CI = 50 ± 1.96 * (5/√n)\n",
    "\n",
    "Interpreting the results, we can say that we are 95% confident that the true population mean falls within the range of the confidence interval. In other words, if we were to repeat the sampling process many times and construct 95% confidence intervals for each sample, approximately 95% of those intervals would contain the true population mean."
   ]
  },
  {
   "cell_type": "markdown",
   "id": "ca8bc92f-49cf-49a7-a2e7-e6c73f90b3fd",
   "metadata": {},
   "source": [
    "### 8. What is the margin of error in a confidence interval? How does sample size affect the margin of error? Provide an example of a scenario where a larger sample size would result in a smaller margin of error."
   ]
  },
  {
   "cell_type": "markdown",
   "id": "d7625fcf-14fa-490b-94ae-86acb01151bc",
   "metadata": {},
   "source": [
    "The margin of error in a confidence interval is a measure of the uncertainty associated with the estimation of a population parameter from a sample statistic. It represents the amount by which the sample statistic may deviate from the true population parameter. The margin of error is calculated as the product of the critical value (which is based on the level of confidence desired) and the standard error of the sample.\n",
    "\n",
    "A larger sample size will generally result in a smaller margin of error. This is because as the sample size increases, the sample mean becomes a more accurate estimate of the population mean, and the standard error decreases. This leads to a narrower confidence interval and a smaller margin of error.\n",
    "\n",
    "For example, suppose we want to estimate the proportion of voters in a state who support a particular candidate, with a 95% confidence interval and a margin of error of 3%. If we take a sample of 500 voters and find that 55% of them support the candidate, we can construct a confidence interval as follows:\n",
    "\n",
    "The standard error of the sample is given by:\n",
    "\n",
    "SE = sqrt(p(1-p)/n)\n",
    "\n",
    "where p is the sample proportion and n is the sample size. Substituting in the values, we get:\n",
    "\n",
    "SE = sqrt(0.55 * 0.45 / 500) = 0.032\n",
    "\n",
    "The critical value for a 95% confidence interval is 1.96. Therefore, the margin of error is:\n",
    "\n",
    "ME = 1.96 * 0.032 = 0.063\n",
    "\n",
    "The confidence interval is then:\n",
    "\n",
    "CI = p ± ME = 0.55 ± 0.063 = (0.487, 0.613)\n",
    "\n",
    "Suppose now that we take a larger sample of 1000 voters. If we assume that the proportion of supporters is still 55%, we can calculate the new margin of error as follows:\n",
    "\n",
    "SE = sqrt(0.55 * 0.45 / 1000) = 0.022\n",
    "\n",
    "ME = 1.96 * 0.022 = 0.043\n",
    "\n",
    "The new confidence interval is:\n",
    "\n",
    "CI = p ± ME = 0.55 ± 0.043 = (0.507, 0.593)"
   ]
  },
  {
   "cell_type": "markdown",
   "id": "fdb399a9-a0fe-4c94-a20d-4f58db997447",
   "metadata": {},
   "source": [
    "### 9. Calculate the z-score for a data point with a value of 75, a population mean of 70, and a population standard deviation of 5. Interpret the results."
   ]
  },
  {
   "cell_type": "markdown",
   "id": "7cc7c80d-15fa-49e7-9a6b-d354f0b52aa3",
   "metadata": {},
   "source": [
    "To calculate the z-score for a data point with a value of 75, a population mean of 70, and a population standard deviation of 5, we use the following formula:\n",
    "\n",
    "z = (x - μ) / σ\n",
    "\n",
    "where x is the data point, μ is the population mean, and σ is the population standard deviation.\n",
    "\n",
    "Substituting in the values, we get:\n",
    "\n",
    "z = (75 - 70) / 5 = 1\n",
    "\n",
    "Interpreting the result, we can say that the data point of 75 is 1 standard deviation above the population mean. The z-score of 1 indicates that the value of 75 is one standard deviation away from the population mean in the positive direction. This means that 75 is relatively far from the center of the distribution and is considered an outlier. The z-score also allows us to compare the value of 75 to values from other distributions with different means and standard deviations, as it standardizes the values to a common scale."
   ]
  },
  {
   "cell_type": "markdown",
   "id": "553081ee-4c8c-4ccb-8bb1-b9e65f54de44",
   "metadata": {},
   "source": [
    "### 10. In a study of the effectiveness of a new weight loss drug, a sample of 50 participants lost an average of 6 pounds with a standard deviation of 2.5 pounds. Conduct a hypothesis test to determine if the drug is significantly effective at a 95% confidence level using a t-test."
   ]
  },
  {
   "cell_type": "markdown",
   "id": "44136cf1-703f-4386-95cf-3809773823e7",
   "metadata": {},
   "source": [
    "To conduct a hypothesis test to determine if the weight loss drug is significantly effective at a 95% confidence level using a t-test, we need to set up the null and alternative hypotheses:\n",
    "\n",
    "Null hypothesis (H0): The weight loss drug is not significantly effective, i.e., the mean weight loss is not significantly different from zero.\n",
    "Alternative hypothesis (Ha): The weight loss drug is significantly effective, i.e., the mean weight loss is significantly different from zero.\n",
    "\n",
    "We can express these hypotheses mathematically as:\n",
    "\n",
    "H0: μ = 0\n",
    "Ha: μ ≠ 0\n",
    "\n",
    "where μ is the population mean weight loss.\n",
    "\n",
    "Next, we need to calculate the t-value using the sample data. The formula for the t-value is:\n",
    "\n",
    "t = (x̄ - μ) / (s / √n)\n",
    "\n",
    "where x̄ is the sample mean, μ is the population mean (in this case, μ = 0), s is the sample standard deviation, and n is the sample size.\n",
    "\n",
    "Substituting in the values, we get:\n",
    "\n",
    "t = (6 - 0) / (2.5 / √50) = 12\n",
    "\n",
    "The degrees of freedom for the t-test are n-1, so in this case, the degrees of freedom are 50-1=49.\n",
    "\n",
    "Using a t-table or statistical software, we can find the critical t-value for a two-tailed test with a 95% confidence level and 49 degrees of freedom. The critical t-value is approximately ±2.009.\n",
    "\n",
    "Since our calculated t-value of 12 is much larger than the critical t-value of ±2.009, we can reject the null hypothesis and conclude that the weight loss drug is significantly effective at a 95% confidence level. This means that the sample mean weight loss of 6 pounds is significantly different from zero, and that the weight loss drug is likely to be effective in the population."
   ]
  },
  {
   "cell_type": "markdown",
   "id": "8d06b156-a02c-457d-a182-4a072fb64f9a",
   "metadata": {},
   "source": [
    "### 11. In a survey of 500 people, 65% reported being satisfied with their current job. Calculate the 95% confidence interval for the true proportion of people who are satisfied with their job."
   ]
  },
  {
   "cell_type": "markdown",
   "id": "050b1a9d-cb0b-4c83-8010-c42c17a9b292",
   "metadata": {},
   "source": [
    "To calculate the 95% confidence interval for the true proportion of people who are satisfied with their job, we can use the following formula:\n",
    "\n",
    "CI = p̂ ± z*√(p̂(1-p̂)/n)\n",
    "\n",
    "where CI is the confidence interval, p̂ is the sample proportion, z is the critical value from the standard normal distribution for the desired confidence level (in this case, 95%, which corresponds to a z-value of 1.96), and n is the sample size.\n",
    "\n",
    "Substituting in the values, we get:\n",
    "\n",
    "CI = 0.65 ± 1.96 * √((0.65 * 0.35) / 500)\n",
    "\n",
    "Simplifying the expression inside the square root, we get:\n",
    "\n",
    "CI = 0.65 ± 0.042\n",
    "\n",
    "So the 95% confidence interval for the true proportion of people who are satisfied with their job is:\n",
    "\n",
    "CI = (0.608, 0.692)\n",
    "\n",
    "Interpreting the result, we can say that we are 95% confident that the true proportion of people who are satisfied with their job is between 60.8% and 69.2%, based on the sample of 500 people."
   ]
  },
  {
   "cell_type": "markdown",
   "id": "2815017d-59d9-41e4-8679-47c2fdf566b2",
   "metadata": {},
   "source": [
    "### 12. A researcher is testing the effectiveness of two different teaching methods on student performance. Sample A has a mean score of 85 with a standard deviation of 6, while sample B has a mean score of 82 with a standard deviation of 5. Conduct a hypothesis test to determine if the two teaching methods have a significant difference in student performance using a t-test with a significance level of 0.01."
   ]
  },
  {
   "cell_type": "markdown",
   "id": "e66d4bff-eba6-47ec-ae87-1d66eac12334",
   "metadata": {},
   "source": [
    "To test if the two teaching methods have a significant difference in student performance, we can use a two-sample t-test with a significance level of 0.01. The null hypothesis is that the means of the two samples are equal, while the alternative hypothesis is that they are not equal.\n",
    "\n",
    "The formula for the t-test is:\n",
    "\n",
    "t = (x̄₁ - x̄₂) / (s_pool * √(1/n₁ + 1/n₂))\n",
    "\n",
    "where x̄₁ and x̄₂ are the sample means, n₁ and n₂ are the sample sizes, s_pool is the pooled standard deviation, which is calculated as:\n",
    "\n",
    "s_pool = √((n₁-1)s₁² + (n₂-1)s₂²) / (n₁ + n₂ - 2)\n",
    "\n",
    "where s₁ and s₂ are the sample standard deviations.\n",
    "\n",
    "Substituting in the values, we get:\n",
    "\n",
    "t = (85 - 82) / (s_pool * √(1/50 + 1/50))\n",
    "\n",
    "s₁ = 6, s₂ = 5, n₁ = n₂ = 50\n",
    "\n",
    "s_pool = √((49)(6²) + (49)(5²)) / (50 + 50 - 2) = 5.41\n",
    "\n",
    "t = 3 / (5.41 * 0.2) = 8.78\n",
    "\n",
    "The degrees of freedom for the t-distribution in this case is (n₁ + n₂ - 2) = 98.\n",
    "\n",
    "The critical t-value for a two-tailed test with a significance level of 0.01 and 98 degrees of freedom is ±2.62.\n",
    "\n",
    "Since our calculated t-value (8.78) is greater than the critical t-value (2.62), we can reject the null hypothesis and conclude that there is a significant difference in student performance between the two teaching methods at a significance level of 0.01."
   ]
  },
  {
   "cell_type": "markdown",
   "id": "25081ec8-4c8d-4625-b95f-6df3c1fabbe5",
   "metadata": {},
   "source": [
    "### 13. A population has a mean of 60 and a standard deviation of 8. A sample of 50 observations has a mean of 65. Calculate the 90% confidence interval for the true population mean."
   ]
  },
  {
   "cell_type": "markdown",
   "id": "586bd187-401d-4c7e-b424-baccc578f89f",
   "metadata": {},
   "source": [
    "To calculate the 90% confidence interval for the true population mean, we can use the following formula:\n",
    "\n",
    "CI = x̄ ± z*(σ/√n)\n",
    "\n",
    "where CI is the confidence interval, x̄ is the sample mean, z is the critical value from the standard normal distribution for the desired confidence level (in this case, 90%, which corresponds to a z-value of 1.645), σ is the population standard deviation, and n is the sample size.\n",
    "\n",
    "Substituting in the values, we get:\n",
    "\n",
    "CI = 65 ± 1.645*(8/√50)\n",
    "\n",
    "Simplifying the expression, we get:\n",
    "\n",
    "CI = 65 ± 1.862\n",
    "\n",
    "So the 90% confidence interval for the true population mean is:\n",
    "\n",
    "CI = (63.14, 66.86)\n",
    "\n",
    "Interpreting the result, we can say that we are 90% confident that the true population mean is between 63.14 and 66.86, based on the sample of 50 observations."
   ]
  },
  {
   "cell_type": "markdown",
   "id": "a3c44991-224e-4223-ad85-4cd536da4bb4",
   "metadata": {},
   "source": [
    "### 14. In a study of the effects of caffeine on reaction time, a sample of 30 participants had an average reaction time of 0.25 seconds with a standard deviation of 0.05 seconds. Conduct a hypothesis test to determine if the caffeine has a significant effect on reaction time at a 90% confidence level using a t-test."
   ]
  },
  {
   "cell_type": "markdown",
   "id": "09af9e5d-76e0-41c1-8cf4-ce1655f7bfed",
   "metadata": {},
   "source": [
    "To conduct the hypothesis test, we need to state our null and alternative hypotheses:\n",
    "\n",
    "Null hypothesis: The mean reaction time with caffeine is equal to the mean reaction time without caffeine.\n",
    "Alternative hypothesis: The mean reaction time with caffeine is significantly different from the mean reaction time without caffeine.\n",
    "\n",
    "Let's assume a significance level of 0.1 (90% confidence level).\n",
    "\n",
    "We'll use a two-tailed t-test since the alternative hypothesis is that the mean reaction time is \"significantly different\" from the null hypothesis.\n",
    "\n",
    "The formula for calculating the t-statistic is:\n",
    "\n",
    "t = (x̄ - μ) / (s / √n)\n",
    "\n",
    "Where:\n",
    "x̄ = sample mean\n",
    "μ = population mean (under the null hypothesis)\n",
    "s = sample standard deviation\n",
    "n = sample size\n",
    "\n",
    "Plugging in the values we get:\n",
    "\n",
    "t = (0.25 - 0) / (0.05 / √30) = 11.547\n",
    "\n",
    "Using a t-distribution table with 29 degrees of freedom (n-1), the critical t-value for a two-tailed test at a significance level of 0.1 is ±1.699.\n",
    "\n",
    "Since our calculated t-value (11.547) is much larger than the critical t-value (1.699), we reject the null hypothesis and conclude that there is a significant difference in reaction time between the two groups at a 90% confidence level."
   ]
  }
 ],
 "metadata": {
  "kernelspec": {
   "display_name": "Python 3 (ipykernel)",
   "language": "python",
   "name": "python3"
  },
  "language_info": {
   "codemirror_mode": {
    "name": "ipython",
    "version": 3
   },
   "file_extension": ".py",
   "mimetype": "text/x-python",
   "name": "python",
   "nbconvert_exporter": "python",
   "pygments_lexer": "ipython3",
   "version": "3.10.8"
  }
 },
 "nbformat": 4,
 "nbformat_minor": 5
}
