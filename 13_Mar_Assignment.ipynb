{
 "cells": [
  {
   "cell_type": "markdown",
   "id": "b9e738f7-f7d0-4daf-9b03-dd52b70d8c05",
   "metadata": {},
   "source": [
    "### 1. Explain the assumptions required to use ANOVA and provide examples of violations that could impact the validity of the results."
   ]
  },
  {
   "cell_type": "markdown",
   "id": "73f69e9a-3f4e-4d47-85a5-38dfd3facade",
   "metadata": {},
   "source": [
    "ANOVA (Analysis of Variance) is a statistical method used to analyze the differences between means of two or more groups. The assumptions required to use ANOVA are:\n",
    "\n",
    "Independence: The observations within each group should be independent of each other. That is, the response variable for one observation should not be influenced by the response variable of another observation in the same group.\n",
    "\n",
    "Normality: The distribution of the response variable should be approximately normal within each group.\n",
    "\n",
    "Homogeneity of Variance: The variance of the response variable should be equal across all groups.\n",
    "\n",
    "Examples of violations that could impact the validity of the results are:\n",
    "\n",
    "Independence violation: If the observations within each group are not independent, it can lead to biased results. For example, if the response variable is measured from the same individual at different times, the observations are not independent.\n",
    "\n",
    "Normality violation: If the distribution of the response variable is not approximately normal within each group, it can lead to inaccurate results. For example, if the response variable is skewed, the ANOVA results may not be reliable.\n",
    "\n",
    "Homogeneity of Variance violation: If the variance of the response variable is not equal across all groups, it can lead to incorrect conclusions. For example, if the variances of the response variable in one group are much larger than the other groups, it can lead to incorrect conclusions."
   ]
  },
  {
   "cell_type": "markdown",
   "id": "d89d6730-addb-4fa2-946b-f5eb10e8476d",
   "metadata": {},
   "source": [
    "### 2. What are the three types of ANOVA, and in what situations would each be used?"
   ]
  },
  {
   "cell_type": "markdown",
   "id": "6e8cf00a-170f-4314-b651-560b4ebd3053",
   "metadata": {},
   "source": [
    "There are three types of ANOVA: one-way ANOVA, two-way ANOVA, and repeated measures ANOVA. Each type is used in different situations:\n",
    "\n",
    "1.One-way ANOVA: This type of ANOVA is used when there is only one independent variable and one dependent variable. It is used to compare means of three or more groups. For example, a one-way ANOVA can be used to determine if there are significant differences in the mean heights of plants grown under different types of fertilizers.\n",
    "\n",
    "2.Two-way ANOVA: This type of ANOVA is used when there are two independent variables and one dependent variable. It is used to determine if there is an interaction between the two independent variables and their effect on the dependent variable. For example, a two-way ANOVA can be used to determine if there is a significant difference in the mean test scores of students who are taught with two different teaching methods and in two different schools.\n",
    "\n",
    "3.Repeated measures ANOVA: This type of ANOVA is used when the same participants are measured on the same dependent variable multiple times. It is used to determine if there are any significant differences between the means of two or more groups over time. For example, a repeated measures ANOVA can be used to determine if there is a significant difference in the mean anxiety levels of participants before, during, and after a stressful task."
   ]
  },
  {
   "cell_type": "markdown",
   "id": "9cb84422-5e7e-4a24-b02c-e139fd07576e",
   "metadata": {},
   "source": [
    "### 3. What is the partitioning of variance in ANOVA, and why is it important to understand this concept?"
   ]
  },
  {
   "cell_type": "markdown",
   "id": "eb75c53d-8c63-4eb0-8dd3-42e244b2413e",
   "metadata": {},
   "source": [
    "Partitioning of variance in ANOVA refers to the division of the total variation in the data into different components, each of which represents a source of variation. ANOVA decomposes the total variance of the response variable into three components: the variation due to differences between groups (also called the \"between-group variance\"), the variation due to differences within groups (also called the \"within-group variance\" or \"error variance\"), and the variation due to random error.\n",
    "\n",
    "It is important to understand the concept of partitioning of variance in ANOVA because it allows us to determine the proportion of the total variance that is explained by the independent variable(s) and the proportion that is not explained by the independent variable(s) (i.e., the within-group variance and the random error variance). This information can help us to interpret the results of ANOVA and to draw valid conclusions about the differences between groups.\n",
    "\n",
    "By partitioning the variance, ANOVA also allows us to test the significance of the differences between groups by comparing the variation due to differences between groups with the variation due to differences within groups. If the variation due to differences between groups is larger than the variation due to differences within groups, this suggests that there is a significant difference between the groups."
   ]
  },
  {
   "cell_type": "markdown",
   "id": "7501d97f-cec1-4303-a169-2306c21abbe2",
   "metadata": {},
   "source": [
    "### 4. How would you calculate the total sum of squares (SST), explained sum of squares (SSE), and residual sum of squares (SSR) in a one-way ANOVA using Python?"
   ]
  },
  {
   "cell_type": "code",
   "execution_count": 14,
   "id": "fc8c0bb0-e7fb-48ef-9d23-e12cd924fe7c",
   "metadata": {},
   "outputs": [
    {
     "name": "stdout",
     "output_type": "stream",
     "text": [
      "Top 5 rows of IRIS dataset : \n",
      "   sepal_length  sepal_width  petal_length  petal_width species\n",
      "0           5.1          3.5           1.4          0.2  setosa\n",
      "1           4.9          3.0           1.4          0.2  setosa\n",
      "2           4.7          3.2           1.3          0.2  setosa\n",
      "3           4.6          3.1           1.5          0.2  setosa\n",
      "4           5.0          3.6           1.4          0.2  setosa\n",
      "\n",
      "===================================================================\n",
      "\n",
      "Values for Sepal Length vs Species:\n",
      "SSE: 63.2121\n",
      "SSR: 38.9562\n",
      "SST: 102.1683\n",
      "\n",
      "===================================================================\n",
      "\n",
      "             df     sum_sq    mean_sq           F        PR(>F)\n",
      "species     2.0  63.212133  31.606067  119.264502  1.669669e-31\n",
      "Residual  147.0  38.956200   0.265008         NaN           NaN\n"
     ]
    }
   ],
   "source": [
    "import pandas as pd\n",
    "from statsmodels.formula.api import ols\n",
    "import seaborn as sns\n",
    "from statsmodels.stats.anova import anova_lm\n",
    "\n",
    "# Loading Iris dataset from seaborn\n",
    "df_iris = sns.load_dataset('iris')\n",
    "print('Top 5 rows of IRIS dataset : ')\n",
    "print(df_iris.head())\n",
    "print('\\n===================================================================\\n')\n",
    "\n",
    "# Fit the one-way ANOVA model (sepal length vs Species)\n",
    "model = ols('sepal_length ~ species', data=df_iris).fit()\n",
    "\n",
    "# Calculate the sum of squares for the model\n",
    "print('Values for Sepal Length vs Species:')\n",
    "SSE = model.ess\n",
    "SSR = model.ssr\n",
    "SST = SSE + SSR\n",
    "\n",
    "print('SSE:', round(SSE,4))\n",
    "print('SSR:', round(SSR,4))\n",
    "print('SST:', round(SST,4))\n",
    "\n",
    "print('\\n===================================================================\\n')\n",
    "# Print the ANOVA table\n",
    "print(anova_lm(model))"
   ]
  },
  {
   "cell_type": "markdown",
   "id": "607ba8c2-b064-46f7-92c8-a9c640169732",
   "metadata": {},
   "source": [
    "### 5. In a two-way ANOVA, how would you calculate the main effects and interaction effects using Python?"
   ]
  },
  {
   "cell_type": "code",
   "execution_count": 16,
   "id": "21e0e06c-e19e-462d-a0c1-76e17c31f4cc",
   "metadata": {},
   "outputs": [
    {
     "name": "stdout",
     "output_type": "stream",
     "text": [
      "Top 5 rows of Tooth Growth Dataset\n",
      "    len supp  dose\n",
      "0   4.2   VC   0.5\n",
      "1  11.5   VC   0.5\n",
      "2   7.3   VC   0.5\n",
      "3   5.8   VC   0.5\n",
      "4   6.4   VC   0.5\n",
      "\n",
      "==============================================================\n",
      "\n",
      "Main effects:\n",
      "C(supp)     205.350000\n",
      "C(dose)    2426.434333\n",
      "Name: sum_sq, dtype: float64\n",
      "\n",
      "==============================\n",
      "\n",
      "Interaction effect:\n",
      "C(supp):C(dose)    108.319\n",
      "Name: sum_sq, dtype: float64\n",
      "\n",
      "==============================\n",
      "\n",
      "ANOVA Table:\n",
      "                      sum_sq    df          F        PR(>F)\n",
      "C(supp)           205.350000   1.0  15.571979  2.311828e-04\n",
      "C(dose)          2426.434333   2.0  91.999965  4.046291e-18\n",
      "C(supp):C(dose)   108.319000   2.0   4.106991  2.186027e-02\n",
      "Residual          712.106000  54.0        NaN           NaN\n"
     ]
    }
   ],
   "source": [
    "import numpy as np\n",
    "import pandas as pd\n",
    "import statsmodels.api as sm\n",
    "from statsmodels.formula.api import ols\n",
    "\n",
    "# Load the inbuilt dataset from statsmodels\n",
    "data = sm.datasets.get_rdataset(\"ToothGrowth\", \"datasets\").data\n",
    "\n",
    "# printing top 5 rows of Tooth Growth dataset\n",
    "print('Top 5 rows of Tooth Growth Dataset')\n",
    "print(data.head())\n",
    "print('\\n==============================================================\\n')\n",
    "\n",
    "# Define the model formula\n",
    "model_formula = \"len ~ C(supp) + C(dose) + C(supp):C(dose)\"\n",
    "\n",
    "# Fit the model using OLS regression\n",
    "model = ols(model_formula, data).fit()\n",
    "\n",
    "# Calculate the main effects and interaction effects\n",
    "main_effects = sm.stats.anova_lm(model, typ=2)['sum_sq'][:2]\n",
    "interaction_effect = sm.stats.anova_lm(model, typ=2)['sum_sq'][2:3]\n",
    "\n",
    "# Print the results\n",
    "print(\"Main effects:\")\n",
    "print(main_effects)\n",
    "print(\"\\n==============================\\n\")\n",
    "print(\"Interaction effect:\")\n",
    "print(interaction_effect)\n",
    "print(\"\\n==============================\\n\")\n",
    "print(\"ANOVA Table:\")\n",
    "print(anova_lm(model,typ=2))"
   ]
  },
  {
   "cell_type": "markdown",
   "id": "519119ae-651e-4ea0-92c5-0b630a9a56e9",
   "metadata": {},
   "source": [
    "### 6. Suppose you conducted a one-way ANOVA and obtained an F-statistic of 5.23 and a p-value of 0.02. What can you conclude about the differences between the groups, and how would you interpret these results?"
   ]
  },
  {
   "cell_type": "markdown",
   "id": "d279d0f0-2730-4b1c-9500-fc4a641f31ab",
   "metadata": {},
   "source": [
    "If you conducted a one-way ANOVA and obtained an F-statistic of 5.23 and a p-value of 0.02, you can conclude that there is a significant difference between the groups.\n",
    "\n",
    "The F-statistic tests whether the means of the groups are significantly different from each other. In this case, a large F-statistic value of 5.23 indicates that there is a large amount of variability between the groups compared to the variability within the groups. The p-value of 0.02 indicates that the probability of obtaining an F-statistic as extreme as 5.23 by chance alone is very low, assuming the null hypothesis is true.\n",
    "\n",
    "Therefore, we reject the null hypothesis that there are no differences between the groups and conclude that there is at least one group whose mean is significantly different from the others.\n",
    "\n",
    "To interpret these results, we would need to perform post-hoc tests to determine which group(s) differ significantly from the others. We might also want to examine the effect size of the differences between the groups, such as using eta-squared or partial eta-squared to quantify the proportion of variability in the response variable that can be explained by the group variable."
   ]
  },
  {
   "cell_type": "markdown",
   "id": "79a4ac96-d96f-4af0-96e0-f6b3d4fbb212",
   "metadata": {},
   "source": [
    "### 7. In a repeated measures ANOVA, how would you handle missing data, and what are the potential consequences of using different methods to handle missing data?"
   ]
  },
  {
   "cell_type": "markdown",
   "id": "41f44c45-4fc9-4084-8863-f8a4776b478c",
   "metadata": {},
   "source": [
    "In a repeated measures ANOVA, missing data can be handled in different ways, but the choice of method can have potential consequences on the validity and reliability of the results. Here are some common methods for handling missing data in a repeated measures ANOVA:\n",
    "\n",
    "Listwise deletion: This method involves removing all cases with missing data from the analysis. While this method is easy to implement, it can lead to a reduction in sample size and loss of statistical power, as well as bias the sample towards certain characteristics.\n",
    "\n",
    "Pairwise deletion: This method involves using only the available data for each variable pair in the analysis, which can lead to different sample sizes for each comparison. This method can increase statistical power but can also produce biased results if the missing data are not missing completely at random (MCAR) or are systematically related to the outcome variable.\n",
    "\n",
    "Mean imputation: This method involves replacing missing values with the mean of the available data for that variable. While this method preserves the sample size and does not create artificial relationships between variables, it can underestimate the true variability of the data and bias the estimates towards the mean.\n",
    "\n",
    "Regression imputation: This method involves replacing missing values using a regression equation that predicts the missing data based on other variables in the dataset. While this method can produce accurate estimates of missing values, it can also increase the complexity of the analysis and introduce additional sources of error.\n",
    "\n",
    "Multiple imputation: This method involves creating multiple imputed datasets based on a model that accounts for the uncertainty of the missing data. This method can produce accurate estimates and standard errors while preserving the variability of the data, but it can also be computationally intensive and require a large number of imputations to achieve reliable results."
   ]
  },
  {
   "cell_type": "markdown",
   "id": "f9ba69a5-c684-46d2-be46-de97d14c2a08",
   "metadata": {},
   "source": [
    "### 8. What are some common post-hoc tests used after ANOVA, and when would you use each one? Provide an example of a situation where a post-hoc test might be necessary."
   ]
  },
  {
   "cell_type": "markdown",
   "id": "8cfd0eac-605d-4709-ba8b-3ed5d5435afb",
   "metadata": {},
   "source": [
    "Post-hoc tests are used to compare group means after a significant ANOVA result. Some common post-hoc tests include:\n",
    "\n",
    "Tukey's Honestly Significant Difference (HSD) test: This test compares all possible pairs of means and controls the overall type I error rate. It is appropriate when there are equal group sizes and variances.\n",
    "\n",
    "Bonferroni correction: This test adjusts the significance level for multiple comparisons to control the family-wise error rate. It is appropriate when there are a large number of pairwise comparisons and a low overall alpha level.\n",
    "\n",
    "Scheffe's test: This test is conservative and controls the family-wise error rate for all possible comparisons. It is appropriate when there are unequal group sizes and variances.\n",
    "\n",
    "Dunnett's test: This test compares each group mean to a control group mean and controls the overall type I error rate. It is appropriate when there is a clear control group and multiple treatment groups.\n",
    "\n",
    "Games-Howell test: This test adjusts for unequal variances and sample sizes and compares all possible pairs of means. It is appropriate when the assumption of equal variances is violated."
   ]
  },
  {
   "cell_type": "markdown",
   "id": "44587c9e-b577-4755-8e2e-f28606f3f875",
   "metadata": {},
   "source": [
    "### 9. A researcher wants to compare the mean weight loss of three diets: A, B, and C. They collect data from 50 participants who were randomly assigned to one of the diets. Conduct a one-way ANOVA using Python to determine if there are any significant differences between the mean weight loss of the three diets. Report the F-statistic and p-value, and interpret the results."
   ]
  },
  {
   "cell_type": "code",
   "execution_count": 17,
   "id": "1b57253f-f83d-462d-ad8e-cd1c587de087",
   "metadata": {},
   "outputs": [
    {
     "name": "stdout",
     "output_type": "stream",
     "text": [
      "F-statistic: 149.65831558918146\n",
      "p-value: 2.2551291246307657e-26\n"
     ]
    }
   ],
   "source": [
    "import numpy as np\n",
    "from scipy.stats import f_oneway\n",
    "\n",
    "diet_a = np.array([3.2, 2.5, 4.1, 3.9, 1.5, 2.8, 2.1, 3.0, 2.7, 2.2,\n",
    "                   1.9, 2.5, 3.1, 1.8, 2.3, 3.5, 2.9, 2.6, 2.0, 2.7,\n",
    "                   1.6, 2.1, 3.0, 2.2, 2.6])\n",
    "\n",
    "diet_b = np.array([4.0, 3.8, 3.9, 4.2, 3.6, 4.1, 2.8, 3.7, 4.3, 3.2,\n",
    "                   2.9, 3.6, 4.4, 3.1, 3.3, 3.5, 3.7, 3.8, 3.0, 3.5,\n",
    "                   2.7, 3.2, 3.9, 3.0, 3.8])\n",
    "\n",
    "diet_c = np.array([5.0, 5.2, 4.9, 5.5, 4.8, 5.1, 4.7, 5.3, 5.0, 5.4,\n",
    "                   5.1, 5.2, 4.5, 4.8, 5.3, 4.6, 4.9, 5.2, 5.1, 4.7,\n",
    "                   4.6, 5.0, 4.8, 5.2, 5.1])\n",
    "\n",
    "f_stat, p_value = f_oneway(diet_a, diet_b, diet_c)\n",
    "\n",
    "print(\"F-statistic:\", f_stat)\n",
    "print(\"p-value:\", p_value)"
   ]
  },
  {
   "cell_type": "markdown",
   "id": "02719e54-7a24-4f88-85c0-3babc5922973",
   "metadata": {},
   "source": [
    "### 10. A company wants to know if there are any significant differences in the average time it takes to complete a task using three different software programs: Program A, Program B, and Program C. They randomly assign 30 employees to one of the programs and record the time it takes each employee to complete the task. Conduct a two-way ANOVA using Python to determine if there are any main effects or interaction effects between the software programs and employee experience level (novice vs. experienced). Report the F-statistics and p-values, and interpret the results."
   ]
  },
  {
   "cell_type": "code",
   "execution_count": 27,
   "id": "29ae6e9d-7218-4776-a12d-f30faddd5bdf",
   "metadata": {},
   "outputs": [
    {
     "name": "stdout",
     "output_type": "stream",
     "text": [
      "                              sum_sq    df         F    PR(>F)\n",
      "C(program)                  0.006904   2.0  0.000528  0.981844\n",
      "C(experience)                    NaN   1.0       NaN       NaN\n",
      "C(program):C(experience)    3.000000   2.0  0.229412  0.635964\n",
      "Residual                  170.000000  26.0       NaN       NaN\n"
     ]
    },
    {
     "name": "stderr",
     "output_type": "stream",
     "text": [
      "/opt/conda/lib/python3.10/site-packages/statsmodels/base/model.py:1871: ValueWarning: covariance of constraints does not have full rank. The number of constraints is 2, but rank is 1\n",
      "  warnings.warn('covariance of constraints does not have full '\n",
      "/opt/conda/lib/python3.10/site-packages/statsmodels/base/model.py:1871: ValueWarning: covariance of constraints does not have full rank. The number of constraints is 1, but rank is 0\n",
      "  warnings.warn('covariance of constraints does not have full '\n",
      "/opt/conda/lib/python3.10/site-packages/statsmodels/base/model.py:1900: RuntimeWarning: invalid value encountered in divide\n",
      "  F /= J\n",
      "/opt/conda/lib/python3.10/site-packages/statsmodels/base/model.py:1871: ValueWarning: covariance of constraints does not have full rank. The number of constraints is 2, but rank is 1\n",
      "  warnings.warn('covariance of constraints does not have full '\n"
     ]
    }
   ],
   "source": [
    "import pandas as pd\n",
    "import statsmodels.api as sm\n",
    "from statsmodels.formula.api import ols\n",
    "\n",
    "# create the data frame\n",
    "data = pd.DataFrame({'time': [12, 15, 13, 16, 11, 14, 18, 13, 15, 17, 19, 16, 18, 20, 14, 12, 17, 15, 19, 22, 20, 23, 18, 21, 19, 24, 22, 25, 21, 23],\n",
    "                     'program': ['A']*10 + ['B']*10 + ['C']*10,\n",
    "                     'experience': ['novice']*15 + ['experienced']*15})\n",
    "\n",
    "# fit the two-way ANOVA model\n",
    "model = ols('time ~ C(program) + C(experience) + C(program):C(experience)', data=data).fit()\n",
    "anova_table = sm.stats.anova_lm(model, typ=2)\n",
    "\n",
    "# print the ANOVA table\n",
    "print(anova_table)"
   ]
  },
  {
   "cell_type": "markdown",
   "id": "e0e0f5bb-d13f-4ada-a3fb-aa56298745e1",
   "metadata": {},
   "source": [
    "### 11. An educational researcher is interested in whether a new teaching method improves student test scores. They randomly assign 100 students to either the control group (traditional teaching method) or the experimental group (new teaching method) and administer a test at the end of the semester. Conduct a two-sample t-test using Python to determine if there are any significant differences in test scores between the two groups. If the results are significant, follow up with a post-hoc test to determine which group(s) differ significantly from each other."
   ]
  },
  {
   "cell_type": "code",
   "execution_count": 20,
   "id": "a3dcea8b-441e-4e18-bfd2-434b1faa635a",
   "metadata": {},
   "outputs": [
    {
     "name": "stdout",
     "output_type": "stream",
     "text": [
      "t-statistic:  -5.324313533850306\n",
      "p-value:  4.6265323467775783e-05\n",
      "  Multiple Comparison of Means - Tukey HSD, FWER=0.05  \n",
      "=======================================================\n",
      " group1   group2   meandiff p-adj lower   upper  reject\n",
      "-------------------------------------------------------\n",
      "control experiment     11.6   0.0 7.0228 16.1772   True\n",
      "-------------------------------------------------------\n"
     ]
    }
   ],
   "source": [
    "import pandas as pd\n",
    "import numpy as np\n",
    "from scipy import stats\n",
    "import statsmodels.stats.multicomp as mc\n",
    "\n",
    "control = [70, 75, 68, 80, 73, 85, 78, 72, 82, 79]\n",
    "experiment = [82, 90, 87, 92, 94, 81, 89, 85, 90, 88]\n",
    "\n",
    "t_stat, p_val = stats.ttest_ind(control, experiment)\n",
    "print(\"t-statistic: \", t_stat)\n",
    "print(\"p-value: \", p_val)\n",
    "\n",
    "data = np.array(control + experiment)\n",
    "groups = np.array(['control']*len(control) + ['experiment']*len(experiment))\n",
    "tukey = mc.MultiComparison(data, groups)\n",
    "posthoc = tukey.tukeyhsd()\n",
    "print(posthoc)"
   ]
  },
  {
   "cell_type": "markdown",
   "id": "4c46549e-ccf9-44d8-b14b-9e45b78895d6",
   "metadata": {},
   "source": [
    "### 12. A researcher wants to know if there are any significant differences in the average daily sales of three retail stores: Store A, Store B, and Store C. They randomly select 30 days and record the sales for each store on those days. Conduct a repeated measures ANOVA using Python to determine if there are any significant differences in sales between the three stores. If the results are significant, follow up with a post- hoc test to determine which store(s) differ significantly from each other."
   ]
  },
  {
   "cell_type": "code",
   "execution_count": 28,
   "id": "ae8ccfce-25e6-46b8-a160-1bb2543aae30",
   "metadata": {},
   "outputs": [
    {
     "name": "stdout",
     "output_type": "stream",
     "text": [
      "               Anova\n",
      "===================================\n",
      "      F Value Num DF  Den DF Pr > F\n",
      "-----------------------------------\n",
      "store -8.1387 2.0000 58.0000 1.0000\n",
      "===================================\n",
      "\n"
     ]
    }
   ],
   "source": [
    "import pandas as pd\n",
    "import numpy as np\n",
    "import statsmodels.api as sm\n",
    "from statsmodels.stats.anova import AnovaRM\n",
    "data = {'store': ['A']*30 + ['B']*30 + ['C']*30,\n",
    "        'day': list(range(1, 31))*3,\n",
    "        'sales': [100, 120, 105, 110, 130, 115, 90, 105, 95, 115, 130, 120, 105, 110, 100, 95, 110, 105, 120, 115, 105, 100, 110, 120, 115, 105, 90, 95, 100, 110]*3}\n",
    "df = pd.DataFrame(data)\n",
    "\n",
    "rm = AnovaRM(df, 'sales', 'day', within=['store'])\n",
    "fit = rm.fit()\n",
    "print(fit.summary())\n",
    "\n",
    "if fit.anova_table['Pr > F'][0] < 0.05:\n",
    "  posthoc = sm.stats.multicomp.MultiComparison(df['sales'], df['store'])\n",
    "  posthoc_results = posthoc.tukeyhsd()\n",
    "  print(posthoc_results.summary())"
   ]
  }
 ],
 "metadata": {
  "kernelspec": {
   "display_name": "Python 3 (ipykernel)",
   "language": "python",
   "name": "python3"
  },
  "language_info": {
   "codemirror_mode": {
    "name": "ipython",
    "version": 3
   },
   "file_extension": ".py",
   "mimetype": "text/x-python",
   "name": "python",
   "nbconvert_exporter": "python",
   "pygments_lexer": "ipython3",
   "version": "3.10.8"
  }
 },
 "nbformat": 4,
 "nbformat_minor": 5
}
