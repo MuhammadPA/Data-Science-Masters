{
 "cells": [
  {
   "cell_type": "markdown",
   "id": "d25e4272-acfb-40b1-a7a1-00dbc12d9ab8",
   "metadata": {},
   "source": [
    "## Part 1: Theoretical Questions"
   ]
  },
  {
   "cell_type": "markdown",
   "id": "4dfaa47c-9903-498d-8120-f83a9dc18ca5",
   "metadata": {},
   "source": [
    "### 1. What are the different data structures used in Tensorflow?. Give some examples."
   ]
  },
  {
   "cell_type": "markdown",
   "id": "304c1383-66bb-4434-803b-4c70fabf06a2",
   "metadata": {},
   "source": [
    "TensorFlow provides several data structures that are commonly used in deep learning applications. Some of the key data structures in TensorFlow include:\n",
    "\n",
    "1. **Tensors**: Tensors are the fundamental data structures in TensorFlow. They are multi-dimensional arrays that can represent scalars, vectors, matrices, or higher-dimensional arrays. Tensors are used to store and manipulate data in TensorFlow computations. Examples include:\n",
    "\n",
    "   - Scalar: `tf.constant(5)` represents a scalar tensor with a value of 5.\n",
    "   - Vector: `tf.constant([1, 2, 3])` represents a 1D tensor with values [1, 2, 3].\n",
    "   - Matrix: `tf.constant([[1, 2], [3, 4]])` represents a 2D tensor with values [[1, 2], [3, 4]].\n",
    "\n",
    "2. **Variables**: Variables are tensors that hold values that can be updated during training. They are commonly used to represent model parameters that are optimized through gradient descent or other optimization algorithms. Examples include:\n",
    "\n",
    "   - Weight matrix: `tf.Variable(tf.random.normal(shape=(784, 256)))` represents a variable tensor initialized with random values for a neural network weight matrix.\n",
    "   - Bias vector: `tf.Variable(tf.zeros(shape=(256,)))` represents a variable tensor initialized with zeros for a neural network bias vector.\n",
    "\n",
    "3. **Constants**: Constants are tensors with fixed values that remain unchanged during execution. They are typically used to represent hyperparameters, fixed values, or other constant values in a TensorFlow program. Examples include:\n",
    "\n",
    "   - Learning rate: `tf.constant(0.001)` represents a constant tensor with a fixed learning rate value.\n",
    "   - Number of epochs: `tf.constant(10)` represents a constant tensor with the number of training epochs.\n",
    "\n",
    "4. **Sparse tensors**: Sparse tensors are specialized tensors used to efficiently represent and manipulate tensors with a large number of zero values. They store only the non-zero values along with their indices. Examples include:\n",
    "\n",
    "   - `tf.SparseTensor` represents a sparse tensor with values and indices.\n",
    "\n",
    "These are some of the key data structures used in TensorFlow, and they play essential roles in representing and manipulating data in deep learning models."
   ]
  },
  {
   "cell_type": "markdown",
   "id": "d2bc84aa-aeb1-4e8c-82a4-2d56fc2796a3",
   "metadata": {},
   "source": [
    "### 2. How does the TensorFlow constant differ from a TensorFlow variable? Explain with an example."
   ]
  },
  {
   "cell_type": "code",
   "execution_count": 3,
   "id": "e6344c66-84bf-4226-ab94-9a8a97ed4262",
   "metadata": {},
   "outputs": [
    {
     "name": "stdout",
     "output_type": "stream",
     "text": [
      "Collecting tensorflow\n",
      "  Downloading tensorflow-2.13.0-cp310-cp310-manylinux_2_17_x86_64.manylinux2014_x86_64.whl (524.1 MB)\n",
      "\u001b[2K     \u001b[90m━━━━━━━━━━━━━━━━━━━━━━━━━━━━━━━━━━━━━━━\u001b[0m \u001b[32m524.1/524.1 MB\u001b[0m \u001b[31m2.8 MB/s\u001b[0m eta \u001b[36m0:00:00\u001b[0m00:01\u001b[0m00:01\u001b[0m\n",
      "\u001b[?25hCollecting astunparse>=1.6.0\n",
      "  Downloading astunparse-1.6.3-py2.py3-none-any.whl (12 kB)\n",
      "Collecting grpcio<2.0,>=1.24.3\n",
      "  Downloading grpcio-1.56.0-cp310-cp310-manylinux_2_17_x86_64.manylinux2014_x86_64.whl (5.2 MB)\n",
      "\u001b[2K     \u001b[90m━━━━━━━━━━━━━━━━━━━━━━━━━━━━━━━━━━━━━━━━\u001b[0m \u001b[32m5.2/5.2 MB\u001b[0m \u001b[31m78.2 MB/s\u001b[0m eta \u001b[36m0:00:00\u001b[0mta \u001b[36m0:00:01\u001b[0m\n",
      "\u001b[?25hCollecting keras<2.14,>=2.13.1\n",
      "  Downloading keras-2.13.1-py3-none-any.whl (1.7 MB)\n",
      "\u001b[2K     \u001b[90m━━━━━━━━━━━━━━━━━━━━━━━━━━━━━━━━━━━━━━━━\u001b[0m \u001b[32m1.7/1.7 MB\u001b[0m \u001b[31m64.1 MB/s\u001b[0m eta \u001b[36m0:00:00\u001b[0m\n",
      "\u001b[?25hRequirement already satisfied: setuptools in /opt/conda/lib/python3.10/site-packages (from tensorflow) (65.5.1)\n",
      "Collecting absl-py>=1.0.0\n",
      "  Downloading absl_py-1.4.0-py3-none-any.whl (126 kB)\n",
      "\u001b[2K     \u001b[90m━━━━━━━━━━━━━━━━━━━━━━━━━━━━━━━━━━━━━━\u001b[0m \u001b[32m126.5/126.5 kB\u001b[0m \u001b[31m23.5 MB/s\u001b[0m eta \u001b[36m0:00:00\u001b[0m\n",
      "\u001b[?25hCollecting tensorflow-io-gcs-filesystem>=0.23.1\n",
      "  Downloading tensorflow_io_gcs_filesystem-0.32.0-cp310-cp310-manylinux_2_12_x86_64.manylinux2010_x86_64.whl (2.4 MB)\n",
      "\u001b[2K     \u001b[90m━━━━━━━━━━━━━━━━━━━━━━━━━━━━━━━━━━━━━━━━\u001b[0m \u001b[32m2.4/2.4 MB\u001b[0m \u001b[31m64.2 MB/s\u001b[0m eta \u001b[36m0:00:00\u001b[0m00:01\u001b[0m\n",
      "\u001b[?25hRequirement already satisfied: protobuf!=4.21.0,!=4.21.1,!=4.21.2,!=4.21.3,!=4.21.4,!=4.21.5,<5.0.0dev,>=3.20.3 in /opt/conda/lib/python3.10/site-packages (from tensorflow) (4.21.11)\n",
      "Requirement already satisfied: packaging in /opt/conda/lib/python3.10/site-packages (from tensorflow) (22.0)\n",
      "Collecting opt-einsum>=2.3.2\n",
      "  Downloading opt_einsum-3.3.0-py3-none-any.whl (65 kB)\n",
      "\u001b[2K     \u001b[90m━━━━━━━━━━━━━━━━━━━━━━━━━━━━━━━━━━━━━━━━\u001b[0m \u001b[32m65.5/65.5 kB\u001b[0m \u001b[31m12.6 MB/s\u001b[0m eta \u001b[36m0:00:00\u001b[0m\n",
      "\u001b[?25hCollecting flatbuffers>=23.1.21\n",
      "  Downloading flatbuffers-23.5.26-py2.py3-none-any.whl (26 kB)\n",
      "Collecting libclang>=13.0.0\n",
      "  Downloading libclang-16.0.0-py2.py3-none-manylinux2010_x86_64.whl (22.9 MB)\n",
      "\u001b[2K     \u001b[90m━━━━━━━━━━━━━━━━━━━━━━━━━━━━━━━━━━━━━━━━\u001b[0m \u001b[32m22.9/22.9 MB\u001b[0m \u001b[31m55.1 MB/s\u001b[0m eta \u001b[36m0:00:00\u001b[0m00:01\u001b[0m00:01\u001b[0m\n",
      "\u001b[?25hCollecting gast<=0.4.0,>=0.2.1\n",
      "  Downloading gast-0.4.0-py3-none-any.whl (9.8 kB)\n",
      "Collecting google-pasta>=0.1.1\n",
      "  Downloading google_pasta-0.2.0-py3-none-any.whl (57 kB)\n",
      "\u001b[2K     \u001b[90m━━━━━━━━━━━━━━━━━━━━━━━━━━━━━━━━━━━━━━━━\u001b[0m \u001b[32m57.5/57.5 kB\u001b[0m \u001b[31m11.5 MB/s\u001b[0m eta \u001b[36m0:00:00\u001b[0m\n",
      "\u001b[?25hRequirement already satisfied: numpy<=1.24.3,>=1.22 in /opt/conda/lib/python3.10/site-packages (from tensorflow) (1.23.5)\n",
      "Collecting wrapt>=1.11.0\n",
      "  Downloading wrapt-1.15.0-cp310-cp310-manylinux_2_5_x86_64.manylinux1_x86_64.manylinux_2_17_x86_64.manylinux2014_x86_64.whl (78 kB)\n",
      "\u001b[2K     \u001b[90m━━━━━━━━━━━━━━━━━━━━━━━━━━━━━━━━━━━━━━━━\u001b[0m \u001b[32m78.4/78.4 kB\u001b[0m \u001b[31m15.2 MB/s\u001b[0m eta \u001b[36m0:00:00\u001b[0m\n",
      "\u001b[?25hRequirement already satisfied: h5py>=2.9.0 in /opt/conda/lib/python3.10/site-packages (from tensorflow) (3.7.0)\n",
      "Requirement already satisfied: typing-extensions<4.6.0,>=3.6.6 in /opt/conda/lib/python3.10/site-packages (from tensorflow) (4.4.0)\n",
      "Collecting tensorflow-estimator<2.14,>=2.13.0\n",
      "  Downloading tensorflow_estimator-2.13.0-py2.py3-none-any.whl (440 kB)\n",
      "\u001b[2K     \u001b[90m━━━━━━━━━━━━━━━━━━━━━━━━━━━━━━━━━━━━━━\u001b[0m \u001b[32m440.8/440.8 kB\u001b[0m \u001b[31m50.9 MB/s\u001b[0m eta \u001b[36m0:00:00\u001b[0m\n",
      "\u001b[?25hCollecting tensorboard<2.14,>=2.13\n",
      "  Downloading tensorboard-2.13.0-py3-none-any.whl (5.6 MB)\n",
      "\u001b[2K     \u001b[90m━━━━━━━━━━━━━━━━━━━━━━━━━━━━━━━━━━━━━━━━\u001b[0m \u001b[32m5.6/5.6 MB\u001b[0m \u001b[31m83.7 MB/s\u001b[0m eta \u001b[36m0:00:00\u001b[0mta \u001b[36m0:00:01\u001b[0m\n",
      "\u001b[?25hRequirement already satisfied: six>=1.12.0 in /opt/conda/lib/python3.10/site-packages (from tensorflow) (1.16.0)\n",
      "Collecting termcolor>=1.1.0\n",
      "  Downloading termcolor-2.3.0-py3-none-any.whl (6.9 kB)\n",
      "Requirement already satisfied: wheel<1.0,>=0.23.0 in /opt/conda/lib/python3.10/site-packages (from astunparse>=1.6.0->tensorflow) (0.38.4)\n",
      "Collecting werkzeug>=1.0.1\n",
      "  Downloading Werkzeug-2.3.6-py3-none-any.whl (242 kB)\n",
      "\u001b[2K     \u001b[90m━━━━━━━━━━━━━━━━━━━━━━━━━━━━━━━━━━━━━━\u001b[0m \u001b[32m242.5/242.5 kB\u001b[0m \u001b[31m33.8 MB/s\u001b[0m eta \u001b[36m0:00:00\u001b[0m\n",
      "\u001b[?25hCollecting google-auth<3,>=1.6.3\n",
      "  Downloading google_auth-2.21.0-py2.py3-none-any.whl (182 kB)\n",
      "\u001b[2K     \u001b[90m━━━━━━━━━━━━━━━━━━━━━━━━━━━━━━━━━━━━━━\u001b[0m \u001b[32m182.1/182.1 kB\u001b[0m \u001b[31m31.9 MB/s\u001b[0m eta \u001b[36m0:00:00\u001b[0m\n",
      "\u001b[?25hRequirement already satisfied: requests<3,>=2.21.0 in /opt/conda/lib/python3.10/site-packages (from tensorboard<2.14,>=2.13->tensorflow) (2.28.1)\n",
      "Collecting google-auth-oauthlib<1.1,>=0.5\n",
      "  Downloading google_auth_oauthlib-1.0.0-py2.py3-none-any.whl (18 kB)\n",
      "Collecting tensorboard-data-server<0.8.0,>=0.7.0\n",
      "  Downloading tensorboard_data_server-0.7.1-py3-none-manylinux2014_x86_64.whl (6.6 MB)\n",
      "\u001b[2K     \u001b[90m━━━━━━━━━━━━━━━━━━━━━━━━━━━━━━━━━━━━━━━━\u001b[0m \u001b[32m6.6/6.6 MB\u001b[0m \u001b[31m80.2 MB/s\u001b[0m eta \u001b[36m0:00:00\u001b[0m:00:01\u001b[0m00:01\u001b[0m\n",
      "\u001b[?25hCollecting markdown>=2.6.8\n",
      "  Downloading Markdown-3.4.3-py3-none-any.whl (93 kB)\n",
      "\u001b[2K     \u001b[90m━━━━━━━━━━━━━━━━━━━━━━━━━━━━━━━━━━━━━━━━\u001b[0m \u001b[32m93.9/93.9 kB\u001b[0m \u001b[31m17.0 MB/s\u001b[0m eta \u001b[36m0:00:00\u001b[0m\n",
      "\u001b[?25hCollecting cachetools<6.0,>=2.0.0\n",
      "  Downloading cachetools-5.3.1-py3-none-any.whl (9.3 kB)\n",
      "Requirement already satisfied: urllib3<2.0 in /opt/conda/lib/python3.10/site-packages (from google-auth<3,>=1.6.3->tensorboard<2.14,>=2.13->tensorflow) (1.26.13)\n",
      "Collecting rsa<5,>=3.1.4\n",
      "  Downloading rsa-4.9-py3-none-any.whl (34 kB)\n",
      "Collecting pyasn1-modules>=0.2.1\n",
      "  Downloading pyasn1_modules-0.3.0-py2.py3-none-any.whl (181 kB)\n",
      "\u001b[2K     \u001b[90m━━━━━━━━━━━━━━━━━━━━━━━━━━━━━━━━━━━━━━\u001b[0m \u001b[32m181.3/181.3 kB\u001b[0m \u001b[31m31.5 MB/s\u001b[0m eta \u001b[36m0:00:00\u001b[0m\n",
      "\u001b[?25hCollecting requests-oauthlib>=0.7.0\n",
      "  Downloading requests_oauthlib-1.3.1-py2.py3-none-any.whl (23 kB)\n",
      "Requirement already satisfied: certifi>=2017.4.17 in /opt/conda/lib/python3.10/site-packages (from requests<3,>=2.21.0->tensorboard<2.14,>=2.13->tensorflow) (2022.12.7)\n",
      "Requirement already satisfied: idna<4,>=2.5 in /opt/conda/lib/python3.10/site-packages (from requests<3,>=2.21.0->tensorboard<2.14,>=2.13->tensorflow) (3.4)\n",
      "Requirement already satisfied: charset-normalizer<3,>=2 in /opt/conda/lib/python3.10/site-packages (from requests<3,>=2.21.0->tensorboard<2.14,>=2.13->tensorflow) (2.1.1)\n",
      "Requirement already satisfied: MarkupSafe>=2.1.1 in /opt/conda/lib/python3.10/site-packages (from werkzeug>=1.0.1->tensorboard<2.14,>=2.13->tensorflow) (2.1.1)\n",
      "Collecting pyasn1<0.6.0,>=0.4.6\n",
      "  Downloading pyasn1-0.5.0-py2.py3-none-any.whl (83 kB)\n",
      "\u001b[2K     \u001b[90m━━━━━━━━━━━━━━━━━━━━━━━━━━━━━━━━━━━━━━━━\u001b[0m \u001b[32m83.9/83.9 kB\u001b[0m \u001b[31m17.2 MB/s\u001b[0m eta \u001b[36m0:00:00\u001b[0m\n",
      "\u001b[?25hRequirement already satisfied: oauthlib>=3.0.0 in /opt/conda/lib/python3.10/site-packages (from requests-oauthlib>=0.7.0->google-auth-oauthlib<1.1,>=0.5->tensorboard<2.14,>=2.13->tensorflow) (3.2.2)\n",
      "Installing collected packages: libclang, flatbuffers, wrapt, werkzeug, termcolor, tensorflow-io-gcs-filesystem, tensorflow-estimator, tensorboard-data-server, pyasn1, opt-einsum, markdown, keras, grpcio, google-pasta, gast, cachetools, astunparse, absl-py, rsa, requests-oauthlib, pyasn1-modules, google-auth, google-auth-oauthlib, tensorboard, tensorflow\n",
      "Successfully installed absl-py-1.4.0 astunparse-1.6.3 cachetools-5.3.1 flatbuffers-23.5.26 gast-0.4.0 google-auth-2.21.0 google-auth-oauthlib-1.0.0 google-pasta-0.2.0 grpcio-1.56.0 keras-2.13.1 libclang-16.0.0 markdown-3.4.3 opt-einsum-3.3.0 pyasn1-0.5.0 pyasn1-modules-0.3.0 requests-oauthlib-1.3.1 rsa-4.9 tensorboard-2.13.0 tensorboard-data-server-0.7.1 tensorflow-2.13.0 tensorflow-estimator-2.13.0 tensorflow-io-gcs-filesystem-0.32.0 termcolor-2.3.0 werkzeug-2.3.6 wrapt-1.15.0\n",
      "Note: you may need to restart the kernel to use updated packages.\n"
     ]
    }
   ],
   "source": [
    "pip install tensorflow"
   ]
  },
  {
   "cell_type": "markdown",
   "id": "60e5a1c4-685e-4b73-b55f-fa42279e5659",
   "metadata": {},
   "source": [
    "In TensorFlow, constants and variables differ in their mutability and behavior during execution. Here's a detailed explanation of the differences between TensorFlow constants and variables:\n",
    "\n",
    "1. **Mutability**: Constants are immutable, meaning their values cannot be changed once they are defined. On the other hand, variables are mutable, allowing their values to be updated during program execution.\n",
    "\n",
    "2. **Usage and Behavior**:\n",
    "\n",
    "   - Constants: Constants are typically used to store fixed values, hyperparameters, or other values that do not need to be updated during training or inference. They are created using the `tf.constant()` function and retain the same value throughout the program's execution."
   ]
  },
  {
   "cell_type": "code",
   "execution_count": 5,
   "id": "3a01c594-e7c7-49a4-8ca8-ca2d53ee3453",
   "metadata": {},
   "outputs": [
    {
     "name": "stdout",
     "output_type": "stream",
     "text": [
      "tf.Tensor(5, shape=(), dtype=int32)\n"
     ]
    }
   ],
   "source": [
    "import tensorflow as tf\n",
    "# Creating a constant\n",
    "constant = tf.constant(5)\n",
    "\n",
    "# Printing the constant's value\n",
    "print(constant)  "
   ]
  },
  {
   "cell_type": "markdown",
   "id": "abeeba57-cad7-4651-af89-a21607681940",
   "metadata": {},
   "source": [
    "- Variables: Variables, on the other hand, are used to represent model parameters that need to be optimized during training. They are created using the `tf.Variable()` function and can be updated using methods like `assign()` or through training operations. Variables are used to store and update values such as weights and biases in neural networks."
   ]
  },
  {
   "cell_type": "code",
   "execution_count": 6,
   "id": "4ffc99fd-8349-47bf-8676-70d54e8006de",
   "metadata": {},
   "outputs": [
    {
     "name": "stdout",
     "output_type": "stream",
     "text": [
      "<tf.Variable 'Variable:0' shape=() dtype=int32, numpy=2>\n",
      "<tf.Variable 'Variable:0' shape=() dtype=int32, numpy=3>\n"
     ]
    }
   ],
   "source": [
    "# Creating a variable\n",
    "variable = tf.Variable(2)\n",
    "\n",
    "# Printing the initial value\n",
    "print(variable)  \n",
    "\n",
    "# Updating the variable's value\n",
    "variable.assign(3)\n",
    "\n",
    "# Printing the updated value\n",
    "print(variable)  "
   ]
  },
  {
   "cell_type": "markdown",
   "id": "cd459331-4eb9-407c-9986-03a43961794c",
   "metadata": {},
   "source": [
    "So, the key differences between TensorFlow constants and variables are their mutability and intended usage. Constants hold fixed values that cannot be changed once defined, while variables are mutable and allow for updates during program execution, making them suitable for representing and optimizing model parameters."
   ]
  },
  {
   "cell_type": "markdown",
   "id": "9ef10e97-5a85-4b3a-b925-a0cc4747c4ec",
   "metadata": {},
   "source": [
    "### 3. Describe the process of matrix addition, multiplication, and element wise operations in TensorFlow."
   ]
  },
  {
   "cell_type": "markdown",
   "id": "c22692b5-6b98-4286-b347-e4efa2182693",
   "metadata": {},
   "source": [
    "In TensorFlow, matrix addition, multiplication, and element-wise operations can be performed using various functions and operators. Here's an overview of each operation and the corresponding TensorFlow functions or operators used:\n",
    "\n",
    "1. **Matrix Addition**:\n",
    "\n",
    "   Matrix addition is performed by adding corresponding elements of two matrices with the same dimensions. In TensorFlow, you can perform matrix addition using the `tf.add()` function or the `+` operator.\n",
    "\n",
    "\n",
    "   In this example, we define two matrices (`matrix1` and `matrix2`) and use `tf.add()` to perform matrix addition, resulting in a new matrix (`result`) that contains the element-wise sum of the input matrices.\n",
    "\n",
    "2. **Matrix Multiplication**:\n",
    "\n",
    "   Matrix multiplication is performed by multiplying corresponding elements of rows in the first matrix with columns in the second matrix and summing the results. In TensorFlow, you can perform matrix multiplication using the `tf.matmul()` function or the `@` operator.\n",
    "\n"
   ]
  },
  {
   "cell_type": "code",
   "execution_count": 7,
   "id": "6698d304-d822-4f0f-85e6-26a486aa444b",
   "metadata": {},
   "outputs": [
    {
     "name": "stdout",
     "output_type": "stream",
     "text": [
      "tf.Tensor(\n",
      "[[ 6  8]\n",
      " [10 12]], shape=(2, 2), dtype=int32)\n"
     ]
    }
   ],
   "source": [
    "# Define two matrices\n",
    "matrix1 = tf.constant([[1, 2], [3, 4]])\n",
    "matrix2 = tf.constant([[5, 6], [7, 8]])\n",
    "\n",
    "# Perform matrix addition\n",
    "result = tf.add(matrix1, matrix2)\n",
    "\n",
    "# Print the result\n",
    "print(result)"
   ]
  },
  {
   "cell_type": "markdown",
   "id": "d3e0e7b9-74a7-4f11-bbf1-84742676fed3",
   "metadata": {},
   "source": [
    "3. **Element-wise Operations**:\n",
    "\n",
    "   Element-wise operations are performed by applying an operation to each corresponding element of two matrices or a matrix and a scalar. In TensorFlow, element-wise operations can be performed using functions like `tf.add()`, `tf.subtract()`, `tf.multiply()`, `tf.divide()`, and so on."
   ]
  },
  {
   "cell_type": "code",
   "execution_count": 8,
   "id": "8683cd2e-1271-4da0-889c-380d0a7ea4d8",
   "metadata": {},
   "outputs": [
    {
     "name": "stdout",
     "output_type": "stream",
     "text": [
      "tf.Tensor(\n",
      "[[3 4]\n",
      " [5 6]], shape=(2, 2), dtype=int32)\n",
      "tf.Tensor(\n",
      "[[-1  0]\n",
      " [ 1  2]], shape=(2, 2), dtype=int32)\n",
      "tf.Tensor(\n",
      "[[2 4]\n",
      " [6 8]], shape=(2, 2), dtype=int32)\n",
      "tf.Tensor(\n",
      "[[0.5 1. ]\n",
      " [1.5 2. ]], shape=(2, 2), dtype=float64)\n"
     ]
    }
   ],
   "source": [
    "# Define a matrix and a scalar\n",
    "matrix = tf.constant([[1, 2], [3, 4]])\n",
    "scalar = tf.constant(2)\n",
    "\n",
    "# Perform element-wise operations\n",
    "result_add = tf.add(matrix, scalar)\n",
    "result_sub = tf.subtract(matrix, scalar)\n",
    "result_mul = tf.multiply(matrix, scalar)\n",
    "result_div = tf.divide(matrix, scalar)\n",
    "\n",
    "# Print the results\n",
    "print(result_add)\n",
    "print(result_sub)\n",
    "print(result_mul)\n",
    "print(result_div)"
   ]
  },
  {
   "cell_type": "markdown",
   "id": "4b171037-6365-42ae-b3d2-a4f1b11995c3",
   "metadata": {},
   "source": [
    "These operations form the foundation for many mathematical computations in TensorFlow and are essential for various deep learning tasks involving matrix manipulation and transformation."
   ]
  },
  {
   "cell_type": "markdown",
   "id": "0a996e3a-b967-4a7d-98dc-9850b8ac0bf0",
   "metadata": {},
   "source": [
    "## Part 2: Practical Implementation"
   ]
  },
  {
   "cell_type": "markdown",
   "id": "c05e5402-24fc-49af-a45c-fda9987a0b17",
   "metadata": {},
   "source": [
    "### Task 1: Creating and Manipulating Matrices"
   ]
  },
  {
   "cell_type": "markdown",
   "id": "7f7cc391-30de-47c7-a4f0-06126e0a31ee",
   "metadata": {},
   "source": [
    "### 1. Create a normal matrix A with dimensions 2x2, using TensorFlow's random_normal function. Display the values of matrix A"
   ]
  },
  {
   "cell_type": "code",
   "execution_count": 11,
   "id": "9732d5a8-e418-4628-aa62-85af19f8fdac",
   "metadata": {},
   "outputs": [
    {
     "name": "stdout",
     "output_type": "stream",
     "text": [
      "tf.Tensor(\n",
      "[[-0.56773347 -1.1200626 ]\n",
      " [ 0.4115314   1.3779663 ]], shape=(2, 2), dtype=float32)\n"
     ]
    }
   ],
   "source": [
    "A = tf.random.normal(shape=(2, 2))\n",
    "print(A)"
   ]
  },
  {
   "cell_type": "markdown",
   "id": "4d1d2bfd-6dee-4b2e-969e-3e9ceb366032",
   "metadata": {},
   "source": [
    "### 2. Create a Gaussian matrix B with dimensions x, using TensorFlow's truncated_normal function. Display the values of matrix B"
   ]
  },
  {
   "cell_type": "code",
   "execution_count": 12,
   "id": "bcaf2b37-ce12-4672-a874-0ec6c496eaaf",
   "metadata": {},
   "outputs": [
    {
     "name": "stdout",
     "output_type": "stream",
     "text": [
      "tf.Tensor(\n",
      "[[ 0.2069356  -0.8287504  -0.7488676 ]\n",
      " [ 0.23174791  0.01931232 -0.20348339]\n",
      " [ 0.5933986   0.6130777  -0.37511602]], shape=(3, 3), dtype=float32)\n"
     ]
    }
   ],
   "source": [
    "x = 3\n",
    "B = tf.random.truncated_normal(shape=(x, x))\n",
    "print(B)"
   ]
  },
  {
   "cell_type": "markdown",
   "id": "6427e068-0ddb-4efb-ba67-58066a0b3ffb",
   "metadata": {},
   "source": [
    "### 3. Create a matrix C with dimensions 2x2, where the values are drawn from a normal distribution with a mean of 2 and a standard deviation of 0.x, using TensorFlow's random.normal function. Display the values of matrix C"
   ]
  },
  {
   "cell_type": "code",
   "execution_count": 13,
   "id": "2e0b8cfd-9d48-480d-9e7d-137be21ae26a",
   "metadata": {},
   "outputs": [
    {
     "name": "stdout",
     "output_type": "stream",
     "text": [
      "tf.Tensor(\n",
      "[[1.7963961 1.9330441]\n",
      " [1.8939402 2.1718035]], shape=(2, 2), dtype=float32)\n"
     ]
    }
   ],
   "source": [
    "mean = 2.0\n",
    "stddev = 0.1\n",
    "C = tf.random.normal(shape=(2, 2), mean=mean, stddev=stddev)\n",
    "print(C)"
   ]
  },
  {
   "cell_type": "markdown",
   "id": "a18bc6c0-7abc-4484-9291-8873b266d347",
   "metadata": {},
   "source": [
    "### 4. Perform matrix addition between matrix A and matrix B, and store the result in matrix D"
   ]
  },
  {
   "cell_type": "code",
   "execution_count": 14,
   "id": "98a334e0-9a98-4be5-83c6-7409da782c21",
   "metadata": {},
   "outputs": [
    {
     "name": "stdout",
     "output_type": "stream",
     "text": [
      "tf.Tensor(\n",
      "[[ 6  8]\n",
      " [10 12]], shape=(2, 2), dtype=int32)\n"
     ]
    }
   ],
   "source": [
    "A = tf.constant([[1, 2], [3, 4]])\n",
    "B = tf.constant([[5, 6], [7, 8]])\n",
    "\n",
    "D = tf.add(A, B)\n",
    "\n",
    "print(D)"
   ]
  },
  {
   "cell_type": "markdown",
   "id": "7619b573-eb21-4ba2-a577-f3bd2284708b",
   "metadata": {},
   "source": [
    "### 5. Perform matrix multiplication between matrix C and matrix D, and store the result in matrix E."
   ]
  },
  {
   "cell_type": "code",
   "execution_count": 17,
   "id": "343d82fb-1261-47e3-bbc9-d04e144cf1f2",
   "metadata": {},
   "outputs": [
    {
     "name": "stdout",
     "output_type": "stream",
     "text": [
      "tf.Tensor(\n",
      "[[19 22]\n",
      " [43 50]], shape=(2, 2), dtype=int32)\n"
     ]
    }
   ],
   "source": [
    "C = tf.constant([[1,2],[3,4]])\n",
    "D = tf.constant([[5,6],[7,8]])\n",
    "\n",
    "E=tf.matmul(C,D)\n",
    "\n",
    "print(E)"
   ]
  },
  {
   "cell_type": "markdown",
   "id": "ff79450f-1bc7-4f4d-a955-eba6b921e7c6",
   "metadata": {},
   "source": [
    "### Task 3: Performing Additional Matrix Operations"
   ]
  },
  {
   "cell_type": "markdown",
   "id": "58948779-f225-4008-90e7-59d3953d3f99",
   "metadata": {},
   "source": [
    "### 1. Create a matrix F with dimensions 2x2, initialized with random values using TensorFlow's random_uniform functions"
   ]
  },
  {
   "cell_type": "code",
   "execution_count": 27,
   "id": "f345ac97-81c9-49c7-83bf-8832c886d9f4",
   "metadata": {},
   "outputs": [
    {
     "name": "stdout",
     "output_type": "stream",
     "text": [
      "tf.Tensor(\n",
      "[[0.7033316  0.18596232]\n",
      " [0.0347805  0.16601074]], shape=(2, 2), dtype=float32)\n"
     ]
    }
   ],
   "source": [
    "F = tf.random.uniform(shape = (2,2))\n",
    "print(F)"
   ]
  },
  {
   "cell_type": "markdown",
   "id": "4a2fb041-04ed-4725-9e77-af2a7913d594",
   "metadata": {},
   "source": [
    "### 2. Calculate the transpose of matrix F and store the result in matrix G"
   ]
  },
  {
   "cell_type": "code",
   "execution_count": 28,
   "id": "b977d967-4747-4292-9a2a-b149031bcaf6",
   "metadata": {},
   "outputs": [
    {
     "name": "stdout",
     "output_type": "stream",
     "text": [
      "tf.Tensor(\n",
      "[[0.7033316  0.0347805 ]\n",
      " [0.18596232 0.16601074]], shape=(2, 2), dtype=float32)\n"
     ]
    }
   ],
   "source": [
    "G= tf.transpose(F)\n",
    "print(G)"
   ]
  },
  {
   "cell_type": "markdown",
   "id": "5ba435b2-e097-4333-82e3-5084df7ffabc",
   "metadata": {},
   "source": [
    "### 3. Calculate the element wise exponential of matrix F and store the result in matrix H"
   ]
  },
  {
   "cell_type": "code",
   "execution_count": 29,
   "id": "612c6dc7-8692-4119-bd9f-a235b3f938ca",
   "metadata": {},
   "outputs": [
    {
     "name": "stdout",
     "output_type": "stream",
     "text": [
      "tf.Tensor(\n",
      "[[2.020473  1.2043769]\n",
      " [1.0353924 1.1805857]], shape=(2, 2), dtype=float32)\n"
     ]
    }
   ],
   "source": [
    "H = tf.exp(F)\n",
    "print(H)"
   ]
  },
  {
   "cell_type": "markdown",
   "id": "e634a9fd-23c8-4807-aced-91cf069023aa",
   "metadata": {},
   "source": [
    "### 4. Create a matrix I by concatenating matrix F and matrix G horizontally"
   ]
  },
  {
   "cell_type": "code",
   "execution_count": 30,
   "id": "92190226-2713-4642-9768-a62ff03bf113",
   "metadata": {},
   "outputs": [
    {
     "name": "stdout",
     "output_type": "stream",
     "text": [
      "tf.Tensor(\n",
      "[[0.7033316  0.18596232 0.7033316  0.0347805 ]\n",
      " [0.0347805  0.16601074 0.18596232 0.16601074]], shape=(2, 4), dtype=float32)\n"
     ]
    }
   ],
   "source": [
    "I = tf.concat([F,G],axis=1)\n",
    "print(I)"
   ]
  },
  {
   "cell_type": "markdown",
   "id": "d61f2cc5-11a3-43cb-987e-8a1563a8625e",
   "metadata": {},
   "source": [
    "### 5. Create a matrix J by concatenating matrix F and matrix H vertically."
   ]
  },
  {
   "cell_type": "code",
   "execution_count": 31,
   "id": "6cb23739-cd18-40c4-bc98-05da05f533fb",
   "metadata": {},
   "outputs": [
    {
     "name": "stdout",
     "output_type": "stream",
     "text": [
      "tf.Tensor(\n",
      "[[0.7033316  0.18596232]\n",
      " [0.0347805  0.16601074]\n",
      " [0.7033316  0.0347805 ]\n",
      " [0.18596232 0.16601074]], shape=(4, 2), dtype=float32)\n"
     ]
    }
   ],
   "source": [
    "J = tf.concat([F,G],axis=0)\n",
    "print(J)"
   ]
  }
 ],
 "metadata": {
  "kernelspec": {
   "display_name": "Python 3 (ipykernel)",
   "language": "python",
   "name": "python3"
  },
  "language_info": {
   "codemirror_mode": {
    "name": "ipython",
    "version": 3
   },
   "file_extension": ".py",
   "mimetype": "text/x-python",
   "name": "python",
   "nbconvert_exporter": "python",
   "pygments_lexer": "ipython3",
   "version": "3.10.8"
  }
 },
 "nbformat": 4,
 "nbformat_minor": 5
}
