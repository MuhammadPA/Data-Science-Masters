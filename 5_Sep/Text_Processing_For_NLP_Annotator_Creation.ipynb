{
  "cells": [
    {
      "cell_type": "markdown",
      "metadata": {
        "id": "JlhMzF3BDImH"
      },
      "source": [
        "# Sample text data"
      ]
    },
    {
      "cell_type": "code",
      "execution_count": null,
      "metadata": {
        "id": "j5bhFWStDImU"
      },
      "outputs": [],
      "source": [
        "data = [\n",
        "    (\"I love this product!\", \"positive\"),\n",
        "    (\"This is not what I expected.\", \"negative\"),\n",
        "    (\"The customer service was excellent.\", \"positive\"),\n",
        "    (\"The quality of the item is poor.\", \"negative\")\n",
        "]"
      ]
    },
    {
      "cell_type": "markdown",
      "metadata": {
        "id": "Y-DxpzDSDImY"
      },
      "source": [
        "# Define the annotator"
      ]
    },
    {
      "cell_type": "code",
      "execution_count": null,
      "metadata": {
        "id": "bSuo6iq8DImZ",
        "outputId": "c3daa0a1-3663-41b8-ec47-bcd956099d81"
      },
      "outputs": [
        {
          "name": "stdout",
          "output_type": "stream",
          "text": [
            "Define the annotator\n"
          ]
        }
      ],
      "source": [
        "print(\"Define the annotator\")\n",
        "\n",
        "def annotate_data(data):\n",
        "    annotated_data = []\n",
        "    for text, label in data:\n",
        "        annotated_data.append((text, label))\n",
        "    return annotated_data"
      ]
    },
    {
      "cell_type": "markdown",
      "metadata": {
        "id": "hKyEirTpDImc"
      },
      "source": [
        "# Annotate the data"
      ]
    },
    {
      "cell_type": "code",
      "execution_count": null,
      "metadata": {
        "id": "s_lfBBsXDImd",
        "outputId": "2bbbc94a-8df6-4266-d79f-f100b3b1b718"
      },
      "outputs": [
        {
          "name": "stdout",
          "output_type": "stream",
          "text": [
            "Annotate the data\n",
            "Text: I love this product!\tLabel: positive\n",
            "Text: This is not what I expected.\tLabel: negative\n",
            "Text: The customer service was excellent.\tLabel: positive\n",
            "Text: The quality of the item is poor.\tLabel: negative\n"
          ]
        }
      ],
      "source": [
        "print(\"Annotate the data\")\n",
        "annotated_data = annotate_data(data)\n",
        "for text, label in annotated_data:\n",
        "    print(f\"Text: {text}\\tLabel: {label}\")"
      ]
    },
    {
      "cell_type": "code",
      "execution_count": null,
      "metadata": {
        "id": "PoT0f4arDIme"
      },
      "outputs": [],
      "source": []
    }
  ],
  "metadata": {
    "kernelspec": {
      "display_name": "Python 3",
      "language": "python",
      "name": "python3"
    },
    "language_info": {
      "codemirror_mode": {
        "name": "ipython",
        "version": 3
      },
      "file_extension": ".py",
      "mimetype": "text/x-python",
      "name": "python",
      "nbconvert_exporter": "python",
      "pygments_lexer": "ipython3",
      "version": "3.8.5"
    },
    "colab": {
      "provenance": []
    }
  },
  "nbformat": 4,
  "nbformat_minor": 0
}