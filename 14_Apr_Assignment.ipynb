{
 "cells": [
  {
   "cell_type": "markdown",
   "id": "2c1e77e5-dd13-4892-98fc-b5024d4753dc",
   "metadata": {},
   "source": [
    "Build a random forest classifier to predict the risk of heart disease based on a dataset of patient\n",
    "information. The dataset contains 303 instances with 14 features, including age, sex, chest pain type,\n",
    "resting blood pressure, serum cholesterol, and maximum heart rate achieved.\n",
    "\n",
    "Dataset link: https://drive.google.com/file/d/1bGoIE4Z2kG5nyh-fGZAJ7LH0ki3UfmSJ/view?\n",
    "usp=share_link"
   ]
  },
  {
   "cell_type": "markdown",
   "id": "4076f8af-0860-4f44-aab1-b84854377f8d",
   "metadata": {},
   "source": [
    "### 1. Preprocess the dataset by handling missing values, encoding categorical variables, and scaling the numerical features if necessary."
   ]
  },
  {
   "cell_type": "code",
   "execution_count": 2,
   "id": "11e066be-6869-41b6-8de4-5f4c307c026b",
   "metadata": {},
   "outputs": [
    {
     "data": {
      "text/html": [
       "<div>\n",
       "<style scoped>\n",
       "    .dataframe tbody tr th:only-of-type {\n",
       "        vertical-align: middle;\n",
       "    }\n",
       "\n",
       "    .dataframe tbody tr th {\n",
       "        vertical-align: top;\n",
       "    }\n",
       "\n",
       "    .dataframe thead th {\n",
       "        text-align: right;\n",
       "    }\n",
       "</style>\n",
       "<table border=\"1\" class=\"dataframe\">\n",
       "  <thead>\n",
       "    <tr style=\"text-align: right;\">\n",
       "      <th></th>\n",
       "      <th>age</th>\n",
       "      <th>sex</th>\n",
       "      <th>cp</th>\n",
       "      <th>trestbps</th>\n",
       "      <th>chol</th>\n",
       "      <th>fbs</th>\n",
       "      <th>restecg</th>\n",
       "      <th>thalach</th>\n",
       "      <th>exang</th>\n",
       "      <th>oldpeak</th>\n",
       "      <th>slope</th>\n",
       "      <th>ca</th>\n",
       "      <th>thal</th>\n",
       "      <th>target</th>\n",
       "    </tr>\n",
       "  </thead>\n",
       "  <tbody>\n",
       "    <tr>\n",
       "      <th>0</th>\n",
       "      <td>63</td>\n",
       "      <td>1</td>\n",
       "      <td>3</td>\n",
       "      <td>145</td>\n",
       "      <td>233</td>\n",
       "      <td>1</td>\n",
       "      <td>0</td>\n",
       "      <td>150</td>\n",
       "      <td>0</td>\n",
       "      <td>2.3</td>\n",
       "      <td>0</td>\n",
       "      <td>0</td>\n",
       "      <td>1</td>\n",
       "      <td>1</td>\n",
       "    </tr>\n",
       "    <tr>\n",
       "      <th>1</th>\n",
       "      <td>37</td>\n",
       "      <td>1</td>\n",
       "      <td>2</td>\n",
       "      <td>130</td>\n",
       "      <td>250</td>\n",
       "      <td>0</td>\n",
       "      <td>1</td>\n",
       "      <td>187</td>\n",
       "      <td>0</td>\n",
       "      <td>3.5</td>\n",
       "      <td>0</td>\n",
       "      <td>0</td>\n",
       "      <td>2</td>\n",
       "      <td>1</td>\n",
       "    </tr>\n",
       "    <tr>\n",
       "      <th>2</th>\n",
       "      <td>41</td>\n",
       "      <td>0</td>\n",
       "      <td>1</td>\n",
       "      <td>130</td>\n",
       "      <td>204</td>\n",
       "      <td>0</td>\n",
       "      <td>0</td>\n",
       "      <td>172</td>\n",
       "      <td>0</td>\n",
       "      <td>1.4</td>\n",
       "      <td>2</td>\n",
       "      <td>0</td>\n",
       "      <td>2</td>\n",
       "      <td>1</td>\n",
       "    </tr>\n",
       "    <tr>\n",
       "      <th>3</th>\n",
       "      <td>56</td>\n",
       "      <td>1</td>\n",
       "      <td>1</td>\n",
       "      <td>120</td>\n",
       "      <td>236</td>\n",
       "      <td>0</td>\n",
       "      <td>1</td>\n",
       "      <td>178</td>\n",
       "      <td>0</td>\n",
       "      <td>0.8</td>\n",
       "      <td>2</td>\n",
       "      <td>0</td>\n",
       "      <td>2</td>\n",
       "      <td>1</td>\n",
       "    </tr>\n",
       "    <tr>\n",
       "      <th>4</th>\n",
       "      <td>57</td>\n",
       "      <td>0</td>\n",
       "      <td>0</td>\n",
       "      <td>120</td>\n",
       "      <td>354</td>\n",
       "      <td>0</td>\n",
       "      <td>1</td>\n",
       "      <td>163</td>\n",
       "      <td>1</td>\n",
       "      <td>0.6</td>\n",
       "      <td>2</td>\n",
       "      <td>0</td>\n",
       "      <td>2</td>\n",
       "      <td>1</td>\n",
       "    </tr>\n",
       "  </tbody>\n",
       "</table>\n",
       "</div>"
      ],
      "text/plain": [
       "   age  sex  cp  trestbps  chol  fbs  restecg  thalach  exang  oldpeak  slope  \\\n",
       "0   63    1   3       145   233    1        0      150      0      2.3      0   \n",
       "1   37    1   2       130   250    0        1      187      0      3.5      0   \n",
       "2   41    0   1       130   204    0        0      172      0      1.4      2   \n",
       "3   56    1   1       120   236    0        1      178      0      0.8      2   \n",
       "4   57    0   0       120   354    0        1      163      1      0.6      2   \n",
       "\n",
       "   ca  thal  target  \n",
       "0   0     1       1  \n",
       "1   0     2       1  \n",
       "2   0     2       1  \n",
       "3   0     2       1  \n",
       "4   0     2       1  "
      ]
     },
     "execution_count": 2,
     "metadata": {},
     "output_type": "execute_result"
    }
   ],
   "source": [
    "import pandas as pd\n",
    "df=pd.read_csv('dataset.csv')\n",
    "df.head()"
   ]
  },
  {
   "cell_type": "code",
   "execution_count": 3,
   "id": "4de11d2b-e283-4f56-86f9-42a8f88cac47",
   "metadata": {},
   "outputs": [
    {
     "name": "stdout",
     "output_type": "stream",
     "text": [
      "<class 'pandas.core.frame.DataFrame'>\n",
      "RangeIndex: 303 entries, 0 to 302\n",
      "Data columns (total 14 columns):\n",
      " #   Column    Non-Null Count  Dtype  \n",
      "---  ------    --------------  -----  \n",
      " 0   age       303 non-null    int64  \n",
      " 1   sex       303 non-null    int64  \n",
      " 2   cp        303 non-null    int64  \n",
      " 3   trestbps  303 non-null    int64  \n",
      " 4   chol      303 non-null    int64  \n",
      " 5   fbs       303 non-null    int64  \n",
      " 6   restecg   303 non-null    int64  \n",
      " 7   thalach   303 non-null    int64  \n",
      " 8   exang     303 non-null    int64  \n",
      " 9   oldpeak   303 non-null    float64\n",
      " 10  slope     303 non-null    int64  \n",
      " 11  ca        303 non-null    int64  \n",
      " 12  thal      303 non-null    int64  \n",
      " 13  target    303 non-null    int64  \n",
      "dtypes: float64(1), int64(13)\n",
      "memory usage: 33.3 KB\n"
     ]
    }
   ],
   "source": [
    "df.info()"
   ]
  },
  {
   "cell_type": "code",
   "execution_count": 13,
   "id": "178d873a-903b-465a-90d5-b72d380a3aca",
   "metadata": {},
   "outputs": [
    {
     "data": {
      "text/plain": [
       "1    165\n",
       "0    138\n",
       "Name: target, dtype: int64"
      ]
     },
     "execution_count": 13,
     "metadata": {},
     "output_type": "execute_result"
    }
   ],
   "source": [
    "df['target'].value_counts()"
   ]
  },
  {
   "cell_type": "code",
   "execution_count": 37,
   "id": "22e76962-2992-4a92-bad7-dd06de8b8c87",
   "metadata": {},
   "outputs": [
    {
     "data": {
      "text/plain": [
       "age         0\n",
       "sex         0\n",
       "cp          0\n",
       "trestbps    0\n",
       "chol        0\n",
       "fbs         0\n",
       "restecg     0\n",
       "thalach     0\n",
       "exang       0\n",
       "oldpeak     0\n",
       "slope       0\n",
       "ca          0\n",
       "thal        0\n",
       "target      0\n",
       "dtype: int64"
      ]
     },
     "execution_count": 37,
     "metadata": {},
     "output_type": "execute_result"
    }
   ],
   "source": [
    "#Handling missing values\n",
    "df.isnull().sum()"
   ]
  },
  {
   "cell_type": "markdown",
   "id": "fdb7830d-1e62-45fd-9a48-3e3bf353552d",
   "metadata": {},
   "source": [
    "No Null Values found in dataset"
   ]
  },
  {
   "cell_type": "markdown",
   "id": "51c18def-6b9c-4d7f-9de2-d8442268a506",
   "metadata": {},
   "source": [
    "#### No Encoding is required as all dataypes are already in numerical format also random forest does not require feature scaling"
   ]
  },
  {
   "cell_type": "markdown",
   "id": "43f4a2c1-0970-4310-bd88-5cb6a2855f5e",
   "metadata": {},
   "source": [
    "### 2. Split the dataset into a training set (70%) and a test set (30%)."
   ]
  },
  {
   "cell_type": "code",
   "execution_count": 38,
   "id": "4504be75-3184-48c0-a9ee-c73367ee9660",
   "metadata": {},
   "outputs": [],
   "source": [
    "## independent and dependent features\n",
    "X=df.drop(labels=['target'],axis=1)\n",
    "y=df['target']"
   ]
  },
  {
   "cell_type": "code",
   "execution_count": 39,
   "id": "ff941040-530b-43c5-8d4d-349ab264e49f",
   "metadata": {},
   "outputs": [],
   "source": [
    "from sklearn.model_selection import train_test_split\n",
    "X_train,X_test,y_train,y_test=train_test_split(X,y,test_size=0.30,random_state=42)"
   ]
  },
  {
   "cell_type": "code",
   "execution_count": 40,
   "id": "da25badc-fe6e-431d-97e9-7fd95241ee6a",
   "metadata": {},
   "outputs": [
    {
     "data": {
      "text/html": [
       "<div>\n",
       "<style scoped>\n",
       "    .dataframe tbody tr th:only-of-type {\n",
       "        vertical-align: middle;\n",
       "    }\n",
       "\n",
       "    .dataframe tbody tr th {\n",
       "        vertical-align: top;\n",
       "    }\n",
       "\n",
       "    .dataframe thead th {\n",
       "        text-align: right;\n",
       "    }\n",
       "</style>\n",
       "<table border=\"1\" class=\"dataframe\">\n",
       "  <thead>\n",
       "    <tr style=\"text-align: right;\">\n",
       "      <th></th>\n",
       "      <th>age</th>\n",
       "      <th>sex</th>\n",
       "      <th>cp</th>\n",
       "      <th>trestbps</th>\n",
       "      <th>chol</th>\n",
       "      <th>fbs</th>\n",
       "      <th>restecg</th>\n",
       "      <th>thalach</th>\n",
       "      <th>exang</th>\n",
       "      <th>oldpeak</th>\n",
       "      <th>slope</th>\n",
       "      <th>ca</th>\n",
       "      <th>thal</th>\n",
       "    </tr>\n",
       "  </thead>\n",
       "  <tbody>\n",
       "    <tr>\n",
       "      <th>124</th>\n",
       "      <td>39</td>\n",
       "      <td>0</td>\n",
       "      <td>2</td>\n",
       "      <td>94</td>\n",
       "      <td>199</td>\n",
       "      <td>0</td>\n",
       "      <td>1</td>\n",
       "      <td>179</td>\n",
       "      <td>0</td>\n",
       "      <td>0.0</td>\n",
       "      <td>2</td>\n",
       "      <td>0</td>\n",
       "      <td>2</td>\n",
       "    </tr>\n",
       "    <tr>\n",
       "      <th>72</th>\n",
       "      <td>29</td>\n",
       "      <td>1</td>\n",
       "      <td>1</td>\n",
       "      <td>130</td>\n",
       "      <td>204</td>\n",
       "      <td>0</td>\n",
       "      <td>0</td>\n",
       "      <td>202</td>\n",
       "      <td>0</td>\n",
       "      <td>0.0</td>\n",
       "      <td>2</td>\n",
       "      <td>0</td>\n",
       "      <td>2</td>\n",
       "    </tr>\n",
       "    <tr>\n",
       "      <th>15</th>\n",
       "      <td>50</td>\n",
       "      <td>0</td>\n",
       "      <td>2</td>\n",
       "      <td>120</td>\n",
       "      <td>219</td>\n",
       "      <td>0</td>\n",
       "      <td>1</td>\n",
       "      <td>158</td>\n",
       "      <td>0</td>\n",
       "      <td>1.6</td>\n",
       "      <td>1</td>\n",
       "      <td>0</td>\n",
       "      <td>2</td>\n",
       "    </tr>\n",
       "    <tr>\n",
       "      <th>10</th>\n",
       "      <td>54</td>\n",
       "      <td>1</td>\n",
       "      <td>0</td>\n",
       "      <td>140</td>\n",
       "      <td>239</td>\n",
       "      <td>0</td>\n",
       "      <td>1</td>\n",
       "      <td>160</td>\n",
       "      <td>0</td>\n",
       "      <td>1.2</td>\n",
       "      <td>2</td>\n",
       "      <td>0</td>\n",
       "      <td>2</td>\n",
       "    </tr>\n",
       "    <tr>\n",
       "      <th>163</th>\n",
       "      <td>38</td>\n",
       "      <td>1</td>\n",
       "      <td>2</td>\n",
       "      <td>138</td>\n",
       "      <td>175</td>\n",
       "      <td>0</td>\n",
       "      <td>1</td>\n",
       "      <td>173</td>\n",
       "      <td>0</td>\n",
       "      <td>0.0</td>\n",
       "      <td>2</td>\n",
       "      <td>4</td>\n",
       "      <td>2</td>\n",
       "    </tr>\n",
       "  </tbody>\n",
       "</table>\n",
       "</div>"
      ],
      "text/plain": [
       "     age  sex  cp  trestbps  chol  fbs  restecg  thalach  exang  oldpeak  \\\n",
       "124   39    0   2        94   199    0        1      179      0      0.0   \n",
       "72    29    1   1       130   204    0        0      202      0      0.0   \n",
       "15    50    0   2       120   219    0        1      158      0      1.6   \n",
       "10    54    1   0       140   239    0        1      160      0      1.2   \n",
       "163   38    1   2       138   175    0        1      173      0      0.0   \n",
       "\n",
       "     slope  ca  thal  \n",
       "124      2   0     2  \n",
       "72       2   0     2  \n",
       "15       1   0     2  \n",
       "10       2   0     2  \n",
       "163      2   4     2  "
      ]
     },
     "execution_count": 40,
     "metadata": {},
     "output_type": "execute_result"
    }
   ],
   "source": [
    "X_train.head()"
   ]
  },
  {
   "cell_type": "markdown",
   "id": "05a88936-51c3-4210-b093-4e52a956a83f",
   "metadata": {},
   "source": [
    "### 3. Train a random forest classifier on the training set using 100 trees and a maximum depth of 10 for each tree. Use the default values for other hyperparameters."
   ]
  },
  {
   "cell_type": "code",
   "execution_count": 42,
   "id": "f48ff751-0db9-4a76-9af9-d7be8f4d944d",
   "metadata": {},
   "outputs": [
    {
     "data": {
      "text/html": [
       "<style>#sk-container-id-1 {color: black;background-color: white;}#sk-container-id-1 pre{padding: 0;}#sk-container-id-1 div.sk-toggleable {background-color: white;}#sk-container-id-1 label.sk-toggleable__label {cursor: pointer;display: block;width: 100%;margin-bottom: 0;padding: 0.3em;box-sizing: border-box;text-align: center;}#sk-container-id-1 label.sk-toggleable__label-arrow:before {content: \"▸\";float: left;margin-right: 0.25em;color: #696969;}#sk-container-id-1 label.sk-toggleable__label-arrow:hover:before {color: black;}#sk-container-id-1 div.sk-estimator:hover label.sk-toggleable__label-arrow:before {color: black;}#sk-container-id-1 div.sk-toggleable__content {max-height: 0;max-width: 0;overflow: hidden;text-align: left;background-color: #f0f8ff;}#sk-container-id-1 div.sk-toggleable__content pre {margin: 0.2em;color: black;border-radius: 0.25em;background-color: #f0f8ff;}#sk-container-id-1 input.sk-toggleable__control:checked~div.sk-toggleable__content {max-height: 200px;max-width: 100%;overflow: auto;}#sk-container-id-1 input.sk-toggleable__control:checked~label.sk-toggleable__label-arrow:before {content: \"▾\";}#sk-container-id-1 div.sk-estimator input.sk-toggleable__control:checked~label.sk-toggleable__label {background-color: #d4ebff;}#sk-container-id-1 div.sk-label input.sk-toggleable__control:checked~label.sk-toggleable__label {background-color: #d4ebff;}#sk-container-id-1 input.sk-hidden--visually {border: 0;clip: rect(1px 1px 1px 1px);clip: rect(1px, 1px, 1px, 1px);height: 1px;margin: -1px;overflow: hidden;padding: 0;position: absolute;width: 1px;}#sk-container-id-1 div.sk-estimator {font-family: monospace;background-color: #f0f8ff;border: 1px dotted black;border-radius: 0.25em;box-sizing: border-box;margin-bottom: 0.5em;}#sk-container-id-1 div.sk-estimator:hover {background-color: #d4ebff;}#sk-container-id-1 div.sk-parallel-item::after {content: \"\";width: 100%;border-bottom: 1px solid gray;flex-grow: 1;}#sk-container-id-1 div.sk-label:hover label.sk-toggleable__label {background-color: #d4ebff;}#sk-container-id-1 div.sk-serial::before {content: \"\";position: absolute;border-left: 1px solid gray;box-sizing: border-box;top: 0;bottom: 0;left: 50%;z-index: 0;}#sk-container-id-1 div.sk-serial {display: flex;flex-direction: column;align-items: center;background-color: white;padding-right: 0.2em;padding-left: 0.2em;position: relative;}#sk-container-id-1 div.sk-item {position: relative;z-index: 1;}#sk-container-id-1 div.sk-parallel {display: flex;align-items: stretch;justify-content: center;background-color: white;position: relative;}#sk-container-id-1 div.sk-item::before, #sk-container-id-1 div.sk-parallel-item::before {content: \"\";position: absolute;border-left: 1px solid gray;box-sizing: border-box;top: 0;bottom: 0;left: 50%;z-index: -1;}#sk-container-id-1 div.sk-parallel-item {display: flex;flex-direction: column;z-index: 1;position: relative;background-color: white;}#sk-container-id-1 div.sk-parallel-item:first-child::after {align-self: flex-end;width: 50%;}#sk-container-id-1 div.sk-parallel-item:last-child::after {align-self: flex-start;width: 50%;}#sk-container-id-1 div.sk-parallel-item:only-child::after {width: 0;}#sk-container-id-1 div.sk-dashed-wrapped {border: 1px dashed gray;margin: 0 0.4em 0.5em 0.4em;box-sizing: border-box;padding-bottom: 0.4em;background-color: white;}#sk-container-id-1 div.sk-label label {font-family: monospace;font-weight: bold;display: inline-block;line-height: 1.2em;}#sk-container-id-1 div.sk-label-container {text-align: center;}#sk-container-id-1 div.sk-container {/* jupyter's `normalize.less` sets `[hidden] { display: none; }` but bootstrap.min.css set `[hidden] { display: none !important; }` so we also need the `!important` here to be able to override the default hidden behavior on the sphinx rendered scikit-learn.org. See: https://github.com/scikit-learn/scikit-learn/issues/21755 */display: inline-block !important;position: relative;}#sk-container-id-1 div.sk-text-repr-fallback {display: none;}</style><div id=\"sk-container-id-1\" class=\"sk-top-container\"><div class=\"sk-text-repr-fallback\"><pre>RandomForestClassifier(max_depth=10)</pre><b>In a Jupyter environment, please rerun this cell to show the HTML representation or trust the notebook. <br />On GitHub, the HTML representation is unable to render, please try loading this page with nbviewer.org.</b></div><div class=\"sk-container\" hidden><div class=\"sk-item\"><div class=\"sk-estimator sk-toggleable\"><input class=\"sk-toggleable__control sk-hidden--visually\" id=\"sk-estimator-id-1\" type=\"checkbox\" checked><label for=\"sk-estimator-id-1\" class=\"sk-toggleable__label sk-toggleable__label-arrow\">RandomForestClassifier</label><div class=\"sk-toggleable__content\"><pre>RandomForestClassifier(max_depth=10)</pre></div></div></div></div></div>"
      ],
      "text/plain": [
       "RandomForestClassifier(max_depth=10)"
      ]
     },
     "execution_count": 42,
     "metadata": {},
     "output_type": "execute_result"
    }
   ],
   "source": [
    "from sklearn.ensemble import RandomForestClassifier\n",
    "rfc = RandomForestClassifier(n_estimators=100, max_depth=10)\n",
    "rfc.fit(X_train,y_train)"
   ]
  },
  {
   "cell_type": "markdown",
   "id": "db4440e7-8c0b-489f-a4e1-86487b9d7d88",
   "metadata": {},
   "source": [
    "### 4. Evaluate the performance of the model on the test set using accuracy, precision, recall, and F1 score."
   ]
  },
  {
   "cell_type": "code",
   "execution_count": 43,
   "id": "2bf95754-0d79-4e7b-be34-f57690f1d0d5",
   "metadata": {},
   "outputs": [],
   "source": [
    "# Creating a function to evaluate model\n",
    "from sklearn.metrics import accuracy_score, precision_score, recall_score, f1_score\n",
    "def evaluate_model(x,y,model):\n",
    "    ypred = model.predict(x)\n",
    "    acc = accuracy_score(y,ypred)\n",
    "    pre = precision_score(y,ypred)\n",
    "    rec = recall_score(y,ypred)\n",
    "    f1 = f1_score(y,ypred)\n",
    "    print(f'Accuracy Score  : {acc:.4f}')\n",
    "    print(f'Precision Score : {pre:.4f}')\n",
    "    print(f'Recall Score    : {rec:.4f}')\n",
    "    print(f'F1 Score        : {f1:.4f}')\n",
    "    return acc, pre, rec, f1"
   ]
  },
  {
   "cell_type": "code",
   "execution_count": 44,
   "id": "a7168db9-3746-48aa-80b1-8d53d6ba9597",
   "metadata": {},
   "outputs": [
    {
     "name": "stdout",
     "output_type": "stream",
     "text": [
      "Accuracy Score  : 0.7912\n",
      "Precision Score : 0.8163\n",
      "Recall Score    : 0.8000\n",
      "F1 Score        : 0.8081\n"
     ]
    }
   ],
   "source": [
    "# Evaluate model on test data\n",
    "acc_base, pre_base, rec_base, f1_base = evaluate_model(X_test, y_test, rfc)"
   ]
  },
  {
   "cell_type": "code",
   "execution_count": 45,
   "id": "68ce9399-832a-4b7f-ab1e-e3443d5a6538",
   "metadata": {},
   "outputs": [
    {
     "name": "stdout",
     "output_type": "stream",
     "text": [
      "              precision    recall  f1-score   support\n",
      "\n",
      "           0       0.76      0.78      0.77        41\n",
      "           1       0.82      0.80      0.81        50\n",
      "\n",
      "    accuracy                           0.79        91\n",
      "   macro avg       0.79      0.79      0.79        91\n",
      "weighted avg       0.79      0.79      0.79        91\n",
      "\n"
     ]
    }
   ],
   "source": [
    "from sklearn.metrics import classification_report\n",
    "ypred_test = rfc.predict(X_test)\n",
    "print(classification_report(y_test,ypred_test))"
   ]
  },
  {
   "cell_type": "markdown",
   "id": "9deb26a8-237f-4a8c-9fbb-9ff2e0aa6998",
   "metadata": {},
   "source": [
    "### 5. Use the feature importance scores to identify the top 5 most important features in predicting heart disease risk. Visualise the feature importances using a bar chart."
   ]
  },
  {
   "cell_type": "code",
   "execution_count": 46,
   "id": "97827bed-ae90-4d56-898e-862affd51aa4",
   "metadata": {},
   "outputs": [
    {
     "data": {
      "text/plain": [
       "array([0.08549977, 0.02522963, 0.11951334, 0.06737531, 0.07517226,\n",
       "       0.00853726, 0.01741198, 0.1041777 , 0.05986098, 0.10207594,\n",
       "       0.06365082, 0.15789986, 0.11359515])"
      ]
     },
     "execution_count": 46,
     "metadata": {},
     "output_type": "execute_result"
    }
   ],
   "source": [
    "rfc.feature_importances_"
   ]
  },
  {
   "cell_type": "code",
   "execution_count": 47,
   "id": "699c6d8d-eb0a-4375-b131-3d239c44c4e0",
   "metadata": {},
   "outputs": [
    {
     "data": {
      "text/plain": [
       "array(['age', 'sex', 'cp', 'trestbps', 'chol', 'fbs', 'restecg',\n",
       "       'thalach', 'exang', 'oldpeak', 'slope', 'ca', 'thal'], dtype=object)"
      ]
     },
     "execution_count": 47,
     "metadata": {},
     "output_type": "execute_result"
    }
   ],
   "source": [
    "rfc.feature_names_in_"
   ]
  },
  {
   "cell_type": "code",
   "execution_count": 48,
   "id": "8ea8ba6d-7351-4fec-8137-45e8391bb4ef",
   "metadata": {},
   "outputs": [
    {
     "data": {
      "text/plain": [
       "ca          0.157900\n",
       "cp          0.119513\n",
       "thal        0.113595\n",
       "thalach     0.104178\n",
       "oldpeak     0.102076\n",
       "age         0.085500\n",
       "chol        0.075172\n",
       "trestbps    0.067375\n",
       "slope       0.063651\n",
       "exang       0.059861\n",
       "sex         0.025230\n",
       "restecg     0.017412\n",
       "fbs         0.008537\n",
       "dtype: float64"
      ]
     },
     "execution_count": 48,
     "metadata": {},
     "output_type": "execute_result"
    }
   ],
   "source": [
    "imp = pd.Series(rfc.feature_importances_)\n",
    "imp.index = rfc.feature_names_in_\n",
    "imp = imp.sort_values(ascending=False)\n",
    "imp"
   ]
  },
  {
   "cell_type": "code",
   "execution_count": 49,
   "id": "ff6de9ae-45fd-4680-9f2a-e305536e369e",
   "metadata": {},
   "outputs": [
    {
     "name": "stdout",
     "output_type": "stream",
     "text": [
      "Top 5 features in the data are : ['ca', 'cp', 'thal', 'thalach', 'oldpeak']\n"
     ]
    }
   ],
   "source": [
    "top5 = list(imp[0:5].index)\n",
    "print(f'Top 5 features in the data are : {top5}')"
   ]
  },
  {
   "cell_type": "code",
   "execution_count": 50,
   "id": "50121ea0-abd0-43d1-a00f-5b035e97052a",
   "metadata": {},
   "outputs": [
    {
     "data": {
      "text/plain": [
       "<AxesSubplot: title={'center': 'Feature Importances Plot'}>"
      ]
     },
     "execution_count": 50,
     "metadata": {},
     "output_type": "execute_result"
    },
    {
     "data": {
      "image/png": "[encoded data removed]",
      "text/plain": [
       "<Figure size 1600x800 with 1 Axes>"
      ]
     },
     "metadata": {},
     "output_type": "display_data"
    }
   ],
   "source": [
    "imp.plot(kind='bar',title='Feature Importances Plot', figsize=(16,8))"
   ]
  },
  {
   "cell_type": "markdown",
   "id": "42ac2238-43fc-49b2-9510-b661b6efee3d",
   "metadata": {},
   "source": [
    "### 6. Tune the hyperparameters of the random forest classifier using grid search or random search. Try different values of the number of trees, maximum depth, minimum samples split, and minimum samples leaf. Use 5-fold cross-validation to evaluate the performance of each set of hyperparameters."
   ]
  },
  {
   "cell_type": "code",
   "execution_count": 51,
   "id": "fd9a8b4d-205b-4eea-97fc-ef3cd4b971f0",
   "metadata": {},
   "outputs": [],
   "source": [
    "# Defining the parameters for tuning\n",
    "parameters = {\n",
    "    'n_estimators':[10,50,100,200,300,400],\n",
    "    'max_depth':[4,5,6,7,8,9,10],\n",
    "    'min_samples_leaf':[2,3,4,5,6],\n",
    "    'min_samples_split':[2,5,10]\n",
    "}"
   ]
  },
  {
   "cell_type": "code",
   "execution_count": 52,
   "id": "4262ace5-0af9-441b-bf8e-b2fe26158725",
   "metadata": {},
   "outputs": [],
   "source": [
    "# Performing Randomized Search CV\n",
    "from sklearn.model_selection import RandomizedSearchCV\n",
    "rscv = RandomizedSearchCV(RandomForestClassifier(),\n",
    "                          param_distributions=parameters,\n",
    "                          cv=5, \n",
    "                          scoring='f1',\n",
    "                          n_iter=50,\n",
    "                          verbose=3)"
   ]
  },
  {
   "cell_type": "code",
   "execution_count": 53,
   "id": "1afbb3a1-d162-41e3-ab03-1c42f5b870b6",
   "metadata": {},
   "outputs": [
    {
     "name": "stdout",
     "output_type": "stream",
     "text": [
      "Fitting 5 folds for each of 50 candidates, totalling 250 fits\n",
      "[CV 1/5] END max_depth=10, min_samples_leaf=6, min_samples_split=10, n_estimators=10;, score=0.889 total time=   0.0s\n",
      "[CV 2/5] END max_depth=10, min_samples_leaf=6, min_samples_split=10, n_estimators=10;, score=0.833 total time=   0.0s\n",
      "[CV 3/5] END max_depth=10, min_samples_leaf=6, min_samples_split=10, n_estimators=10;, score=0.766 total time=   0.0s\n",
      "[CV 4/5] END max_depth=10, min_samples_leaf=6, min_samples_split=10, n_estimators=10;, score=0.880 total time=   0.0s\n",
      "[CV 5/5] END max_depth=10, min_samples_leaf=6, min_samples_split=10, n_estimators=10;, score=0.810 total time=   0.0s\n",
      "[CV 1/5] END max_depth=7, min_samples_leaf=5, min_samples_split=2, n_estimators=100;, score=0.909 total time=   0.2s\n",
      "[CV 2/5] END max_depth=7, min_samples_leaf=5, min_samples_split=2, n_estimators=100;, score=0.857 total time=   0.2s\n",
      "[CV 3/5] END max_depth=7, min_samples_leaf=5, min_samples_split=2, n_estimators=100;, score=0.824 total time=   0.2s\n",
      "[CV 4/5] END max_depth=7, min_samples_leaf=5, min_samples_split=2, n_estimators=100;, score=0.917 total time=   0.2s\n",
      "[CV 5/5] END max_depth=7, min_samples_leaf=5, min_samples_split=2, n_estimators=100;, score=0.791 total time=   0.2s\n",
      "[CV 1/5] END max_depth=8, min_samples_leaf=5, min_samples_split=5, n_estimators=400;, score=0.884 total time=   0.7s\n",
      "[CV 2/5] END max_depth=8, min_samples_leaf=5, min_samples_split=5, n_estimators=400;, score=0.857 total time=   0.7s\n",
      "[CV 3/5] END max_depth=8, min_samples_leaf=5, min_samples_split=5, n_estimators=400;, score=0.784 total time=   0.7s\n",
      "[CV 4/5] END max_depth=8, min_samples_leaf=5, min_samples_split=5, n_estimators=400;, score=0.917 total time=   0.7s\n",
      "[CV 5/5] END max_depth=8, min_samples_leaf=5, min_samples_split=5, n_estimators=400;, score=0.744 total time=   0.7s\n",
      "[CV 1/5] END max_depth=9, min_samples_leaf=6, min_samples_split=10, n_estimators=100;, score=0.909 total time=   0.2s\n",
      "[CV 2/5] END max_depth=9, min_samples_leaf=6, min_samples_split=10, n_estimators=100;, score=0.880 total time=   0.2s\n",
      "[CV 3/5] END max_depth=9, min_samples_leaf=6, min_samples_split=10, n_estimators=100;, score=0.792 total time=   0.2s\n",
      "[CV 4/5] END max_depth=9, min_samples_leaf=6, min_samples_split=10, n_estimators=100;, score=0.917 total time=   0.2s\n",
      "[CV 5/5] END max_depth=9, min_samples_leaf=6, min_samples_split=10, n_estimators=100;, score=0.791 total time=   0.2s\n",
      "[CV 1/5] END max_depth=8, min_samples_leaf=3, min_samples_split=10, n_estimators=200;, score=0.837 total time=   0.4s\n",
      "[CV 2/5] END max_depth=8, min_samples_leaf=3, min_samples_split=10, n_estimators=200;, score=0.880 total time=   0.4s\n",
      "[CV 3/5] END max_depth=8, min_samples_leaf=3, min_samples_split=10, n_estimators=200;, score=0.800 total time=   0.4s\n",
      "[CV 4/5] END max_depth=8, min_samples_leaf=3, min_samples_split=10, n_estimators=200;, score=0.917 total time=   0.3s\n",
      "[CV 5/5] END max_depth=8, min_samples_leaf=3, min_samples_split=10, n_estimators=200;, score=0.773 total time=   0.4s\n",
      "[CV 1/5] END max_depth=7, min_samples_leaf=6, min_samples_split=2, n_estimators=400;, score=0.884 total time=   0.7s\n",
      "[CV 2/5] END max_depth=7, min_samples_leaf=6, min_samples_split=2, n_estimators=400;, score=0.880 total time=   0.7s\n",
      "[CV 3/5] END max_depth=7, min_samples_leaf=6, min_samples_split=2, n_estimators=400;, score=0.769 total time=   0.7s\n",
      "[CV 4/5] END max_depth=7, min_samples_leaf=6, min_samples_split=2, n_estimators=400;, score=0.917 total time=   0.7s\n",
      "[CV 5/5] END max_depth=7, min_samples_leaf=6, min_samples_split=2, n_estimators=400;, score=0.773 total time=   0.7s\n",
      "[CV 1/5] END max_depth=5, min_samples_leaf=5, min_samples_split=5, n_estimators=400;, score=0.884 total time=   0.7s\n",
      "[CV 2/5] END max_depth=5, min_samples_leaf=5, min_samples_split=5, n_estimators=400;, score=0.857 total time=   0.7s\n",
      "[CV 3/5] END max_depth=5, min_samples_leaf=5, min_samples_split=5, n_estimators=400;, score=0.808 total time=   0.7s\n",
      "[CV 4/5] END max_depth=5, min_samples_leaf=5, min_samples_split=5, n_estimators=400;, score=0.917 total time=   0.7s\n",
      "[CV 5/5] END max_depth=5, min_samples_leaf=5, min_samples_split=5, n_estimators=400;, score=0.762 total time=   0.7s\n",
      "[CV 1/5] END max_depth=10, min_samples_leaf=5, min_samples_split=10, n_estimators=100;, score=0.909 total time=   0.2s\n",
      "[CV 2/5] END max_depth=10, min_samples_leaf=5, min_samples_split=10, n_estimators=100;, score=0.880 total time=   0.2s\n",
      "[CV 3/5] END max_depth=10, min_samples_leaf=5, min_samples_split=10, n_estimators=100;, score=0.792 total time=   0.2s\n",
      "[CV 4/5] END max_depth=10, min_samples_leaf=5, min_samples_split=10, n_estimators=100;, score=0.917 total time=   0.2s\n",
      "[CV 5/5] END max_depth=10, min_samples_leaf=5, min_samples_split=10, n_estimators=100;, score=0.762 total time=   0.2s\n",
      "[CV 1/5] END max_depth=8, min_samples_leaf=4, min_samples_split=5, n_estimators=300;, score=0.884 total time=   0.5s\n",
      "[CV 2/5] END max_depth=8, min_samples_leaf=4, min_samples_split=5, n_estimators=300;, score=0.857 total time=   0.5s\n",
      "[CV 3/5] END max_depth=8, min_samples_leaf=4, min_samples_split=5, n_estimators=300;, score=0.784 total time=   0.5s\n",
      "[CV 4/5] END max_depth=8, min_samples_leaf=4, min_samples_split=5, n_estimators=300;, score=0.917 total time=   0.5s\n",
      "[CV 5/5] END max_depth=8, min_samples_leaf=4, min_samples_split=5, n_estimators=300;, score=0.744 total time=   0.5s\n",
      "[CV 1/5] END max_depth=7, min_samples_leaf=5, min_samples_split=5, n_estimators=400;, score=0.884 total time=   0.7s\n",
      "[CV 2/5] END max_depth=7, min_samples_leaf=5, min_samples_split=5, n_estimators=400;, score=0.880 total time=   0.7s\n",
      "[CV 3/5] END max_depth=7, min_samples_leaf=5, min_samples_split=5, n_estimators=400;, score=0.769 total time=   0.7s\n",
      "[CV 4/5] END max_depth=7, min_samples_leaf=5, min_samples_split=5, n_estimators=400;, score=0.917 total time=   0.7s\n",
      "[CV 5/5] END max_depth=7, min_samples_leaf=5, min_samples_split=5, n_estimators=400;, score=0.773 total time=   0.7s\n",
      "[CV 1/5] END max_depth=8, min_samples_leaf=5, min_samples_split=5, n_estimators=200;, score=0.884 total time=   0.4s\n",
      "[CV 2/5] END max_depth=8, min_samples_leaf=5, min_samples_split=5, n_estimators=200;, score=0.857 total time=   0.4s\n",
      "[CV 3/5] END max_depth=8, min_samples_leaf=5, min_samples_split=5, n_estimators=200;, score=0.800 total time=   0.4s\n",
      "[CV 4/5] END max_depth=8, min_samples_leaf=5, min_samples_split=5, n_estimators=200;, score=0.917 total time=   0.3s\n",
      "[CV 5/5] END max_depth=8, min_samples_leaf=5, min_samples_split=5, n_estimators=200;, score=0.744 total time=   0.4s\n",
      "[CV 1/5] END max_depth=10, min_samples_leaf=2, min_samples_split=5, n_estimators=50;, score=0.864 total time=   0.1s\n",
      "[CV 2/5] END max_depth=10, min_samples_leaf=2, min_samples_split=5, n_estimators=50;, score=0.833 total time=   0.1s\n",
      "[CV 3/5] END max_depth=10, min_samples_leaf=2, min_samples_split=5, n_estimators=50;, score=0.745 total time=   0.1s\n",
      "[CV 4/5] END max_depth=10, min_samples_leaf=2, min_samples_split=5, n_estimators=50;, score=0.898 total time=   0.1s\n",
      "[CV 5/5] END max_depth=10, min_samples_leaf=2, min_samples_split=5, n_estimators=50;, score=0.732 total time=   0.1s\n",
      "[CV 1/5] END max_depth=4, min_samples_leaf=2, min_samples_split=2, n_estimators=10;, score=0.870 total time=   0.0s\n",
      "[CV 2/5] END max_depth=4, min_samples_leaf=2, min_samples_split=2, n_estimators=10;, score=0.870 total time=   0.0s\n",
      "[CV 3/5] END max_depth=4, min_samples_leaf=2, min_samples_split=2, n_estimators=10;, score=0.800 total time=   0.0s\n",
      "[CV 4/5] END max_depth=4, min_samples_leaf=2, min_samples_split=2, n_estimators=10;, score=0.913 total time=   0.0s\n",
      "[CV 5/5] END max_depth=4, min_samples_leaf=2, min_samples_split=2, n_estimators=10;, score=0.791 total time=   0.0s\n",
      "[CV 1/5] END max_depth=6, min_samples_leaf=5, min_samples_split=10, n_estimators=10;, score=0.889 total time=   0.0s\n",
      "[CV 2/5] END max_depth=6, min_samples_leaf=5, min_samples_split=10, n_estimators=10;, score=0.857 total time=   0.0s\n",
      "[CV 3/5] END max_depth=6, min_samples_leaf=5, min_samples_split=10, n_estimators=10;, score=0.784 total time=   0.0s\n",
      "[CV 4/5] END max_depth=6, min_samples_leaf=5, min_samples_split=10, n_estimators=10;, score=0.875 total time=   0.0s\n",
      "[CV 5/5] END max_depth=6, min_samples_leaf=5, min_samples_split=10, n_estimators=10;, score=0.773 total time=   0.0s\n",
      "[CV 1/5] END max_depth=7, min_samples_leaf=4, min_samples_split=2, n_estimators=10;, score=0.909 total time=   0.0s\n",
      "[CV 2/5] END max_depth=7, min_samples_leaf=4, min_samples_split=2, n_estimators=10;, score=0.833 total time=   0.0s\n",
      "[CV 3/5] END max_depth=7, min_samples_leaf=4, min_samples_split=2, n_estimators=10;, score=0.809 total time=   0.0s\n",
      "[CV 4/5] END max_depth=7, min_samples_leaf=4, min_samples_split=2, n_estimators=10;, score=0.851 total time=   0.0s\n",
      "[CV 5/5] END max_depth=7, min_samples_leaf=4, min_samples_split=2, n_estimators=10;, score=0.791 total time=   0.0s\n",
      "[CV 1/5] END max_depth=6, min_samples_leaf=5, min_samples_split=5, n_estimators=100;, score=0.884 total time=   0.2s\n",
      "[CV 2/5] END max_depth=6, min_samples_leaf=5, min_samples_split=5, n_estimators=100;, score=0.857 total time=   0.2s\n",
      "[CV 3/5] END max_depth=6, min_samples_leaf=5, min_samples_split=5, n_estimators=100;, score=0.760 total time=   0.2s\n",
      "[CV 4/5] END max_depth=6, min_samples_leaf=5, min_samples_split=5, n_estimators=100;, score=0.917 total time=   0.2s\n",
      "[CV 5/5] END max_depth=6, min_samples_leaf=5, min_samples_split=5, n_estimators=100;, score=0.744 total time=   0.2s\n",
      "[CV 1/5] END max_depth=8, min_samples_leaf=5, min_samples_split=10, n_estimators=50;, score=0.909 total time=   0.1s\n",
      "[CV 2/5] END max_depth=8, min_samples_leaf=5, min_samples_split=10, n_estimators=50;, score=0.833 total time=   0.1s\n",
      "[CV 3/5] END max_depth=8, min_samples_leaf=5, min_samples_split=10, n_estimators=50;, score=0.760 total time=   0.1s\n",
      "[CV 4/5] END max_depth=8, min_samples_leaf=5, min_samples_split=10, n_estimators=50;, score=0.898 total time=   0.1s\n",
      "[CV 5/5] END max_depth=8, min_samples_leaf=5, min_samples_split=10, n_estimators=50;, score=0.783 total time=   0.1s\n",
      "[CV 1/5] END max_depth=7, min_samples_leaf=2, min_samples_split=2, n_estimators=100;, score=0.884 total time=   0.2s\n",
      "[CV 2/5] END max_depth=7, min_samples_leaf=2, min_samples_split=2, n_estimators=100;, score=0.857 total time=   0.2s\n",
      "[CV 3/5] END max_depth=7, min_samples_leaf=2, min_samples_split=2, n_estimators=100;, score=0.745 total time=   0.2s\n",
      "[CV 4/5] END max_depth=7, min_samples_leaf=2, min_samples_split=2, n_estimators=100;, score=0.936 total time=   0.2s\n",
      "[CV 5/5] END max_depth=7, min_samples_leaf=2, min_samples_split=2, n_estimators=100;, score=0.773 total time=   0.2s\n",
      "[CV 1/5] END max_depth=5, min_samples_leaf=6, min_samples_split=10, n_estimators=100;, score=0.884 total time=   0.2s\n",
      "[CV 2/5] END max_depth=5, min_samples_leaf=6, min_samples_split=10, n_estimators=100;, score=0.880 total time=   0.2s\n",
      "[CV 3/5] END max_depth=5, min_samples_leaf=6, min_samples_split=10, n_estimators=100;, score=0.808 total time=   0.2s\n",
      "[CV 4/5] END max_depth=5, min_samples_leaf=6, min_samples_split=10, n_estimators=100;, score=0.894 total time=   0.2s\n",
      "[CV 5/5] END max_depth=5, min_samples_leaf=6, min_samples_split=10, n_estimators=100;, score=0.744 total time=   0.2s\n",
      "[CV 1/5] END max_depth=9, min_samples_leaf=6, min_samples_split=5, n_estimators=300;, score=0.884 total time=   0.5s\n",
      "[CV 2/5] END max_depth=9, min_samples_leaf=6, min_samples_split=5, n_estimators=300;, score=0.880 total time=   0.5s\n",
      "[CV 3/5] END max_depth=9, min_samples_leaf=6, min_samples_split=5, n_estimators=300;, score=0.800 total time=   0.5s\n",
      "[CV 4/5] END max_depth=9, min_samples_leaf=6, min_samples_split=5, n_estimators=300;, score=0.917 total time=   0.5s\n",
      "[CV 5/5] END max_depth=9, min_samples_leaf=6, min_samples_split=5, n_estimators=300;, score=0.744 total time=   0.5s\n",
      "[CV 1/5] END max_depth=7, min_samples_leaf=3, min_samples_split=10, n_estimators=50;, score=0.884 total time=   0.1s\n",
      "[CV 2/5] END max_depth=7, min_samples_leaf=3, min_samples_split=10, n_estimators=50;, score=0.857 total time=   0.1s\n",
      "[CV 3/5] END max_depth=7, min_samples_leaf=3, min_samples_split=10, n_estimators=50;, score=0.800 total time=   0.1s\n",
      "[CV 4/5] END max_depth=7, min_samples_leaf=3, min_samples_split=10, n_estimators=50;, score=0.913 total time=   0.1s\n",
      "[CV 5/5] END max_depth=7, min_samples_leaf=3, min_samples_split=10, n_estimators=50;, score=0.744 total time=   0.1s\n",
      "[CV 1/5] END max_depth=8, min_samples_leaf=4, min_samples_split=2, n_estimators=100;, score=0.933 total time=   0.2s\n",
      "[CV 2/5] END max_depth=8, min_samples_leaf=4, min_samples_split=2, n_estimators=100;, score=0.857 total time=   0.2s\n",
      "[CV 3/5] END max_depth=8, min_samples_leaf=4, min_samples_split=2, n_estimators=100;, score=0.784 total time=   0.2s\n",
      "[CV 4/5] END max_depth=8, min_samples_leaf=4, min_samples_split=2, n_estimators=100;, score=0.917 total time=   0.2s\n",
      "[CV 5/5] END max_depth=8, min_samples_leaf=4, min_samples_split=2, n_estimators=100;, score=0.744 total time=   0.2s\n",
      "[CV 1/5] END max_depth=4, min_samples_leaf=3, min_samples_split=2, n_estimators=300;, score=0.864 total time=   0.5s\n",
      "[CV 2/5] END max_depth=4, min_samples_leaf=3, min_samples_split=2, n_estimators=300;, score=0.880 total time=   0.5s\n",
      "[CV 3/5] END max_depth=4, min_samples_leaf=3, min_samples_split=2, n_estimators=300;, score=0.784 total time=   0.5s\n",
      "[CV 4/5] END max_depth=4, min_samples_leaf=3, min_samples_split=2, n_estimators=300;, score=0.917 total time=   0.5s\n",
      "[CV 5/5] END max_depth=4, min_samples_leaf=3, min_samples_split=2, n_estimators=300;, score=0.773 total time=   0.5s\n",
      "[CV 1/5] END max_depth=10, min_samples_leaf=5, min_samples_split=5, n_estimators=200;, score=0.884 total time=   0.3s\n",
      "[CV 2/5] END max_depth=10, min_samples_leaf=5, min_samples_split=5, n_estimators=200;, score=0.880 total time=   0.3s\n",
      "[CV 3/5] END max_depth=10, min_samples_leaf=5, min_samples_split=5, n_estimators=200;, score=0.760 total time=   0.4s\n",
      "[CV 4/5] END max_depth=10, min_samples_leaf=5, min_samples_split=5, n_estimators=200;, score=0.917 total time=   0.3s\n",
      "[CV 5/5] END max_depth=10, min_samples_leaf=5, min_samples_split=5, n_estimators=200;, score=0.744 total time=   0.3s\n",
      "[CV 1/5] END max_depth=5, min_samples_leaf=5, min_samples_split=10, n_estimators=200;, score=0.909 total time=   0.4s\n",
      "[CV 2/5] END max_depth=5, min_samples_leaf=5, min_samples_split=10, n_estimators=200;, score=0.880 total time=   0.4s\n",
      "[CV 3/5] END max_depth=5, min_samples_leaf=5, min_samples_split=10, n_estimators=200;, score=0.800 total time=   0.4s\n",
      "[CV 4/5] END max_depth=5, min_samples_leaf=5, min_samples_split=10, n_estimators=200;, score=0.936 total time=   0.4s\n",
      "[CV 5/5] END max_depth=5, min_samples_leaf=5, min_samples_split=10, n_estimators=200;, score=0.791 total time=   0.4s\n",
      "[CV 1/5] END max_depth=7, min_samples_leaf=3, min_samples_split=5, n_estimators=100;, score=0.837 total time=   0.2s\n",
      "[CV 2/5] END max_depth=7, min_samples_leaf=3, min_samples_split=5, n_estimators=100;, score=0.880 total time=   0.2s\n",
      "[CV 3/5] END max_depth=7, min_samples_leaf=3, min_samples_split=5, n_estimators=100;, score=0.745 total time=   0.2s\n",
      "[CV 4/5] END max_depth=7, min_samples_leaf=3, min_samples_split=5, n_estimators=100;, score=0.917 total time=   0.2s\n",
      "[CV 5/5] END max_depth=7, min_samples_leaf=3, min_samples_split=5, n_estimators=100;, score=0.762 total time=   0.2s\n",
      "[CV 1/5] END max_depth=8, min_samples_leaf=3, min_samples_split=2, n_estimators=50;, score=0.857 total time=   0.1s\n",
      "[CV 2/5] END max_depth=8, min_samples_leaf=3, min_samples_split=2, n_estimators=50;, score=0.857 total time=   0.1s\n",
      "[CV 3/5] END max_depth=8, min_samples_leaf=3, min_samples_split=2, n_estimators=50;, score=0.824 total time=   0.1s\n",
      "[CV 4/5] END max_depth=8, min_samples_leaf=3, min_samples_split=2, n_estimators=50;, score=0.917 total time=   0.1s\n",
      "[CV 5/5] END max_depth=8, min_samples_leaf=3, min_samples_split=2, n_estimators=50;, score=0.773 total time=   0.1s\n",
      "[CV 1/5] END max_depth=6, min_samples_leaf=5, min_samples_split=10, n_estimators=50;, score=0.909 total time=   0.1s\n",
      "[CV 2/5] END max_depth=6, min_samples_leaf=5, min_samples_split=10, n_estimators=50;, score=0.833 total time=   0.1s\n",
      "[CV 3/5] END max_depth=6, min_samples_leaf=5, min_samples_split=10, n_estimators=50;, score=0.784 total time=   0.1s\n",
      "[CV 4/5] END max_depth=6, min_samples_leaf=5, min_samples_split=10, n_estimators=50;, score=0.936 total time=   0.1s\n",
      "[CV 5/5] END max_depth=6, min_samples_leaf=5, min_samples_split=10, n_estimators=50;, score=0.773 total time=   0.1s\n",
      "[CV 1/5] END max_depth=10, min_samples_leaf=3, min_samples_split=2, n_estimators=400;, score=0.884 total time=   0.7s\n",
      "[CV 2/5] END max_depth=10, min_samples_leaf=3, min_samples_split=2, n_estimators=400;, score=0.857 total time=   0.7s\n",
      "[CV 3/5] END max_depth=10, min_samples_leaf=3, min_samples_split=2, n_estimators=400;, score=0.800 total time=   0.7s\n",
      "[CV 4/5] END max_depth=10, min_samples_leaf=3, min_samples_split=2, n_estimators=400;, score=0.917 total time=   0.7s\n",
      "[CV 5/5] END max_depth=10, min_samples_leaf=3, min_samples_split=2, n_estimators=400;, score=0.762 total time=   0.7s\n",
      "[CV 1/5] END max_depth=9, min_samples_leaf=2, min_samples_split=2, n_estimators=100;, score=0.909 total time=   0.2s\n",
      "[CV 2/5] END max_depth=9, min_samples_leaf=2, min_samples_split=2, n_estimators=100;, score=0.857 total time=   0.2s\n",
      "[CV 3/5] END max_depth=9, min_samples_leaf=2, min_samples_split=2, n_estimators=100;, score=0.784 total time=   0.2s\n",
      "[CV 4/5] END max_depth=9, min_samples_leaf=2, min_samples_split=2, n_estimators=100;, score=0.889 total time=   0.2s\n",
      "[CV 5/5] END max_depth=9, min_samples_leaf=2, min_samples_split=2, n_estimators=100;, score=0.762 total time=   0.2s\n",
      "[CV 1/5] END max_depth=10, min_samples_leaf=2, min_samples_split=5, n_estimators=300;, score=0.884 total time=   0.5s\n",
      "[CV 2/5] END max_depth=10, min_samples_leaf=2, min_samples_split=5, n_estimators=300;, score=0.857 total time=   0.5s\n",
      "[CV 3/5] END max_depth=10, min_samples_leaf=2, min_samples_split=5, n_estimators=300;, score=0.784 total time=   0.5s\n",
      "[CV 4/5] END max_depth=10, min_samples_leaf=2, min_samples_split=5, n_estimators=300;, score=0.917 total time=   0.5s\n",
      "[CV 5/5] END max_depth=10, min_samples_leaf=2, min_samples_split=5, n_estimators=300;, score=0.744 total time=   0.5s\n",
      "[CV 1/5] END max_depth=6, min_samples_leaf=3, min_samples_split=2, n_estimators=200;, score=0.884 total time=   0.4s\n",
      "[CV 2/5] END max_depth=6, min_samples_leaf=3, min_samples_split=2, n_estimators=200;, score=0.880 total time=   0.4s\n",
      "[CV 3/5] END max_depth=6, min_samples_leaf=3, min_samples_split=2, n_estimators=200;, score=0.769 total time=   0.4s\n",
      "[CV 4/5] END max_depth=6, min_samples_leaf=3, min_samples_split=2, n_estimators=200;, score=0.917 total time=   0.4s\n",
      "[CV 5/5] END max_depth=6, min_samples_leaf=3, min_samples_split=2, n_estimators=200;, score=0.773 total time=   0.4s\n",
      "[CV 1/5] END max_depth=8, min_samples_leaf=6, min_samples_split=10, n_estimators=100;, score=0.870 total time=   0.2s\n",
      "[CV 2/5] END max_depth=8, min_samples_leaf=6, min_samples_split=10, n_estimators=100;, score=0.880 total time=   0.2s\n",
      "[CV 3/5] END max_depth=8, min_samples_leaf=6, min_samples_split=10, n_estimators=100;, score=0.784 total time=   0.2s\n",
      "[CV 4/5] END max_depth=8, min_samples_leaf=6, min_samples_split=10, n_estimators=100;, score=0.917 total time=   0.2s\n",
      "[CV 5/5] END max_depth=8, min_samples_leaf=6, min_samples_split=10, n_estimators=100;, score=0.773 total time=   0.2s\n",
      "[CV 1/5] END max_depth=8, min_samples_leaf=4, min_samples_split=10, n_estimators=10;, score=0.884 total time=   0.0s\n",
      "[CV 2/5] END max_depth=8, min_samples_leaf=4, min_samples_split=10, n_estimators=10;, score=0.880 total time=   0.0s\n",
      "[CV 3/5] END max_depth=8, min_samples_leaf=4, min_samples_split=10, n_estimators=10;, score=0.783 total time=   0.0s\n",
      "[CV 4/5] END max_depth=8, min_samples_leaf=4, min_samples_split=10, n_estimators=10;, score=0.917 total time=   0.0s\n",
      "[CV 5/5] END max_depth=8, min_samples_leaf=4, min_samples_split=10, n_estimators=10;, score=0.762 total time=   0.0s\n",
      "[CV 1/5] END max_depth=7, min_samples_leaf=2, min_samples_split=10, n_estimators=50;, score=0.844 total time=   0.1s\n",
      "[CV 2/5] END max_depth=7, min_samples_leaf=2, min_samples_split=10, n_estimators=50;, score=0.880 total time=   0.1s\n",
      "[CV 3/5] END max_depth=7, min_samples_leaf=2, min_samples_split=10, n_estimators=50;, score=0.816 total time=   0.1s\n",
      "[CV 4/5] END max_depth=7, min_samples_leaf=2, min_samples_split=10, n_estimators=50;, score=0.936 total time=   0.1s\n",
      "[CV 5/5] END max_depth=7, min_samples_leaf=2, min_samples_split=10, n_estimators=50;, score=0.762 total time=   0.1s\n",
      "[CV 1/5] END max_depth=10, min_samples_leaf=4, min_samples_split=10, n_estimators=300;, score=0.884 total time=   0.5s\n",
      "[CV 2/5] END max_depth=10, min_samples_leaf=4, min_samples_split=10, n_estimators=300;, score=0.880 total time=   0.5s\n",
      "[CV 3/5] END max_depth=10, min_samples_leaf=4, min_samples_split=10, n_estimators=300;, score=0.769 total time=   0.5s\n",
      "[CV 4/5] END max_depth=10, min_samples_leaf=4, min_samples_split=10, n_estimators=300;, score=0.917 total time=   0.5s\n",
      "[CV 5/5] END max_depth=10, min_samples_leaf=4, min_samples_split=10, n_estimators=300;, score=0.744 total time=   0.5s\n",
      "[CV 1/5] END max_depth=10, min_samples_leaf=3, min_samples_split=5, n_estimators=200;, score=0.884 total time=   0.4s\n",
      "[CV 2/5] END max_depth=10, min_samples_leaf=3, min_samples_split=5, n_estimators=200;, score=0.857 total time=   0.4s\n",
      "[CV 3/5] END max_depth=10, min_samples_leaf=3, min_samples_split=5, n_estimators=200;, score=0.745 total time=   0.4s\n",
      "[CV 4/5] END max_depth=10, min_samples_leaf=3, min_samples_split=5, n_estimators=200;, score=0.917 total time=   0.4s\n",
      "[CV 5/5] END max_depth=10, min_samples_leaf=3, min_samples_split=5, n_estimators=200;, score=0.762 total time=   0.4s\n",
      "[CV 1/5] END max_depth=10, min_samples_leaf=5, min_samples_split=2, n_estimators=10;, score=0.857 total time=   0.0s\n",
      "[CV 2/5] END max_depth=10, min_samples_leaf=5, min_samples_split=2, n_estimators=10;, score=0.791 total time=   0.0s\n",
      "[CV 3/5] END max_depth=10, min_samples_leaf=5, min_samples_split=2, n_estimators=10;, score=0.760 total time=   0.0s\n",
      "[CV 4/5] END max_depth=10, min_samples_leaf=5, min_samples_split=2, n_estimators=10;, score=0.875 total time=   0.0s\n",
      "[CV 5/5] END max_depth=10, min_samples_leaf=5, min_samples_split=2, n_estimators=10;, score=0.762 total time=   0.0s\n",
      "[CV 1/5] END max_depth=10, min_samples_leaf=2, min_samples_split=5, n_estimators=200;, score=0.884 total time=   0.4s\n",
      "[CV 2/5] END max_depth=10, min_samples_leaf=2, min_samples_split=5, n_estimators=200;, score=0.880 total time=   0.4s\n",
      "[CV 3/5] END max_depth=10, min_samples_leaf=2, min_samples_split=5, n_estimators=200;, score=0.784 total time=   0.4s\n",
      "[CV 4/5] END max_depth=10, min_samples_leaf=2, min_samples_split=5, n_estimators=200;, score=0.894 total time=   0.4s\n",
      "[CV 5/5] END max_depth=10, min_samples_leaf=2, min_samples_split=5, n_estimators=200;, score=0.744 total time=   0.4s\n",
      "[CV 1/5] END max_depth=10, min_samples_leaf=2, min_samples_split=5, n_estimators=100;, score=0.884 total time=   0.2s\n",
      "[CV 2/5] END max_depth=10, min_samples_leaf=2, min_samples_split=5, n_estimators=100;, score=0.880 total time=   0.2s\n",
      "[CV 3/5] END max_depth=10, min_samples_leaf=2, min_samples_split=5, n_estimators=100;, score=0.769 total time=   0.2s\n",
      "[CV 4/5] END max_depth=10, min_samples_leaf=2, min_samples_split=5, n_estimators=100;, score=0.894 total time=   0.2s\n",
      "[CV 5/5] END max_depth=10, min_samples_leaf=2, min_samples_split=5, n_estimators=100;, score=0.780 total time=   0.2s\n",
      "[CV 1/5] END max_depth=5, min_samples_leaf=3, min_samples_split=10, n_estimators=400;, score=0.864 total time=   0.7s\n",
      "[CV 2/5] END max_depth=5, min_samples_leaf=3, min_samples_split=10, n_estimators=400;, score=0.880 total time=   0.7s\n",
      "[CV 3/5] END max_depth=5, min_samples_leaf=3, min_samples_split=10, n_estimators=400;, score=0.784 total time=   0.7s\n",
      "[CV 4/5] END max_depth=5, min_samples_leaf=3, min_samples_split=10, n_estimators=400;, score=0.917 total time=   0.7s\n",
      "[CV 5/5] END max_depth=5, min_samples_leaf=3, min_samples_split=10, n_estimators=400;, score=0.744 total time=   0.7s\n",
      "[CV 1/5] END max_depth=5, min_samples_leaf=5, min_samples_split=2, n_estimators=300;, score=0.884 total time=   0.5s\n",
      "[CV 2/5] END max_depth=5, min_samples_leaf=5, min_samples_split=2, n_estimators=300;, score=0.880 total time=   0.5s\n",
      "[CV 3/5] END max_depth=5, min_samples_leaf=5, min_samples_split=2, n_estimators=300;, score=0.824 total time=   0.5s\n",
      "[CV 4/5] END max_depth=5, min_samples_leaf=5, min_samples_split=2, n_estimators=300;, score=0.917 total time=   0.5s\n",
      "[CV 5/5] END max_depth=5, min_samples_leaf=5, min_samples_split=2, n_estimators=300;, score=0.791 total time=   0.5s\n",
      "[CV 1/5] END max_depth=5, min_samples_leaf=6, min_samples_split=5, n_estimators=300;, score=0.884 total time=   0.5s\n",
      "[CV 2/5] END max_depth=5, min_samples_leaf=6, min_samples_split=5, n_estimators=300;, score=0.857 total time=   0.5s\n",
      "[CV 3/5] END max_depth=5, min_samples_leaf=6, min_samples_split=5, n_estimators=300;, score=0.769 total time=   0.5s\n",
      "[CV 4/5] END max_depth=5, min_samples_leaf=6, min_samples_split=5, n_estimators=300;, score=0.917 total time=   0.5s\n",
      "[CV 5/5] END max_depth=5, min_samples_leaf=6, min_samples_split=5, n_estimators=300;, score=0.744 total time=   0.5s\n",
      "[CV 1/5] END max_depth=4, min_samples_leaf=3, min_samples_split=10, n_estimators=200;, score=0.884 total time=   0.4s\n",
      "[CV 2/5] END max_depth=4, min_samples_leaf=3, min_samples_split=10, n_estimators=200;, score=0.880 total time=   0.3s\n",
      "[CV 3/5] END max_depth=4, min_samples_leaf=3, min_samples_split=10, n_estimators=200;, score=0.784 total time=   0.3s\n",
      "[CV 4/5] END max_depth=4, min_samples_leaf=3, min_samples_split=10, n_estimators=200;, score=0.917 total time=   0.4s\n",
      "[CV 5/5] END max_depth=4, min_samples_leaf=3, min_samples_split=10, n_estimators=200;, score=0.744 total time=   0.3s\n",
      "[CV 1/5] END max_depth=6, min_samples_leaf=5, min_samples_split=5, n_estimators=10;, score=0.913 total time=   0.0s\n",
      "[CV 2/5] END max_depth=6, min_samples_leaf=5, min_samples_split=5, n_estimators=10;, score=0.833 total time=   0.0s\n",
      "[CV 3/5] END max_depth=6, min_samples_leaf=5, min_samples_split=5, n_estimators=10;, score=0.776 total time=   0.0s\n",
      "[CV 4/5] END max_depth=6, min_samples_leaf=5, min_samples_split=5, n_estimators=10;, score=0.898 total time=   0.0s\n",
      "[CV 5/5] END max_depth=6, min_samples_leaf=5, min_samples_split=5, n_estimators=10;, score=0.810 total time=   0.0s\n",
      "[CV 1/5] END max_depth=9, min_samples_leaf=2, min_samples_split=5, n_estimators=100;, score=0.864 total time=   0.2s\n",
      "[CV 2/5] END max_depth=9, min_samples_leaf=2, min_samples_split=5, n_estimators=100;, score=0.857 total time=   0.2s\n",
      "[CV 3/5] END max_depth=9, min_samples_leaf=2, min_samples_split=5, n_estimators=100;, score=0.760 total time=   0.2s\n",
      "[CV 4/5] END max_depth=9, min_samples_leaf=2, min_samples_split=5, n_estimators=100;, score=0.936 total time=   0.2s\n",
      "[CV 5/5] END max_depth=9, min_samples_leaf=2, min_samples_split=5, n_estimators=100;, score=0.762 total time=   0.2s\n",
      "[CV 1/5] END max_depth=7, min_samples_leaf=3, min_samples_split=10, n_estimators=100;, score=0.884 total time=   0.2s\n",
      "[CV 2/5] END max_depth=7, min_samples_leaf=3, min_samples_split=10, n_estimators=100;, score=0.880 total time=   0.2s\n",
      "[CV 3/5] END max_depth=7, min_samples_leaf=3, min_samples_split=10, n_estimators=100;, score=0.808 total time=   0.2s\n",
      "[CV 4/5] END max_depth=7, min_samples_leaf=3, min_samples_split=10, n_estimators=100;, score=0.894 total time=   0.2s\n",
      "[CV 5/5] END max_depth=7, min_samples_leaf=3, min_samples_split=10, n_estimators=100;, score=0.744 total time=   0.2s\n",
      "[CV 1/5] END max_depth=8, min_samples_leaf=3, min_samples_split=10, n_estimators=300;, score=0.864 total time=   0.5s\n",
      "[CV 2/5] END max_depth=8, min_samples_leaf=3, min_samples_split=10, n_estimators=300;, score=0.880 total time=   0.5s\n",
      "[CV 3/5] END max_depth=8, min_samples_leaf=3, min_samples_split=10, n_estimators=300;, score=0.784 total time=   0.5s\n",
      "[CV 4/5] END max_depth=8, min_samples_leaf=3, min_samples_split=10, n_estimators=300;, score=0.917 total time=   0.5s\n",
      "[CV 5/5] END max_depth=8, min_samples_leaf=3, min_samples_split=10, n_estimators=300;, score=0.773 total time=   0.5s\n",
      "[CV 1/5] END max_depth=6, min_samples_leaf=3, min_samples_split=5, n_estimators=200;, score=0.884 total time=   0.4s\n",
      "[CV 2/5] END max_depth=6, min_samples_leaf=3, min_samples_split=5, n_estimators=200;, score=0.857 total time=   0.4s\n",
      "[CV 3/5] END max_depth=6, min_samples_leaf=3, min_samples_split=5, n_estimators=200;, score=0.784 total time=   0.4s\n",
      "[CV 4/5] END max_depth=6, min_samples_leaf=3, min_samples_split=5, n_estimators=200;, score=0.917 total time=   0.4s\n",
      "[CV 5/5] END max_depth=6, min_samples_leaf=3, min_samples_split=5, n_estimators=200;, score=0.756 total time=   0.4s\n",
      "[CV 1/5] END max_depth=7, min_samples_leaf=5, min_samples_split=5, n_estimators=100;, score=0.864 total time=   0.2s\n",
      "[CV 2/5] END max_depth=7, min_samples_leaf=5, min_samples_split=5, n_estimators=100;, score=0.880 total time=   0.2s\n",
      "[CV 3/5] END max_depth=7, min_samples_leaf=5, min_samples_split=5, n_estimators=100;, score=0.784 total time=   0.2s\n",
      "[CV 4/5] END max_depth=7, min_samples_leaf=5, min_samples_split=5, n_estimators=100;, score=0.917 total time=   0.2s\n",
      "[CV 5/5] END max_depth=7, min_samples_leaf=5, min_samples_split=5, n_estimators=100;, score=0.744 total time=   0.2s\n"
     ]
    },
    {
     "data": {
      "text/html": [
       "<style>#sk-container-id-2 {color: black;background-color: white;}#sk-container-id-2 pre{padding: 0;}#sk-container-id-2 div.sk-toggleable {background-color: white;}#sk-container-id-2 label.sk-toggleable__label {cursor: pointer;display: block;width: 100%;margin-bottom: 0;padding: 0.3em;box-sizing: border-box;text-align: center;}#sk-container-id-2 label.sk-toggleable__label-arrow:before {content: \"▸\";float: left;margin-right: 0.25em;color: #696969;}#sk-container-id-2 label.sk-toggleable__label-arrow:hover:before {color: black;}#sk-container-id-2 div.sk-estimator:hover label.sk-toggleable__label-arrow:before {color: black;}#sk-container-id-2 div.sk-toggleable__content {max-height: 0;max-width: 0;overflow: hidden;text-align: left;background-color: #f0f8ff;}#sk-container-id-2 div.sk-toggleable__content pre {margin: 0.2em;color: black;border-radius: 0.25em;background-color: #f0f8ff;}#sk-container-id-2 input.sk-toggleable__control:checked~div.sk-toggleable__content {max-height: 200px;max-width: 100%;overflow: auto;}#sk-container-id-2 input.sk-toggleable__control:checked~label.sk-toggleable__label-arrow:before {content: \"▾\";}#sk-container-id-2 div.sk-estimator input.sk-toggleable__control:checked~label.sk-toggleable__label {background-color: #d4ebff;}#sk-container-id-2 div.sk-label input.sk-toggleable__control:checked~label.sk-toggleable__label {background-color: #d4ebff;}#sk-container-id-2 input.sk-hidden--visually {border: 0;clip: rect(1px 1px 1px 1px);clip: rect(1px, 1px, 1px, 1px);height: 1px;margin: -1px;overflow: hidden;padding: 0;position: absolute;width: 1px;}#sk-container-id-2 div.sk-estimator {font-family: monospace;background-color: #f0f8ff;border: 1px dotted black;border-radius: 0.25em;box-sizing: border-box;margin-bottom: 0.5em;}#sk-container-id-2 div.sk-estimator:hover {background-color: #d4ebff;}#sk-container-id-2 div.sk-parallel-item::after {content: \"\";width: 100%;border-bottom: 1px solid gray;flex-grow: 1;}#sk-container-id-2 div.sk-label:hover label.sk-toggleable__label {background-color: #d4ebff;}#sk-container-id-2 div.sk-serial::before {content: \"\";position: absolute;border-left: 1px solid gray;box-sizing: border-box;top: 0;bottom: 0;left: 50%;z-index: 0;}#sk-container-id-2 div.sk-serial {display: flex;flex-direction: column;align-items: center;background-color: white;padding-right: 0.2em;padding-left: 0.2em;position: relative;}#sk-container-id-2 div.sk-item {position: relative;z-index: 1;}#sk-container-id-2 div.sk-parallel {display: flex;align-items: stretch;justify-content: center;background-color: white;position: relative;}#sk-container-id-2 div.sk-item::before, #sk-container-id-2 div.sk-parallel-item::before {content: \"\";position: absolute;border-left: 1px solid gray;box-sizing: border-box;top: 0;bottom: 0;left: 50%;z-index: -1;}#sk-container-id-2 div.sk-parallel-item {display: flex;flex-direction: column;z-index: 1;position: relative;background-color: white;}#sk-container-id-2 div.sk-parallel-item:first-child::after {align-self: flex-end;width: 50%;}#sk-container-id-2 div.sk-parallel-item:last-child::after {align-self: flex-start;width: 50%;}#sk-container-id-2 div.sk-parallel-item:only-child::after {width: 0;}#sk-container-id-2 div.sk-dashed-wrapped {border: 1px dashed gray;margin: 0 0.4em 0.5em 0.4em;box-sizing: border-box;padding-bottom: 0.4em;background-color: white;}#sk-container-id-2 div.sk-label label {font-family: monospace;font-weight: bold;display: inline-block;line-height: 1.2em;}#sk-container-id-2 div.sk-label-container {text-align: center;}#sk-container-id-2 div.sk-container {/* jupyter's `normalize.less` sets `[hidden] { display: none; }` but bootstrap.min.css set `[hidden] { display: none !important; }` so we also need the `!important` here to be able to override the default hidden behavior on the sphinx rendered scikit-learn.org. See: https://github.com/scikit-learn/scikit-learn/issues/21755 */display: inline-block !important;position: relative;}#sk-container-id-2 div.sk-text-repr-fallback {display: none;}</style><div id=\"sk-container-id-2\" class=\"sk-top-container\"><div class=\"sk-text-repr-fallback\"><pre>RandomizedSearchCV(cv=5, estimator=RandomForestClassifier(), n_iter=50,\n",
       "                   param_distributions={&#x27;max_depth&#x27;: [4, 5, 6, 7, 8, 9, 10],\n",
       "                                        &#x27;min_samples_leaf&#x27;: [2, 3, 4, 5, 6],\n",
       "                                        &#x27;min_samples_split&#x27;: [2, 5, 10],\n",
       "                                        &#x27;n_estimators&#x27;: [10, 50, 100, 200, 300,\n",
       "                                                         400]},\n",
       "                   scoring=&#x27;f1&#x27;, verbose=3)</pre><b>In a Jupyter environment, please rerun this cell to show the HTML representation or trust the notebook. <br />On GitHub, the HTML representation is unable to render, please try loading this page with nbviewer.org.</b></div><div class=\"sk-container\" hidden><div class=\"sk-item sk-dashed-wrapped\"><div class=\"sk-label-container\"><div class=\"sk-label sk-toggleable\"><input class=\"sk-toggleable__control sk-hidden--visually\" id=\"sk-estimator-id-2\" type=\"checkbox\" ><label for=\"sk-estimator-id-2\" class=\"sk-toggleable__label sk-toggleable__label-arrow\">RandomizedSearchCV</label><div class=\"sk-toggleable__content\"><pre>RandomizedSearchCV(cv=5, estimator=RandomForestClassifier(), n_iter=50,\n",
       "                   param_distributions={&#x27;max_depth&#x27;: [4, 5, 6, 7, 8, 9, 10],\n",
       "                                        &#x27;min_samples_leaf&#x27;: [2, 3, 4, 5, 6],\n",
       "                                        &#x27;min_samples_split&#x27;: [2, 5, 10],\n",
       "                                        &#x27;n_estimators&#x27;: [10, 50, 100, 200, 300,\n",
       "                                                         400]},\n",
       "                   scoring=&#x27;f1&#x27;, verbose=3)</pre></div></div></div><div class=\"sk-parallel\"><div class=\"sk-parallel-item\"><div class=\"sk-item\"><div class=\"sk-label-container\"><div class=\"sk-label sk-toggleable\"><input class=\"sk-toggleable__control sk-hidden--visually\" id=\"sk-estimator-id-3\" type=\"checkbox\" ><label for=\"sk-estimator-id-3\" class=\"sk-toggleable__label sk-toggleable__label-arrow\">estimator: RandomForestClassifier</label><div class=\"sk-toggleable__content\"><pre>RandomForestClassifier()</pre></div></div></div><div class=\"sk-serial\"><div class=\"sk-item\"><div class=\"sk-estimator sk-toggleable\"><input class=\"sk-toggleable__control sk-hidden--visually\" id=\"sk-estimator-id-4\" type=\"checkbox\" ><label for=\"sk-estimator-id-4\" class=\"sk-toggleable__label sk-toggleable__label-arrow\">RandomForestClassifier</label><div class=\"sk-toggleable__content\"><pre>RandomForestClassifier()</pre></div></div></div></div></div></div></div></div></div></div>"
      ],
      "text/plain": [
       "RandomizedSearchCV(cv=5, estimator=RandomForestClassifier(), n_iter=50,\n",
       "                   param_distributions={'max_depth': [4, 5, 6, 7, 8, 9, 10],\n",
       "                                        'min_samples_leaf': [2, 3, 4, 5, 6],\n",
       "                                        'min_samples_split': [2, 5, 10],\n",
       "                                        'n_estimators': [10, 50, 100, 200, 300,\n",
       "                                                         400]},\n",
       "                   scoring='f1', verbose=3)"
      ]
     },
     "execution_count": 53,
     "metadata": {},
     "output_type": "execute_result"
    }
   ],
   "source": [
    "rscv.fit(X_train,y_train.values.flatten())"
   ]
  },
  {
   "cell_type": "code",
   "execution_count": 54,
   "id": "b4d13c84-b782-4f85-9083-d52af90b2812",
   "metadata": {},
   "outputs": [
    {
     "data": {
      "text/plain": [
       "0.8631917592550942"
      ]
     },
     "execution_count": 54,
     "metadata": {},
     "output_type": "execute_result"
    }
   ],
   "source": [
    "rscv.best_score_"
   ]
  },
  {
   "cell_type": "markdown",
   "id": "e4291ab5-7feb-42cb-b92b-39992da3708a",
   "metadata": {},
   "source": [
    "### 7. Report the best set of hyperparameters found by the search and the corresponding performance metrics. Compare the performance of the tuned model with the default model."
   ]
  },
  {
   "cell_type": "code",
   "execution_count": 56,
   "id": "8040c8dc-4991-44bb-b00e-dc73d3bbc725",
   "metadata": {},
   "outputs": [
    {
     "data": {
      "text/plain": [
       "{'n_estimators': 200,\n",
       " 'min_samples_split': 10,\n",
       " 'min_samples_leaf': 5,\n",
       " 'max_depth': 5}"
      ]
     },
     "execution_count": 56,
     "metadata": {},
     "output_type": "execute_result"
    }
   ],
   "source": [
    "#Best parameters\n",
    "rscv.best_params_"
   ]
  },
  {
   "cell_type": "code",
   "execution_count": 57,
   "id": "2f346ffd-600b-4b3a-a5ef-0d4fa92fc23e",
   "metadata": {},
   "outputs": [
    {
     "data": {
      "text/html": [
       "<style>#sk-container-id-3 {color: black;background-color: white;}#sk-container-id-3 pre{padding: 0;}#sk-container-id-3 div.sk-toggleable {background-color: white;}#sk-container-id-3 label.sk-toggleable__label {cursor: pointer;display: block;width: 100%;margin-bottom: 0;padding: 0.3em;box-sizing: border-box;text-align: center;}#sk-container-id-3 label.sk-toggleable__label-arrow:before {content: \"▸\";float: left;margin-right: 0.25em;color: #696969;}#sk-container-id-3 label.sk-toggleable__label-arrow:hover:before {color: black;}#sk-container-id-3 div.sk-estimator:hover label.sk-toggleable__label-arrow:before {color: black;}#sk-container-id-3 div.sk-toggleable__content {max-height: 0;max-width: 0;overflow: hidden;text-align: left;background-color: #f0f8ff;}#sk-container-id-3 div.sk-toggleable__content pre {margin: 0.2em;color: black;border-radius: 0.25em;background-color: #f0f8ff;}#sk-container-id-3 input.sk-toggleable__control:checked~div.sk-toggleable__content {max-height: 200px;max-width: 100%;overflow: auto;}#sk-container-id-3 input.sk-toggleable__control:checked~label.sk-toggleable__label-arrow:before {content: \"▾\";}#sk-container-id-3 div.sk-estimator input.sk-toggleable__control:checked~label.sk-toggleable__label {background-color: #d4ebff;}#sk-container-id-3 div.sk-label input.sk-toggleable__control:checked~label.sk-toggleable__label {background-color: #d4ebff;}#sk-container-id-3 input.sk-hidden--visually {border: 0;clip: rect(1px 1px 1px 1px);clip: rect(1px, 1px, 1px, 1px);height: 1px;margin: -1px;overflow: hidden;padding: 0;position: absolute;width: 1px;}#sk-container-id-3 div.sk-estimator {font-family: monospace;background-color: #f0f8ff;border: 1px dotted black;border-radius: 0.25em;box-sizing: border-box;margin-bottom: 0.5em;}#sk-container-id-3 div.sk-estimator:hover {background-color: #d4ebff;}#sk-container-id-3 div.sk-parallel-item::after {content: \"\";width: 100%;border-bottom: 1px solid gray;flex-grow: 1;}#sk-container-id-3 div.sk-label:hover label.sk-toggleable__label {background-color: #d4ebff;}#sk-container-id-3 div.sk-serial::before {content: \"\";position: absolute;border-left: 1px solid gray;box-sizing: border-box;top: 0;bottom: 0;left: 50%;z-index: 0;}#sk-container-id-3 div.sk-serial {display: flex;flex-direction: column;align-items: center;background-color: white;padding-right: 0.2em;padding-left: 0.2em;position: relative;}#sk-container-id-3 div.sk-item {position: relative;z-index: 1;}#sk-container-id-3 div.sk-parallel {display: flex;align-items: stretch;justify-content: center;background-color: white;position: relative;}#sk-container-id-3 div.sk-item::before, #sk-container-id-3 div.sk-parallel-item::before {content: \"\";position: absolute;border-left: 1px solid gray;box-sizing: border-box;top: 0;bottom: 0;left: 50%;z-index: -1;}#sk-container-id-3 div.sk-parallel-item {display: flex;flex-direction: column;z-index: 1;position: relative;background-color: white;}#sk-container-id-3 div.sk-parallel-item:first-child::after {align-self: flex-end;width: 50%;}#sk-container-id-3 div.sk-parallel-item:last-child::after {align-self: flex-start;width: 50%;}#sk-container-id-3 div.sk-parallel-item:only-child::after {width: 0;}#sk-container-id-3 div.sk-dashed-wrapped {border: 1px dashed gray;margin: 0 0.4em 0.5em 0.4em;box-sizing: border-box;padding-bottom: 0.4em;background-color: white;}#sk-container-id-3 div.sk-label label {font-family: monospace;font-weight: bold;display: inline-block;line-height: 1.2em;}#sk-container-id-3 div.sk-label-container {text-align: center;}#sk-container-id-3 div.sk-container {/* jupyter's `normalize.less` sets `[hidden] { display: none; }` but bootstrap.min.css set `[hidden] { display: none !important; }` so we also need the `!important` here to be able to override the default hidden behavior on the sphinx rendered scikit-learn.org. See: https://github.com/scikit-learn/scikit-learn/issues/21755 */display: inline-block !important;position: relative;}#sk-container-id-3 div.sk-text-repr-fallback {display: none;}</style><div id=\"sk-container-id-3\" class=\"sk-top-container\"><div class=\"sk-text-repr-fallback\"><pre>RandomForestClassifier(max_depth=5, min_samples_leaf=5, min_samples_split=10,\n",
       "                       n_estimators=200)</pre><b>In a Jupyter environment, please rerun this cell to show the HTML representation or trust the notebook. <br />On GitHub, the HTML representation is unable to render, please try loading this page with nbviewer.org.</b></div><div class=\"sk-container\" hidden><div class=\"sk-item\"><div class=\"sk-estimator sk-toggleable\"><input class=\"sk-toggleable__control sk-hidden--visually\" id=\"sk-estimator-id-5\" type=\"checkbox\" checked><label for=\"sk-estimator-id-5\" class=\"sk-toggleable__label sk-toggleable__label-arrow\">RandomForestClassifier</label><div class=\"sk-toggleable__content\"><pre>RandomForestClassifier(max_depth=5, min_samples_leaf=5, min_samples_split=10,\n",
       "                       n_estimators=200)</pre></div></div></div></div></div>"
      ],
      "text/plain": [
       "RandomForestClassifier(max_depth=5, min_samples_leaf=5, min_samples_split=10,\n",
       "                       n_estimators=200)"
      ]
     },
     "execution_count": 57,
     "metadata": {},
     "output_type": "execute_result"
    }
   ],
   "source": [
    "# Best Estimator (Model)\n",
    "rscv.best_estimator_"
   ]
  },
  {
   "cell_type": "code",
   "execution_count": 58,
   "id": "1cb0474f-b2c2-4198-b401-4e005dbd4b1a",
   "metadata": {},
   "outputs": [
    {
     "name": "stdout",
     "output_type": "stream",
     "text": [
      "Results for Tuned Model :\n",
      "\n",
      "Accuracy Score  : 0.8242\n",
      "Precision Score : 0.8269\n",
      "Recall Score    : 0.8600\n",
      "F1 Score        : 0.8431\n"
     ]
    }
   ],
   "source": [
    "# Testing Accuracy on tuned model\n",
    "print('Results for Tuned Model :\\n')\n",
    "acc_tuned, pre_tuned , rec_tuned, f1_tuned = evaluate_model(X_test,y_test.values.flatten(),rscv)"
   ]
  },
  {
   "cell_type": "code",
   "execution_count": 59,
   "id": "05e98436-94e2-4e60-90a8-e6d7d928f07c",
   "metadata": {},
   "outputs": [],
   "source": [
    "dct = {\n",
    "    'metrics':['accuracy','precision','recall','f1'],\n",
    "    'base model':[acc_base,pre_base,rec_base,f1_base],\n",
    "    'tuned model':[acc_tuned,pre_tuned,rec_tuned,f1_tuned]\n",
    "}"
   ]
  },
  {
   "cell_type": "code",
   "execution_count": 60,
   "id": "01fe57cb-ee65-453b-b77d-f03bdf1fb6ac",
   "metadata": {},
   "outputs": [
    {
     "data": {
      "text/html": [
       "<div>\n",
       "<style scoped>\n",
       "    .dataframe tbody tr th:only-of-type {\n",
       "        vertical-align: middle;\n",
       "    }\n",
       "\n",
       "    .dataframe tbody tr th {\n",
       "        vertical-align: top;\n",
       "    }\n",
       "\n",
       "    .dataframe thead th {\n",
       "        text-align: right;\n",
       "    }\n",
       "</style>\n",
       "<table border=\"1\" class=\"dataframe\">\n",
       "  <thead>\n",
       "    <tr style=\"text-align: right;\">\n",
       "      <th></th>\n",
       "      <th>metrics</th>\n",
       "      <th>base model</th>\n",
       "      <th>tuned model</th>\n",
       "    </tr>\n",
       "  </thead>\n",
       "  <tbody>\n",
       "    <tr>\n",
       "      <th>0</th>\n",
       "      <td>accuracy</td>\n",
       "      <td>0.791209</td>\n",
       "      <td>0.824176</td>\n",
       "    </tr>\n",
       "    <tr>\n",
       "      <th>1</th>\n",
       "      <td>precision</td>\n",
       "      <td>0.816327</td>\n",
       "      <td>0.826923</td>\n",
       "    </tr>\n",
       "    <tr>\n",
       "      <th>2</th>\n",
       "      <td>recall</td>\n",
       "      <td>0.800000</td>\n",
       "      <td>0.860000</td>\n",
       "    </tr>\n",
       "    <tr>\n",
       "      <th>3</th>\n",
       "      <td>f1</td>\n",
       "      <td>0.808081</td>\n",
       "      <td>0.843137</td>\n",
       "    </tr>\n",
       "  </tbody>\n",
       "</table>\n",
       "</div>"
      ],
      "text/plain": [
       "     metrics  base model  tuned model\n",
       "0   accuracy    0.791209     0.824176\n",
       "1  precision    0.816327     0.826923\n",
       "2     recall    0.800000     0.860000\n",
       "3         f1    0.808081     0.843137"
      ]
     },
     "execution_count": 60,
     "metadata": {},
     "output_type": "execute_result"
    }
   ],
   "source": [
    "df_compare = pd.DataFrame(dct)\n",
    "df_compare"
   ]
  },
  {
   "cell_type": "markdown",
   "id": "636b60aa-24c6-4545-b88a-552f50a6724f",
   "metadata": {},
   "source": [
    "### 8. Interpret the model by analysing the decision boundaries of the random forest classifier. Plot the decision boundaries on a scatter plot of two of the most important features. Discuss the insights and limitations of the model for predicting heart disease risk."
   ]
  },
  {
   "cell_type": "code",
   "execution_count": 61,
   "id": "55492930-98c1-4b28-bf84-59967f36c07f",
   "metadata": {},
   "outputs": [
    {
     "data": {
      "text/html": [
       "<style>#sk-container-id-4 {color: black;background-color: white;}#sk-container-id-4 pre{padding: 0;}#sk-container-id-4 div.sk-toggleable {background-color: white;}#sk-container-id-4 label.sk-toggleable__label {cursor: pointer;display: block;width: 100%;margin-bottom: 0;padding: 0.3em;box-sizing: border-box;text-align: center;}#sk-container-id-4 label.sk-toggleable__label-arrow:before {content: \"▸\";float: left;margin-right: 0.25em;color: #696969;}#sk-container-id-4 label.sk-toggleable__label-arrow:hover:before {color: black;}#sk-container-id-4 div.sk-estimator:hover label.sk-toggleable__label-arrow:before {color: black;}#sk-container-id-4 div.sk-toggleable__content {max-height: 0;max-width: 0;overflow: hidden;text-align: left;background-color: #f0f8ff;}#sk-container-id-4 div.sk-toggleable__content pre {margin: 0.2em;color: black;border-radius: 0.25em;background-color: #f0f8ff;}#sk-container-id-4 input.sk-toggleable__control:checked~div.sk-toggleable__content {max-height: 200px;max-width: 100%;overflow: auto;}#sk-container-id-4 input.sk-toggleable__control:checked~label.sk-toggleable__label-arrow:before {content: \"▾\";}#sk-container-id-4 div.sk-estimator input.sk-toggleable__control:checked~label.sk-toggleable__label {background-color: #d4ebff;}#sk-container-id-4 div.sk-label input.sk-toggleable__control:checked~label.sk-toggleable__label {background-color: #d4ebff;}#sk-container-id-4 input.sk-hidden--visually {border: 0;clip: rect(1px 1px 1px 1px);clip: rect(1px, 1px, 1px, 1px);height: 1px;margin: -1px;overflow: hidden;padding: 0;position: absolute;width: 1px;}#sk-container-id-4 div.sk-estimator {font-family: monospace;background-color: #f0f8ff;border: 1px dotted black;border-radius: 0.25em;box-sizing: border-box;margin-bottom: 0.5em;}#sk-container-id-4 div.sk-estimator:hover {background-color: #d4ebff;}#sk-container-id-4 div.sk-parallel-item::after {content: \"\";width: 100%;border-bottom: 1px solid gray;flex-grow: 1;}#sk-container-id-4 div.sk-label:hover label.sk-toggleable__label {background-color: #d4ebff;}#sk-container-id-4 div.sk-serial::before {content: \"\";position: absolute;border-left: 1px solid gray;box-sizing: border-box;top: 0;bottom: 0;left: 50%;z-index: 0;}#sk-container-id-4 div.sk-serial {display: flex;flex-direction: column;align-items: center;background-color: white;padding-right: 0.2em;padding-left: 0.2em;position: relative;}#sk-container-id-4 div.sk-item {position: relative;z-index: 1;}#sk-container-id-4 div.sk-parallel {display: flex;align-items: stretch;justify-content: center;background-color: white;position: relative;}#sk-container-id-4 div.sk-item::before, #sk-container-id-4 div.sk-parallel-item::before {content: \"\";position: absolute;border-left: 1px solid gray;box-sizing: border-box;top: 0;bottom: 0;left: 50%;z-index: -1;}#sk-container-id-4 div.sk-parallel-item {display: flex;flex-direction: column;z-index: 1;position: relative;background-color: white;}#sk-container-id-4 div.sk-parallel-item:first-child::after {align-self: flex-end;width: 50%;}#sk-container-id-4 div.sk-parallel-item:last-child::after {align-self: flex-start;width: 50%;}#sk-container-id-4 div.sk-parallel-item:only-child::after {width: 0;}#sk-container-id-4 div.sk-dashed-wrapped {border: 1px dashed gray;margin: 0 0.4em 0.5em 0.4em;box-sizing: border-box;padding-bottom: 0.4em;background-color: white;}#sk-container-id-4 div.sk-label label {font-family: monospace;font-weight: bold;display: inline-block;line-height: 1.2em;}#sk-container-id-4 div.sk-label-container {text-align: center;}#sk-container-id-4 div.sk-container {/* jupyter's `normalize.less` sets `[hidden] { display: none; }` but bootstrap.min.css set `[hidden] { display: none !important; }` so we also need the `!important` here to be able to override the default hidden behavior on the sphinx rendered scikit-learn.org. See: https://github.com/scikit-learn/scikit-learn/issues/21755 */display: inline-block !important;position: relative;}#sk-container-id-4 div.sk-text-repr-fallback {display: none;}</style><div id=\"sk-container-id-4\" class=\"sk-top-container\"><div class=\"sk-text-repr-fallback\"><pre>RandomForestClassifier(max_depth=5, min_samples_leaf=5, min_samples_split=10,\n",
       "                       n_estimators=200)</pre><b>In a Jupyter environment, please rerun this cell to show the HTML representation or trust the notebook. <br />On GitHub, the HTML representation is unable to render, please try loading this page with nbviewer.org.</b></div><div class=\"sk-container\" hidden><div class=\"sk-item\"><div class=\"sk-estimator sk-toggleable\"><input class=\"sk-toggleable__control sk-hidden--visually\" id=\"sk-estimator-id-6\" type=\"checkbox\" checked><label for=\"sk-estimator-id-6\" class=\"sk-toggleable__label sk-toggleable__label-arrow\">RandomForestClassifier</label><div class=\"sk-toggleable__content\"><pre>RandomForestClassifier(max_depth=5, min_samples_leaf=5, min_samples_split=10,\n",
       "                       n_estimators=200)</pre></div></div></div></div></div>"
      ],
      "text/plain": [
       "RandomForestClassifier(max_depth=5, min_samples_leaf=5, min_samples_split=10,\n",
       "                       n_estimators=200)"
      ]
     },
     "execution_count": 61,
     "metadata": {},
     "output_type": "execute_result"
    }
   ],
   "source": [
    "best_rfc = rscv.best_estimator_\n",
    "best_rfc"
   ]
  },
  {
   "cell_type": "code",
   "execution_count": 62,
   "id": "77e77909-2dd6-4b88-9170-86c0e2e74c74",
   "metadata": {},
   "outputs": [
    {
     "data": {
      "text/plain": [
       "ca          0.191488\n",
       "cp          0.139838\n",
       "thal        0.137799\n",
       "oldpeak     0.115937\n",
       "thalach     0.099058\n",
       "exang       0.095914\n",
       "slope       0.062426\n",
       "age         0.049595\n",
       "trestbps    0.034501\n",
       "chol        0.033878\n",
       "sex         0.027517\n",
       "restecg     0.009771\n",
       "fbs         0.002278\n",
       "dtype: float64"
      ]
     },
     "execution_count": 62,
     "metadata": {},
     "output_type": "execute_result"
    }
   ],
   "source": [
    "imp_tuned = best_rfc.feature_importances_\n",
    "imp_tuned = pd.Series(imp_tuned)\n",
    "imp_tuned.index = best_rfc.feature_names_in_\n",
    "imp_tuned = imp_tuned.sort_values(ascending=False)\n",
    "imp_tuned"
   ]
  },
  {
   "cell_type": "code",
   "execution_count": 63,
   "id": "9c26d333-a881-4e06-b62e-99c28f9a886e",
   "metadata": {},
   "outputs": [
    {
     "data": {
      "text/plain": [
       "ca    0.191488\n",
       "cp    0.139838\n",
       "dtype: float64"
      ]
     },
     "execution_count": 63,
     "metadata": {},
     "output_type": "execute_result"
    }
   ],
   "source": [
    "imp_tuned[0:2]"
   ]
  },
  {
   "cell_type": "code",
   "execution_count": 64,
   "id": "8af85a70-57ed-45be-9db3-8a904287a788",
   "metadata": {},
   "outputs": [
    {
     "data": {
      "text/plain": [
       "<AxesSubplot: title={'center': 'Feature Importances for tuned model'}>"
      ]
     },
     "execution_count": 64,
     "metadata": {},
     "output_type": "execute_result"
    },
    {
     "data": {
      "image/png": "[encoded data removed]",
      "text/plain": [
       "<Figure size 1600x800 with 1 Axes>"
      ]
     },
     "metadata": {},
     "output_type": "display_data"
    }
   ],
   "source": [
    "imp_tuned.plot(kind='bar',title='Feature Importances for tuned model',figsize=(16,8))"
   ]
  },
  {
   "cell_type": "code",
   "execution_count": 66,
   "id": "8f39e521-a36b-4df4-8f1d-53a2687c58f0",
   "metadata": {},
   "outputs": [
    {
     "data": {
      "text/html": [
       "<div>\n",
       "<style scoped>\n",
       "    .dataframe tbody tr th:only-of-type {\n",
       "        vertical-align: middle;\n",
       "    }\n",
       "\n",
       "    .dataframe tbody tr th {\n",
       "        vertical-align: top;\n",
       "    }\n",
       "\n",
       "    .dataframe thead th {\n",
       "        text-align: right;\n",
       "    }\n",
       "</style>\n",
       "<table border=\"1\" class=\"dataframe\">\n",
       "  <thead>\n",
       "    <tr style=\"text-align: right;\">\n",
       "      <th></th>\n",
       "      <th>ca</th>\n",
       "      <th>cp</th>\n",
       "    </tr>\n",
       "  </thead>\n",
       "  <tbody>\n",
       "    <tr>\n",
       "      <th>124</th>\n",
       "      <td>0</td>\n",
       "      <td>2</td>\n",
       "    </tr>\n",
       "    <tr>\n",
       "      <th>72</th>\n",
       "      <td>0</td>\n",
       "      <td>1</td>\n",
       "    </tr>\n",
       "    <tr>\n",
       "      <th>15</th>\n",
       "      <td>0</td>\n",
       "      <td>2</td>\n",
       "    </tr>\n",
       "    <tr>\n",
       "      <th>10</th>\n",
       "      <td>0</td>\n",
       "      <td>0</td>\n",
       "    </tr>\n",
       "    <tr>\n",
       "      <th>163</th>\n",
       "      <td>4</td>\n",
       "      <td>2</td>\n",
       "    </tr>\n",
       "  </tbody>\n",
       "</table>\n",
       "</div>"
      ],
      "text/plain": [
       "     ca  cp\n",
       "124   0   2\n",
       "72    0   1\n",
       "15    0   2\n",
       "10    0   0\n",
       "163   4   2"
      ]
     },
     "execution_count": 66,
     "metadata": {},
     "output_type": "execute_result"
    }
   ],
   "source": [
    "top2 = X_train[['ca','cp']]\n",
    "top2.head()"
   ]
  },
  {
   "cell_type": "code",
   "execution_count": 67,
   "id": "5020266b-fc04-4321-b511-b22213bbbf2f",
   "metadata": {},
   "outputs": [
    {
     "data": {
      "text/html": [
       "<div>\n",
       "<style scoped>\n",
       "    .dataframe tbody tr th:only-of-type {\n",
       "        vertical-align: middle;\n",
       "    }\n",
       "\n",
       "    .dataframe tbody tr th {\n",
       "        vertical-align: top;\n",
       "    }\n",
       "\n",
       "    .dataframe thead th {\n",
       "        text-align: right;\n",
       "    }\n",
       "</style>\n",
       "<table border=\"1\" class=\"dataframe\">\n",
       "  <thead>\n",
       "    <tr style=\"text-align: right;\">\n",
       "      <th></th>\n",
       "      <th>ca</th>\n",
       "      <th>cp</th>\n",
       "      <th>target</th>\n",
       "    </tr>\n",
       "  </thead>\n",
       "  <tbody>\n",
       "    <tr>\n",
       "      <th>124</th>\n",
       "      <td>0</td>\n",
       "      <td>2</td>\n",
       "      <td>1</td>\n",
       "    </tr>\n",
       "    <tr>\n",
       "      <th>72</th>\n",
       "      <td>0</td>\n",
       "      <td>1</td>\n",
       "      <td>1</td>\n",
       "    </tr>\n",
       "    <tr>\n",
       "      <th>15</th>\n",
       "      <td>0</td>\n",
       "      <td>2</td>\n",
       "      <td>1</td>\n",
       "    </tr>\n",
       "    <tr>\n",
       "      <th>10</th>\n",
       "      <td>0</td>\n",
       "      <td>0</td>\n",
       "      <td>1</td>\n",
       "    </tr>\n",
       "    <tr>\n",
       "      <th>163</th>\n",
       "      <td>4</td>\n",
       "      <td>2</td>\n",
       "      <td>1</td>\n",
       "    </tr>\n",
       "  </tbody>\n",
       "</table>\n",
       "</div>"
      ],
      "text/plain": [
       "     ca  cp  target\n",
       "124   0   2       1\n",
       "72    0   1       1\n",
       "15    0   2       1\n",
       "10    0   0       1\n",
       "163   4   2       1"
      ]
     },
     "execution_count": 67,
     "metadata": {},
     "output_type": "execute_result"
    }
   ],
   "source": [
    "df_top2 =pd.concat([top2,y_train],axis=1)\n",
    "df_top2.head()"
   ]
  },
  {
   "cell_type": "code",
   "execution_count": 68,
   "id": "8bf142bf-b770-4bfa-aaa9-6f2fb43a64f6",
   "metadata": {},
   "outputs": [
    {
     "data": {
      "image/png": "[encoded data removed]",
      "text/plain": [
       "<Figure size 640x480 with 1 Axes>"
      ]
     },
     "metadata": {},
     "output_type": "display_data"
    }
   ],
   "source": [
    "import seaborn as sns\n",
    "import matplotlib.pyplot as plt\n",
    "sns.scatterplot(data=df_top2,x='ca',y='cp',hue='target')\n",
    "plt.title('Actual Class Target plot')\n",
    "plt.show()"
   ]
  },
  {
   "cell_type": "code",
   "execution_count": 70,
   "id": "9d51e69e-99d4-46b4-8aab-374a1e47f541",
   "metadata": {},
   "outputs": [],
   "source": [
    "df_top2['predicted'] = best_rfc.predict(X_train)"
   ]
  },
  {
   "cell_type": "code",
   "execution_count": 71,
   "id": "3fb9c663-2e05-475e-bc96-256336a2b066",
   "metadata": {},
   "outputs": [
    {
     "data": {
      "image/png": "[encoded data removed]",
      "text/plain": [
       "<Figure size 640x480 with 1 Axes>"
      ]
     },
     "metadata": {},
     "output_type": "display_data"
    }
   ],
   "source": [
    "sns.scatterplot(data=df_top2,x='ca',y='cp',hue='predicted')\n",
    "plt.title('Predicted Class Target plot')\n",
    "plt.show()"
   ]
  }
 ],
 "metadata": {
  "kernelspec": {
   "display_name": "Python 3 (ipykernel)",
   "language": "python",
   "name": "python3"
  },
  "language_info": {
   "codemirror_mode": {
    "name": "ipython",
    "version": 3
   },
   "file_extension": ".py",
   "mimetype": "text/x-python",
   "name": "python",
   "nbconvert_exporter": "python",
   "pygments_lexer": "ipython3",
   "version": "3.10.8"
  }
 },
 "nbformat": 4,
 "nbformat_minor": 5
}
