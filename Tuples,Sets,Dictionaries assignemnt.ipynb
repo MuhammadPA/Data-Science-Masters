{
 "cells": [
  {
   "cell_type": "markdown",
   "id": "9f670195-6b8b-47bc-a676-5574b9a5f9a1",
   "metadata": {},
   "source": [
    "### 1. What are the characteristics of tuples. Is it mutable type?"
   ]
  },
  {
   "cell_type": "markdown",
   "id": "f09df5e5-c82e-4f0d-b896-57a0c793c08e",
   "metadata": {},
   "source": [
    "Some characteristics of tuples are:\n",
    "Ordered: The elements of a tuple have a specific order and can be accessed by their index.\n",
    "Immutable: Once a tuple is created, its elements cannot be changed.\n",
    "Heterogeneous: Tuples can contain elements of different data types.\n",
    "Fixed Size: The size of a tuple cannot be changed, i.e., you cannot add or remove elements from a tuple.\n",
    "    Tuples are an immutable data type, which means that you cannot change the elements of a tuple \n",
    "after it has been created."
   ]
  },
  {
   "cell_type": "markdown",
   "id": "c7e8bcc0-4173-485b-8cd4-90bb1795729d",
   "metadata": {},
   "source": [
    "### 2. What are the two tuple methods in python? Give an example of each method. Give a reaon why why tuples have two in-built fuctions as compared to lists?"
   ]
  },
  {
   "cell_type": "markdown",
   "id": "ca4a37ee-dd6c-4f34-84a1-fc24a2e1adc7",
   "metadata": {},
   "source": [
    "There are two in-built methods available in Python for tuples:\n",
    "1.count(): This method returns the number of occurrences of a specified element in the tuple.\n",
    "Example:\n",
    "t = (1, 2, 3, 2, 1)\n",
    "print(t.count(2)) # Output: 2\n",
    "2. index(): This method returns the index of the first occurrence of a specified element in the tuple.\n",
    "Example: \n",
    "t = (1, 2, 3, 2, 1)\n",
    "print(t.index(3))  # Output: 2\n",
    "\n",
    "Tuples have only two in-built methods as compared to lists because tuples are intended to be \n",
    "a simple and efficient way to store and retrieve data, rather than a data structure \n",
    "with many built-in methods for data manipulation. Tuples are typically used when you want to\n",
    "store a fixed number of related values and access them efficiently, without the need \n",
    "for additional methods to manipulate the data.\n",
    "\n",
    "\n",
    "\n"
   ]
  },
  {
   "cell_type": "markdown",
   "id": "86b076cf-048e-41f8-9425-208ceedd857f",
   "metadata": {},
   "source": [
    "### 3. Which collection data type in python do not allow duplicate items? Write a code using set to remove duplicates from the given list. \n",
    "List=[1,1,1,2,1,3,1,4,2,1,2,2,2,3,2,4,3,1,3,2,3,3,3,4,4,1,4,2,4,3,4,4]"
   ]
  },
  {
   "cell_type": "code",
   "execution_count": 2,
   "id": "bac1d500-2758-41d4-9932-0095fbff7b9a",
   "metadata": {},
   "outputs": [
    {
     "name": "stdout",
     "output_type": "stream",
     "text": [
      "{1, 2, 3, 4}\n"
     ]
    }
   ],
   "source": [
    "'''In Python, sets are collection data types that do not allow duplicate items. \n",
    "Here's a code that uses a set to remove duplicates from the given list:'''\n",
    "\n",
    "List = [1,1,1,2,1,3,1,4,2,1,2,2,2,3,2,4,3,1,3,2,3,3,3,4,4,1,4,2,4,3,4,4]\n",
    "unique_list = set(List)\n",
    "print(unique_list)"
   ]
  },
  {
   "cell_type": "markdown",
   "id": "074176ca-3ea2-48de-ada1-fb4126f149c9",
   "metadata": {},
   "source": [
    "### 4. Explain the difference between union() and update() methods() for a set. Give an example of each method"
   ]
  },
  {
   "cell_type": "markdown",
   "id": "c42d5639-b6cc-4511-8df7-a62d2b2c9b24",
   "metadata": {},
   "source": [
    "The union() and update() methods are used to combine two sets in Python. However, they differ in how they achieve this combination: \n",
    "\n",
    "1.union(): This method returns a new set that contains all the elements of the original set and the elements of the set being combined with it. The original set remains unchanged.\n",
    "Example:\n",
    "set1 = {1, 2, 3}\n",
    "set2 = {2, 3, 4}\n",
    "set3 = set1.union(set2)\n",
    "print(set3)  # Output: {1, 2, 3, 4}\n",
    "\n",
    "2.update(): This method adds the elements of the set being combined to the original set. The original set is changed and a None value is returned.\n",
    "Example:\n",
    "et1 = {1, 2, 3}\n",
    "set2 = {2, 3, 4}\n",
    "set1.update(set2)\n",
    "print(set1)  # Output: {1, 2, 3, 4}\n",
    "\n",
    "In summary, the union() method returns a new set that is the combination of the two sets, while the update() method updates the original set with the elements of the set being combined."
   ]
  },
  {
   "cell_type": "markdown",
   "id": "4fc78559-33f2-4b22-818a-a0a22bc3fdc4",
   "metadata": {},
   "source": [
    "### 5. What is a dictionary? Give example. Also, state whether a dictionary is ordered or unordered."
   ]
  },
  {
   "cell_type": "markdown",
   "id": "25e0310b-a0c7-426a-81eb-ccf347cb658d",
   "metadata": {},
   "source": [
    "A dictionary is a built-in data type in Python that stores key-value pairs. Each key maps to a unique value, and the key-value pairs are separated by colons (:) and enclosed in curly braces ({}).\n",
    "Example:\n",
    "person = {'name': 'John Doe', 'age': 32, 'country': 'USA'}\n",
    "print(person)  # Output: {'name': 'John Doe', 'age': 32, 'country': 'USA'}\n",
    "\n",
    "In Python, dictionaries are unordered, which means that the elements in a dictionary have no defined order. You can access, add, and modify elements in a dictionary using its keys, but the keys do not have an order. If you need an ordered collection of elements, you can use the built-in list or tuple data types."
   ]
  },
  {
   "cell_type": "markdown",
   "id": "815ede7e-ab66-4102-bf8d-eb503f8003ec",
   "metadata": {},
   "source": [
    "### 6.Can we create a nested dictionary? If so, please give an example by creating a simple one-level nested dictionary."
   ]
  },
  {
   "cell_type": "markdown",
   "id": "18c8ab8e-8f1e-493d-baac-17c79a63119c",
   "metadata": {},
   "source": [
    "Yes, we can create a nested dictionary in Python. A nested dictionary is a dictionary that contains another dictionary as its value for one or more keys.\n",
    "\n",
    "Here is an example of a simple one-level nested dictionary:\n",
    "person = {'personal_details': {'name': 'John Doe', 'age': 32, 'country': 'USA'},\n",
    "          'professional_details': {'position': 'Software Engineer', 'company': 'Acme Inc.'}}\n",
    "print(person)\n",
    "Output:\n",
    "{'personal_details': {'name': 'John Doe', 'age': 32, 'country': 'USA'},\n",
    "'professional_details': {'position': 'Software Engineer', 'company': 'Acme Inc.'}}\n",
    "In this example, the top-level dictionary person has two keys personal_details and professional_details that each map to a nested dictionary. The nested dictionaries contain additional key-value pairs."
   ]
  },
  {
   "cell_type": "markdown",
   "id": "6cff5303-9148-4500-bd81-61772a705a28",
   "metadata": {},
   "source": [
    "### 7.Using setdefault() method, create key named topics in the given dictionary and also add the value of the key as this list ['Python','Machine Learning','Deep Learning'] dict1={'language':'Python','Cousre':'Data Science Masters'}"
   ]
  },
  {
   "cell_type": "code",
   "execution_count": 3,
   "id": "c5bbdf48-2dfa-47a2-89a7-bb02419e1a86",
   "metadata": {},
   "outputs": [
    {
     "name": "stdout",
     "output_type": "stream",
     "text": [
      "{'language': 'Python', 'Cousre': 'Data Science Masters', 'topics': ['Python', 'Machine Learning', 'Deep Learning']}\n"
     ]
    }
   ],
   "source": [
    "dict1 = {'language':'Python','Cousre':'Data Science Masters'}\n",
    "dict1.setdefault('topics', ['Python', 'Machine Learning', 'Deep Learning'])\n",
    "print(dict1)"
   ]
  },
  {
   "cell_type": "markdown",
   "id": "e0931f8f-632f-45da-9b2c-2970ff900dfe",
   "metadata": {},
   "source": [
    "### 8.What are the view objects in dictionaries? Use three in-built methods in python to display these three view objects of the given dictionary\n",
    "dict1={'Sport':'Cricket','Teams':['India','Australia','England','South Africa','Sri Lanka','New Zealand']"
   ]
  },
  {
   "cell_type": "code",
   "execution_count": 4,
   "id": "f894b8ac-c67a-4809-bb55-a1c581ba534b",
   "metadata": {},
   "outputs": [
    {
     "name": "stdout",
     "output_type": "stream",
     "text": [
      "Keys view object:  dict_keys(['Sport', 'Teams'])\n",
      "Values view object:  dict_values(['Cricket', ['India', 'Australia', 'England', 'South Africa', 'Sri Lanka', 'New Zealand']])\n",
      "Items view object:  dict_items([('Sport', 'Cricket'), ('Teams', ['India', 'Australia', 'England', 'South Africa', 'Sri Lanka', 'New Zealand'])])\n"
     ]
    }
   ],
   "source": [
    "#In Python, dictionaries have three built-in view objects: keys, values, and items.\n",
    "dict1 = {'Sport':'Cricket','Teams':['India','Australia','England','South Africa','Sri Lanka','New Zealand']}\n",
    "# keys view object\n",
    "print(\"Keys view object: \", dict1.keys())\n",
    "# values view object\n",
    "print(\"Values view object: \", dict1.values())\n",
    "# items view object\n",
    "print(\"Items view object: \", dict1.items())"
   ]
  }
 ],
 "metadata": {
  "kernelspec": {
   "display_name": "Python 3 (ipykernel)",
   "language": "python",
   "name": "python3"
  },
  "language_info": {
   "codemirror_mode": {
    "name": "ipython",
    "version": 3
   },
   "file_extension": ".py",
   "mimetype": "text/x-python",
   "name": "python",
   "nbconvert_exporter": "python",
   "pygments_lexer": "ipython3",
   "version": "3.10.8"
  }
 },
 "nbformat": 4,
 "nbformat_minor": 5
}
