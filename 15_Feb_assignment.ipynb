{
 "cells": [
  {
   "cell_type": "markdown",
   "id": "81bc1750-3d1b-4582-b492-78af0c3c1c56",
   "metadata": {},
   "source": [
    "### 1.What is multiprocessing in python? Why is it useful?"
   ]
  },
  {
   "cell_type": "markdown",
   "id": "2296699a-23cc-4f43-86fb-befa0c9ce8d2",
   "metadata": {},
   "source": [
    "Multiprocessing in Python is a way to leverage the power of multiple CPUs or cores to execute multiple tasks concurrently, allowing for faster processing of large amounts of data. It is a module in Python's standard library that provides a way to spawn processes to run tasks in parallel.\n",
    "\n",
    "Multiprocessing can be useful in a variety of scenarios, such as:\n",
    "1.Processing large datasets\n",
    "2.Improving performance of CPU-bound tasks\n",
    "3.Increasing responsiveness of applications\n",
    "4.taking advantage of multiple cores in modern CPUs"
   ]
  },
  {
   "cell_type": "markdown",
   "id": "f07bd951-cf4c-4542-8d4c-834d5e047019",
   "metadata": {},
   "source": [
    "### 2. What are the differences between multiprocessing and multithreading?"
   ]
  },
  {
   "cell_type": "markdown",
   "id": "a998d81c-635f-4022-b8f6-56a9b714eb14",
   "metadata": {},
   "source": [
    "Multiprocessing and multithreading are both mechanisms for achieving concurrent execution of code in Python, but they differ in several ways.\n",
    "\n",
    "The main differences between multiprocessing and multithreading are:\n",
    "1.Parallelism\n",
    "2.Memory sharing\n",
    "3.Overhead\n",
    "4.Communication\n",
    "5.Ease of use"
   ]
  },
  {
   "cell_type": "markdown",
   "id": "ee44c7c5-c94c-4244-abc1-af9a946a67a3",
   "metadata": {},
   "source": [
    "### 3. Write a python code to create a process using the multiprocessing module."
   ]
  },
  {
   "cell_type": "code",
   "execution_count": 2,
   "id": "5807aa7e-8497-46e1-a508-55379aace08d",
   "metadata": {},
   "outputs": [
    {
     "name": "stdout",
     "output_type": "stream",
     "text": [
      "this is my main program\n",
      "this is my multiprocessing prog\n"
     ]
    }
   ],
   "source": [
    "import multiprocessing\n",
    "\n",
    "def test():\n",
    "    print(\"this is my multiprocessing prog\")\n",
    "\n",
    "if __name__ == \"__main__\":\n",
    "    m = multiprocessing.Process(target=test)\n",
    "    print(\"this is my main program\")\n",
    "    m.start()\n",
    "    m.join()"
   ]
  },
  {
   "cell_type": "markdown",
   "id": "bf1a0f51-5853-4cdc-aa99-8225ae961b74",
   "metadata": {},
   "source": [
    "### 4.What is a multiprocessing pool in python? Why is it used?What are the differences between multiprocessing and multithreading?"
   ]
  },
  {
   "cell_type": "markdown",
   "id": "4db2fab0-46d8-4950-aa75-d133a99daecd",
   "metadata": {},
   "source": [
    "In Python, a multiprocessing pool is a way of parallelizing the execution of a function across multiple input values in a collection, distributing the workload between multiple processes. The multiprocessing module provides the Pool class that makes it easy to use a fixed number of worker processes to execute tasks submitted to a task queue.\n",
    "\n",
    "A pool is used to execute a function with a set of arguments in parallel. The function to execute is provided to the pool along with a list of arguments. The pool assigns each task to a worker process and waits for the worker to complete the task. Once a worker completes a task, it is assigned another task until there are no more tasks left.\n",
    "\n",
    "The Pool class is used to take advantage of multiple processors on a machine. When a program needs to perform a CPU-intensive task that can be broken up into many parallel tasks, using a Pool can help speed up the execution of the program.\n",
    "\n",
    "The Pool class is also useful when working with large data sets that need to be processed in parallel. By dividing the data set into smaller chunks and processing them in parallel, the overall processing time can be reduced.\n",
    "\n",
    "However, it is important to note that creating a pool and distributing tasks to it can come with overhead and memory costs. Therefore, it is important to carefully consider whether using a pool will actually result in a speedup for a particular use case. Additionally, it is important to be aware of the potential for race conditions or other issues when sharing data between processes."
   ]
  },
  {
   "cell_type": "markdown",
   "id": "aa9eb6bf-4449-4b2d-926e-52c43e78467b",
   "metadata": {},
   "source": [
    "### 5. How can we create a pool of worker processes in python using the multiprocessing module?"
   ]
  },
  {
   "cell_type": "code",
   "execution_count": 3,
   "id": "891c1e99-6f12-49de-a5f0-2ea6a0d52083",
   "metadata": {},
   "outputs": [
    {
     "name": "stdout",
     "output_type": "stream",
     "text": [
      "[0, 1, 4, 9, 16, 25, 36, 49, 64, 81]\n"
     ]
    }
   ],
   "source": [
    "'''In Python, a pool of worker processes can be created using the Pool class from the multiprocessing \n",
    "module. The Pool class provides a simple way to create a pool of worker processes that can execute tasks \n",
    "in parallel.'''\n",
    "\n",
    "from multiprocessing import Pool\n",
    "\n",
    "def square(x):\n",
    "    return x * x\n",
    "\n",
    "with Pool(4) as p:\n",
    "    result = p.map(square, range(10))\n",
    "\n",
    "print(result)"
   ]
  },
  {
   "cell_type": "markdown",
   "id": "ae2fe01d-47dc-4fc4-8fb8-607900dcb486",
   "metadata": {
    "tags": []
   },
   "source": [
    "### 6. Write a python program to create 4 processes, each process should print a different number using the multiprocessing module in python."
   ]
  },
  {
   "cell_type": "code",
   "execution_count": 10,
   "id": "3cbb35c0-ffb5-464c-b4e6-7fde407e2973",
   "metadata": {},
   "outputs": [
    {
     "name": "stdout",
     "output_type": "stream",
     "text": [
      "1234\n",
      "\n",
      "\n",
      "\n"
     ]
    }
   ],
   "source": [
    "import multiprocessing\n",
    "\n",
    "def print_number(num):\n",
    "    print(num)\n",
    "\n",
    "if __name__ == '__main__':\n",
    "    numbers = [1, 2, 3, 4]\n",
    "    pool = multiprocessing.Pool(processes=4)\n",
    "    pool.map(print_number, numbers)\n",
    "    pool.close()\n",
    "    pool.join()"
   ]
  }
 ],
 "metadata": {
  "kernelspec": {
   "display_name": "Python 3 (ipykernel)",
   "language": "python",
   "name": "python3"
  },
  "language_info": {
   "codemirror_mode": {
    "name": "ipython",
    "version": 3
   },
   "file_extension": ".py",
   "mimetype": "text/x-python",
   "name": "python",
   "nbconvert_exporter": "python",
   "pygments_lexer": "ipython3",
   "version": "3.10.8"
  }
 },
 "nbformat": 4,
 "nbformat_minor": 5
}
