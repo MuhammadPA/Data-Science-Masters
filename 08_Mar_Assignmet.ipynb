{
 "cells": [
  {
   "cell_type": "markdown",
   "id": "7494ddd7-98a2-4346-9507-c756e4764d8c",
   "metadata": {},
   "source": [
    "### 1. What is the Probability density function?"
   ]
  },
  {
   "cell_type": "markdown",
   "id": "98e9e7d3-7d6c-4ae8-bc9d-f1a8a38cfdb3",
   "metadata": {},
   "source": [
    "A probability density function (PDF) is a function that describes the probability distribution of a continuous random variable. The PDF describes the relative likelihood of a value occurring within a given range of values.\n",
    "\n",
    "The PDF is defined such that the integral over any range of values gives the probability of the random variable taking on a value in that range. The PDF is non-negative for all possible values of the random variable, and the total area under the curve of the PDF is equal to 1.\n",
    "\n",
    "In mathematical notation, the PDF of a continuous random variable X is denoted as f(x), and is defined as:\n",
    "\n",
    "f(x) = dF(x)/dx\n",
    "\n",
    "where F(x) is the cumulative distribution function (CDF) of X. The CDF gives the probability that X takes on a value less than or equal to x. Thus, the PDF gives the rate of change of the CDF with respect to x."
   ]
  },
  {
   "cell_type": "markdown",
   "id": "7a8b4953-33eb-41bd-b8c2-ee4c6fbded33",
   "metadata": {},
   "source": [
    "### 2. What are the types of Probability distribution?"
   ]
  },
  {
   "cell_type": "markdown",
   "id": "5e3a7886-74e1-4c6c-8fc2-f0de432b2016",
   "metadata": {},
   "source": [
    "1.Normal/Gaussian Distribution\n",
    "\n",
    "2.Bernoulli Distribution\n",
    "\n",
    "3.Uniform Distribution\n",
    "\n",
    "4.Log Normal Distribution\n",
    "\n",
    "5.Poisson Distribution\n",
    "\n",
    "6.Power Law Distribution\n",
    "\n",
    "7.Binomial Distribution"
   ]
  },
  {
   "cell_type": "markdown",
   "id": "3a0957c9-f2a8-4536-a57b-b356bcd4b31e",
   "metadata": {},
   "source": [
    "### 3. Write a Python function to calculate the probability density function of a normal distribution with given mean and standard deviation at a given point."
   ]
  },
  {
   "cell_type": "code",
   "execution_count": 1,
   "id": "6526f27b-b9a4-41d6-b79a-ac56f91986bb",
   "metadata": {},
   "outputs": [
    {
     "name": "stdout",
     "output_type": "stream",
     "text": [
      "0.10798193302637613\n"
     ]
    }
   ],
   "source": [
    "from scipy.stats import norm\n",
    "\n",
    "def normal_pdf(x, mu, sigma):\n",
    "    pdf = norm.pdf(x, loc=mu, scale=sigma)\n",
    "    return pdf\n",
    "\n",
    "pdf = normal_pdf(x=0, mu=1, sigma=0.5)\n",
    "print(pdf)"
   ]
  },
  {
   "cell_type": "markdown",
   "id": "a1d6c5f2-06bf-4076-9886-97c7bb3a80b1",
   "metadata": {},
   "source": [
    "### 4. What are the properties of Binomial distribution? Give two examples of events where binomial distribution can be applied."
   ]
  },
  {
   "cell_type": "markdown",
   "id": "837e4e35-44d8-4bc8-9f3c-fdfb313a3108",
   "metadata": {},
   "source": [
    "The binomial distribution has several properties, including:\n",
    "\n",
    "1.The binomial distribution is a discrete probability distribution, which means that it describes the probability of a set of discrete outcomes.\n",
    "\n",
    "2.The binomial distribution is characterized by two parameters: n (the number of trials) and p (the probability of success on each trial).\n",
    "\n",
    "3.The probability of k successes in n trials is given by the binomial probability mass function: P(X=k) = (n choose k) * p^k * (1-p)^(n-k), where (n choose k) is the binomial coefficient.\n",
    "\n",
    "4.The mean of the binomial distribution is given by E(X) = np, and the variance is given by Var(X) = np(1-p).\n",
    "\n",
    "5.The binomial distribution is symmetric if p=0.5, and skewed if p is closer to 0 or 1.\n",
    "\n",
    "Examples of events where the binomial distribution can be applied include:\n",
    "\n",
    "1.Flipping a coin: Suppose you flip a fair coin (with probability of heads = p=0.5) 10 times. The number of heads you get in those 10 flips follows a binomial distribution with n=10 and p=0.5.\n",
    "\n",
    "2.Manufacturing defects: A factory produces a batch of 5000 widgets, and the probability of a widget being defective is p=0.02. The number of defective widgets in the batch follows a binomial distribution with n=5000 and p=0.02."
   ]
  },
  {
   "cell_type": "markdown",
   "id": "d775b07b-ad89-46f4-9cda-618f0749a204",
   "metadata": {},
   "source": [
    "### 5. Generate a random sample of size 1000 from a binomial distribution with probability of success 0.4 and plot a histogram of the results using matplotlib."
   ]
  },
  {
   "cell_type": "code",
   "execution_count": 2,
   "id": "4ac0dde3-38ce-4a46-b115-d71e403ac699",
   "metadata": {},
   "outputs": [
    {
     "data": {
      "image/png": "[encoded data removed]",
      "text/plain": [
       "<Figure size 640x480 with 1 Axes>"
      ]
     },
     "metadata": {},
     "output_type": "display_data"
    }
   ],
   "source": [
    "import numpy as np\n",
    "import matplotlib.pyplot as plt\n",
    "\n",
    "n = 1000\n",
    "p = 0.4\n",
    "\n",
    "sample = np.random.binomial(n, p, size=1000)\n",
    "plt.hist(sample, bins=20)\n",
    "plt.xlabel('Number of successes')\n",
    "plt.ylabel('Frequency')\n",
    "plt.title('Binomial distribution with n=1000, p=0.4')\n",
    "plt.show()"
   ]
  },
  {
   "cell_type": "markdown",
   "id": "9416753a-eb0e-4c35-b7c7-106555f48dd5",
   "metadata": {},
   "source": [
    "### 6. Write a Python function to calculate the cumulative distribution function of a Poisson distribution with given mean at a given point."
   ]
  },
  {
   "cell_type": "code",
   "execution_count": 3,
   "id": "e553e41a-49d4-4283-892f-4454c0b5353b",
   "metadata": {},
   "outputs": [
    {
     "name": "stdout",
     "output_type": "stream",
     "text": [
      "P(X <= 2 | mu = 3.5) = 0.3208\n"
     ]
    }
   ],
   "source": [
    "import math\n",
    "\n",
    "def poisson_cdf(mu, k):\n",
    "    cdf = 0.0\n",
    "    for i in range(k + 1):\n",
    "        cdf += (mu ** i) * math.exp(-mu) / math.factorial(i)\n",
    "    return cdf\n",
    "\n",
    "mu = 3.5\n",
    "k = 2\n",
    "cdf = poisson_cdf(mu, k)\n",
    "print(\"P(X <= {} | mu = {}) = {:.4f}\".format(k, mu, cdf))"
   ]
  },
  {
   "cell_type": "markdown",
   "id": "612c4c5e-7618-4fa0-bc8f-21cc26794bdf",
   "metadata": {},
   "source": [
    "### 7. How Binomial distribution different from Poisson distribution?"
   ]
  },
  {
   "cell_type": "markdown",
   "id": "044b0364-826b-4ff3-a384-f32240471545",
   "metadata": {},
   "source": [
    "Binomial distribution and Poisson distribution are both probability distributions that are commonly used in statistics and probability theory, but they are different in several ways:\n",
    "\n",
    "Definition and application: The binomial distribution is used to model the number of successes in a fixed number of independent trials, where each trial has only two possible outcomes (success or failure) with a fixed probability of success. The Poisson distribution, on the other hand, is used to model the number of events occurring in a fixed time or space interval, where the events occur randomly and independently with a fixed average rate.\n",
    "\n",
    "Number of possible outcomes: In the binomial distribution, there are a fixed number of trials with only two possible outcomes for each trial. In the Poisson distribution, the number of possible outcomes is infinite, as the number of events that can occur in a given time or space interval is not limited.\n",
    "\n",
    "Parameters: The binomial distribution has two parameters: the number of trials n and the probability of success p. The Poisson distribution has one parameter: the average rate of occurrence λ.\n",
    "\n",
    "Probability mass function: The probability mass function (PMF) of the binomial distribution is given by:\n",
    "\n",
    "P(X=k) = (n choose k) * p^k * (1-p)^(n-k)\n",
    "\n",
    "where X is the random variable representing the number of successes, k is the number of successes, n is the total number of trials, p is the probability of success in each trial, and (n choose k) is the binomial coefficient. The PMF of the Poisson distribution is given by:\n",
    "\n",
    "P(X=k) = (λ^k / k!) * e^(-λ)\n",
    "\n",
    "where X is the random variable representing the number of events, k is the number of events, λ is the average rate of occurrence, e is the mathematical constant approximately equal to 2.71828, and k! is the factorial of k.\n",
    "\n",
    "Assumptions: The binomial distribution assumes that the trials are independent, and that the probability of success is constant for all trials. The Poisson distribution assumes that the events occur randomly and independently, and that the rate of occurrence is constant over time or space."
   ]
  },
  {
   "cell_type": "markdown",
   "id": "fc6c3a17-f136-46a7-b41d-f144e8f19f54",
   "metadata": {},
   "source": [
    "### 8. Generate a random sample of size 1000 from a Poisson distribution with mean 5 and calculate the sample mean and variance."
   ]
  },
  {
   "cell_type": "code",
   "execution_count": 4,
   "id": "16dabe64-af71-4c7e-9378-279256f7fd61",
   "metadata": {},
   "outputs": [
    {
     "name": "stdout",
     "output_type": "stream",
     "text": [
      "Sample Mean: 4.96\n",
      "Sample Variance: 5.06\n"
     ]
    }
   ],
   "source": [
    "import numpy as np\n",
    "\n",
    "sample = np.random.poisson(5, 1000)\n",
    "\n",
    "sample_mean = np.mean(sample)\n",
    "sample_var = np.var(sample)\n",
    "\n",
    "\n",
    "print(\"Sample Mean: {:.2f}\".format(sample_mean))\n",
    "print(\"Sample Variance: {:.2f}\".format(sample_var))"
   ]
  },
  {
   "cell_type": "markdown",
   "id": "4d491947-a3a2-4001-b366-76bf86222671",
   "metadata": {},
   "source": [
    "### 9. How mean and variance are related in Binomial distribution and Poisson distribution?"
   ]
  },
  {
   "cell_type": "markdown",
   "id": "5ec8cac5-e1a8-469b-b8b5-5115ada5efa8",
   "metadata": {},
   "source": [
    "In both Binomial distribution and Poisson distribution, the mean and variance are related, but the relationship is different for each distribution.\n",
    "\n",
    "For a Binomial distribution with parameters n and p, the mean and variance are:\n",
    "\n",
    "Mean: mu = n * p\n",
    "\n",
    "Variance: sigma^2 = n * p * (1 - p)\n",
    "\n",
    "Here, the mean is directly proportional to the number of trials n and the probability of success p, while the variance is proportional to both n and p, as well as the probability of failure 1-p.\n",
    "\n",
    "For a Poisson distribution with parameter lambda, the mean and variance are:\n",
    "\n",
    "Mean: mu = lambda\n",
    "\n",
    "Variance: sigma^2 = lambda\n",
    "\n",
    "Here, both the mean and variance are equal to the parameter lambda, which represents the average rate of occurrence of events. This means that the variance of the Poisson distribution is always equal to its mean, regardless of the value of lambda."
   ]
  },
  {
   "cell_type": "markdown",
   "id": "a89b0450-faf6-41f8-b5fa-a04f0c7403bb",
   "metadata": {},
   "source": [
    "### 10. In normal distribution with respect to mean position, where does the least frequent data appear?"
   ]
  },
  {
   "cell_type": "markdown",
   "id": "8d5440a0-af70-4fe1-a044-44659fe00ab4",
   "metadata": {},
   "source": [
    "In a normal distribution, the least frequent data appears at the two tails of the distribution, farthest away from the mean. This is because the normal distribution is symmetric around the mean, and as you move farther away from the mean in either direction, the density of the distribution decreases rapidly.\n",
    "\n",
    "More specifically, the least frequent data appears at the values that are more than 2 standard deviations away from the mean in either direction. In a standard normal distribution (with a mean of 0 and a standard deviation of 1), these values are -2 and 2.\n",
    "\n",
    "For example, if a normal distribution has a mean of 50 and a standard deviation of 10, then the least frequent data would appear at the values less than 30 or greater than 70. These extreme values represent the tails of the distribution, where the density of the distribution is very low."
   ]
  }
 ],
 "metadata": {
  "kernelspec": {
   "display_name": "Python 3 (ipykernel)",
   "language": "python",
   "name": "python3"
  },
  "language_info": {
   "codemirror_mode": {
    "name": "ipython",
    "version": 3
   },
   "file_extension": ".py",
   "mimetype": "text/x-python",
   "name": "python",
   "nbconvert_exporter": "python",
   "pygments_lexer": "ipython3",
   "version": "3.10.8"
  }
 },
 "nbformat": 4,
 "nbformat_minor": 5
}
