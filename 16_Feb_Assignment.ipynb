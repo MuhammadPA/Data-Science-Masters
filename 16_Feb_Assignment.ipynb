{
 "cells": [
  {
   "cell_type": "markdown",
   "id": "910a9002-fb9b-4d00-af3a-86670823543e",
   "metadata": {},
   "source": [
    "### 1. What is a database? Differentiate between SQL and NoSQL databases."
   ]
  },
  {
   "cell_type": "markdown",
   "id": "77d1c1e0-8858-4fa9-84b0-859621007805",
   "metadata": {},
   "source": [
    "A database is a structured collection of data that can be easily accessed, managed, and updated. It is designed to store and organize data so that it can be retrieved quickly and efficiently. Databases are used in various applications, including e-commerce, finance, healthcare, and social media.\n",
    "\n",
    "There are two main types of databases: SQL and NoSQL.\n",
    "\n",
    "Here are some key differences between SQL and NoSQL databases:\n",
    "\n",
    "Data Model: SQL databases use the relational model, while NoSQL databases use different data models such as key-value, document, column-family, or graph.\n",
    "\n",
    "Scalability: NoSQL databases are generally more scalable than SQL databases because they can easily distribute data across multiple servers.\n",
    "\n",
    "Flexibility: NoSQL databases are more flexible than SQL databases because they do not have a fixed schema, and data can be added or removed without the need for a database schema change.\n",
    "\n",
    "Querying: SQL databases use SQL for querying data, which is a standardized language for relational databases. NoSQL databases use different query languages for different data models.\n",
    "\n",
    "ACID compliance: SQL databases are generally ACID-compliant, which means that they ensure data consistency, while NoSQL databases often prioritize availability and partition tolerance over consistency.\n",
    "\n",
    "Use cases: SQL databases are often used for enterprise applications that require complex querying and transactions. NoSQL databases are often used for web applications and big data analytics that require scalability and flexibility."
   ]
  },
  {
   "cell_type": "markdown",
   "id": "cc4578f5-37b8-4399-b215-6bd917833d2c",
   "metadata": {},
   "source": [
    "### 2. What is DDL? Explain why CREATE, DROP, ALTER, and TRUNCATE are used with an example."
   ]
  },
  {
   "cell_type": "markdown",
   "id": "bc73d3fe-a2b0-4cbc-bbe6-846c7f63264b",
   "metadata": {},
   "source": [
    "DDL stands for Data Definition Language, and it is a subset of SQL (Structured Query Language) used to define the structure of a database, including creating, modifying, and deleting database objects such as tables, indexes, and constraints.\n",
    "\n",
    "Here are some commonly used DDL commands and their purposes:\n",
    "\n",
    "CREATE: The CREATE command is used to create new database objects, such as tables, indexes, views, and stored procedures. Example:\n",
    "\n",
    "CREATE TABLE employees (\n",
    "    id INT PRIMARY KEY,\n",
    "    name VARCHAR(50),\n",
    "    department VARCHAR(50)\n",
    ");\n",
    "\n",
    "DROP: The DROP command is used to delete existing database objects, such as tables, indexes, views, and stored procedures.Example:\n",
    "\n",
    "DROP TABLE employees;\n",
    "\n",
    "ALTER: The ALTER command is used to modify existing database objects, such as tables, indexes, and constraints. Example:\n",
    "\n",
    "ALTER TABLE employees ADD COLUMN salary DECIMAL(10,2);\n",
    "\n",
    "TRUNCATE: The TRUNCATE command is used to delete all data from a table without deleting the table structure itself. Example:\n",
    "\n",
    "TRUNCATE TABLE employees;"
   ]
  },
  {
   "cell_type": "markdown",
   "id": "6fb72244-f703-4142-b702-9d0a3ce0eafb",
   "metadata": {},
   "source": [
    "### 3. What is DML? Explain INSERT, UPDATE, and DELETE with an example."
   ]
  },
  {
   "cell_type": "markdown",
   "id": "dcd9423d-896e-4125-bb6d-b5f577b5533d",
   "metadata": {},
   "source": [
    "DML stands for Data Manipulation Language, which is a subset of SQL (Structured Query Language) used to modify the data stored in a database.\n",
    "\n",
    "INSERT: The INSERT command is used to add new rows to a table. Example:\n",
    "\n",
    "INSERT INTO employees (id, name, department, salary)\n",
    "VALUES (1, 'John Smith', 'Marketing', 50000.00);\n",
    "\n",
    "UPDATE: The UPDATE command is used to modify existing rows in a table. Example:\n",
    "\n",
    "UPDATE employees\n",
    "SET salary = 55000.00\n",
    "WHERE id = 1;\n",
    "\n",
    "DELETE: The DELETE command is used to remove one or more rows from a table.Example:\n",
    "\n",
    "DELETE FROM employees\n",
    "WHERE id = 1;"
   ]
  },
  {
   "cell_type": "markdown",
   "id": "1e074a50-5ad1-4ee1-846b-e264fd7040e2",
   "metadata": {},
   "source": [
    "### 4.What is DQl? Explain with example."
   ]
  },
  {
   "cell_type": "markdown",
   "id": "74f52930-06be-4cfa-93d2-3ef036be7aa4",
   "metadata": {},
   "source": [
    "DQL stands for Data Query Language, which is a subset of SQL (Structured Query Language) used to retrieve data from a database. DQL commands allow users to select specific data from a table or multiple tables based on certain criteria.\n",
    "\n",
    "SELECT: The SELECT command is used to retrieve data from a table or multiple tables based on certain criteria. Example:\n",
    "\n",
    "SELECT * FROM employees;\n",
    "\n",
    "DISTINCT: The DISTINCT command is used to retrieve unique values from a table. Example:\n",
    "\n",
    "SELECT DISTINCT department FROM employees;\n",
    "\n",
    "GROUP BY: The GROUP BY command is used to group data based on a specific column or set of columns. Example:\n",
    "\n",
    "SELECT department, SUM(salary) AS total_salary\n",
    "FROM employees\n",
    "GROUP BY department;"
   ]
  },
  {
   "cell_type": "markdown",
   "id": "117b2480-1a12-4be8-a85e-422a10ca2550",
   "metadata": {},
   "source": [
    "### 5. Explain Primary Key and Foreign Key."
   ]
  },
  {
   "cell_type": "markdown",
   "id": "11ff1b0d-f095-434e-bc29-2c4200871e97",
   "metadata": {},
   "source": [
    "Primary key and foreign key are both important concepts in relational databases, which are based on the relational model of data.\n",
    "\n",
    "A primary key is a unique identifier for a table, which is used to uniquely identify each row in the table. A primary key can be composed of one or more columns and is used to enforce the integrity of the data in the table. Each table can have only one primary key, and it cannot contain null or duplicate values.\n",
    "\n",
    "A foreign key is a column or set of columns in one table that refers to the primary key of another table. It is used to establish a relationship between two tables and enforce referential integrity. The foreign key column in one table contains values that match the primary key values in another table. This allows for the creation of a \"parent-child\" relationship between the two tables, where the \"parent\" table has the primary key and the \"child\" table has the foreign key."
   ]
  },
  {
   "cell_type": "markdown",
   "id": "9fa86971-1004-44b3-bc79-5bb62ff7a65c",
   "metadata": {},
   "source": [
    "### 6. Write a python code to connect MySQL to python. Explain the cursor() and execute() method."
   ]
  },
  {
   "cell_type": "code",
   "execution_count": null,
   "id": "65d09eaf-ffd3-4885-873f-8a78746d34fb",
   "metadata": {},
   "outputs": [],
   "source": [
    "import mysql.connector\n",
    "\n",
    "mydb = mysql.connector.connect(\n",
    "  host=\"localhost\",\n",
    "  user=\"username\",\n",
    "  password=\"password\",\n",
    "  database=\"database\"\n",
    ")\n",
    "\n",
    "mycursor = mydb.cursor()\n",
    "mycursor.execute(\"SELECT * FROM customers\")\n",
    "myresult = mycursor.fetchall()\n",
    "for x in myresult:\n",
    "  print(x)"
   ]
  },
  {
   "cell_type": "markdown",
   "id": "99e7b79a-a1c9-4cc1-b635-46079d5fc1a6",
   "metadata": {},
   "source": [
    "### 7. Give the order of execution of SQL clauses in an SQL query."
   ]
  },
  {
   "cell_type": "markdown",
   "id": "725ff32e-4c69-4f05-b915-e1ca5cd7f28f",
   "metadata": {},
   "source": [
    "The order of execution of SQL clauses in an SQL query is as follows:\n",
    "\n",
    "FROM - specifies the table or tables from which to retrieve data.\n",
    "\n",
    "JOIN - combines rows from two or more tables based on a related column between them.\n",
    "\n",
    "WHERE - filters the rows returned by the query based on a specified condition.\n",
    "\n",
    "GROUP BY - groups the rows returned by the query based on one or more columns, and applies an aggregate function (such as SUM, COUNT, AVG) to each group.\n",
    "\n",
    "HAVING - filters the groups returned by the query based on a specified condition.\n",
    "\n",
    "SELECT - specifies the columns to retrieve from the table, and applies any aggregate functions to the data.\n",
    "\n",
    "ORDER BY - sorts the rows returned by the query based on one or more columns, in ascending or descending order.\n",
    "\n",
    "LIMIT - limits the number of rows returned by the query."
   ]
  }
 ],
 "metadata": {
  "kernelspec": {
   "display_name": "Python 3 (ipykernel)",
   "language": "python",
   "name": "python3"
  },
  "language_info": {
   "codemirror_mode": {
    "name": "ipython",
    "version": 3
   },
   "file_extension": ".py",
   "mimetype": "text/x-python",
   "name": "python",
   "nbconvert_exporter": "python",
   "pygments_lexer": "ipython3",
   "version": "3.10.8"
  }
 },
 "nbformat": 4,
 "nbformat_minor": 5
}
